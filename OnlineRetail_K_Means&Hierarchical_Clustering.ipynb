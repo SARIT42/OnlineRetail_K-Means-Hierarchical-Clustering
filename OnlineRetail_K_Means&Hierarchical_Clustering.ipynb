{
  "nbformat": 4,
  "nbformat_minor": 0,
  "metadata": {
    "colab": {
      "name": "OnlineRetail_K-Means.ipynb",
      "provenance": []
    },
    "kernelspec": {
      "name": "python3",
      "display_name": "Python 3"
    },
    "language_info": {
      "name": "python"
    }
  },
  "cells": [
    {
      "cell_type": "markdown",
      "source": [
        "**GOAL :** We aim to segment the Customers based on RFM so that the company can target its customers efficiently."
      ],
      "metadata": {
        "id": "kl-MFsBqYa59"
      }
    },
    {
      "cell_type": "markdown",
      "source": [
        "## Reading and Understanding Data"
      ],
      "metadata": {
        "id": "iOp14vq8YoJ5"
      }
    },
    {
      "cell_type": "code",
      "execution_count": 1,
      "metadata": {
        "id": "cPuGEA37_mP_"
      },
      "outputs": [],
      "source": [
        "import pandas as pd\n",
        "import matplotlib.pyplot as plt\n",
        "import numpy as np\n",
        "import seaborn as sns\n",
        "import datetime as dt\n",
        "\n",
        "import sklearn\n",
        "from sklearn.preprocessing import StandardScaler\n",
        "from sklearn.cluster import KMeans\n",
        "from sklearn.metrics import silhouette_score"
      ]
    },
    {
      "cell_type": "code",
      "source": [
        "retail = pd.read_csv('/content/OnlineRetail.csv',sep=',',encoding=\"ISO-8859-1\",header=0)\n",
        "retail.head()"
      ],
      "metadata": {
        "colab": {
          "base_uri": "https://localhost:8080/",
          "height": 513
        },
        "id": "4BOsbrs0YW_u",
        "outputId": "1612e768-f0af-40e5-acbf-2002f44703a6"
      },
      "execution_count": 2,
      "outputs": [
        {
          "output_type": "execute_result",
          "data": {
            "text/plain": [
              "  InvoiceNo StockCode                          Description  Quantity  \\\n",
              "0    536365    85123A   WHITE HANGING HEART T-LIGHT HOLDER         6   \n",
              "1    536365     71053                  WHITE METAL LANTERN         6   \n",
              "2    536365    84406B       CREAM CUPID HEARTS COAT HANGER         8   \n",
              "3    536365    84029G  KNITTED UNION FLAG HOT WATER BOTTLE         6   \n",
              "4    536365    84029E       RED WOOLLY HOTTIE WHITE HEART.         6   \n",
              "\n",
              "        InvoiceDate  UnitPrice  CustomerID         Country  \n",
              "0  01-12-2010 08:26       2.55     17850.0  United Kingdom  \n",
              "1  01-12-2010 08:26       3.39     17850.0  United Kingdom  \n",
              "2  01-12-2010 08:26       2.75     17850.0  United Kingdom  \n",
              "3  01-12-2010 08:26       3.39     17850.0  United Kingdom  \n",
              "4  01-12-2010 08:26       3.39     17850.0  United Kingdom  "
            ],
            "text/html": [
              "\n",
              "  <div id=\"df-8a699ebe-8f2c-440f-b9eb-849ad7b8d2cd\">\n",
              "    <div class=\"colab-df-container\">\n",
              "      <div>\n",
              "<style scoped>\n",
              "    .dataframe tbody tr th:only-of-type {\n",
              "        vertical-align: middle;\n",
              "    }\n",
              "\n",
              "    .dataframe tbody tr th {\n",
              "        vertical-align: top;\n",
              "    }\n",
              "\n",
              "    .dataframe thead th {\n",
              "        text-align: right;\n",
              "    }\n",
              "</style>\n",
              "<table border=\"1\" class=\"dataframe\">\n",
              "  <thead>\n",
              "    <tr style=\"text-align: right;\">\n",
              "      <th></th>\n",
              "      <th>InvoiceNo</th>\n",
              "      <th>StockCode</th>\n",
              "      <th>Description</th>\n",
              "      <th>Quantity</th>\n",
              "      <th>InvoiceDate</th>\n",
              "      <th>UnitPrice</th>\n",
              "      <th>CustomerID</th>\n",
              "      <th>Country</th>\n",
              "    </tr>\n",
              "  </thead>\n",
              "  <tbody>\n",
              "    <tr>\n",
              "      <th>0</th>\n",
              "      <td>536365</td>\n",
              "      <td>85123A</td>\n",
              "      <td>WHITE HANGING HEART T-LIGHT HOLDER</td>\n",
              "      <td>6</td>\n",
              "      <td>01-12-2010 08:26</td>\n",
              "      <td>2.55</td>\n",
              "      <td>17850.0</td>\n",
              "      <td>United Kingdom</td>\n",
              "    </tr>\n",
              "    <tr>\n",
              "      <th>1</th>\n",
              "      <td>536365</td>\n",
              "      <td>71053</td>\n",
              "      <td>WHITE METAL LANTERN</td>\n",
              "      <td>6</td>\n",
              "      <td>01-12-2010 08:26</td>\n",
              "      <td>3.39</td>\n",
              "      <td>17850.0</td>\n",
              "      <td>United Kingdom</td>\n",
              "    </tr>\n",
              "    <tr>\n",
              "      <th>2</th>\n",
              "      <td>536365</td>\n",
              "      <td>84406B</td>\n",
              "      <td>CREAM CUPID HEARTS COAT HANGER</td>\n",
              "      <td>8</td>\n",
              "      <td>01-12-2010 08:26</td>\n",
              "      <td>2.75</td>\n",
              "      <td>17850.0</td>\n",
              "      <td>United Kingdom</td>\n",
              "    </tr>\n",
              "    <tr>\n",
              "      <th>3</th>\n",
              "      <td>536365</td>\n",
              "      <td>84029G</td>\n",
              "      <td>KNITTED UNION FLAG HOT WATER BOTTLE</td>\n",
              "      <td>6</td>\n",
              "      <td>01-12-2010 08:26</td>\n",
              "      <td>3.39</td>\n",
              "      <td>17850.0</td>\n",
              "      <td>United Kingdom</td>\n",
              "    </tr>\n",
              "    <tr>\n",
              "      <th>4</th>\n",
              "      <td>536365</td>\n",
              "      <td>84029E</td>\n",
              "      <td>RED WOOLLY HOTTIE WHITE HEART.</td>\n",
              "      <td>6</td>\n",
              "      <td>01-12-2010 08:26</td>\n",
              "      <td>3.39</td>\n",
              "      <td>17850.0</td>\n",
              "      <td>United Kingdom</td>\n",
              "    </tr>\n",
              "  </tbody>\n",
              "</table>\n",
              "</div>\n",
              "      <button class=\"colab-df-convert\" onclick=\"convertToInteractive('df-8a699ebe-8f2c-440f-b9eb-849ad7b8d2cd')\"\n",
              "              title=\"Convert this dataframe to an interactive table.\"\n",
              "              style=\"display:none;\">\n",
              "        \n",
              "  <svg xmlns=\"http://www.w3.org/2000/svg\" height=\"24px\"viewBox=\"0 0 24 24\"\n",
              "       width=\"24px\">\n",
              "    <path d=\"M0 0h24v24H0V0z\" fill=\"none\"/>\n",
              "    <path d=\"M18.56 5.44l.94 2.06.94-2.06 2.06-.94-2.06-.94-.94-2.06-.94 2.06-2.06.94zm-11 1L8.5 8.5l.94-2.06 2.06-.94-2.06-.94L8.5 2.5l-.94 2.06-2.06.94zm10 10l.94 2.06.94-2.06 2.06-.94-2.06-.94-.94-2.06-.94 2.06-2.06.94z\"/><path d=\"M17.41 7.96l-1.37-1.37c-.4-.4-.92-.59-1.43-.59-.52 0-1.04.2-1.43.59L10.3 9.45l-7.72 7.72c-.78.78-.78 2.05 0 2.83L4 21.41c.39.39.9.59 1.41.59.51 0 1.02-.2 1.41-.59l7.78-7.78 2.81-2.81c.8-.78.8-2.07 0-2.86zM5.41 20L4 18.59l7.72-7.72 1.47 1.35L5.41 20z\"/>\n",
              "  </svg>\n",
              "      </button>\n",
              "      \n",
              "  <style>\n",
              "    .colab-df-container {\n",
              "      display:flex;\n",
              "      flex-wrap:wrap;\n",
              "      gap: 12px;\n",
              "    }\n",
              "\n",
              "    .colab-df-convert {\n",
              "      background-color: #E8F0FE;\n",
              "      border: none;\n",
              "      border-radius: 50%;\n",
              "      cursor: pointer;\n",
              "      display: none;\n",
              "      fill: #1967D2;\n",
              "      height: 32px;\n",
              "      padding: 0 0 0 0;\n",
              "      width: 32px;\n",
              "    }\n",
              "\n",
              "    .colab-df-convert:hover {\n",
              "      background-color: #E2EBFA;\n",
              "      box-shadow: 0px 1px 2px rgba(60, 64, 67, 0.3), 0px 1px 3px 1px rgba(60, 64, 67, 0.15);\n",
              "      fill: #174EA6;\n",
              "    }\n",
              "\n",
              "    [theme=dark] .colab-df-convert {\n",
              "      background-color: #3B4455;\n",
              "      fill: #D2E3FC;\n",
              "    }\n",
              "\n",
              "    [theme=dark] .colab-df-convert:hover {\n",
              "      background-color: #434B5C;\n",
              "      box-shadow: 0px 1px 3px 1px rgba(0, 0, 0, 0.15);\n",
              "      filter: drop-shadow(0px 1px 2px rgba(0, 0, 0, 0.3));\n",
              "      fill: #FFFFFF;\n",
              "    }\n",
              "  </style>\n",
              "\n",
              "      <script>\n",
              "        const buttonEl =\n",
              "          document.querySelector('#df-8a699ebe-8f2c-440f-b9eb-849ad7b8d2cd button.colab-df-convert');\n",
              "        buttonEl.style.display =\n",
              "          google.colab.kernel.accessAllowed ? 'block' : 'none';\n",
              "\n",
              "        async function convertToInteractive(key) {\n",
              "          const element = document.querySelector('#df-8a699ebe-8f2c-440f-b9eb-849ad7b8d2cd');\n",
              "          const dataTable =\n",
              "            await google.colab.kernel.invokeFunction('convertToInteractive',\n",
              "                                                     [key], {});\n",
              "          if (!dataTable) return;\n",
              "\n",
              "          const docLinkHtml = 'Like what you see? Visit the ' +\n",
              "            '<a target=\"_blank\" href=https://colab.research.google.com/notebooks/data_table.ipynb>data table notebook</a>'\n",
              "            + ' to learn more about interactive tables.';\n",
              "          element.innerHTML = '';\n",
              "          dataTable['output_type'] = 'display_data';\n",
              "          await google.colab.output.renderOutput(dataTable, element);\n",
              "          const docLink = document.createElement('div');\n",
              "          docLink.innerHTML = docLinkHtml;\n",
              "          element.appendChild(docLink);\n",
              "        }\n",
              "      </script>\n",
              "    </div>\n",
              "  </div>\n",
              "  "
            ]
          },
          "metadata": {},
          "execution_count": 2
        }
      ]
    },
    {
      "cell_type": "code",
      "source": [
        "retail.info()"
      ],
      "metadata": {
        "colab": {
          "base_uri": "https://localhost:8080/"
        },
        "id": "59m5JU_6f_uu",
        "outputId": "08fa0961-bce7-4695-ec5e-7fe28de6c82e"
      },
      "execution_count": 3,
      "outputs": [
        {
          "output_type": "stream",
          "name": "stdout",
          "text": [
            "<class 'pandas.core.frame.DataFrame'>\n",
            "RangeIndex: 541909 entries, 0 to 541908\n",
            "Data columns (total 8 columns):\n",
            " #   Column       Non-Null Count   Dtype  \n",
            "---  ------       --------------   -----  \n",
            " 0   InvoiceNo    541909 non-null  object \n",
            " 1   StockCode    541909 non-null  object \n",
            " 2   Description  540455 non-null  object \n",
            " 3   Quantity     541909 non-null  int64  \n",
            " 4   InvoiceDate  541909 non-null  object \n",
            " 5   UnitPrice    541909 non-null  float64\n",
            " 6   CustomerID   406829 non-null  float64\n",
            " 7   Country      541909 non-null  object \n",
            "dtypes: float64(2), int64(1), object(5)\n",
            "memory usage: 33.1+ MB\n"
          ]
        }
      ]
    },
    {
      "cell_type": "code",
      "source": [
        "retail.describe()"
      ],
      "metadata": {
        "colab": {
          "base_uri": "https://localhost:8080/",
          "height": 300
        },
        "id": "xucFd4mKgMie",
        "outputId": "a8baf43b-b528-4c1f-ad35-48bd6777cb5f"
      },
      "execution_count": 4,
      "outputs": [
        {
          "output_type": "execute_result",
          "data": {
            "text/plain": [
              "            Quantity      UnitPrice     CustomerID\n",
              "count  541909.000000  541909.000000  406829.000000\n",
              "mean        9.552250       4.611114   15287.690570\n",
              "std       218.081158      96.759853    1713.600303\n",
              "min    -80995.000000  -11062.060000   12346.000000\n",
              "25%         1.000000       1.250000   13953.000000\n",
              "50%         3.000000       2.080000   15152.000000\n",
              "75%        10.000000       4.130000   16791.000000\n",
              "max     80995.000000   38970.000000   18287.000000"
            ],
            "text/html": [
              "\n",
              "  <div id=\"df-5257409c-20e1-46eb-948e-dbcaa26e22dd\">\n",
              "    <div class=\"colab-df-container\">\n",
              "      <div>\n",
              "<style scoped>\n",
              "    .dataframe tbody tr th:only-of-type {\n",
              "        vertical-align: middle;\n",
              "    }\n",
              "\n",
              "    .dataframe tbody tr th {\n",
              "        vertical-align: top;\n",
              "    }\n",
              "\n",
              "    .dataframe thead th {\n",
              "        text-align: right;\n",
              "    }\n",
              "</style>\n",
              "<table border=\"1\" class=\"dataframe\">\n",
              "  <thead>\n",
              "    <tr style=\"text-align: right;\">\n",
              "      <th></th>\n",
              "      <th>Quantity</th>\n",
              "      <th>UnitPrice</th>\n",
              "      <th>CustomerID</th>\n",
              "    </tr>\n",
              "  </thead>\n",
              "  <tbody>\n",
              "    <tr>\n",
              "      <th>count</th>\n",
              "      <td>541909.000000</td>\n",
              "      <td>541909.000000</td>\n",
              "      <td>406829.000000</td>\n",
              "    </tr>\n",
              "    <tr>\n",
              "      <th>mean</th>\n",
              "      <td>9.552250</td>\n",
              "      <td>4.611114</td>\n",
              "      <td>15287.690570</td>\n",
              "    </tr>\n",
              "    <tr>\n",
              "      <th>std</th>\n",
              "      <td>218.081158</td>\n",
              "      <td>96.759853</td>\n",
              "      <td>1713.600303</td>\n",
              "    </tr>\n",
              "    <tr>\n",
              "      <th>min</th>\n",
              "      <td>-80995.000000</td>\n",
              "      <td>-11062.060000</td>\n",
              "      <td>12346.000000</td>\n",
              "    </tr>\n",
              "    <tr>\n",
              "      <th>25%</th>\n",
              "      <td>1.000000</td>\n",
              "      <td>1.250000</td>\n",
              "      <td>13953.000000</td>\n",
              "    </tr>\n",
              "    <tr>\n",
              "      <th>50%</th>\n",
              "      <td>3.000000</td>\n",
              "      <td>2.080000</td>\n",
              "      <td>15152.000000</td>\n",
              "    </tr>\n",
              "    <tr>\n",
              "      <th>75%</th>\n",
              "      <td>10.000000</td>\n",
              "      <td>4.130000</td>\n",
              "      <td>16791.000000</td>\n",
              "    </tr>\n",
              "    <tr>\n",
              "      <th>max</th>\n",
              "      <td>80995.000000</td>\n",
              "      <td>38970.000000</td>\n",
              "      <td>18287.000000</td>\n",
              "    </tr>\n",
              "  </tbody>\n",
              "</table>\n",
              "</div>\n",
              "      <button class=\"colab-df-convert\" onclick=\"convertToInteractive('df-5257409c-20e1-46eb-948e-dbcaa26e22dd')\"\n",
              "              title=\"Convert this dataframe to an interactive table.\"\n",
              "              style=\"display:none;\">\n",
              "        \n",
              "  <svg xmlns=\"http://www.w3.org/2000/svg\" height=\"24px\"viewBox=\"0 0 24 24\"\n",
              "       width=\"24px\">\n",
              "    <path d=\"M0 0h24v24H0V0z\" fill=\"none\"/>\n",
              "    <path d=\"M18.56 5.44l.94 2.06.94-2.06 2.06-.94-2.06-.94-.94-2.06-.94 2.06-2.06.94zm-11 1L8.5 8.5l.94-2.06 2.06-.94-2.06-.94L8.5 2.5l-.94 2.06-2.06.94zm10 10l.94 2.06.94-2.06 2.06-.94-2.06-.94-.94-2.06-.94 2.06-2.06.94z\"/><path d=\"M17.41 7.96l-1.37-1.37c-.4-.4-.92-.59-1.43-.59-.52 0-1.04.2-1.43.59L10.3 9.45l-7.72 7.72c-.78.78-.78 2.05 0 2.83L4 21.41c.39.39.9.59 1.41.59.51 0 1.02-.2 1.41-.59l7.78-7.78 2.81-2.81c.8-.78.8-2.07 0-2.86zM5.41 20L4 18.59l7.72-7.72 1.47 1.35L5.41 20z\"/>\n",
              "  </svg>\n",
              "      </button>\n",
              "      \n",
              "  <style>\n",
              "    .colab-df-container {\n",
              "      display:flex;\n",
              "      flex-wrap:wrap;\n",
              "      gap: 12px;\n",
              "    }\n",
              "\n",
              "    .colab-df-convert {\n",
              "      background-color: #E8F0FE;\n",
              "      border: none;\n",
              "      border-radius: 50%;\n",
              "      cursor: pointer;\n",
              "      display: none;\n",
              "      fill: #1967D2;\n",
              "      height: 32px;\n",
              "      padding: 0 0 0 0;\n",
              "      width: 32px;\n",
              "    }\n",
              "\n",
              "    .colab-df-convert:hover {\n",
              "      background-color: #E2EBFA;\n",
              "      box-shadow: 0px 1px 2px rgba(60, 64, 67, 0.3), 0px 1px 3px 1px rgba(60, 64, 67, 0.15);\n",
              "      fill: #174EA6;\n",
              "    }\n",
              "\n",
              "    [theme=dark] .colab-df-convert {\n",
              "      background-color: #3B4455;\n",
              "      fill: #D2E3FC;\n",
              "    }\n",
              "\n",
              "    [theme=dark] .colab-df-convert:hover {\n",
              "      background-color: #434B5C;\n",
              "      box-shadow: 0px 1px 3px 1px rgba(0, 0, 0, 0.15);\n",
              "      filter: drop-shadow(0px 1px 2px rgba(0, 0, 0, 0.3));\n",
              "      fill: #FFFFFF;\n",
              "    }\n",
              "  </style>\n",
              "\n",
              "      <script>\n",
              "        const buttonEl =\n",
              "          document.querySelector('#df-5257409c-20e1-46eb-948e-dbcaa26e22dd button.colab-df-convert');\n",
              "        buttonEl.style.display =\n",
              "          google.colab.kernel.accessAllowed ? 'block' : 'none';\n",
              "\n",
              "        async function convertToInteractive(key) {\n",
              "          const element = document.querySelector('#df-5257409c-20e1-46eb-948e-dbcaa26e22dd');\n",
              "          const dataTable =\n",
              "            await google.colab.kernel.invokeFunction('convertToInteractive',\n",
              "                                                     [key], {});\n",
              "          if (!dataTable) return;\n",
              "\n",
              "          const docLinkHtml = 'Like what you see? Visit the ' +\n",
              "            '<a target=\"_blank\" href=https://colab.research.google.com/notebooks/data_table.ipynb>data table notebook</a>'\n",
              "            + ' to learn more about interactive tables.';\n",
              "          element.innerHTML = '';\n",
              "          dataTable['output_type'] = 'display_data';\n",
              "          await google.colab.output.renderOutput(dataTable, element);\n",
              "          const docLink = document.createElement('div');\n",
              "          docLink.innerHTML = docLinkHtml;\n",
              "          element.appendChild(docLink);\n",
              "        }\n",
              "      </script>\n",
              "    </div>\n",
              "  </div>\n",
              "  "
            ]
          },
          "metadata": {},
          "execution_count": 4
        }
      ]
    },
    {
      "cell_type": "code",
      "source": [
        "retail['Description'].value_counts()"
      ],
      "metadata": {
        "colab": {
          "base_uri": "https://localhost:8080/"
        },
        "id": "RZRNxuUSiaqx",
        "outputId": "7ebc2201-0932-4075-a589-662229e7e409"
      },
      "execution_count": 5,
      "outputs": [
        {
          "output_type": "execute_result",
          "data": {
            "text/plain": [
              "WHITE HANGING HEART T-LIGHT HOLDER     2369\n",
              "REGENCY CAKESTAND 3 TIER               2200\n",
              "JUMBO BAG RED RETROSPOT                2159\n",
              "PARTY BUNTING                          1727\n",
              "LUNCH BAG RED RETROSPOT                1638\n",
              "                                       ... \n",
              "Missing                                   1\n",
              "historic computer difference?....se       1\n",
              "DUSTY PINK CHRISTMAS TREE 30CM            1\n",
              "WRAP BLUE RUSSIAN FOLKART                 1\n",
              "PINK BERTIE MOBILE PHONE CHARM            1\n",
              "Name: Description, Length: 4223, dtype: int64"
            ]
          },
          "metadata": {},
          "execution_count": 5
        }
      ]
    },
    {
      "cell_type": "markdown",
      "source": [
        "**WHITE HANGING HEART T-LIGHT HOLDER,** \n",
        "\n",
        "**REGENCY CAKESTAND 3 TIER,**\n",
        "\n",
        "**JUMBO BAG RED RETROSPOT**\n",
        "\n",
        " are the most selling objects."
      ],
      "metadata": {
        "id": "wZVGr2I8irui"
      }
    },
    {
      "cell_type": "markdown",
      "source": [
        "## Data Cleaning"
      ],
      "metadata": {
        "id": "Heeo2UGSgX51"
      }
    },
    {
      "cell_type": "code",
      "source": [
        "retail.isna().sum()"
      ],
      "metadata": {
        "colab": {
          "base_uri": "https://localhost:8080/"
        },
        "id": "Dezayx8cgjdL",
        "outputId": "2cdd40a3-2130-43fc-ab2c-4e0ea385b1f0"
      },
      "execution_count": 6,
      "outputs": [
        {
          "output_type": "execute_result",
          "data": {
            "text/plain": [
              "InvoiceNo           0\n",
              "StockCode           0\n",
              "Description      1454\n",
              "Quantity            0\n",
              "InvoiceDate         0\n",
              "UnitPrice           0\n",
              "CustomerID     135080\n",
              "Country             0\n",
              "dtype: int64"
            ]
          },
          "metadata": {},
          "execution_count": 6
        }
      ]
    },
    {
      "cell_type": "code",
      "source": [
        "retail=retail.dropna()\n",
        "retail.info()"
      ],
      "metadata": {
        "colab": {
          "base_uri": "https://localhost:8080/"
        },
        "id": "fgXGQYS9gsrw",
        "outputId": "874ef7ea-6c58-4da7-8bf1-49467dd41306"
      },
      "execution_count": 7,
      "outputs": [
        {
          "output_type": "stream",
          "name": "stdout",
          "text": [
            "<class 'pandas.core.frame.DataFrame'>\n",
            "Int64Index: 406829 entries, 0 to 541908\n",
            "Data columns (total 8 columns):\n",
            " #   Column       Non-Null Count   Dtype  \n",
            "---  ------       --------------   -----  \n",
            " 0   InvoiceNo    406829 non-null  object \n",
            " 1   StockCode    406829 non-null  object \n",
            " 2   Description  406829 non-null  object \n",
            " 3   Quantity     406829 non-null  int64  \n",
            " 4   InvoiceDate  406829 non-null  object \n",
            " 5   UnitPrice    406829 non-null  float64\n",
            " 6   CustomerID   406829 non-null  float64\n",
            " 7   Country      406829 non-null  object \n",
            "dtypes: float64(2), int64(1), object(5)\n",
            "memory usage: 27.9+ MB\n"
          ]
        }
      ]
    },
    {
      "cell_type": "markdown",
      "source": [
        "## Data Preparation"
      ],
      "metadata": {
        "id": "0aWLOS-lhDA2"
      }
    },
    {
      "cell_type": "code",
      "source": [
        "retail['CustomerID']=retail['CustomerID'].astype(str)"
      ],
      "metadata": {
        "id": "Bz5DD0aHgyBr"
      },
      "execution_count": 8,
      "outputs": []
    },
    {
      "cell_type": "markdown",
      "source": [
        "Analysis Data to be prepared on the below 3 factors (RFM):\n",
        "\n",
        "\n",
        "1.   Recency\n",
        "2.   Frequency\n",
        "3.   Monetary\n",
        "\n"
      ],
      "metadata": {
        "id": "D7Qn_lBqhQy1"
      }
    },
    {
      "cell_type": "code",
      "source": [
        "#New Attribute : Monetary [Amount generated per customer]\n",
        "\n",
        "retail['Amount']=retail['Quantity']*retail['UnitPrice']\n",
        "rfm_m = retail.groupby('CustomerID')['Amount'].sum()\n",
        "rfm_m = rfm_m.reset_index()\n",
        "rfm_m"
      ],
      "metadata": {
        "colab": {
          "base_uri": "https://localhost:8080/",
          "height": 424
        },
        "id": "gD6sUTTEh13T",
        "outputId": "e7f8fb54-2255-4a99-e80e-b7a04cb7c3c1"
      },
      "execution_count": 9,
      "outputs": [
        {
          "output_type": "execute_result",
          "data": {
            "text/plain": [
              "     CustomerID   Amount\n",
              "0       12346.0     0.00\n",
              "1       12347.0  4310.00\n",
              "2       12348.0  1797.24\n",
              "3       12349.0  1757.55\n",
              "4       12350.0   334.40\n",
              "...         ...      ...\n",
              "4367    18280.0   180.60\n",
              "4368    18281.0    80.82\n",
              "4369    18282.0   176.60\n",
              "4370    18283.0  2094.88\n",
              "4371    18287.0  1837.28\n",
              "\n",
              "[4372 rows x 2 columns]"
            ],
            "text/html": [
              "\n",
              "  <div id=\"df-71a705b0-839c-489f-8b8c-b9bb04e844cd\">\n",
              "    <div class=\"colab-df-container\">\n",
              "      <div>\n",
              "<style scoped>\n",
              "    .dataframe tbody tr th:only-of-type {\n",
              "        vertical-align: middle;\n",
              "    }\n",
              "\n",
              "    .dataframe tbody tr th {\n",
              "        vertical-align: top;\n",
              "    }\n",
              "\n",
              "    .dataframe thead th {\n",
              "        text-align: right;\n",
              "    }\n",
              "</style>\n",
              "<table border=\"1\" class=\"dataframe\">\n",
              "  <thead>\n",
              "    <tr style=\"text-align: right;\">\n",
              "      <th></th>\n",
              "      <th>CustomerID</th>\n",
              "      <th>Amount</th>\n",
              "    </tr>\n",
              "  </thead>\n",
              "  <tbody>\n",
              "    <tr>\n",
              "      <th>0</th>\n",
              "      <td>12346.0</td>\n",
              "      <td>0.00</td>\n",
              "    </tr>\n",
              "    <tr>\n",
              "      <th>1</th>\n",
              "      <td>12347.0</td>\n",
              "      <td>4310.00</td>\n",
              "    </tr>\n",
              "    <tr>\n",
              "      <th>2</th>\n",
              "      <td>12348.0</td>\n",
              "      <td>1797.24</td>\n",
              "    </tr>\n",
              "    <tr>\n",
              "      <th>3</th>\n",
              "      <td>12349.0</td>\n",
              "      <td>1757.55</td>\n",
              "    </tr>\n",
              "    <tr>\n",
              "      <th>4</th>\n",
              "      <td>12350.0</td>\n",
              "      <td>334.40</td>\n",
              "    </tr>\n",
              "    <tr>\n",
              "      <th>...</th>\n",
              "      <td>...</td>\n",
              "      <td>...</td>\n",
              "    </tr>\n",
              "    <tr>\n",
              "      <th>4367</th>\n",
              "      <td>18280.0</td>\n",
              "      <td>180.60</td>\n",
              "    </tr>\n",
              "    <tr>\n",
              "      <th>4368</th>\n",
              "      <td>18281.0</td>\n",
              "      <td>80.82</td>\n",
              "    </tr>\n",
              "    <tr>\n",
              "      <th>4369</th>\n",
              "      <td>18282.0</td>\n",
              "      <td>176.60</td>\n",
              "    </tr>\n",
              "    <tr>\n",
              "      <th>4370</th>\n",
              "      <td>18283.0</td>\n",
              "      <td>2094.88</td>\n",
              "    </tr>\n",
              "    <tr>\n",
              "      <th>4371</th>\n",
              "      <td>18287.0</td>\n",
              "      <td>1837.28</td>\n",
              "    </tr>\n",
              "  </tbody>\n",
              "</table>\n",
              "<p>4372 rows × 2 columns</p>\n",
              "</div>\n",
              "      <button class=\"colab-df-convert\" onclick=\"convertToInteractive('df-71a705b0-839c-489f-8b8c-b9bb04e844cd')\"\n",
              "              title=\"Convert this dataframe to an interactive table.\"\n",
              "              style=\"display:none;\">\n",
              "        \n",
              "  <svg xmlns=\"http://www.w3.org/2000/svg\" height=\"24px\"viewBox=\"0 0 24 24\"\n",
              "       width=\"24px\">\n",
              "    <path d=\"M0 0h24v24H0V0z\" fill=\"none\"/>\n",
              "    <path d=\"M18.56 5.44l.94 2.06.94-2.06 2.06-.94-2.06-.94-.94-2.06-.94 2.06-2.06.94zm-11 1L8.5 8.5l.94-2.06 2.06-.94-2.06-.94L8.5 2.5l-.94 2.06-2.06.94zm10 10l.94 2.06.94-2.06 2.06-.94-2.06-.94-.94-2.06-.94 2.06-2.06.94z\"/><path d=\"M17.41 7.96l-1.37-1.37c-.4-.4-.92-.59-1.43-.59-.52 0-1.04.2-1.43.59L10.3 9.45l-7.72 7.72c-.78.78-.78 2.05 0 2.83L4 21.41c.39.39.9.59 1.41.59.51 0 1.02-.2 1.41-.59l7.78-7.78 2.81-2.81c.8-.78.8-2.07 0-2.86zM5.41 20L4 18.59l7.72-7.72 1.47 1.35L5.41 20z\"/>\n",
              "  </svg>\n",
              "      </button>\n",
              "      \n",
              "  <style>\n",
              "    .colab-df-container {\n",
              "      display:flex;\n",
              "      flex-wrap:wrap;\n",
              "      gap: 12px;\n",
              "    }\n",
              "\n",
              "    .colab-df-convert {\n",
              "      background-color: #E8F0FE;\n",
              "      border: none;\n",
              "      border-radius: 50%;\n",
              "      cursor: pointer;\n",
              "      display: none;\n",
              "      fill: #1967D2;\n",
              "      height: 32px;\n",
              "      padding: 0 0 0 0;\n",
              "      width: 32px;\n",
              "    }\n",
              "\n",
              "    .colab-df-convert:hover {\n",
              "      background-color: #E2EBFA;\n",
              "      box-shadow: 0px 1px 2px rgba(60, 64, 67, 0.3), 0px 1px 3px 1px rgba(60, 64, 67, 0.15);\n",
              "      fill: #174EA6;\n",
              "    }\n",
              "\n",
              "    [theme=dark] .colab-df-convert {\n",
              "      background-color: #3B4455;\n",
              "      fill: #D2E3FC;\n",
              "    }\n",
              "\n",
              "    [theme=dark] .colab-df-convert:hover {\n",
              "      background-color: #434B5C;\n",
              "      box-shadow: 0px 1px 3px 1px rgba(0, 0, 0, 0.15);\n",
              "      filter: drop-shadow(0px 1px 2px rgba(0, 0, 0, 0.3));\n",
              "      fill: #FFFFFF;\n",
              "    }\n",
              "  </style>\n",
              "\n",
              "      <script>\n",
              "        const buttonEl =\n",
              "          document.querySelector('#df-71a705b0-839c-489f-8b8c-b9bb04e844cd button.colab-df-convert');\n",
              "        buttonEl.style.display =\n",
              "          google.colab.kernel.accessAllowed ? 'block' : 'none';\n",
              "\n",
              "        async function convertToInteractive(key) {\n",
              "          const element = document.querySelector('#df-71a705b0-839c-489f-8b8c-b9bb04e844cd');\n",
              "          const dataTable =\n",
              "            await google.colab.kernel.invokeFunction('convertToInteractive',\n",
              "                                                     [key], {});\n",
              "          if (!dataTable) return;\n",
              "\n",
              "          const docLinkHtml = 'Like what you see? Visit the ' +\n",
              "            '<a target=\"_blank\" href=https://colab.research.google.com/notebooks/data_table.ipynb>data table notebook</a>'\n",
              "            + ' to learn more about interactive tables.';\n",
              "          element.innerHTML = '';\n",
              "          dataTable['output_type'] = 'display_data';\n",
              "          await google.colab.output.renderOutput(dataTable, element);\n",
              "          const docLink = document.createElement('div');\n",
              "          docLink.innerHTML = docLinkHtml;\n",
              "          element.appendChild(docLink);\n",
              "        }\n",
              "      </script>\n",
              "    </div>\n",
              "  </div>\n",
              "  "
            ]
          },
          "metadata": {},
          "execution_count": 9
        }
      ]
    },
    {
      "cell_type": "code",
      "source": [
        "#New Attribute : Frequency\n",
        "\n",
        "rfm_f = retail.groupby('CustomerID')['InvoiceNo'].count()\n",
        "rfm_f = rfm_f.reset_index()\n",
        "rfm_f.columns = ['CustomerID','Frequency']\n",
        "rfm_f.head()"
      ],
      "metadata": {
        "colab": {
          "base_uri": "https://localhost:8080/",
          "height": 206
        },
        "id": "3BirnFhG2-GS",
        "outputId": "db859395-39d3-43b1-9173-00d33d23b5ac"
      },
      "execution_count": 10,
      "outputs": [
        {
          "output_type": "execute_result",
          "data": {
            "text/plain": [
              "  CustomerID  Frequency\n",
              "0    12346.0          2\n",
              "1    12347.0        182\n",
              "2    12348.0         31\n",
              "3    12349.0         73\n",
              "4    12350.0         17"
            ],
            "text/html": [
              "\n",
              "  <div id=\"df-2491486d-7689-4bce-a339-623f84b2c730\">\n",
              "    <div class=\"colab-df-container\">\n",
              "      <div>\n",
              "<style scoped>\n",
              "    .dataframe tbody tr th:only-of-type {\n",
              "        vertical-align: middle;\n",
              "    }\n",
              "\n",
              "    .dataframe tbody tr th {\n",
              "        vertical-align: top;\n",
              "    }\n",
              "\n",
              "    .dataframe thead th {\n",
              "        text-align: right;\n",
              "    }\n",
              "</style>\n",
              "<table border=\"1\" class=\"dataframe\">\n",
              "  <thead>\n",
              "    <tr style=\"text-align: right;\">\n",
              "      <th></th>\n",
              "      <th>CustomerID</th>\n",
              "      <th>Frequency</th>\n",
              "    </tr>\n",
              "  </thead>\n",
              "  <tbody>\n",
              "    <tr>\n",
              "      <th>0</th>\n",
              "      <td>12346.0</td>\n",
              "      <td>2</td>\n",
              "    </tr>\n",
              "    <tr>\n",
              "      <th>1</th>\n",
              "      <td>12347.0</td>\n",
              "      <td>182</td>\n",
              "    </tr>\n",
              "    <tr>\n",
              "      <th>2</th>\n",
              "      <td>12348.0</td>\n",
              "      <td>31</td>\n",
              "    </tr>\n",
              "    <tr>\n",
              "      <th>3</th>\n",
              "      <td>12349.0</td>\n",
              "      <td>73</td>\n",
              "    </tr>\n",
              "    <tr>\n",
              "      <th>4</th>\n",
              "      <td>12350.0</td>\n",
              "      <td>17</td>\n",
              "    </tr>\n",
              "  </tbody>\n",
              "</table>\n",
              "</div>\n",
              "      <button class=\"colab-df-convert\" onclick=\"convertToInteractive('df-2491486d-7689-4bce-a339-623f84b2c730')\"\n",
              "              title=\"Convert this dataframe to an interactive table.\"\n",
              "              style=\"display:none;\">\n",
              "        \n",
              "  <svg xmlns=\"http://www.w3.org/2000/svg\" height=\"24px\"viewBox=\"0 0 24 24\"\n",
              "       width=\"24px\">\n",
              "    <path d=\"M0 0h24v24H0V0z\" fill=\"none\"/>\n",
              "    <path d=\"M18.56 5.44l.94 2.06.94-2.06 2.06-.94-2.06-.94-.94-2.06-.94 2.06-2.06.94zm-11 1L8.5 8.5l.94-2.06 2.06-.94-2.06-.94L8.5 2.5l-.94 2.06-2.06.94zm10 10l.94 2.06.94-2.06 2.06-.94-2.06-.94-.94-2.06-.94 2.06-2.06.94z\"/><path d=\"M17.41 7.96l-1.37-1.37c-.4-.4-.92-.59-1.43-.59-.52 0-1.04.2-1.43.59L10.3 9.45l-7.72 7.72c-.78.78-.78 2.05 0 2.83L4 21.41c.39.39.9.59 1.41.59.51 0 1.02-.2 1.41-.59l7.78-7.78 2.81-2.81c.8-.78.8-2.07 0-2.86zM5.41 20L4 18.59l7.72-7.72 1.47 1.35L5.41 20z\"/>\n",
              "  </svg>\n",
              "      </button>\n",
              "      \n",
              "  <style>\n",
              "    .colab-df-container {\n",
              "      display:flex;\n",
              "      flex-wrap:wrap;\n",
              "      gap: 12px;\n",
              "    }\n",
              "\n",
              "    .colab-df-convert {\n",
              "      background-color: #E8F0FE;\n",
              "      border: none;\n",
              "      border-radius: 50%;\n",
              "      cursor: pointer;\n",
              "      display: none;\n",
              "      fill: #1967D2;\n",
              "      height: 32px;\n",
              "      padding: 0 0 0 0;\n",
              "      width: 32px;\n",
              "    }\n",
              "\n",
              "    .colab-df-convert:hover {\n",
              "      background-color: #E2EBFA;\n",
              "      box-shadow: 0px 1px 2px rgba(60, 64, 67, 0.3), 0px 1px 3px 1px rgba(60, 64, 67, 0.15);\n",
              "      fill: #174EA6;\n",
              "    }\n",
              "\n",
              "    [theme=dark] .colab-df-convert {\n",
              "      background-color: #3B4455;\n",
              "      fill: #D2E3FC;\n",
              "    }\n",
              "\n",
              "    [theme=dark] .colab-df-convert:hover {\n",
              "      background-color: #434B5C;\n",
              "      box-shadow: 0px 1px 3px 1px rgba(0, 0, 0, 0.15);\n",
              "      filter: drop-shadow(0px 1px 2px rgba(0, 0, 0, 0.3));\n",
              "      fill: #FFFFFF;\n",
              "    }\n",
              "  </style>\n",
              "\n",
              "      <script>\n",
              "        const buttonEl =\n",
              "          document.querySelector('#df-2491486d-7689-4bce-a339-623f84b2c730 button.colab-df-convert');\n",
              "        buttonEl.style.display =\n",
              "          google.colab.kernel.accessAllowed ? 'block' : 'none';\n",
              "\n",
              "        async function convertToInteractive(key) {\n",
              "          const element = document.querySelector('#df-2491486d-7689-4bce-a339-623f84b2c730');\n",
              "          const dataTable =\n",
              "            await google.colab.kernel.invokeFunction('convertToInteractive',\n",
              "                                                     [key], {});\n",
              "          if (!dataTable) return;\n",
              "\n",
              "          const docLinkHtml = 'Like what you see? Visit the ' +\n",
              "            '<a target=\"_blank\" href=https://colab.research.google.com/notebooks/data_table.ipynb>data table notebook</a>'\n",
              "            + ' to learn more about interactive tables.';\n",
              "          element.innerHTML = '';\n",
              "          dataTable['output_type'] = 'display_data';\n",
              "          await google.colab.output.renderOutput(dataTable, element);\n",
              "          const docLink = document.createElement('div');\n",
              "          docLink.innerHTML = docLinkHtml;\n",
              "          element.appendChild(docLink);\n",
              "        }\n",
              "      </script>\n",
              "    </div>\n",
              "  </div>\n",
              "  "
            ]
          },
          "metadata": {},
          "execution_count": 10
        }
      ]
    },
    {
      "cell_type": "code",
      "source": [
        "#merging the 2 dfs\n",
        "\n",
        "rfm = pd.merge(rfm_m,rfm_f, on='CustomerID', how='inner')\n",
        "rfm.head()"
      ],
      "metadata": {
        "colab": {
          "base_uri": "https://localhost:8080/",
          "height": 206
        },
        "id": "J8jSdPgN4Eul",
        "outputId": "f2211ee8-b95c-4744-a251-2afa4ebf140a"
      },
      "execution_count": 11,
      "outputs": [
        {
          "output_type": "execute_result",
          "data": {
            "text/plain": [
              "  CustomerID   Amount  Frequency\n",
              "0    12346.0     0.00          2\n",
              "1    12347.0  4310.00        182\n",
              "2    12348.0  1797.24         31\n",
              "3    12349.0  1757.55         73\n",
              "4    12350.0   334.40         17"
            ],
            "text/html": [
              "\n",
              "  <div id=\"df-10642c2f-323c-4532-bb99-a32ca6e3cbb5\">\n",
              "    <div class=\"colab-df-container\">\n",
              "      <div>\n",
              "<style scoped>\n",
              "    .dataframe tbody tr th:only-of-type {\n",
              "        vertical-align: middle;\n",
              "    }\n",
              "\n",
              "    .dataframe tbody tr th {\n",
              "        vertical-align: top;\n",
              "    }\n",
              "\n",
              "    .dataframe thead th {\n",
              "        text-align: right;\n",
              "    }\n",
              "</style>\n",
              "<table border=\"1\" class=\"dataframe\">\n",
              "  <thead>\n",
              "    <tr style=\"text-align: right;\">\n",
              "      <th></th>\n",
              "      <th>CustomerID</th>\n",
              "      <th>Amount</th>\n",
              "      <th>Frequency</th>\n",
              "    </tr>\n",
              "  </thead>\n",
              "  <tbody>\n",
              "    <tr>\n",
              "      <th>0</th>\n",
              "      <td>12346.0</td>\n",
              "      <td>0.00</td>\n",
              "      <td>2</td>\n",
              "    </tr>\n",
              "    <tr>\n",
              "      <th>1</th>\n",
              "      <td>12347.0</td>\n",
              "      <td>4310.00</td>\n",
              "      <td>182</td>\n",
              "    </tr>\n",
              "    <tr>\n",
              "      <th>2</th>\n",
              "      <td>12348.0</td>\n",
              "      <td>1797.24</td>\n",
              "      <td>31</td>\n",
              "    </tr>\n",
              "    <tr>\n",
              "      <th>3</th>\n",
              "      <td>12349.0</td>\n",
              "      <td>1757.55</td>\n",
              "      <td>73</td>\n",
              "    </tr>\n",
              "    <tr>\n",
              "      <th>4</th>\n",
              "      <td>12350.0</td>\n",
              "      <td>334.40</td>\n",
              "      <td>17</td>\n",
              "    </tr>\n",
              "  </tbody>\n",
              "</table>\n",
              "</div>\n",
              "      <button class=\"colab-df-convert\" onclick=\"convertToInteractive('df-10642c2f-323c-4532-bb99-a32ca6e3cbb5')\"\n",
              "              title=\"Convert this dataframe to an interactive table.\"\n",
              "              style=\"display:none;\">\n",
              "        \n",
              "  <svg xmlns=\"http://www.w3.org/2000/svg\" height=\"24px\"viewBox=\"0 0 24 24\"\n",
              "       width=\"24px\">\n",
              "    <path d=\"M0 0h24v24H0V0z\" fill=\"none\"/>\n",
              "    <path d=\"M18.56 5.44l.94 2.06.94-2.06 2.06-.94-2.06-.94-.94-2.06-.94 2.06-2.06.94zm-11 1L8.5 8.5l.94-2.06 2.06-.94-2.06-.94L8.5 2.5l-.94 2.06-2.06.94zm10 10l.94 2.06.94-2.06 2.06-.94-2.06-.94-.94-2.06-.94 2.06-2.06.94z\"/><path d=\"M17.41 7.96l-1.37-1.37c-.4-.4-.92-.59-1.43-.59-.52 0-1.04.2-1.43.59L10.3 9.45l-7.72 7.72c-.78.78-.78 2.05 0 2.83L4 21.41c.39.39.9.59 1.41.59.51 0 1.02-.2 1.41-.59l7.78-7.78 2.81-2.81c.8-.78.8-2.07 0-2.86zM5.41 20L4 18.59l7.72-7.72 1.47 1.35L5.41 20z\"/>\n",
              "  </svg>\n",
              "      </button>\n",
              "      \n",
              "  <style>\n",
              "    .colab-df-container {\n",
              "      display:flex;\n",
              "      flex-wrap:wrap;\n",
              "      gap: 12px;\n",
              "    }\n",
              "\n",
              "    .colab-df-convert {\n",
              "      background-color: #E8F0FE;\n",
              "      border: none;\n",
              "      border-radius: 50%;\n",
              "      cursor: pointer;\n",
              "      display: none;\n",
              "      fill: #1967D2;\n",
              "      height: 32px;\n",
              "      padding: 0 0 0 0;\n",
              "      width: 32px;\n",
              "    }\n",
              "\n",
              "    .colab-df-convert:hover {\n",
              "      background-color: #E2EBFA;\n",
              "      box-shadow: 0px 1px 2px rgba(60, 64, 67, 0.3), 0px 1px 3px 1px rgba(60, 64, 67, 0.15);\n",
              "      fill: #174EA6;\n",
              "    }\n",
              "\n",
              "    [theme=dark] .colab-df-convert {\n",
              "      background-color: #3B4455;\n",
              "      fill: #D2E3FC;\n",
              "    }\n",
              "\n",
              "    [theme=dark] .colab-df-convert:hover {\n",
              "      background-color: #434B5C;\n",
              "      box-shadow: 0px 1px 3px 1px rgba(0, 0, 0, 0.15);\n",
              "      filter: drop-shadow(0px 1px 2px rgba(0, 0, 0, 0.3));\n",
              "      fill: #FFFFFF;\n",
              "    }\n",
              "  </style>\n",
              "\n",
              "      <script>\n",
              "        const buttonEl =\n",
              "          document.querySelector('#df-10642c2f-323c-4532-bb99-a32ca6e3cbb5 button.colab-df-convert');\n",
              "        buttonEl.style.display =\n",
              "          google.colab.kernel.accessAllowed ? 'block' : 'none';\n",
              "\n",
              "        async function convertToInteractive(key) {\n",
              "          const element = document.querySelector('#df-10642c2f-323c-4532-bb99-a32ca6e3cbb5');\n",
              "          const dataTable =\n",
              "            await google.colab.kernel.invokeFunction('convertToInteractive',\n",
              "                                                     [key], {});\n",
              "          if (!dataTable) return;\n",
              "\n",
              "          const docLinkHtml = 'Like what you see? Visit the ' +\n",
              "            '<a target=\"_blank\" href=https://colab.research.google.com/notebooks/data_table.ipynb>data table notebook</a>'\n",
              "            + ' to learn more about interactive tables.';\n",
              "          element.innerHTML = '';\n",
              "          dataTable['output_type'] = 'display_data';\n",
              "          await google.colab.output.renderOutput(dataTable, element);\n",
              "          const docLink = document.createElement('div');\n",
              "          docLink.innerHTML = docLinkHtml;\n",
              "          element.appendChild(docLink);\n",
              "        }\n",
              "      </script>\n",
              "    </div>\n",
              "  </div>\n",
              "  "
            ]
          },
          "metadata": {},
          "execution_count": 11
        }
      ]
    },
    {
      "cell_type": "code",
      "source": [
        "#New Attribute : Recency\n",
        "\n",
        "retail['InvoiceDate']=pd.to_datetime(retail['InvoiceDate'],format='%d-%m-%Y %H:%M')"
      ],
      "metadata": {
        "id": "7x4cloXG4eBH"
      },
      "execution_count": 12,
      "outputs": []
    },
    {
      "cell_type": "code",
      "source": [
        "max_date=max(retail['InvoiceDate'])\n",
        "max_date"
      ],
      "metadata": {
        "colab": {
          "base_uri": "https://localhost:8080/"
        },
        "id": "vR2a1qiA5CHn",
        "outputId": "f293e74c-1c2b-4474-b487-98cc729b2cae"
      },
      "execution_count": 13,
      "outputs": [
        {
          "output_type": "execute_result",
          "data": {
            "text/plain": [
              "Timestamp('2011-12-09 12:50:00')"
            ]
          },
          "metadata": {},
          "execution_count": 13
        }
      ]
    },
    {
      "cell_type": "code",
      "source": [
        "retail['Diff']=max_date - retail['InvoiceDate']\n",
        "retail"
      ],
      "metadata": {
        "colab": {
          "base_uri": "https://localhost:8080/",
          "height": 921
        },
        "id": "WEd15O-g5Ipo",
        "outputId": "d46d3053-f87c-44c2-b6de-e3fb7a5d7024"
      },
      "execution_count": 14,
      "outputs": [
        {
          "output_type": "execute_result",
          "data": {
            "text/plain": [
              "       InvoiceNo StockCode                          Description  Quantity  \\\n",
              "0         536365    85123A   WHITE HANGING HEART T-LIGHT HOLDER         6   \n",
              "1         536365     71053                  WHITE METAL LANTERN         6   \n",
              "2         536365    84406B       CREAM CUPID HEARTS COAT HANGER         8   \n",
              "3         536365    84029G  KNITTED UNION FLAG HOT WATER BOTTLE         6   \n",
              "4         536365    84029E       RED WOOLLY HOTTIE WHITE HEART.         6   \n",
              "...          ...       ...                                  ...       ...   \n",
              "541904    581587     22613          PACK OF 20 SPACEBOY NAPKINS        12   \n",
              "541905    581587     22899         CHILDREN'S APRON DOLLY GIRL          6   \n",
              "541906    581587     23254        CHILDRENS CUTLERY DOLLY GIRL          4   \n",
              "541907    581587     23255      CHILDRENS CUTLERY CIRCUS PARADE         4   \n",
              "541908    581587     22138        BAKING SET 9 PIECE RETROSPOT          3   \n",
              "\n",
              "               InvoiceDate  UnitPrice CustomerID         Country  Amount  \\\n",
              "0      2010-12-01 08:26:00       2.55    17850.0  United Kingdom   15.30   \n",
              "1      2010-12-01 08:26:00       3.39    17850.0  United Kingdom   20.34   \n",
              "2      2010-12-01 08:26:00       2.75    17850.0  United Kingdom   22.00   \n",
              "3      2010-12-01 08:26:00       3.39    17850.0  United Kingdom   20.34   \n",
              "4      2010-12-01 08:26:00       3.39    17850.0  United Kingdom   20.34   \n",
              "...                    ...        ...        ...             ...     ...   \n",
              "541904 2011-12-09 12:50:00       0.85    12680.0          France   10.20   \n",
              "541905 2011-12-09 12:50:00       2.10    12680.0          France   12.60   \n",
              "541906 2011-12-09 12:50:00       4.15    12680.0          France   16.60   \n",
              "541907 2011-12-09 12:50:00       4.15    12680.0          France   16.60   \n",
              "541908 2011-12-09 12:50:00       4.95    12680.0          France   14.85   \n",
              "\n",
              "                    Diff  \n",
              "0      373 days 04:24:00  \n",
              "1      373 days 04:24:00  \n",
              "2      373 days 04:24:00  \n",
              "3      373 days 04:24:00  \n",
              "4      373 days 04:24:00  \n",
              "...                  ...  \n",
              "541904   0 days 00:00:00  \n",
              "541905   0 days 00:00:00  \n",
              "541906   0 days 00:00:00  \n",
              "541907   0 days 00:00:00  \n",
              "541908   0 days 00:00:00  \n",
              "\n",
              "[406829 rows x 10 columns]"
            ],
            "text/html": [
              "\n",
              "  <div id=\"df-d32f4eff-a20a-469b-a6bd-6d061def8055\">\n",
              "    <div class=\"colab-df-container\">\n",
              "      <div>\n",
              "<style scoped>\n",
              "    .dataframe tbody tr th:only-of-type {\n",
              "        vertical-align: middle;\n",
              "    }\n",
              "\n",
              "    .dataframe tbody tr th {\n",
              "        vertical-align: top;\n",
              "    }\n",
              "\n",
              "    .dataframe thead th {\n",
              "        text-align: right;\n",
              "    }\n",
              "</style>\n",
              "<table border=\"1\" class=\"dataframe\">\n",
              "  <thead>\n",
              "    <tr style=\"text-align: right;\">\n",
              "      <th></th>\n",
              "      <th>InvoiceNo</th>\n",
              "      <th>StockCode</th>\n",
              "      <th>Description</th>\n",
              "      <th>Quantity</th>\n",
              "      <th>InvoiceDate</th>\n",
              "      <th>UnitPrice</th>\n",
              "      <th>CustomerID</th>\n",
              "      <th>Country</th>\n",
              "      <th>Amount</th>\n",
              "      <th>Diff</th>\n",
              "    </tr>\n",
              "  </thead>\n",
              "  <tbody>\n",
              "    <tr>\n",
              "      <th>0</th>\n",
              "      <td>536365</td>\n",
              "      <td>85123A</td>\n",
              "      <td>WHITE HANGING HEART T-LIGHT HOLDER</td>\n",
              "      <td>6</td>\n",
              "      <td>2010-12-01 08:26:00</td>\n",
              "      <td>2.55</td>\n",
              "      <td>17850.0</td>\n",
              "      <td>United Kingdom</td>\n",
              "      <td>15.30</td>\n",
              "      <td>373 days 04:24:00</td>\n",
              "    </tr>\n",
              "    <tr>\n",
              "      <th>1</th>\n",
              "      <td>536365</td>\n",
              "      <td>71053</td>\n",
              "      <td>WHITE METAL LANTERN</td>\n",
              "      <td>6</td>\n",
              "      <td>2010-12-01 08:26:00</td>\n",
              "      <td>3.39</td>\n",
              "      <td>17850.0</td>\n",
              "      <td>United Kingdom</td>\n",
              "      <td>20.34</td>\n",
              "      <td>373 days 04:24:00</td>\n",
              "    </tr>\n",
              "    <tr>\n",
              "      <th>2</th>\n",
              "      <td>536365</td>\n",
              "      <td>84406B</td>\n",
              "      <td>CREAM CUPID HEARTS COAT HANGER</td>\n",
              "      <td>8</td>\n",
              "      <td>2010-12-01 08:26:00</td>\n",
              "      <td>2.75</td>\n",
              "      <td>17850.0</td>\n",
              "      <td>United Kingdom</td>\n",
              "      <td>22.00</td>\n",
              "      <td>373 days 04:24:00</td>\n",
              "    </tr>\n",
              "    <tr>\n",
              "      <th>3</th>\n",
              "      <td>536365</td>\n",
              "      <td>84029G</td>\n",
              "      <td>KNITTED UNION FLAG HOT WATER BOTTLE</td>\n",
              "      <td>6</td>\n",
              "      <td>2010-12-01 08:26:00</td>\n",
              "      <td>3.39</td>\n",
              "      <td>17850.0</td>\n",
              "      <td>United Kingdom</td>\n",
              "      <td>20.34</td>\n",
              "      <td>373 days 04:24:00</td>\n",
              "    </tr>\n",
              "    <tr>\n",
              "      <th>4</th>\n",
              "      <td>536365</td>\n",
              "      <td>84029E</td>\n",
              "      <td>RED WOOLLY HOTTIE WHITE HEART.</td>\n",
              "      <td>6</td>\n",
              "      <td>2010-12-01 08:26:00</td>\n",
              "      <td>3.39</td>\n",
              "      <td>17850.0</td>\n",
              "      <td>United Kingdom</td>\n",
              "      <td>20.34</td>\n",
              "      <td>373 days 04:24:00</td>\n",
              "    </tr>\n",
              "    <tr>\n",
              "      <th>...</th>\n",
              "      <td>...</td>\n",
              "      <td>...</td>\n",
              "      <td>...</td>\n",
              "      <td>...</td>\n",
              "      <td>...</td>\n",
              "      <td>...</td>\n",
              "      <td>...</td>\n",
              "      <td>...</td>\n",
              "      <td>...</td>\n",
              "      <td>...</td>\n",
              "    </tr>\n",
              "    <tr>\n",
              "      <th>541904</th>\n",
              "      <td>581587</td>\n",
              "      <td>22613</td>\n",
              "      <td>PACK OF 20 SPACEBOY NAPKINS</td>\n",
              "      <td>12</td>\n",
              "      <td>2011-12-09 12:50:00</td>\n",
              "      <td>0.85</td>\n",
              "      <td>12680.0</td>\n",
              "      <td>France</td>\n",
              "      <td>10.20</td>\n",
              "      <td>0 days 00:00:00</td>\n",
              "    </tr>\n",
              "    <tr>\n",
              "      <th>541905</th>\n",
              "      <td>581587</td>\n",
              "      <td>22899</td>\n",
              "      <td>CHILDREN'S APRON DOLLY GIRL</td>\n",
              "      <td>6</td>\n",
              "      <td>2011-12-09 12:50:00</td>\n",
              "      <td>2.10</td>\n",
              "      <td>12680.0</td>\n",
              "      <td>France</td>\n",
              "      <td>12.60</td>\n",
              "      <td>0 days 00:00:00</td>\n",
              "    </tr>\n",
              "    <tr>\n",
              "      <th>541906</th>\n",
              "      <td>581587</td>\n",
              "      <td>23254</td>\n",
              "      <td>CHILDRENS CUTLERY DOLLY GIRL</td>\n",
              "      <td>4</td>\n",
              "      <td>2011-12-09 12:50:00</td>\n",
              "      <td>4.15</td>\n",
              "      <td>12680.0</td>\n",
              "      <td>France</td>\n",
              "      <td>16.60</td>\n",
              "      <td>0 days 00:00:00</td>\n",
              "    </tr>\n",
              "    <tr>\n",
              "      <th>541907</th>\n",
              "      <td>581587</td>\n",
              "      <td>23255</td>\n",
              "      <td>CHILDRENS CUTLERY CIRCUS PARADE</td>\n",
              "      <td>4</td>\n",
              "      <td>2011-12-09 12:50:00</td>\n",
              "      <td>4.15</td>\n",
              "      <td>12680.0</td>\n",
              "      <td>France</td>\n",
              "      <td>16.60</td>\n",
              "      <td>0 days 00:00:00</td>\n",
              "    </tr>\n",
              "    <tr>\n",
              "      <th>541908</th>\n",
              "      <td>581587</td>\n",
              "      <td>22138</td>\n",
              "      <td>BAKING SET 9 PIECE RETROSPOT</td>\n",
              "      <td>3</td>\n",
              "      <td>2011-12-09 12:50:00</td>\n",
              "      <td>4.95</td>\n",
              "      <td>12680.0</td>\n",
              "      <td>France</td>\n",
              "      <td>14.85</td>\n",
              "      <td>0 days 00:00:00</td>\n",
              "    </tr>\n",
              "  </tbody>\n",
              "</table>\n",
              "<p>406829 rows × 10 columns</p>\n",
              "</div>\n",
              "      <button class=\"colab-df-convert\" onclick=\"convertToInteractive('df-d32f4eff-a20a-469b-a6bd-6d061def8055')\"\n",
              "              title=\"Convert this dataframe to an interactive table.\"\n",
              "              style=\"display:none;\">\n",
              "        \n",
              "  <svg xmlns=\"http://www.w3.org/2000/svg\" height=\"24px\"viewBox=\"0 0 24 24\"\n",
              "       width=\"24px\">\n",
              "    <path d=\"M0 0h24v24H0V0z\" fill=\"none\"/>\n",
              "    <path d=\"M18.56 5.44l.94 2.06.94-2.06 2.06-.94-2.06-.94-.94-2.06-.94 2.06-2.06.94zm-11 1L8.5 8.5l.94-2.06 2.06-.94-2.06-.94L8.5 2.5l-.94 2.06-2.06.94zm10 10l.94 2.06.94-2.06 2.06-.94-2.06-.94-.94-2.06-.94 2.06-2.06.94z\"/><path d=\"M17.41 7.96l-1.37-1.37c-.4-.4-.92-.59-1.43-.59-.52 0-1.04.2-1.43.59L10.3 9.45l-7.72 7.72c-.78.78-.78 2.05 0 2.83L4 21.41c.39.39.9.59 1.41.59.51 0 1.02-.2 1.41-.59l7.78-7.78 2.81-2.81c.8-.78.8-2.07 0-2.86zM5.41 20L4 18.59l7.72-7.72 1.47 1.35L5.41 20z\"/>\n",
              "  </svg>\n",
              "      </button>\n",
              "      \n",
              "  <style>\n",
              "    .colab-df-container {\n",
              "      display:flex;\n",
              "      flex-wrap:wrap;\n",
              "      gap: 12px;\n",
              "    }\n",
              "\n",
              "    .colab-df-convert {\n",
              "      background-color: #E8F0FE;\n",
              "      border: none;\n",
              "      border-radius: 50%;\n",
              "      cursor: pointer;\n",
              "      display: none;\n",
              "      fill: #1967D2;\n",
              "      height: 32px;\n",
              "      padding: 0 0 0 0;\n",
              "      width: 32px;\n",
              "    }\n",
              "\n",
              "    .colab-df-convert:hover {\n",
              "      background-color: #E2EBFA;\n",
              "      box-shadow: 0px 1px 2px rgba(60, 64, 67, 0.3), 0px 1px 3px 1px rgba(60, 64, 67, 0.15);\n",
              "      fill: #174EA6;\n",
              "    }\n",
              "\n",
              "    [theme=dark] .colab-df-convert {\n",
              "      background-color: #3B4455;\n",
              "      fill: #D2E3FC;\n",
              "    }\n",
              "\n",
              "    [theme=dark] .colab-df-convert:hover {\n",
              "      background-color: #434B5C;\n",
              "      box-shadow: 0px 1px 3px 1px rgba(0, 0, 0, 0.15);\n",
              "      filter: drop-shadow(0px 1px 2px rgba(0, 0, 0, 0.3));\n",
              "      fill: #FFFFFF;\n",
              "    }\n",
              "  </style>\n",
              "\n",
              "      <script>\n",
              "        const buttonEl =\n",
              "          document.querySelector('#df-d32f4eff-a20a-469b-a6bd-6d061def8055 button.colab-df-convert');\n",
              "        buttonEl.style.display =\n",
              "          google.colab.kernel.accessAllowed ? 'block' : 'none';\n",
              "\n",
              "        async function convertToInteractive(key) {\n",
              "          const element = document.querySelector('#df-d32f4eff-a20a-469b-a6bd-6d061def8055');\n",
              "          const dataTable =\n",
              "            await google.colab.kernel.invokeFunction('convertToInteractive',\n",
              "                                                     [key], {});\n",
              "          if (!dataTable) return;\n",
              "\n",
              "          const docLinkHtml = 'Like what you see? Visit the ' +\n",
              "            '<a target=\"_blank\" href=https://colab.research.google.com/notebooks/data_table.ipynb>data table notebook</a>'\n",
              "            + ' to learn more about interactive tables.';\n",
              "          element.innerHTML = '';\n",
              "          dataTable['output_type'] = 'display_data';\n",
              "          await google.colab.output.renderOutput(dataTable, element);\n",
              "          const docLink = document.createElement('div');\n",
              "          docLink.innerHTML = docLinkHtml;\n",
              "          element.appendChild(docLink);\n",
              "        }\n",
              "      </script>\n",
              "    </div>\n",
              "  </div>\n",
              "  "
            ]
          },
          "metadata": {},
          "execution_count": 14
        }
      ]
    },
    {
      "cell_type": "code",
      "source": [
        "rfm_p =retail.groupby('CustomerID')['Diff'].min()\n",
        "rfm_p = rfm_p.reset_index()\n",
        "rfm_p.head()"
      ],
      "metadata": {
        "colab": {
          "base_uri": "https://localhost:8080/",
          "height": 206
        },
        "id": "x061qAFo5tA_",
        "outputId": "96df3a57-1b8e-412f-d7a9-284eb3e166cc"
      },
      "execution_count": 15,
      "outputs": [
        {
          "output_type": "execute_result",
          "data": {
            "text/plain": [
              "  CustomerID              Diff\n",
              "0    12346.0 325 days 02:33:00\n",
              "1    12347.0   1 days 20:58:00\n",
              "2    12348.0  74 days 23:37:00\n",
              "3    12349.0  18 days 02:59:00\n",
              "4    12350.0 309 days 20:49:00"
            ],
            "text/html": [
              "\n",
              "  <div id=\"df-5d9cf76a-cb19-4d9f-89fd-d934329ad3ca\">\n",
              "    <div class=\"colab-df-container\">\n",
              "      <div>\n",
              "<style scoped>\n",
              "    .dataframe tbody tr th:only-of-type {\n",
              "        vertical-align: middle;\n",
              "    }\n",
              "\n",
              "    .dataframe tbody tr th {\n",
              "        vertical-align: top;\n",
              "    }\n",
              "\n",
              "    .dataframe thead th {\n",
              "        text-align: right;\n",
              "    }\n",
              "</style>\n",
              "<table border=\"1\" class=\"dataframe\">\n",
              "  <thead>\n",
              "    <tr style=\"text-align: right;\">\n",
              "      <th></th>\n",
              "      <th>CustomerID</th>\n",
              "      <th>Diff</th>\n",
              "    </tr>\n",
              "  </thead>\n",
              "  <tbody>\n",
              "    <tr>\n",
              "      <th>0</th>\n",
              "      <td>12346.0</td>\n",
              "      <td>325 days 02:33:00</td>\n",
              "    </tr>\n",
              "    <tr>\n",
              "      <th>1</th>\n",
              "      <td>12347.0</td>\n",
              "      <td>1 days 20:58:00</td>\n",
              "    </tr>\n",
              "    <tr>\n",
              "      <th>2</th>\n",
              "      <td>12348.0</td>\n",
              "      <td>74 days 23:37:00</td>\n",
              "    </tr>\n",
              "    <tr>\n",
              "      <th>3</th>\n",
              "      <td>12349.0</td>\n",
              "      <td>18 days 02:59:00</td>\n",
              "    </tr>\n",
              "    <tr>\n",
              "      <th>4</th>\n",
              "      <td>12350.0</td>\n",
              "      <td>309 days 20:49:00</td>\n",
              "    </tr>\n",
              "  </tbody>\n",
              "</table>\n",
              "</div>\n",
              "      <button class=\"colab-df-convert\" onclick=\"convertToInteractive('df-5d9cf76a-cb19-4d9f-89fd-d934329ad3ca')\"\n",
              "              title=\"Convert this dataframe to an interactive table.\"\n",
              "              style=\"display:none;\">\n",
              "        \n",
              "  <svg xmlns=\"http://www.w3.org/2000/svg\" height=\"24px\"viewBox=\"0 0 24 24\"\n",
              "       width=\"24px\">\n",
              "    <path d=\"M0 0h24v24H0V0z\" fill=\"none\"/>\n",
              "    <path d=\"M18.56 5.44l.94 2.06.94-2.06 2.06-.94-2.06-.94-.94-2.06-.94 2.06-2.06.94zm-11 1L8.5 8.5l.94-2.06 2.06-.94-2.06-.94L8.5 2.5l-.94 2.06-2.06.94zm10 10l.94 2.06.94-2.06 2.06-.94-2.06-.94-.94-2.06-.94 2.06-2.06.94z\"/><path d=\"M17.41 7.96l-1.37-1.37c-.4-.4-.92-.59-1.43-.59-.52 0-1.04.2-1.43.59L10.3 9.45l-7.72 7.72c-.78.78-.78 2.05 0 2.83L4 21.41c.39.39.9.59 1.41.59.51 0 1.02-.2 1.41-.59l7.78-7.78 2.81-2.81c.8-.78.8-2.07 0-2.86zM5.41 20L4 18.59l7.72-7.72 1.47 1.35L5.41 20z\"/>\n",
              "  </svg>\n",
              "      </button>\n",
              "      \n",
              "  <style>\n",
              "    .colab-df-container {\n",
              "      display:flex;\n",
              "      flex-wrap:wrap;\n",
              "      gap: 12px;\n",
              "    }\n",
              "\n",
              "    .colab-df-convert {\n",
              "      background-color: #E8F0FE;\n",
              "      border: none;\n",
              "      border-radius: 50%;\n",
              "      cursor: pointer;\n",
              "      display: none;\n",
              "      fill: #1967D2;\n",
              "      height: 32px;\n",
              "      padding: 0 0 0 0;\n",
              "      width: 32px;\n",
              "    }\n",
              "\n",
              "    .colab-df-convert:hover {\n",
              "      background-color: #E2EBFA;\n",
              "      box-shadow: 0px 1px 2px rgba(60, 64, 67, 0.3), 0px 1px 3px 1px rgba(60, 64, 67, 0.15);\n",
              "      fill: #174EA6;\n",
              "    }\n",
              "\n",
              "    [theme=dark] .colab-df-convert {\n",
              "      background-color: #3B4455;\n",
              "      fill: #D2E3FC;\n",
              "    }\n",
              "\n",
              "    [theme=dark] .colab-df-convert:hover {\n",
              "      background-color: #434B5C;\n",
              "      box-shadow: 0px 1px 3px 1px rgba(0, 0, 0, 0.15);\n",
              "      filter: drop-shadow(0px 1px 2px rgba(0, 0, 0, 0.3));\n",
              "      fill: #FFFFFF;\n",
              "    }\n",
              "  </style>\n",
              "\n",
              "      <script>\n",
              "        const buttonEl =\n",
              "          document.querySelector('#df-5d9cf76a-cb19-4d9f-89fd-d934329ad3ca button.colab-df-convert');\n",
              "        buttonEl.style.display =\n",
              "          google.colab.kernel.accessAllowed ? 'block' : 'none';\n",
              "\n",
              "        async function convertToInteractive(key) {\n",
              "          const element = document.querySelector('#df-5d9cf76a-cb19-4d9f-89fd-d934329ad3ca');\n",
              "          const dataTable =\n",
              "            await google.colab.kernel.invokeFunction('convertToInteractive',\n",
              "                                                     [key], {});\n",
              "          if (!dataTable) return;\n",
              "\n",
              "          const docLinkHtml = 'Like what you see? Visit the ' +\n",
              "            '<a target=\"_blank\" href=https://colab.research.google.com/notebooks/data_table.ipynb>data table notebook</a>'\n",
              "            + ' to learn more about interactive tables.';\n",
              "          element.innerHTML = '';\n",
              "          dataTable['output_type'] = 'display_data';\n",
              "          await google.colab.output.renderOutput(dataTable, element);\n",
              "          const docLink = document.createElement('div');\n",
              "          docLink.innerHTML = docLinkHtml;\n",
              "          element.appendChild(docLink);\n",
              "        }\n",
              "      </script>\n",
              "    </div>\n",
              "  </div>\n",
              "  "
            ]
          },
          "metadata": {},
          "execution_count": 15
        }
      ]
    },
    {
      "cell_type": "code",
      "source": [
        "rfm_p['Diff'] = rfm_p['Diff'].dt.days\n",
        "rfm_p"
      ],
      "metadata": {
        "colab": {
          "base_uri": "https://localhost:8080/",
          "height": 424
        },
        "id": "k-r9AehK6JTt",
        "outputId": "1eebe1c0-0da2-4586-8031-9a5dad3d684f"
      },
      "execution_count": 16,
      "outputs": [
        {
          "output_type": "execute_result",
          "data": {
            "text/plain": [
              "     CustomerID  Diff\n",
              "0       12346.0   325\n",
              "1       12347.0     1\n",
              "2       12348.0    74\n",
              "3       12349.0    18\n",
              "4       12350.0   309\n",
              "...         ...   ...\n",
              "4367    18280.0   277\n",
              "4368    18281.0   180\n",
              "4369    18282.0     7\n",
              "4370    18283.0     3\n",
              "4371    18287.0    42\n",
              "\n",
              "[4372 rows x 2 columns]"
            ],
            "text/html": [
              "\n",
              "  <div id=\"df-95f6b143-74f2-4f02-906c-05a5261ee232\">\n",
              "    <div class=\"colab-df-container\">\n",
              "      <div>\n",
              "<style scoped>\n",
              "    .dataframe tbody tr th:only-of-type {\n",
              "        vertical-align: middle;\n",
              "    }\n",
              "\n",
              "    .dataframe tbody tr th {\n",
              "        vertical-align: top;\n",
              "    }\n",
              "\n",
              "    .dataframe thead th {\n",
              "        text-align: right;\n",
              "    }\n",
              "</style>\n",
              "<table border=\"1\" class=\"dataframe\">\n",
              "  <thead>\n",
              "    <tr style=\"text-align: right;\">\n",
              "      <th></th>\n",
              "      <th>CustomerID</th>\n",
              "      <th>Diff</th>\n",
              "    </tr>\n",
              "  </thead>\n",
              "  <tbody>\n",
              "    <tr>\n",
              "      <th>0</th>\n",
              "      <td>12346.0</td>\n",
              "      <td>325</td>\n",
              "    </tr>\n",
              "    <tr>\n",
              "      <th>1</th>\n",
              "      <td>12347.0</td>\n",
              "      <td>1</td>\n",
              "    </tr>\n",
              "    <tr>\n",
              "      <th>2</th>\n",
              "      <td>12348.0</td>\n",
              "      <td>74</td>\n",
              "    </tr>\n",
              "    <tr>\n",
              "      <th>3</th>\n",
              "      <td>12349.0</td>\n",
              "      <td>18</td>\n",
              "    </tr>\n",
              "    <tr>\n",
              "      <th>4</th>\n",
              "      <td>12350.0</td>\n",
              "      <td>309</td>\n",
              "    </tr>\n",
              "    <tr>\n",
              "      <th>...</th>\n",
              "      <td>...</td>\n",
              "      <td>...</td>\n",
              "    </tr>\n",
              "    <tr>\n",
              "      <th>4367</th>\n",
              "      <td>18280.0</td>\n",
              "      <td>277</td>\n",
              "    </tr>\n",
              "    <tr>\n",
              "      <th>4368</th>\n",
              "      <td>18281.0</td>\n",
              "      <td>180</td>\n",
              "    </tr>\n",
              "    <tr>\n",
              "      <th>4369</th>\n",
              "      <td>18282.0</td>\n",
              "      <td>7</td>\n",
              "    </tr>\n",
              "    <tr>\n",
              "      <th>4370</th>\n",
              "      <td>18283.0</td>\n",
              "      <td>3</td>\n",
              "    </tr>\n",
              "    <tr>\n",
              "      <th>4371</th>\n",
              "      <td>18287.0</td>\n",
              "      <td>42</td>\n",
              "    </tr>\n",
              "  </tbody>\n",
              "</table>\n",
              "<p>4372 rows × 2 columns</p>\n",
              "</div>\n",
              "      <button class=\"colab-df-convert\" onclick=\"convertToInteractive('df-95f6b143-74f2-4f02-906c-05a5261ee232')\"\n",
              "              title=\"Convert this dataframe to an interactive table.\"\n",
              "              style=\"display:none;\">\n",
              "        \n",
              "  <svg xmlns=\"http://www.w3.org/2000/svg\" height=\"24px\"viewBox=\"0 0 24 24\"\n",
              "       width=\"24px\">\n",
              "    <path d=\"M0 0h24v24H0V0z\" fill=\"none\"/>\n",
              "    <path d=\"M18.56 5.44l.94 2.06.94-2.06 2.06-.94-2.06-.94-.94-2.06-.94 2.06-2.06.94zm-11 1L8.5 8.5l.94-2.06 2.06-.94-2.06-.94L8.5 2.5l-.94 2.06-2.06.94zm10 10l.94 2.06.94-2.06 2.06-.94-2.06-.94-.94-2.06-.94 2.06-2.06.94z\"/><path d=\"M17.41 7.96l-1.37-1.37c-.4-.4-.92-.59-1.43-.59-.52 0-1.04.2-1.43.59L10.3 9.45l-7.72 7.72c-.78.78-.78 2.05 0 2.83L4 21.41c.39.39.9.59 1.41.59.51 0 1.02-.2 1.41-.59l7.78-7.78 2.81-2.81c.8-.78.8-2.07 0-2.86zM5.41 20L4 18.59l7.72-7.72 1.47 1.35L5.41 20z\"/>\n",
              "  </svg>\n",
              "      </button>\n",
              "      \n",
              "  <style>\n",
              "    .colab-df-container {\n",
              "      display:flex;\n",
              "      flex-wrap:wrap;\n",
              "      gap: 12px;\n",
              "    }\n",
              "\n",
              "    .colab-df-convert {\n",
              "      background-color: #E8F0FE;\n",
              "      border: none;\n",
              "      border-radius: 50%;\n",
              "      cursor: pointer;\n",
              "      display: none;\n",
              "      fill: #1967D2;\n",
              "      height: 32px;\n",
              "      padding: 0 0 0 0;\n",
              "      width: 32px;\n",
              "    }\n",
              "\n",
              "    .colab-df-convert:hover {\n",
              "      background-color: #E2EBFA;\n",
              "      box-shadow: 0px 1px 2px rgba(60, 64, 67, 0.3), 0px 1px 3px 1px rgba(60, 64, 67, 0.15);\n",
              "      fill: #174EA6;\n",
              "    }\n",
              "\n",
              "    [theme=dark] .colab-df-convert {\n",
              "      background-color: #3B4455;\n",
              "      fill: #D2E3FC;\n",
              "    }\n",
              "\n",
              "    [theme=dark] .colab-df-convert:hover {\n",
              "      background-color: #434B5C;\n",
              "      box-shadow: 0px 1px 3px 1px rgba(0, 0, 0, 0.15);\n",
              "      filter: drop-shadow(0px 1px 2px rgba(0, 0, 0, 0.3));\n",
              "      fill: #FFFFFF;\n",
              "    }\n",
              "  </style>\n",
              "\n",
              "      <script>\n",
              "        const buttonEl =\n",
              "          document.querySelector('#df-95f6b143-74f2-4f02-906c-05a5261ee232 button.colab-df-convert');\n",
              "        buttonEl.style.display =\n",
              "          google.colab.kernel.accessAllowed ? 'block' : 'none';\n",
              "\n",
              "        async function convertToInteractive(key) {\n",
              "          const element = document.querySelector('#df-95f6b143-74f2-4f02-906c-05a5261ee232');\n",
              "          const dataTable =\n",
              "            await google.colab.kernel.invokeFunction('convertToInteractive',\n",
              "                                                     [key], {});\n",
              "          if (!dataTable) return;\n",
              "\n",
              "          const docLinkHtml = 'Like what you see? Visit the ' +\n",
              "            '<a target=\"_blank\" href=https://colab.research.google.com/notebooks/data_table.ipynb>data table notebook</a>'\n",
              "            + ' to learn more about interactive tables.';\n",
              "          element.innerHTML = '';\n",
              "          dataTable['output_type'] = 'display_data';\n",
              "          await google.colab.output.renderOutput(dataTable, element);\n",
              "          const docLink = document.createElement('div');\n",
              "          docLink.innerHTML = docLinkHtml;\n",
              "          element.appendChild(docLink);\n",
              "        }\n",
              "      </script>\n",
              "    </div>\n",
              "  </div>\n",
              "  "
            ]
          },
          "metadata": {},
          "execution_count": 16
        }
      ]
    },
    {
      "cell_type": "code",
      "source": [
        "#merging all to creatte the final RFM dataframe\n",
        "\n",
        "rfm = pd.merge(rfm, rfm_p, on='CustomerID', how='inner')\n",
        "rfm.columns = ['CustomerID', 'Amount', 'Frequency', 'Recency']\n",
        "rfm.head()"
      ],
      "metadata": {
        "colab": {
          "base_uri": "https://localhost:8080/",
          "height": 206
        },
        "id": "h2gwyngR6lEW",
        "outputId": "69878840-41d0-4672-d8d5-e981d04f0f8e"
      },
      "execution_count": 17,
      "outputs": [
        {
          "output_type": "execute_result",
          "data": {
            "text/plain": [
              "  CustomerID   Amount  Frequency  Recency\n",
              "0    12346.0     0.00          2      325\n",
              "1    12347.0  4310.00        182        1\n",
              "2    12348.0  1797.24         31       74\n",
              "3    12349.0  1757.55         73       18\n",
              "4    12350.0   334.40         17      309"
            ],
            "text/html": [
              "\n",
              "  <div id=\"df-c9d87593-37ab-40af-b9c4-f42c859648b4\">\n",
              "    <div class=\"colab-df-container\">\n",
              "      <div>\n",
              "<style scoped>\n",
              "    .dataframe tbody tr th:only-of-type {\n",
              "        vertical-align: middle;\n",
              "    }\n",
              "\n",
              "    .dataframe tbody tr th {\n",
              "        vertical-align: top;\n",
              "    }\n",
              "\n",
              "    .dataframe thead th {\n",
              "        text-align: right;\n",
              "    }\n",
              "</style>\n",
              "<table border=\"1\" class=\"dataframe\">\n",
              "  <thead>\n",
              "    <tr style=\"text-align: right;\">\n",
              "      <th></th>\n",
              "      <th>CustomerID</th>\n",
              "      <th>Amount</th>\n",
              "      <th>Frequency</th>\n",
              "      <th>Recency</th>\n",
              "    </tr>\n",
              "  </thead>\n",
              "  <tbody>\n",
              "    <tr>\n",
              "      <th>0</th>\n",
              "      <td>12346.0</td>\n",
              "      <td>0.00</td>\n",
              "      <td>2</td>\n",
              "      <td>325</td>\n",
              "    </tr>\n",
              "    <tr>\n",
              "      <th>1</th>\n",
              "      <td>12347.0</td>\n",
              "      <td>4310.00</td>\n",
              "      <td>182</td>\n",
              "      <td>1</td>\n",
              "    </tr>\n",
              "    <tr>\n",
              "      <th>2</th>\n",
              "      <td>12348.0</td>\n",
              "      <td>1797.24</td>\n",
              "      <td>31</td>\n",
              "      <td>74</td>\n",
              "    </tr>\n",
              "    <tr>\n",
              "      <th>3</th>\n",
              "      <td>12349.0</td>\n",
              "      <td>1757.55</td>\n",
              "      <td>73</td>\n",
              "      <td>18</td>\n",
              "    </tr>\n",
              "    <tr>\n",
              "      <th>4</th>\n",
              "      <td>12350.0</td>\n",
              "      <td>334.40</td>\n",
              "      <td>17</td>\n",
              "      <td>309</td>\n",
              "    </tr>\n",
              "  </tbody>\n",
              "</table>\n",
              "</div>\n",
              "      <button class=\"colab-df-convert\" onclick=\"convertToInteractive('df-c9d87593-37ab-40af-b9c4-f42c859648b4')\"\n",
              "              title=\"Convert this dataframe to an interactive table.\"\n",
              "              style=\"display:none;\">\n",
              "        \n",
              "  <svg xmlns=\"http://www.w3.org/2000/svg\" height=\"24px\"viewBox=\"0 0 24 24\"\n",
              "       width=\"24px\">\n",
              "    <path d=\"M0 0h24v24H0V0z\" fill=\"none\"/>\n",
              "    <path d=\"M18.56 5.44l.94 2.06.94-2.06 2.06-.94-2.06-.94-.94-2.06-.94 2.06-2.06.94zm-11 1L8.5 8.5l.94-2.06 2.06-.94-2.06-.94L8.5 2.5l-.94 2.06-2.06.94zm10 10l.94 2.06.94-2.06 2.06-.94-2.06-.94-.94-2.06-.94 2.06-2.06.94z\"/><path d=\"M17.41 7.96l-1.37-1.37c-.4-.4-.92-.59-1.43-.59-.52 0-1.04.2-1.43.59L10.3 9.45l-7.72 7.72c-.78.78-.78 2.05 0 2.83L4 21.41c.39.39.9.59 1.41.59.51 0 1.02-.2 1.41-.59l7.78-7.78 2.81-2.81c.8-.78.8-2.07 0-2.86zM5.41 20L4 18.59l7.72-7.72 1.47 1.35L5.41 20z\"/>\n",
              "  </svg>\n",
              "      </button>\n",
              "      \n",
              "  <style>\n",
              "    .colab-df-container {\n",
              "      display:flex;\n",
              "      flex-wrap:wrap;\n",
              "      gap: 12px;\n",
              "    }\n",
              "\n",
              "    .colab-df-convert {\n",
              "      background-color: #E8F0FE;\n",
              "      border: none;\n",
              "      border-radius: 50%;\n",
              "      cursor: pointer;\n",
              "      display: none;\n",
              "      fill: #1967D2;\n",
              "      height: 32px;\n",
              "      padding: 0 0 0 0;\n",
              "      width: 32px;\n",
              "    }\n",
              "\n",
              "    .colab-df-convert:hover {\n",
              "      background-color: #E2EBFA;\n",
              "      box-shadow: 0px 1px 2px rgba(60, 64, 67, 0.3), 0px 1px 3px 1px rgba(60, 64, 67, 0.15);\n",
              "      fill: #174EA6;\n",
              "    }\n",
              "\n",
              "    [theme=dark] .colab-df-convert {\n",
              "      background-color: #3B4455;\n",
              "      fill: #D2E3FC;\n",
              "    }\n",
              "\n",
              "    [theme=dark] .colab-df-convert:hover {\n",
              "      background-color: #434B5C;\n",
              "      box-shadow: 0px 1px 3px 1px rgba(0, 0, 0, 0.15);\n",
              "      filter: drop-shadow(0px 1px 2px rgba(0, 0, 0, 0.3));\n",
              "      fill: #FFFFFF;\n",
              "    }\n",
              "  </style>\n",
              "\n",
              "      <script>\n",
              "        const buttonEl =\n",
              "          document.querySelector('#df-c9d87593-37ab-40af-b9c4-f42c859648b4 button.colab-df-convert');\n",
              "        buttonEl.style.display =\n",
              "          google.colab.kernel.accessAllowed ? 'block' : 'none';\n",
              "\n",
              "        async function convertToInteractive(key) {\n",
              "          const element = document.querySelector('#df-c9d87593-37ab-40af-b9c4-f42c859648b4');\n",
              "          const dataTable =\n",
              "            await google.colab.kernel.invokeFunction('convertToInteractive',\n",
              "                                                     [key], {});\n",
              "          if (!dataTable) return;\n",
              "\n",
              "          const docLinkHtml = 'Like what you see? Visit the ' +\n",
              "            '<a target=\"_blank\" href=https://colab.research.google.com/notebooks/data_table.ipynb>data table notebook</a>'\n",
              "            + ' to learn more about interactive tables.';\n",
              "          element.innerHTML = '';\n",
              "          dataTable['output_type'] = 'display_data';\n",
              "          await google.colab.output.renderOutput(dataTable, element);\n",
              "          const docLink = document.createElement('div');\n",
              "          docLink.innerHTML = docLinkHtml;\n",
              "          element.appendChild(docLink);\n",
              "        }\n",
              "      </script>\n",
              "    </div>\n",
              "  </div>\n",
              "  "
            ]
          },
          "metadata": {},
          "execution_count": 17
        }
      ]
    },
    {
      "cell_type": "markdown",
      "source": [
        "**OUTLIERS   ANALYSIS** "
      ],
      "metadata": {
        "id": "3z-fKjHe7nqE"
      }
    },
    {
      "cell_type": "code",
      "source": [
        "attributes=['Amount','Frequency','Recency']\n",
        "plt.figure(figsize=(12,8))\n",
        "sns.boxplot(data=rfm[attributes], orient=\"v\",palette=\"Set2\",whis=1.5, saturation=1,width=0.7)\n",
        "plt.title(\"Outliers Variable Distribution\")\n",
        "plt.ylabel(\"Range\")\n",
        "plt.xlabel(\"Attributes\")"
      ],
      "metadata": {
        "colab": {
          "base_uri": "https://localhost:8080/",
          "height": 466
        },
        "id": "aLK6WOFX7A2M",
        "outputId": "483bc347-a0d2-4d1c-8da6-08d698646b5b"
      },
      "execution_count": 18,
      "outputs": [
        {
          "output_type": "execute_result",
          "data": {
            "text/plain": [
              "Text(0.5, 0, 'Attributes')"
            ]
          },
          "metadata": {},
          "execution_count": 18
        },
        {
          "output_type": "display_data",
          "data": {
            "text/plain": [
              "<Figure size 864x576 with 1 Axes>"
            ],
            "image/png": "[encoded data removed]"
          },
          "metadata": {
            "needs_background": "light"
          }
        }
      ]
    },
    {
      "cell_type": "code",
      "source": [
        "q1=rfm.Amount.quantile(0.05)\n",
        "q3=rfm.Amount.quantile(0.95)\n",
        "iqr=q3-q1\n",
        "rfm=rfm[(rfm.Amount >= (q1-1.5*iqr)) & (rfm.Amount <=(q3 + 1.5*iqr))]\n",
        "\n",
        "q1=rfm.Recency.quantile(0.05)\n",
        "q3=rfm.Recency.quantile(0.95)\n",
        "iqr=q3-q1\n",
        "rfm=rfm[(rfm.Recency >= (q1-1.5*iqr)) & (rfm.Recency <=(q3 + 1.5*iqr))]\n",
        "\n",
        "q1=rfm.Frequency.quantile(0.05)\n",
        "q3=rfm.Frequency.quantile(0.95)\n",
        "iqr=q3-q1\n",
        "rfm=rfm[(rfm.Frequency >= (q1-1.5*iqr)) & (rfm.Frequency <=(q3 + 1.5*iqr))]"
      ],
      "metadata": {
        "id": "nC1ER_Rz8cYf"
      },
      "execution_count": 19,
      "outputs": []
    },
    {
      "cell_type": "code",
      "source": [
        "rfm.shape"
      ],
      "metadata": {
        "colab": {
          "base_uri": "https://localhost:8080/"
        },
        "id": "A2P-6ksN9ry8",
        "outputId": "c23d3a54-0d0c-4b3f-c4a6-82fa984ce93a"
      },
      "execution_count": 20,
      "outputs": [
        {
          "output_type": "execute_result",
          "data": {
            "text/plain": [
              "(4293, 4)"
            ]
          },
          "metadata": {},
          "execution_count": 20
        }
      ]
    },
    {
      "cell_type": "code",
      "source": [
        "#Standardization\n",
        "\n",
        "rfm_df=rfm[['Amount','Frequency','Recency']]\n",
        "scaler=StandardScaler()\n",
        "\n",
        "scaleddf=scaler.fit_transform(rfm_df)\n",
        "scaleddf.shape"
      ],
      "metadata": {
        "colab": {
          "base_uri": "https://localhost:8080/"
        },
        "id": "2kIpnD059wSz",
        "outputId": "1a917c3c-245c-413e-8f48-dcabd58897b4"
      },
      "execution_count": 21,
      "outputs": [
        {
          "output_type": "execute_result",
          "data": {
            "text/plain": [
              "(4293, 3)"
            ]
          },
          "metadata": {},
          "execution_count": 21
        }
      ]
    },
    {
      "cell_type": "code",
      "source": [
        "df=pd.DataFrame(scaleddf)\n",
        "df.columns= ['Amount','Frequency','Recency']\n",
        "df.head()"
      ],
      "metadata": {
        "colab": {
          "base_uri": "https://localhost:8080/",
          "height": 206
        },
        "id": "X2brmuQG-kxU",
        "outputId": "0e3b48d7-fb3a-45be-8e73-8bc2bc2eafde"
      },
      "execution_count": 22,
      "outputs": [
        {
          "output_type": "execute_result",
          "data": {
            "text/plain": [
              "     Amount  Frequency   Recency\n",
              "0 -0.723738  -0.752888  2.301611\n",
              "1  1.731617   1.042467 -0.906466\n",
              "2  0.300128  -0.463636 -0.183658\n",
              "3  0.277517  -0.044720 -0.738141\n",
              "4 -0.533235  -0.603275  2.143188"
            ],
            "text/html": [
              "\n",
              "  <div id=\"df-abc0d2fa-ae1d-4592-b719-a76eeb70fd75\">\n",
              "    <div class=\"colab-df-container\">\n",
              "      <div>\n",
              "<style scoped>\n",
              "    .dataframe tbody tr th:only-of-type {\n",
              "        vertical-align: middle;\n",
              "    }\n",
              "\n",
              "    .dataframe tbody tr th {\n",
              "        vertical-align: top;\n",
              "    }\n",
              "\n",
              "    .dataframe thead th {\n",
              "        text-align: right;\n",
              "    }\n",
              "</style>\n",
              "<table border=\"1\" class=\"dataframe\">\n",
              "  <thead>\n",
              "    <tr style=\"text-align: right;\">\n",
              "      <th></th>\n",
              "      <th>Amount</th>\n",
              "      <th>Frequency</th>\n",
              "      <th>Recency</th>\n",
              "    </tr>\n",
              "  </thead>\n",
              "  <tbody>\n",
              "    <tr>\n",
              "      <th>0</th>\n",
              "      <td>-0.723738</td>\n",
              "      <td>-0.752888</td>\n",
              "      <td>2.301611</td>\n",
              "    </tr>\n",
              "    <tr>\n",
              "      <th>1</th>\n",
              "      <td>1.731617</td>\n",
              "      <td>1.042467</td>\n",
              "      <td>-0.906466</td>\n",
              "    </tr>\n",
              "    <tr>\n",
              "      <th>2</th>\n",
              "      <td>0.300128</td>\n",
              "      <td>-0.463636</td>\n",
              "      <td>-0.183658</td>\n",
              "    </tr>\n",
              "    <tr>\n",
              "      <th>3</th>\n",
              "      <td>0.277517</td>\n",
              "      <td>-0.044720</td>\n",
              "      <td>-0.738141</td>\n",
              "    </tr>\n",
              "    <tr>\n",
              "      <th>4</th>\n",
              "      <td>-0.533235</td>\n",
              "      <td>-0.603275</td>\n",
              "      <td>2.143188</td>\n",
              "    </tr>\n",
              "  </tbody>\n",
              "</table>\n",
              "</div>\n",
              "      <button class=\"colab-df-convert\" onclick=\"convertToInteractive('df-abc0d2fa-ae1d-4592-b719-a76eeb70fd75')\"\n",
              "              title=\"Convert this dataframe to an interactive table.\"\n",
              "              style=\"display:none;\">\n",
              "        \n",
              "  <svg xmlns=\"http://www.w3.org/2000/svg\" height=\"24px\"viewBox=\"0 0 24 24\"\n",
              "       width=\"24px\">\n",
              "    <path d=\"M0 0h24v24H0V0z\" fill=\"none\"/>\n",
              "    <path d=\"M18.56 5.44l.94 2.06.94-2.06 2.06-.94-2.06-.94-.94-2.06-.94 2.06-2.06.94zm-11 1L8.5 8.5l.94-2.06 2.06-.94-2.06-.94L8.5 2.5l-.94 2.06-2.06.94zm10 10l.94 2.06.94-2.06 2.06-.94-2.06-.94-.94-2.06-.94 2.06-2.06.94z\"/><path d=\"M17.41 7.96l-1.37-1.37c-.4-.4-.92-.59-1.43-.59-.52 0-1.04.2-1.43.59L10.3 9.45l-7.72 7.72c-.78.78-.78 2.05 0 2.83L4 21.41c.39.39.9.59 1.41.59.51 0 1.02-.2 1.41-.59l7.78-7.78 2.81-2.81c.8-.78.8-2.07 0-2.86zM5.41 20L4 18.59l7.72-7.72 1.47 1.35L5.41 20z\"/>\n",
              "  </svg>\n",
              "      </button>\n",
              "      \n",
              "  <style>\n",
              "    .colab-df-container {\n",
              "      display:flex;\n",
              "      flex-wrap:wrap;\n",
              "      gap: 12px;\n",
              "    }\n",
              "\n",
              "    .colab-df-convert {\n",
              "      background-color: #E8F0FE;\n",
              "      border: none;\n",
              "      border-radius: 50%;\n",
              "      cursor: pointer;\n",
              "      display: none;\n",
              "      fill: #1967D2;\n",
              "      height: 32px;\n",
              "      padding: 0 0 0 0;\n",
              "      width: 32px;\n",
              "    }\n",
              "\n",
              "    .colab-df-convert:hover {\n",
              "      background-color: #E2EBFA;\n",
              "      box-shadow: 0px 1px 2px rgba(60, 64, 67, 0.3), 0px 1px 3px 1px rgba(60, 64, 67, 0.15);\n",
              "      fill: #174EA6;\n",
              "    }\n",
              "\n",
              "    [theme=dark] .colab-df-convert {\n",
              "      background-color: #3B4455;\n",
              "      fill: #D2E3FC;\n",
              "    }\n",
              "\n",
              "    [theme=dark] .colab-df-convert:hover {\n",
              "      background-color: #434B5C;\n",
              "      box-shadow: 0px 1px 3px 1px rgba(0, 0, 0, 0.15);\n",
              "      filter: drop-shadow(0px 1px 2px rgba(0, 0, 0, 0.3));\n",
              "      fill: #FFFFFF;\n",
              "    }\n",
              "  </style>\n",
              "\n",
              "      <script>\n",
              "        const buttonEl =\n",
              "          document.querySelector('#df-abc0d2fa-ae1d-4592-b719-a76eeb70fd75 button.colab-df-convert');\n",
              "        buttonEl.style.display =\n",
              "          google.colab.kernel.accessAllowed ? 'block' : 'none';\n",
              "\n",
              "        async function convertToInteractive(key) {\n",
              "          const element = document.querySelector('#df-abc0d2fa-ae1d-4592-b719-a76eeb70fd75');\n",
              "          const dataTable =\n",
              "            await google.colab.kernel.invokeFunction('convertToInteractive',\n",
              "                                                     [key], {});\n",
              "          if (!dataTable) return;\n",
              "\n",
              "          const docLinkHtml = 'Like what you see? Visit the ' +\n",
              "            '<a target=\"_blank\" href=https://colab.research.google.com/notebooks/data_table.ipynb>data table notebook</a>'\n",
              "            + ' to learn more about interactive tables.';\n",
              "          element.innerHTML = '';\n",
              "          dataTable['output_type'] = 'display_data';\n",
              "          await google.colab.output.renderOutput(dataTable, element);\n",
              "          const docLink = document.createElement('div');\n",
              "          docLink.innerHTML = docLinkHtml;\n",
              "          element.appendChild(docLink);\n",
              "        }\n",
              "      </script>\n",
              "    </div>\n",
              "  </div>\n",
              "  "
            ]
          },
          "metadata": {},
          "execution_count": 22
        }
      ]
    },
    {
      "cell_type": "markdown",
      "source": [
        "## BUILDING MODEL\n"
      ],
      "metadata": {
        "id": "EWtS-MG0_FBA"
      }
    },
    {
      "cell_type": "code",
      "source": [
        "#Elbow-Curve\n",
        "\n",
        "wcss=[]\n",
        "\n",
        "for num in range(2,10):\n",
        "  kmeans=KMeans(n_clusters=num, max_iter=50)\n",
        "  kmeans.fit(df)\n",
        "\n",
        "  wcss.append(kmeans.inertia_)\n",
        "\n",
        "plt.plot(wcss);"
      ],
      "metadata": {
        "colab": {
          "base_uri": "https://localhost:8080/",
          "height": 265
        },
        "id": "UM3Dr1Am-_HW",
        "outputId": "060a4cba-89ee-4135-e40d-725c9bd6714f"
      },
      "execution_count": 23,
      "outputs": [
        {
          "output_type": "display_data",
          "data": {
            "text/plain": [
              "<Figure size 432x288 with 1 Axes>"
            ],
            "image/png": "[encoded data removed]"
          },
          "metadata": {
            "needs_background": "light"
          }
        }
      ]
    },
    {
      "cell_type": "code",
      "source": [
        "for num in range(2,10):\n",
        "  kmeans=KMeans(n_clusters=num, max_iter=50)\n",
        "  kmeans.fit(df)\n",
        "\n",
        "  cluster_labels = kmeans.labels_\n",
        "\n",
        "  silhouette_avg = silhouette_score(df,cluster_labels)\n",
        "  print(\"For n_clusters={0}, the silhouette score is {1}\".format(num,silhouette_avg))"
      ],
      "metadata": {
        "colab": {
          "base_uri": "https://localhost:8080/"
        },
        "id": "o-NwRjsfAwAf",
        "outputId": "66f6cd90-9433-4184-a174-db621f9dd15c"
      },
      "execution_count": 24,
      "outputs": [
        {
          "output_type": "stream",
          "name": "stdout",
          "text": [
            "For n_clusters=2, the silhouette score is 0.5415858652525395\n",
            "For n_clusters=3, the silhouette score is 0.5084896296141937\n",
            "For n_clusters=4, the silhouette score is 0.4777820100216849\n",
            "For n_clusters=5, the silhouette score is 0.4654286086296642\n",
            "For n_clusters=6, the silhouette score is 0.4176921719944174\n",
            "For n_clusters=7, the silhouette score is 0.41567828701624665\n",
            "For n_clusters=8, the silhouette score is 0.40262676256680324\n",
            "For n_clusters=9, the silhouette score is 0.37288559552736905\n"
          ]
        }
      ]
    },
    {
      "cell_type": "code",
      "source": [
        "kmeans=KMeans(n_clusters=3,max_iter=50)\n",
        "kmeans.fit_predict(df)"
      ],
      "metadata": {
        "colab": {
          "base_uri": "https://localhost:8080/"
        },
        "id": "C6KP7GfECb3b",
        "outputId": "587dc222-5d8a-4782-e033-9048d40673b1"
      },
      "execution_count": 25,
      "outputs": [
        {
          "output_type": "execute_result",
          "data": {
            "text/plain": [
              "array([2, 0, 1, ..., 2, 1, 1], dtype=int32)"
            ]
          },
          "metadata": {},
          "execution_count": 25
        }
      ]
    },
    {
      "cell_type": "markdown",
      "source": [
        "FINAL DATASET WITH CLUSTERS PREDICTION"
      ],
      "metadata": {
        "id": "y-zbR-U-C2U1"
      }
    },
    {
      "cell_type": "code",
      "source": [
        "rfm['ClusterID']=kmeans.labels_\n",
        "rfm.head()"
      ],
      "metadata": {
        "colab": {
          "base_uri": "https://localhost:8080/",
          "height": 206
        },
        "id": "r2zModrlCiRD",
        "outputId": "78333ef3-9a8e-4bf7-87e6-9f0f0f305fa6"
      },
      "execution_count": 26,
      "outputs": [
        {
          "output_type": "execute_result",
          "data": {
            "text/plain": [
              "  CustomerID   Amount  Frequency  Recency  ClusterID\n",
              "0    12346.0     0.00          2      325          2\n",
              "1    12347.0  4310.00        182        1          0\n",
              "2    12348.0  1797.24         31       74          1\n",
              "3    12349.0  1757.55         73       18          1\n",
              "4    12350.0   334.40         17      309          2"
            ],
            "text/html": [
              "\n",
              "  <div id=\"df-757ecf51-f12a-412a-a98c-5898eacb3fcd\">\n",
              "    <div class=\"colab-df-container\">\n",
              "      <div>\n",
              "<style scoped>\n",
              "    .dataframe tbody tr th:only-of-type {\n",
              "        vertical-align: middle;\n",
              "    }\n",
              "\n",
              "    .dataframe tbody tr th {\n",
              "        vertical-align: top;\n",
              "    }\n",
              "\n",
              "    .dataframe thead th {\n",
              "        text-align: right;\n",
              "    }\n",
              "</style>\n",
              "<table border=\"1\" class=\"dataframe\">\n",
              "  <thead>\n",
              "    <tr style=\"text-align: right;\">\n",
              "      <th></th>\n",
              "      <th>CustomerID</th>\n",
              "      <th>Amount</th>\n",
              "      <th>Frequency</th>\n",
              "      <th>Recency</th>\n",
              "      <th>ClusterID</th>\n",
              "    </tr>\n",
              "  </thead>\n",
              "  <tbody>\n",
              "    <tr>\n",
              "      <th>0</th>\n",
              "      <td>12346.0</td>\n",
              "      <td>0.00</td>\n",
              "      <td>2</td>\n",
              "      <td>325</td>\n",
              "      <td>2</td>\n",
              "    </tr>\n",
              "    <tr>\n",
              "      <th>1</th>\n",
              "      <td>12347.0</td>\n",
              "      <td>4310.00</td>\n",
              "      <td>182</td>\n",
              "      <td>1</td>\n",
              "      <td>0</td>\n",
              "    </tr>\n",
              "    <tr>\n",
              "      <th>2</th>\n",
              "      <td>12348.0</td>\n",
              "      <td>1797.24</td>\n",
              "      <td>31</td>\n",
              "      <td>74</td>\n",
              "      <td>1</td>\n",
              "    </tr>\n",
              "    <tr>\n",
              "      <th>3</th>\n",
              "      <td>12349.0</td>\n",
              "      <td>1757.55</td>\n",
              "      <td>73</td>\n",
              "      <td>18</td>\n",
              "      <td>1</td>\n",
              "    </tr>\n",
              "    <tr>\n",
              "      <th>4</th>\n",
              "      <td>12350.0</td>\n",
              "      <td>334.40</td>\n",
              "      <td>17</td>\n",
              "      <td>309</td>\n",
              "      <td>2</td>\n",
              "    </tr>\n",
              "  </tbody>\n",
              "</table>\n",
              "</div>\n",
              "      <button class=\"colab-df-convert\" onclick=\"convertToInteractive('df-757ecf51-f12a-412a-a98c-5898eacb3fcd')\"\n",
              "              title=\"Convert this dataframe to an interactive table.\"\n",
              "              style=\"display:none;\">\n",
              "        \n",
              "  <svg xmlns=\"http://www.w3.org/2000/svg\" height=\"24px\"viewBox=\"0 0 24 24\"\n",
              "       width=\"24px\">\n",
              "    <path d=\"M0 0h24v24H0V0z\" fill=\"none\"/>\n",
              "    <path d=\"M18.56 5.44l.94 2.06.94-2.06 2.06-.94-2.06-.94-.94-2.06-.94 2.06-2.06.94zm-11 1L8.5 8.5l.94-2.06 2.06-.94-2.06-.94L8.5 2.5l-.94 2.06-2.06.94zm10 10l.94 2.06.94-2.06 2.06-.94-2.06-.94-.94-2.06-.94 2.06-2.06.94z\"/><path d=\"M17.41 7.96l-1.37-1.37c-.4-.4-.92-.59-1.43-.59-.52 0-1.04.2-1.43.59L10.3 9.45l-7.72 7.72c-.78.78-.78 2.05 0 2.83L4 21.41c.39.39.9.59 1.41.59.51 0 1.02-.2 1.41-.59l7.78-7.78 2.81-2.81c.8-.78.8-2.07 0-2.86zM5.41 20L4 18.59l7.72-7.72 1.47 1.35L5.41 20z\"/>\n",
              "  </svg>\n",
              "      </button>\n",
              "      \n",
              "  <style>\n",
              "    .colab-df-container {\n",
              "      display:flex;\n",
              "      flex-wrap:wrap;\n",
              "      gap: 12px;\n",
              "    }\n",
              "\n",
              "    .colab-df-convert {\n",
              "      background-color: #E8F0FE;\n",
              "      border: none;\n",
              "      border-radius: 50%;\n",
              "      cursor: pointer;\n",
              "      display: none;\n",
              "      fill: #1967D2;\n",
              "      height: 32px;\n",
              "      padding: 0 0 0 0;\n",
              "      width: 32px;\n",
              "    }\n",
              "\n",
              "    .colab-df-convert:hover {\n",
              "      background-color: #E2EBFA;\n",
              "      box-shadow: 0px 1px 2px rgba(60, 64, 67, 0.3), 0px 1px 3px 1px rgba(60, 64, 67, 0.15);\n",
              "      fill: #174EA6;\n",
              "    }\n",
              "\n",
              "    [theme=dark] .colab-df-convert {\n",
              "      background-color: #3B4455;\n",
              "      fill: #D2E3FC;\n",
              "    }\n",
              "\n",
              "    [theme=dark] .colab-df-convert:hover {\n",
              "      background-color: #434B5C;\n",
              "      box-shadow: 0px 1px 3px 1px rgba(0, 0, 0, 0.15);\n",
              "      filter: drop-shadow(0px 1px 2px rgba(0, 0, 0, 0.3));\n",
              "      fill: #FFFFFF;\n",
              "    }\n",
              "  </style>\n",
              "\n",
              "      <script>\n",
              "        const buttonEl =\n",
              "          document.querySelector('#df-757ecf51-f12a-412a-a98c-5898eacb3fcd button.colab-df-convert');\n",
              "        buttonEl.style.display =\n",
              "          google.colab.kernel.accessAllowed ? 'block' : 'none';\n",
              "\n",
              "        async function convertToInteractive(key) {\n",
              "          const element = document.querySelector('#df-757ecf51-f12a-412a-a98c-5898eacb3fcd');\n",
              "          const dataTable =\n",
              "            await google.colab.kernel.invokeFunction('convertToInteractive',\n",
              "                                                     [key], {});\n",
              "          if (!dataTable) return;\n",
              "\n",
              "          const docLinkHtml = 'Like what you see? Visit the ' +\n",
              "            '<a target=\"_blank\" href=https://colab.research.google.com/notebooks/data_table.ipynb>data table notebook</a>'\n",
              "            + ' to learn more about interactive tables.';\n",
              "          element.innerHTML = '';\n",
              "          dataTable['output_type'] = 'display_data';\n",
              "          await google.colab.output.renderOutput(dataTable, element);\n",
              "          const docLink = document.createElement('div');\n",
              "          docLink.innerHTML = docLinkHtml;\n",
              "          element.appendChild(docLink);\n",
              "        }\n",
              "      </script>\n",
              "    </div>\n",
              "  </div>\n",
              "  "
            ]
          },
          "metadata": {},
          "execution_count": 26
        }
      ]
    },
    {
      "cell_type": "code",
      "source": [
        "import plotly.express as px\n",
        "fig = px.box(rfm, x=\"ClusterID\", y=\"Amount\",color=\"ClusterID\")\n",
        "fig.show()"
      ],
      "metadata": {
        "colab": {
          "base_uri": "https://localhost:8080/",
          "height": 542
        },
        "id": "HaPOItPXDBFI",
        "outputId": "29fed687-38af-41c2-ed64-a2bdce167452"
      },
      "execution_count": 28,
      "outputs": [
        {
          "output_type": "display_data",
          "data": {
            "text/html": [
              "<html>\n",
              "<head><meta charset=\"utf-8\" /></head>\n",
              "<body>\n",
              "    <div>            <script src=\"https://cdnjs.cloudflare.com/ajax/libs/mathjax/2.7.5/MathJax.js?config=TeX-AMS-MML_SVG\"></script><script type=\"text/javascript\">if (window.MathJax) {MathJax.Hub.Config({SVG: {font: \"STIX-Web\"}});}</script>                <script type=\"text/javascript\">window.PlotlyConfig = {MathJaxConfig: 'local'};</script>\n",
              "        <script src=\"https://cdn.plot.ly/plotly-2.8.3.min.js\"></script>                <div id=\"f74b39e2-a70d-410d-bc05-4cdf249d4560\" class=\"plotly-graph-div\" style=\"height:525px; width:100%;\"></div>            <script type=\"text/javascript\">                                    window.PLOTLYENV=window.PLOTLYENV || {};                                    if (document.getElementById(\"f74b39e2-a70d-410d-bc05-4cdf249d4560\")) {                    Plotly.newPlot(                        \"f74b39e2-a70d-410d-bc05-4cdf249d4560\",                        [{\"alignmentgroup\":\"True\",\"hovertemplate\":\"ClusterID=%{x}<br>Amount=%{y}<extra></extra>\",\"legendgroup\":\"2\",\"marker\":{\"color\":\"#636efa\"},\"name\":\"2\",\"notched\":false,\"offsetgroup\":\"2\",\"orientation\":\"v\",\"showlegend\":true,\"x\":[2,2,2,2,2,2,2,2,2,2,2,2,2,2,2,2,2,2,2,2,2,2,2,2,2,2,2,2,2,2,2,2,2,2,2,2,2,2,2,2,2,2,2,2,2,2,2,2,2,2,2,2,2,2,2,2,2,2,2,2,2,2,2,2,2,2,2,2,2,2,2,2,2,2,2,2,2,2,2,2,2,2,2,2,2,2,2,2,2,2,2,2,2,2,2,2,2,2,2,2,2,2,2,2,2,2,2,2,2,2,2,2,2,2,2,2,2,2,2,2,2,2,2,2,2,2,2,2,2,2,2,2,2,2,2,2,2,2,2,2,2,2,2,2,2,2,2,2,2,2,2,2,2,2,2,2,2,2,2,2,2,2,2,2,2,2,2,2,2,2,2,2,2,2,2,2,2,2,2,2,2,2,2,2,2,2,2,2,2,2,2,2,2,2,2,2,2,2,2,2,2,2,2,2,2,2,2,2,2,2,2,2,2,2,2,2,2,2,2,2,2,2,2,2,2,2,2,2,2,2,2,2,2,2,2,2,2,2,2,2,2,2,2,2,2,2,2,2,2,2,2,2,2,2,2,2,2,2,2,2,2,2,2,2,2,2,2,2,2,2,2,2,2,2,2,2,2,2,2,2,2,2,2,2,2,2,2,2,2,2,2,2,2,2,2,2,2,2,2,2,2,2,2,2,2,2,2,2,2,2,2,2,2,2,2,2,2,2,2,2,2,2,2,2,2,2,2,2,2,2,2,2,2,2,2,2,2,2,2,2,2,2,2,2,2,2,2,2,2,2,2,2,2,2,2,2,2,2,2,2,2,2,2,2,2,2,2,2,2,2,2,2,2,2,2,2,2,2,2,2,2,2,2,2,2,2,2,2,2,2,2,2,2,2,2,2,2,2,2,2,2,2,2,2,2,2,2,2,2,2,2,2,2,2,2,2,2,2,2,2,2,2,2,2,2,2,2,2,2,2,2,2,2,2,2,2,2,2,2,2,2,2,2,2,2,2,2,2,2,2,2,2,2,2,2,2,2,2,2,2,2,2,2,2,2,2,2,2,2,2,2,2,2,2,2,2,2,2,2,2,2,2,2,2,2,2,2,2,2,2,2,2,2,2,2,2,2,2,2,2,2,2,2,2,2,2,2,2,2,2,2,2,2,2,2,2,2,2,2,2,2,2,2,2,2,2,2,2,2,2,2,2,2,2,2,2,2,2,2,2,2,2,2,2,2,2,2,2,2,2,2,2,2,2,2,2,2,2,2,2,2,2,2,2,2,2,2,2,2,2,2,2,2,2,2,2,2,2,2,2,2,2,2,2,2,2,2,2,2,2,2,2,2,2,2,2,2,2,2,2,2,2,2,2,2,2,2,2,2,2,2,2,2,2,2,2,2,2,2,2,2,2,2,2,2,2,2,2,2,2,2,2,2,2,2,2,2,2,2,2,2,2,2,2,2,2,2,2,2,2,2,2,2,2,2,2,2,2,2,2,2,2,2,2,2,2,2,2,2,2,2,2,2,2,2,2,2,2,2,2,2,2,2,2,2,2,2,2,2,2,2,2,2,2,2,2,2,2,2,2,2,2,2,2,2,2,2,2,2,2,2,2,2,2,2,2,2,2,2,2,2,2,2,2,2,2,2,2,2,2,2,2,2,2,2,2,2,2,2,2,2,2,2,2,2,2,2,2,2,2,2,2,2,2,2,2,2,2,2,2,2,2,2,2,2,2,2,2,2,2,2,2,2,2,2,2,2,2,2,2,2,2,2,2,2,2,2,2,2,2,2,2,2,2,2,2,2,2,2,2,2,2,2,2,2,2,2,2,2,2,2,2,2,2,2,2,2,2,2,2,2,2,2,2,2,2,2,2,2,2,2,2,2,2,2,2,2,2,2,2,2,2,2,2,2,2,2,2,2,2,2,2,2,2,2,2,2,2,2,2,2,2,2,2,2,2,2,2,2,2,2,2,2,2,2,2,2,2,2,2,2,2,2,2,2,2,2,2,2,2,2,2,2,2,2,2,2,2,2,2,2,2,2,2,2,2,2,2,2,2,2,2,2,2,2,2,2,2,2,2,2,2,2,2,2,2,2,2,2,2,2,2,2,2,2,2,2,2,2,2,2,2,2,2,2,2,2,2,2,2,2,2,2,2,2,2,2,2,2,2,2,2,2,2,2,2,2,2,2,2,2,2,2,2,2,2,2,2,2,2,2,2,2,2,2,2,2,2,2,2,2,2,2,2,2,2,2,2,2,2,2,2,2,2,2,2,2,2,2,2,2,2,2,2,2,2,2,2,2,2,2,2,2,2,2,2,2,2,2,2,2,2,2,2,2,2,2,2,2,2,2,2,2,2,2,2,2,2,2,2,2,2,2,2,2,2,2,2,2,2,2,2,2,2,2,2,2,2],\"x0\":\" \",\"xaxis\":\"x\",\"y\":[0.0,334.4,89.0,1079.4,459.4,189.9,320.69,364.6,1628.12,1839.31,401.9,84.3,225.6,681.0799999999999,562.41,1760.96,582.73,173.55,476.49,197.88,334.93,416.79,2089.68,-1126.0,-4.5,73.5,176.5,1017.68,383.7,207.79999999999998,95.19999999999999,168.0,536.21,238.85,456.9,131.17,160.54000000000002,218.45,415.7,511.36,1982.81,452.84999999999997,569.5600000000001,-7.5,315.6,180.1,305.1,2614.32,486.1,318.05,114.0,914.53,61.75,-227.44,225.89999999999998,89.14,389.01,603.42,427.8,236.26000000000002,383.95,110.39999999999999,779.5699999999999,234.0,155.35,2949.12,2203.2,1693.88,1143.6,1351.45,324.92,192.60000000000002,400.53999999999996,545.48,194.18,412.58,484.36,514.85,166.04,1517.88,92.72,253.05,215.05,417.38,312.38,134.1,354.09,299.75,38.1,1106.4,147.12,559.12,1607.0600000000002,-14.899999999999999,599.97,374.0,343.2300000000001,298.0,313.77,331.0,216.5,138.68,363.65,405.38,-3.75,462.95,108.07,144.8,738.6,39.239999999999995,377.2,535.32,455.88,120.94999999999999,468.95,178.46999999999997,50.550000000000004,190.55,471.57,560.47,348.15000000000003,183.4,307.53,346.98,205.86,228.8,177.15,58.08,272.38,101.19,350.06,30.599999999999998,254.73,77.3,109.8,3096.0,110.95,1250.3700000000001,-611.86,112.75,414.7,71.4,236.02,60.7,333.74,847.41,163.20000000000002,108.21000000000001,257.7,160.95,101.17000000000007,329.56,600.07,1030.4,944.1,200.29,590.0,196.15,361.11,873.74,197.95000000000002,87.4,142.5,365.29,63.75,300.42,1308.48,431.82,860.12,775.85,303.93,377.6,609.95,439.03,623.4,263.75,721.32,222.99,534.57,59.8,307.72,457.34,283.71,590.0,356.97999999999996,143.25,229.59,1431.78,1092.77,291.0,184.64,313.8,454.24,618.63,316.26000000000005,321.05,1310.47,452.82,110.97,251.21,483.8,270.79,91.80000000000001,141.85999999999999,192.85,239.49,1384.25,118.0,781.03,142.4,219.52,399.99,177.34,257.23,354.8,346.6,379.65,1550.85,189.47,-71.46,486.82000000000005,232.6,59.5,64.23,72.0,-32.0,308.58000000000004,99.5,330.79,806.41,296.88,252.06,228.84,1053.94,138.28,306.55,199.85000000000002,610.59,339.59999999999997,350.75,291.54,79.6,296.25,741.26,282.59999999999997,3.552713678800501e-15,127.84,230.39999999999998,558.32,277.07,112.6,155.05,591.75,1140.35,174.65,-102.0,384.8,271.24,85.0,363.4,201.16,299.56,540.45,506.8,349.55,821.1,155.93,740.95,172.25,802.85,307.4,922.1,361.28,158.85,102.0,674.45,3246.091,322.96,-102.45,664.54,80.7,264.7,357.98,311.3,633.71,685.9300000000001,328.8,631.9,440.0,626.65,147.20000000000002,141.41,154.99,375.13,183.6,152.55,265.85,904.67,182.25,76.32000000000001,216.20999999999998,386.53,90.0,-19.9,483.86,311.81,157.2,259.43,1345.62,118.75,1110.52,289.36,122.53999999999999,574.0,197.65,962.7,185.39999999999998,308.26,-1192.2,632.4,683.17,822.0600000000001,161.0,146.85,213.70000000000002,280.55,1677.48,136.76999999999998,302.58,935.0600000000001,120.0,319.47,492.65000000000003,112.32,134.04,413.85,197.1,229.71,343.11,166.85,311.65,554.22,289.90999999999997,134.7,409.57,258.7,51.0,1078.96,90.6,174.4,155.0,100.5,76.55,257.68,617.05,142.4,67.95,1063.0,122.7,265.2,397.76,-43.400000000000006,131.9,2661.24,483.25,119.93,113.64,1058.6200000000001,215.7,316.25,636.51,129.2,463.38,340.93,538.8100000000001,457.47,275.28,932.85,171.8,103.25,652.8,289.24,165.07,218.06,35.400000000000006,1029.26,134.16,39.75,393.33000000000004,660.0,406.08000000000004,379.51,393.28000000000003,320.58000000000004,848.48,-21.85,114.56,344.90000000000003,668.61,597.09,243.22,291.05,1269.99,411.53,765.55,-2.55,52.0,112.8,172.9,188.60999999999999,109.13000000000001,179.0,187.92000000000002,268.58,313.49,1423.21,294.3,53.8,300.52,876.42,386.15,200.10000000000002,131.45000000000002,845.55,155.43,271.85,1110.34,48.800000000000004,321.43,2139.76,62.85,309.4,278.15,701.33,327.25,519.68,364.8,369.2,135.9,125.65,554.38,468.77000000000004,599.9,977.77,310.05,363.53,1784.71,58.49,499.68,126.7,206.21,102.12,296.75,334.54,429.87,156.91,170.04,266.0,4464.1,180.35,135.93,633.66,343.62,121.17000000000002,215.78,1489.5,370.79999999999995,1109.53,106.2,880.85,893.66,88.2,306.94,381.32,457.81,649.5,635.1,1002.54,247.66,463.75,266.4,330.11,127.15,178.96,259.45,1313.66,608.65,158.16,487.75,163.0,1034.5,135.75,40.5,87.5,622.85,316.58,331.18,88.94999999999999,325.05,305.75,114.1,585.0,454.90000000000003,310.48,409.40000000000003,154.41,429.6,197.0,2247.51,321.05,514.15,98.45,232.14999999999998,623.16,178.95000000000002,119.3,277.40999999999997,113.12,180.94,574.02,302.27,327.97,165.0,204.5,311.71,1661.06,1028.56,351.67,252.42000000000002,201.60000000000002,473.81,115.65,777.02,418.92,318.05,-1592.49,596.85,635.76,394.14,140.54,500.0,107.45,94.0,626.77,349.1,267.18,190.53,572.8100000000001,97.7,383.34,200.16,594.0,113.5,155.17,494.64,179.1,447.22,237.07,216.76,1048.85,233.81,147.09,492.36,1000.27,250.0,121.0,267.03,229.33,459.9,110.92,127.86,90.12,217.2,134.55,702.25,258.88,127.1,455.3,456.58,-30.19,104.76,270.03000000000003,301.03,-94.0,647.4,425.14000000000004,599.9,816.0,511.32,958.9,309.8,76.32000000000001,173.05,136.8,409.98,664.03,211.5,143.1,133.25,346.75,150.3,203.1,212.3,62.0,294.12,162.3,79.2,253.04,104.9,1021.61,475.28000000000003,351.3,610.01,-451.42,3724.77,1303.9099999999999,206.98,-840.76,532.94,836.79,118.95000000000002,160.71,149.64,313.28000000000003,438.24,495.36,446.87,524.52,263.55,179.17,222.05,56.25,191.94,264.62,123.1,334.23,167.5,336.03000000000003,363.6,127.08,207.15,416.86,31.799999999999997,325.1,181.0,314.1,99.77000000000002,430.94,101.4,407.5,628.28,331.24,437.7,855.02,137.9,134.8,-29.95,335.32,372.09,584.3199999999999,94.35,79.2,436.18,315.06,320.62,185.04999999999998,336.96,611.88,195.73999999999998,161.38,135.75000000000003,592.88,232.21,187.15,289.35,517.55,-7.95,535.34,175.2,734.13,76.32000000000001,1829.04,348.2,37.4,441.59999999999997,197.9,314.45,365.27,1062.75,914.9300000000001,259.39000000000004,846.72,255.12,308.32000000000005,542.03,1522.75,114.56,389.44,-295.09,732.63,46.95,-31.65,1141.24,357.95,559.87,810.6000000000001,168.3,142.5,275.4,602.27,226.37,404.40000000000003,1038.46,207.50000000000003,214.79999999999998,109.95,101.10000000000001,53.5,153.9,210.32000000000002,676.2,362.95,94.36,221.19,299.6,161.04999999999998,167.25,82.56,302.7,241.06,642.81,188.89000000000001,674.69,311.92,208.36,151.42,223.95000000000002,314.86,139.35,379.4,826.53,86.12,319.1,363.7,248.1,162.7,1036.6200000000001,290.36,455.25,339.3,-95.93,379.73,173.7,865.6,-30.599999999999998,70.44,233.45,463.95,225.15,140.7,75.66,120.99000000000001,506.19,151.85,204.41,129.45,333.08,217.9,487.51,833.78,214.06,123.24,39.12,135.39999999999998,129.75,1276.0,112.75,1998.0,911.53,319.8000000000001,623.75,292.47,775.07,272.82,3.75,312.55,207.5,2002.4,239.4,106.83000000000001,594.9,34.0,1145.6,380.39,294.65,110.38000000000001,414.88,867.83,460.59,275.64,479.35,358.38,197.22,199.15,413.46,582.9,124.57,332.41,345.89000000000004,207.73999999999998,276.73,1578.67,145.93,213.03,113.44,391.52,230.25,816.73,406.48,493.67,416.64,110.55000000000001,201.19,319.02,251.51999999999998,1078.96,179.0,-1.25,702.0,287.02000000000004,154.82999999999998,388.33,642.02,247.14000000000001,234.24,534.47,-112.35,270.20000000000005,25.5,665.78,163.29999999999998,116.19999999999999,157.02,307.46,345.29999999999995,298.89,157.09,380.5,465.32,579.0,1503.5,158.68,224.91,59.9,306.13,711.79,203.95,262.62,1352.91,226.85,113.5,426.79,393.49,3466.67,149.89000000000001,379.95,171.45,283.28000000000003,63.440000000000005,1065.3500000000001,246.04,550.8000000000001,250.04,-152.64000000000001,96.8,306.6,193.64,110.75,178.22,365.85,312.23,168.4,495.77,372.5,508.8,457.91,203.86999999999998,1928.72,32.65,771.85,403.3,378.3,177.1,534.24,120.9,-4287.63,517.53,131.7,249.86,289.96000000000004,710.29,396.87,374.57,271.05,622.88,288.6,2745.2799999999997,1145.84,605.58,387.31,153.94,145.0,422.70000000000005,164.4,76.5,170.75,-11.8,-141.48,267.16,306.84,157.9,344.14,185.65,124.74,215.72,175.27,2044.3700000000001,116.00999999999999,309.36,571.1999999999999,218.52,503.59999999999997,108.5,101.55,995.6600000000001,117.55,205.7,298.11,290.40000000000003,283.12,338.95,154.95,417.95,885.19,152.4,267.08,137.45,153.0,326.4,139.35,303.97,98.8,674.52,80.64,15.0,371.88,1143.27,56.4,188.02,225.9,350.39,-24.05,889.24,205.48,605.8000000000001,311.26,208.97,148.21,252.8,330.9,325.7,155.9,658.26,237.61,178.51999999999998,458.92,133.35000000000002,203.87,602.09,203.85999999999999,112.25,541.1,155.8,15.0,72.9,243.28,295.61,207.50000000000003,244.08,99.14,149.57999999999998,358.56000000000006,557.3,12.75,73.78,102.83,123.07,277.35,228.2,582.59,136.04,353.19,300.91999999999996,811.45,152.68,198.57,630.84,93.35,76.1,169.47,252.24,174.8,102.78999999999999,187.29,236.77999999999997,73.5,70.02,172.29000000000002,74.4,363.65,720.52,101.69999999999999,453.0,-5.329070518200751e-15,489.6,336.13,689.95,101.34,580.0500000000001,430.7,264.65,76.32000000000001,220.1,181.12,111.15,673.1,112.55000000000001,715.4999999999999,152.65,-35.400000000000006,1014.9,160.35000000000002,530.15,302.46000000000004,1133.64,448.65,600.52,304.25,274.51,207.79999999999998,212.96,1396.99,160.42000000000002,248.42,232.48000000000002,626.38,297.78000000000003,158.95000000000002,93.75,2066.17,440.0,1561.6100000000001,342.92,-50.1,149.48,138.9,180.60000000000002,80.82],\"y0\":\" \",\"yaxis\":\"y\",\"type\":\"box\"},{\"alignmentgroup\":\"True\",\"hovertemplate\":\"ClusterID=%{x}<br>Amount=%{y}<extra></extra>\",\"legendgroup\":\"0\",\"marker\":{\"color\":\"#EF553B\"},\"name\":\"0\",\"notched\":false,\"offsetgroup\":\"0\",\"orientation\":\"v\",\"showlegend\":true,\"x\":[0,0,0,0,0,0,0,0,0,0,0,0,0,0,0,0,0,0,0,0,0,0,0,0,0,0,0,0,0,0,0,0,0,0,0,0,0,0,0,0,0,0,0,0,0,0,0,0,0,0,0,0,0,0,0,0,0,0,0,0,0,0,0,0,0,0,0,0,0,0,0,0,0,0,0,0,0,0,0,0,0,0,0,0,0,0,0,0,0,0,0,0,0,0,0,0,0,0,0,0,0,0,0,0,0,0,0,0,0,0,0,0,0,0,0,0,0,0,0,0,0,0,0,0,0,0,0,0,0,0,0,0,0,0,0,0,0,0,0,0,0,0,0,0,0,0,0,0,0,0,0,0,0,0,0,0,0,0,0,0,0,0,0,0,0,0,0,0,0,0,0,0,0,0,0,0,0,0,0,0,0,0,0,0,0,0,0,0,0,0,0,0,0,0,0,0,0,0,0,0,0,0,0,0,0,0,0,0,0,0,0,0,0,0,0,0,0,0,0,0,0,0,0,0,0,0,0,0,0,0,0,0,0,0,0,0,0,0,0,0,0,0,0,0,0,0,0,0,0,0,0,0,0,0,0,0,0,0,0,0,0,0,0,0,0,0,0,0,0,0,0,0,0,0,0,0,0,0,0,0,0,0,0,0,0,0,0,0,0,0,0,0,0,0,0,0,0,0,0,0,0,0,0,0,0,0,0,0,0,0,0,0,0,0,0,0,0,0,0,0,0,0,0,0,0,0,0,0,0,0,0,0,0,0,0,0,0,0,0,0,0,0,0,0,0,0,0,0,0,0,0,0,0,0,0,0,0,0,0,0,0,0,0,0,0,0,0,0,0,0,0,0,0,0,0,0,0,0,0,0,0,0,0,0,0,0,0,0,0,0,0,0,0,0,0,0,0,0,0,0,0,0,0,0,0,0,0,0,0,0,0,0,0,0,0,0,0,0,0,0,0,0,0,0,0,0,0,0,0,0,0,0,0,0,0,0,0,0,0,0,0,0,0,0,0,0,0,0,0,0,0,0,0,0,0,0,0,0,0,0,0,0,0,0,0,0,0,0,0,0,0,0,0,0,0,0,0,0,0,0,0,0,0,0,0,0,0,0,0,0,0,0,0,0,0,0,0,0,0],\"x0\":\" \",\"xaxis\":\"x\",\"y\":[4310.0,6207.67,6245.53,5154.58,3545.69,4008.62,11056.93,3578.8,7877.2,6416.39,5059.32,13375.87,7829.89,4896.66,5005.46,4067.29,8933.52,6229.48,2848.23,7116.47,6546.58,13117.01,3281.63,5590.86,4495.27,5417.93,3723.87,2464.89,4485.72,4106.82,3852.5,13309.039999999999,3652.25,11990.960000000001,3781.7400000000002,9114.94,4064.9900000000002,7187.34,9861.38,3683.13,3218.98,13612.07,6388.35,4478.53,5953.25,3982.72,3817.08,3743.18,13677.59,12288.22,8221.09,4873.8099999999995,4867.99,6814.24,9294.1,4241.63,4708.86,5713.28,3947.7,9120.39,4196.01,3868.2,4227.7,6989.63,3868.7,6977.04,6748.4,5583.62,3876.4,2162.68,3986.22,11581.8,4143.02,4734.26,3979.04,10930.26,7092.06,6854.51,9797.92,5613.43,4786.99,3346.28,7272.75,6912.0,3079.1,5684.61,3717.82,12432.28,8689.39,7741.47,5893.32,6336.29,10510.0,3866.33,3605.08,5055.79,3348.48,2817.03,5725.47,3384.09,9803.96,5820.16,6083.04,2763.41,3717.67,4404.44,3167.64,5315.92,2709.12,5815.49,10664.34,7072.8,3536.82,10736.48,3085.4900000000002,3312.25,3626.81,4122.28,5845.44,3550.7000000000003,3408.06,3465.67,2916.45,9537.92,5656.75,2531.58,8910.61,4282.88,1093.65,3755.38,2263.76,5613.08,3448.29,4149.28,2092.32,6703.3,5030.6,7792.36,6216.07,2202.31,6249.110000000001,2766.18,3102.42,2154.68,5145.12,4014.91,3385.62,8025.0199999999995,3104.95,6389.8,3219.77,8986.69,2503.23,7024.53,4098.8,3865.26,4582.64,4328.46,2360.09,3542.19,5639.15,6147.4,6135.38,10464.85,1307.41,4435.79,4063.1,3092.9700000000003,5976.79,5669.65,3580.13,4690.31,2949.57,1620.93,4640.77,4604.31,4660.01,11216.75,3427.85,3315.71,12650.08,3957.0,3729.34,4595.81,3873.3,4819.33,2995.72,4928.74,9167.82,3172.04,4592.47,3471.91,4039.98,5811.56,4263.64,3918.9,2255.51,1039.58,1965.9,1936.84,2351.02,3543.26,2012.17,4221.37,2925.91,4075.35,2841.09,2487.02,3986.7400000000002,2381.04,4709.22,2803.69,1052.55,1598.24,11341.1,2952.34,1947.55,2456.53,9231.2,1236.28,5107.38,2486.2200000000003,3250.64,1546.91,4911.14,2838.2,2664.2599999999998,1158.3,2005.06,9451.54,5807.6900000000005,4965.38,4236.34,2175.37,2087.88,7904.28,11020.26,2744.48,3478.85,8117.42,5842.95,7912.79,7006.58,1872.28,6763.16,2571.02,4277.66,7629.38,5064.01,2124.9900000000002,9623.35,4410.14,2760.56,11117.05,6530.04,5303.97,4684.24,4670.08,7521.17,5756.89,6657.36,10327.11,2485.82,7803.7699999999995,4596.51,3610.31,3774.1,5028.12,1862.14,2766.5,8234.8,3631.8900000000003,5927.86,3974.37,1429.9,1483.14,1122.53,3212.16,1388.37,6945.0199999999995,6568.72,3563.11,1967.25,12396.46,5541.46,2963.19,2574.65,3967.78,2007.44,1517.08,3542.51,4954.84,4109.97,2552.86,6745.36,10360.04,3224.53,3147.31,12433.34,3324.09,2981.5,6423.6,3329.7200000000003,5178.96,4788.77,2451.23,2628.93,3245.47,4834.2,3848.55,5452.17,2084.9,3650.87,3000.36,3797.79,4330.67,5126.34,1232.18,6102.26,4389.81,3429.55,2816.97,2756.82,3084.17,12393.7,1701.94,3362.71,3450.2400000000002,1111.79,2806.9,1337.48,1667.97,6287.77,3741.98,5352.97,10217.48,6617.65,3991.94,6841.24,4913.32,3693.81,2607.87,3598.26,2609.3,5203.51,5423.15,5305.83,3085.96,3844.22,6675.71,3411.69,2941.05,4061.24,2028.88,1908.25,3640.67,3482.7400000000002,1811.47,9295.67,11895.57,6748.8,2266.25,5664.57,3313.79,8257.04,3622.95,4073.28,3038.67,5450.96,4379.65,6654.26,3794.52,8568.24,4022.46,8093.59,3013.83,3043.48,5040.0,5150.2699999999995,2483.04,3645.43,6840.2300000000005,3278.36,4711.21,7076.28,7170.7,6694.31,2758.25,5580.6,2246.81,10454.05,1706.28,1201.51,1692.98,6500.6,3317.97,3167.73,10183.82,7066.31,3754.27,3085.48,1510.06,2596.45,6666.83,2781.5,1903.13,3049.88,1894.11,4345.5,4392.42,5461.62,3989.57,8574.11,5594.78,3228.84,3095.04,5116.13,4531.34,3802.81,10380.43,10585.57,3518.03,2095.13,3563.85,2299.67,1960.72,3198.25,3127.82,3744.65,8628.55,1641.68,8600.73,6204.46,1944.32,11891.18,2611.58,4455.73,4801.56,3925.92,7330.8,6838.34,4200.97,5022.26,2504.86,6100.74,3540.1,2385.0,4012.56,1498.51,3457.78,10736.11,2404.17,3911.56,2827.93,5050.77,3947.87,4509.37,2047.0,2361.9700000000003,3886.67,4737.13,5739.46,4748.45,10097.37,5505.79,5367.8,3371.13,5288.83,13110.02,3456.7000000000003,3960.63,3026.08,1714.6,5288.63,5155.66,2059.2,10158.54,1889.4,4204.1,2295.37,2622.57,4393.61,4161.14,6752.14,2021.82,2633.0099999999998,9065.76,7925.32,1418.03,1826.21,8393.22,2861.55,7490.17,5083.06,6315.2300000000005,5361.02,5192.1,7276.900000000001,3064.78],\"y0\":\" \",\"yaxis\":\"y\",\"type\":\"box\"},{\"alignmentgroup\":\"True\",\"hovertemplate\":\"ClusterID=%{x}<br>Amount=%{y}<extra></extra>\",\"legendgroup\":\"1\",\"marker\":{\"color\":\"#00cc96\"},\"name\":\"1\",\"notched\":false,\"offsetgroup\":\"1\",\"orientation\":\"v\",\"showlegend\":true,\"x\":[1,1,1,1,1,1,1,1,1,1,1,1,1,1,1,1,1,1,1,1,1,1,1,1,1,1,1,1,1,1,1,1,1,1,1,1,1,1,1,1,1,1,1,1,1,1,1,1,1,1,1,1,1,1,1,1,1,1,1,1,1,1,1,1,1,1,1,1,1,1,1,1,1,1,1,1,1,1,1,1,1,1,1,1,1,1,1,1,1,1,1,1,1,1,1,1,1,1,1,1,1,1,1,1,1,1,1,1,1,1,1,1,1,1,1,1,1,1,1,1,1,1,1,1,1,1,1,1,1,1,1,1,1,1,1,1,1,1,1,1,1,1,1,1,1,1,1,1,1,1,1,1,1,1,1,1,1,1,1,1,1,1,1,1,1,1,1,1,1,1,1,1,1,1,1,1,1,1,1,1,1,1,1,1,1,1,1,1,1,1,1,1,1,1,1,1,1,1,1,1,1,1,1,1,1,1,1,1,1,1,1,1,1,1,1,1,1,1,1,1,1,1,1,1,1,1,1,1,1,1,1,1,1,1,1,1,1,1,1,1,1,1,1,1,1,1,1,1,1,1,1,1,1,1,1,1,1,1,1,1,1,1,1,1,1,1,1,1,1,1,1,1,1,1,1,1,1,1,1,1,1,1,1,1,1,1,1,1,1,1,1,1,1,1,1,1,1,1,1,1,1,1,1,1,1,1,1,1,1,1,1,1,1,1,1,1,1,1,1,1,1,1,1,1,1,1,1,1,1,1,1,1,1,1,1,1,1,1,1,1,1,1,1,1,1,1,1,1,1,1,1,1,1,1,1,1,1,1,1,1,1,1,1,1,1,1,1,1,1,1,1,1,1,1,1,1,1,1,1,1,1,1,1,1,1,1,1,1,1,1,1,1,1,1,1,1,1,1,1,1,1,1,1,1,1,1,1,1,1,1,1,1,1,1,1,1,1,1,1,1,1,1,1,1,1,1,1,1,1,1,1,1,1,1,1,1,1,1,1,1,1,1,1,1,1,1,1,1,1,1,1,1,1,1,1,1,1,1,1,1,1,1,1,1,1,1,1,1,1,1,1,1,1,1,1,1,1,1,1,1,1,1,1,1,1,1,1,1,1,1,1,1,1,1,1,1,1,1,1,1,1,1,1,1,1,1,1,1,1,1,1,1,1,1,1,1,1,1,1,1,1,1,1,1,1,1,1,1,1,1,1,1,1,1,1,1,1,1,1,1,1,1,1,1,1,1,1,1,1,1,1,1,1,1,1,1,1,1,1,1,1,1,1,1,1,1,1,1,1,1,1,1,1,1,1,1,1,1,1,1,1,1,1,1,1,1,1,1,1,1,1,1,1,1,1,1,1,1,1,1,1,1,1,1,1,1,1,1,1,1,1,1,1,1,1,1,1,1,1,1,1,1,1,1,1,1,1,1,1,1,1,1,1,1,1,1,1,1,1,1,1,1,1,1,1,1,1,1,1,1,1,1,1,1,1,1,1,1,1,1,1,1,1,1,1,1,1,1,1,1,1,1,1,1,1,1,1,1,1,1,1,1,1,1,1,1,1,1,1,1,1,1,1,1,1,1,1,1,1,1,1,1,1,1,1,1,1,1,1,1,1,1,1,1,1,1,1,1,1,1,1,1,1,1,1,1,1,1,1,1,1,1,1,1,1,1,1,1,1,1,1,1,1,1,1,1,1,1,1,1,1,1,1,1,1,1,1,1,1,1,1,1,1,1,1,1,1,1,1,1,1,1,1,1,1,1,1,1,1,1,1,1,1,1,1,1,1,1,1,1,1,1,1,1,1,1,1,1,1,1,1,1,1,1,1,1,1,1,1,1,1,1,1,1,1,1,1,1,1,1,1,1,1,1,1,1,1,1,1,1,1,1,1,1,1,1,1,1,1,1,1,1,1,1,1,1,1,1,1,1,1,1,1,1,1,1,1,1,1,1,1,1,1,1,1,1,1,1,1,1,1,1,1,1,1,1,1,1,1,1,1,1,1,1,1,1,1,1,1,1,1,1,1,1,1,1,1,1,1,1,1,1,1,1,1,1,1,1,1,1,1,1,1,1,1,1,1,1,1,1,1,1,1,1,1,1,1,1,1,1,1,1,1,1,1,1,1,1,1,1,1,1,1,1,1,1,1,1,1,1,1,1,1,1,1,1,1,1,1,1,1,1,1,1,1,1,1,1,1,1,1,1,1,1,1,1,1,1,1,1,1,1,1,1,1,1,1,1,1,1,1,1,1,1,1,1,1,1,1,1,1,1,1,1,1,1,1,1,1,1,1,1,1,1,1,1,1,1,1,1,1,1,1,1,1,1,1,1,1,1,1,1,1,1,1,1,1,1,1,1,1,1,1,1,1,1,1,1,1,1,1,1,1,1,1,1,1,1,1,1,1,1,1,1,1,1,1,1,1,1,1,1,1,1,1,1,1,1,1,1,1,1,1,1,1,1,1,1,1,1,1,1,1,1,1,1,1,1,1,1,1,1,1,1,1,1,1,1,1,1,1,1,1,1,1,1,1,1,1,1,1,1,1,1,1,1,1,1,1,1,1,1,1,1,1,1,1,1,1,1,1,1,1,1,1,1,1,1,1,1,1,1,1,1,1,1,1,1,1,1,1,1,1,1,1,1,1,1,1,1,1,1,1,1,1,1,1,1,1,1,1,1,1,1,1,1,1,1,1,1,1,1,1,1,1,1,1,1,1,1,1,1,1,1,1,1,1,1,1,1,1,1,1,1,1,1,1,1,1,1,1,1,1,1,1,1,1,1,1,1,1,1,1,1,1,1,1,1,1,1,1,1,1,1,1,1,1,1,1,1,1,1,1,1,1,1,1,1,1,1,1,1,1,1,1,1,1,1,1,1,1,1,1,1,1,1,1,1,1,1,1,1,1,1,1,1,1,1,1,1,1,1,1,1,1,1,1,1,1,1,1,1,1,1,1,1,1,1,1,1,1,1,1,1,1,1,1,1,1,1,1,1,1,1,1,1,1,1,1,1,1,1,1,1,1,1,1,1,1,1,1,1,1,1,1,1,1,1,1,1,1,1,1,1,1,1,1,1,1,1,1,1,1,1,1,1,1,1,1,1,1,1,1,1,1,1,1,1,1,1,1,1,1,1,1,1,1,1,1,1,1,1,1,1,1,1,1,1,1,1,1,1,1,1,1,1,1,1,1,1,1,1,1,1,1,1,1,1,1,1,1,1,1,1,1,1,1,1,1,1,1,1,1,1,1,1,1,1,1,1,1,1,1,1,1,1,1,1,1,1,1,1,1,1,1,1,1,1,1,1,1,1,1,1,1,1,1,1,1,1,1,1,1,1,1,1,1,1,1,1,1,1,1,1,1,1,1,1,1,1,1,1,1,1,1,1,1,1,1,1,1,1,1,1,1,1,1,1,1,1,1,1,1,1,1,1,1,1,1,1,1,1,1,1,1,1,1,1,1,1,1,1,1,1,1,1,1,1,1,1,1,1,1,1,1,1,1,1,1,1,1,1,1,1,1,1,1,1,1,1,1,1,1,1,1,1,1,1,1,1,1,1,1,1,1,1,1,1,1,1,1,1,1,1,1,1,1,1,1,1,1,1,1,1,1,1,1,1,1,1,1,1,1,1,1,1,1,1,1,1,1,1,1,1,1,1,1,1,1,1,1,1,1,1,1,1,1,1,1,1,1,1,1,1,1,1,1,1,1,1,1,1,1,1,1,1,1,1,1,1,1,1,1,1,1,1,1,1,1,1,1,1,1,1,1,1,1,1,1,1,1,1,1,1,1,1,1,1,1,1,1,1,1,1,1,1,1,1,1,1,1,1,1,1,1,1,1,1,1,1,1,1,1,1,1,1,1,1,1,1,1,1,1,1,1,1,1,1,1,1,1,1,1,1,1,1,1,1,1,1,1,1,1,1,1,1,1,1,1,1,1,1,1,1,1,1,1,1,1,1,1,1,1,1,1,1,1,1,1,1,1,1,1,1,1,1,1,1,1,1,1,1,1,1,1,1,1,1,1,1,1,1,1,1,1,1,1,1,1,1,1,1,1,1,1,1,1,1,1,1,1,1,1,1,1,1,1,1,1,1,1,1,1,1,1,1,1,1,1,1,1,1,1,1,1,1,1,1,1,1,1,1,1,1,1,1,1,1,1,1,1,1,1,1,1,1,1,1,1,1,1,1,1,1,1,1,1,1,1,1,1,1,1,1,1,1,1,1,1,1,1,1,1,1,1,1,1,1,1,1,1,1,1,1,1,1,1,1,1,1,1,1,1,1,1,1,1,1,1,1,1,1,1,1,1,1,1,1,1,1,1,1,1,1,1,1,1,1,1,1,1,1,1,1,1,1,1,1,1,1,1,1,1,1,1,1,1,1,1,1,1,1,1,1,1,1,1,1,1,1,1,1,1,1,1,1,1,1,1,1,1,1,1,1,1,1,1,1,1,1,1,1,1,1,1,1,1,1,1,1,1,1,1,1,1,1,1,1,1,1,1,1,1,1,1,1,1,1,1,1,1,1,1,1,1,1,1,1,1,1,1,1,1,1,1,1,1,1,1,1,1,1,1,1,1,1,1,1,1,1,1,1,1,1,1,1,1,1,1,1,1,1,1,1,1,1,1,1,1,1,1,1,1,1,1,1,1,1,1,1,1,1,1,1,1,1,1,1,1,1,1,1,1,1,1,1,1,1,1,1,1,1,1,1,1,1,1,1,1,1,1,1,1,1,1,1,1,1,1,1,1,1,1,1,1,1,1,1,1,1,1,1,1,1,1,1,1,1,1,1,1,1,1,1,1,1,1,1,1,1,1,1,1,1,1,1,1,1,1,1,1,1,1,1,1,1,1,1,1,1,1,1,1,1,1,1,1,1,1,1,1,1,1,1,1,1,1,1,1,1,1,1,1,1,1,1,1,1,1,1,1,1,1,1,1,1,1,1,1,1,1,1,1,1,1,1,1,1,1,1,1,1,1,1,1,1,1,1,1,1,1,1,1,1,1,1,1,1,1,1,1,1,1,1,1,1,1,1,1,1,1,1,1,1,1,1,1,1,1,1,1,1,1,1,1,1,1,1,1,1,1,1,1,1,1,1,1,1,1,1,1,1,1,1,1,1,1,1,1,1,1,1,1,1,1,1,1,1,1,1,1,1,1,1,1,1,1,1,1,1,1,1,1,1,1,1,1,1,1,1,1,1,1,1,1,1,1,1,1,1,1,1,1,1,1,1,1,1,1,1,1,1,1,1,1,1,1,1,1,1,1,1,1,1,1,1,1,1,1,1,1,1,1,1,1,1,1,1,1,1,1,1,1,1,1,1,1,1,1,1,1,1,1,1,1,1,1,1,1,1,1,1,1,1,1,1,1,1,1,1,1,1,1,1,1,1,1,1,1,1,1,1,1,1,1,1,1,1,1,1,1,1,1,1,1,1,1,1,1,1,1,1,1,1,1,1,1,1,1,1,1,1,1,1,1,1,1,1,1,1,1,1,1,1,1,1,1,1,1,1,1,1,1,1,1,1,1,1,1,1,1,1,1,1,1,1,1,1,1,1,1,1,1,1,1,1,1,1,1,1,1,1,1,1,1,1,1,1,1,1,1,1,1,1,1,1,1,1,1,1,1,1,1,1,1,1,1,1,1,1,1,1,1,1,1,1,1,1,1,1,1,1,1,1,1,1,1,1,1,1,1,1,1,1,1,1,1,1,1,1,1,1,1,1,1,1,1,1,1,1,1,1,1,1,1,1,1,1,1,1,1,1,1,1,1,1,1,1,1,1,1,1,1,1,1,1,1,1,1,1,1,1,1,1,1,1,1,1,1,1,1,1,1,1,1,1,1,1,1,1,1,1,1,1,1,1,1,1,1,1,1,1,1,1,1,1,1,1,1,1,1,1,1,1,1,1,1,1,1,1,1,1,1,1,1,1,1,1,1,1,1,1,1,1,1,1,1,1,1,1,1,1,1,1,1,1,1,1,1,1,1,1,1,1,1,1,1,1,1,1,1,1,1,1,1,1,1,1,1,1,1,1,1,1,1,1,1,1,1,1,1,1,1,1,1,1,1,1,1,1,1,1,1,1,1,1,1,1,1,1,1,1,1,1,1,1,1,1,1,1,1,1,1,1,1,1,1,1,1,1,1,1,1,1,1,1],\"x0\":\" \",\"xaxis\":\"x\",\"y\":[1797.24,1757.55,1545.41,2811.43,1168.06,2662.06,552.0,1313.1,168.9,1887.96,1298.04,742.9300000000001,455.42,850.29,2720.56,1803.96,566.16,2780.66,549.84,460.89,1582.6000000000001,1272.48,2998.28,2409.9,1635.6599999999999,1108.65,409.7,1710.39,3280.75,1708.1200000000001,2842.57,1226.88,694.15,668.58,600.39,806.27,803.5600000000001,1849.11,777.2,708.37,3750.4,256.4,765.19,509.01,2906.85,172.06,133.4,1002.3100000000001,449.45,428.57,707.09,5.684341886080802e-14,2466.86,3153.89,1917.78,947.4,826.88,1124.01,1303.63,1212.05,733.89,724.0400000000001,723.38,680.99,477.3,2327.13,1298.66,460.40000000000003,263.21000000000004,1139.3500000000001,1043.1,403.70000000000005,4206.27,114.0,1258.06,398.27,982.5699999999999,138.03,586.79,1312.06,2056.89,340.84,2582.51,599.68,192.72,1745.57,1316.66,348.71000000000004,1922.28,1623.63,125.22,349.83000000000004,1089.18,716.35,363.95,981.18,355.7,1000.39,1141.5,964.83,437.82,603.71,1.0658141036401503e-14,2101.39,346.7,519.61,1004.72,1306.98,595.4,2753.36,410.72,197.71,1893.95,179.94000000000003,144.0,214.89999999999998,646.68,437.6,418.09999999999997,3320.2200000000003,618.27,3002.68,1032.58,2581.04,153.12,739.1999999999999,254.18,3.552713678800501e-15,1126.85,2057.99,1193.32,643.59,2291.19,657.25,355.53,177.31,3214.81,1339.41,641.13,769.61,1270.88,640.5,2140.63,1689.18,671.69,1174.58,185.9,1013.26,3344.64,477.91,1755.38,1346.97,3669.92,603.71,314.44,2209.85,601.98,1152.06,686.05,91.68,245.1,4863.88,620.13,1607.73,2986.15,610.52,1919.31,1331.39,1058.67,862.81,2283.63,2863.08,1247.61,1035.8,830.96,869.67,582.1,939.02,797.71,219.0,274.7,2220.84,2616.32,1130.57,848.55,353.86,1053.49,980.98,238.25,608.1,2628.98,904.33,725.07,1031.41,2609.1,836.33,453.01,1013.04,427.6,546.43,275.88,4366.78,112.07999999999998,2791.59,1531.44,1898.52,494.08,892.47,1351.24,804.23,707.72,2273.32,1603.87,574.42,305.71,463.66,91.85,860.41,430.48,483.65000000000003,229.64000000000001,125.92,1063.46,572.2,942.34,918.98,1759.5,397.12,1468.1200000000001,430.15000000000003,1018.71,383.03,2612.86,683.13,2714.27,1118.99,1680.76,325.96000000000004,871.54,1050.8899999999999,135.18,1881.7,1289.15,504.2,1548.07,380.64,2218.02,1535.77,841.64,552.5699999999999,1463.04,703.47,309.05,1158.27,1351.09,380.46999999999997,188.14,347.3,509.58,2919.81,246.0,2128.83,3075.04,1662.3,2483.63,2982.35,594.0,1301.44,164.23,176.97,929.95,694.05,2062.7000000000003,105.1,409.9,606.28,2156.45,1012.9,1504.27,114.14,876.29,683.9,604.51,1407.29,2053.7,1843.0,1042.07,1382.8400000000001,329.85,266.39,1841.03,771.91,160.18,1194.75,135.95,452.24,372.21999999999997,97.5,1215.6200000000001,545.0,409.5,503.76,414.76,902.22,200.72,1197.94,534.85,149.05,81.57,1311.6200000000001,3365.43,789.89,204.0,2584.4,689.9,936.15,659.68,1247.5,799.48,996.52,642.77,886.63,881.07,908.46,676.99,305.28000000000003,629.31,1805.91,656.6800000000001,1201.96,271.40000000000003,248.61,1119.49,430.9,115.46000000000001,344.0,919.61,729.27,220.10000000000002,3595.48,303.75,319.82,459.83,1708.8600000000001,74.39999999999999,207.35999999999999,243.94,1098.48,59.5,1524.07,766.84,1452.8700000000001,2205.63,485.19,984.91,1125.0,922.39,2056.29,259.17,64.0,1039.3,1740.63,2545.38,962.39,423.72,2385.8,307.09,614.77,228.91,712.8000000000001,1676.06,486.22,971.76,1721.57,1201.06,1379.75,91.8,1644.99,1021.48,791.33,1310.14,712.88,116.00999999999999,426.81,353.65,492.84,282.45,121.18,3957.78,1648.79,1539.69,114.60000000000001,260.68,911.94,117.88,1797.78,870.09,869.46,250.26000000000002,1205.9,353.48,1197.42,780.58,1518.43,133.62,62.63999999999999,819.2900000000001,2150.85,358.0,1357.6,605.12,727.27,680.83,663.65,270.40000000000003,121.74000000000001,430.5,1922.1,501.12,465.68,711.41,390.66,0.0,698.58,292.32,557.62,2107.66,178.26,276.56,138.98,590.9300000000001,258.4,542.73,126.30000000000001,814.86,1047.8400000000001,93.66,578.9399999999999,2089.85,360.0,618.09,2000.86,15.0,1367.6100000000001,1456.79,1083.63,598.57,1555.32,578.66,2140.07,640.76,1491.7,567.36,199.48000000000002,787.85,675.3,3617.57,740.4,1140.93,350.9,795.12,2543.72,341.36,233.76,247.32,910.72,373.94,389.28,743.53,674.7,768.24,431.26,992.5,0.0,2191.22,56.160000000000004,378.64,772.9,1019.76,572.56,627.15,797.96,544.08,2312.8,1325.29,1539.18,621.23,75.0,252.49,572.451,988.91,213.55,1390.5,712.5,640.83,221.06,140.35,1848.98,2601.55,1624.21,582.6,218.47,1006.8,648.6899999999999,1269.1,534.24,3794.4900000000002,196.89,296.64,1104.23,291.88,2043.7199999999998,1007.35,1737.8200000000002,183.44,1445.0,674.68,297.95,1083.71,165.0,417.54,1441.53,1776.81,140.34,1122.41,575.4,449.52,1215.82,1269.84,1990.1200000000001,617.93,1146.96,1136.77,292.0,216.85,295.93,2479.16,979.72,1785.16,205.1,152.20000000000002,891.12,1389.41,2109.07,659.4399999999999,110.80000000000001,3487.75,125.80000000000001,680.1800000000001,628.78,307.76,210.31,1280.85,605.84,291.41,626.99,682.41,916.12,3539.53,584.06,605.06,174.37,1799.33,777.53,647.74,240.22,874.71,373.75,294.4,732.0699999999999,1658.3,467.04,347.0,2445.12,379.65,1976.12,1117.13,247.95999999999998,1990.28,396.97,697.04,167.42000000000002,693.32,428.89,164.34,280.53999999999996,678.01,1115.43,1158.2,1610.46,544.18,213.85,672.44,1624.02,1995.68,3021.77,2117.02,1575.16,1071.03,941.62,810.5,122.64,1033.34,519.44,2597.52,252.1,1670.22,1809.34,94.2,1095.08,2707.33,932.97,382.14,2421.47,879.08,84.65,305.02,218.55,349.7,396.92,827.83,3119.44,910.0,172.25,1466.8700000000001,2504.13,151.29999999999998,2265.12,2295.31,711.86,180.48,1432.26,1041.68,799.9,524.14,2369.16,1809.81,1079.6599999999999,333.48,1016.14,752.6,491.86,724.0,216.9,666.33,1340.1499999999999,1156.36,948.25,1647.26,1186.28,3190.55,659.4100000000001,286.79,1070.65,1689.46,1521.76,2771.87,2631.7,1132.13,345.0,178.7,360.01,912.0,2462.79,309.04,348.8,1047.68,195.55,688.86,324.8,3906.27,2635.79,924.6,256.38,1747.66,899.51,539.0,1353.41,1562.12,555.04,382.98,385.64,632.0,957.66,1698.94,412.05,209.49,2202.99,40.949999999999996,834.57,691.73,361.62,312.98,847.61,1255.0,1537.95,1586.81,2651.46,1056.94,216.17,1240.0,2187.31,501.56,145.67000000000002,1015.29,3192.54,2751.25,381.7,1786.79,122.7,117.24,1281.53,1131.28,2538.75,781.3000000000001,243.56,605.63,416.90000000000003,1860.8600000000001,632.97,535.97,2588.12,311.16,388.52,2867.2,332.64,2347.05,2580.91,613.95,272.04,1212.8400000000001,350.15999999999997,351.13,1682.08,616.65,223.85000000000002,348.99,464.57,337.34,1230.93,608.7900000000001,71.66,556.75,839.14,4912.41,561.5699999999999,90.6,2427.32,728.56,3515.68,378.59,1026.42,598.2,230.22,169.55,2702.2200000000003,190.25,413.59000000000003,196.79000000000002,869.87,200.14,1861.11,2590.46,488.03,320.46,1266.08,850.63,76.8,3409.66,2313.14,1383.49,2030.3300000000002,529.73,2874.72,962.19,473.02,505.18,917.34,1398.96,642.8,584.07,327.7,104.82,467.66,2929.84,512.02,1428.02,1554.48,152.2,652.82,1659.75,1290.01,746.36,225.36,260.25,92.46,725.6400000000001,1188.32,374.7,139.54,942.26,122.47,499.41999999999996,1049.37,375.1,45.599999999999994,1018.43,181.67,161.0,442.85,147.35,194.9,1314.73,1260.33,2688.48,594.16,80.2,688.6,2774.17,1377.92,1382.74,2740.3,419.58000000000004,2740.43,643.6300000000001,709.71,637.5,1123.8600000000001,590.3399999999999,982.3800000000001,415.82,920.05,879.0300000000001,115.8,3148.2,468.4,658.64,611.09,400.43,507.66,2445.91,1631.77,574.84,363.79,450.84,134.46,3108.06,554.46,719.78,452.89,2018.91,853.39,335.52,663.5,688.04,161.03,218.78,151.74,2067.13,1900.89,2208.3,1070.48,1000.23,1777.92,1839.3,1925.3600000000001,169.48000000000002,89.94,975.23,1050.12,2201.64,1450.6,2043.93,1447.51,775.46,3093.86,490.86,2323.5,890.34,2535.88,1474.06,1904.05,2879.7000000000003,3087.27,1163.45,2618.23,530.18,1279.09,437.96,559.97,1019.39,578.45,1910.01,151.23000000000002,911.26,2307.4500000000003,1046.56,154.70000000000002,1284.06,2855.35,43.2,632.04,1803.76,2083.42,2319.68,1611.59,120.0,2456.98,508.58000000000004,1530.75,574.26,462.65999999999997,866.31,351.45,2539.46,468.26,1614.91,2166.38,607.71,889.9300000000001,108.97999999999999,1021.58,133.5,163.62,666.9399999999999,225.77,882.58,2128.23,161.2,3717.35,348.1,202.68,626.0699999999999,1247.69,202.11,1770.56,999.72,487.99,2556.68,559.7,1426.31,1434.72,156.75,2111.08,2606.53,1908.25,576.3,761.3299999999999,1485.1299999999999,490.22,1937.25,1058.06,385.87,813.11,322.08,363.34000000000003,1230.14,1372.8,89.06,2357.6800000000003,1545.14,1544.62,1400.88,1163.23,375.35,907.1,662.59,264.44,1837.92,383.34,2103.06,529.62,2272.4,598.76,461.19,234.34000000000003,537.71,799.82,1307.81,279.05,2068.15,321.92,165.75,1183.58,1047.43,2362.84,139.56,123.8,1957.32,815.32,356.85,190.31,673.26,1368.18,276.42,1267.4099999999999,438.49,1055.35,2102.09,330.45,174.37,270.6,974.54,241.09,1867.68,364.21999999999997,620.04,1812.6200000000001,355.56,388.25,537.48,996.26,1461.65,2916.17,2024.45,765.62,186.23,859.27,324.14,0.0,2174.18,1080.76,3073.77,1432.0,1524.46,227.39,1603.72,859.71,168.63,138.6,114.11,157.05,1447.14,570.46,617.99,379.83,1740.6,883.15,221.97,213.96,1785.15,601.56,538.59,1765.76,869.35,225.85,2757.07,671.96,939.21,1006.98,609.85,443.6,2042.15,110.46,96.12,780.46,1417.29,654.6,114.18,1930.15,838.27,247.15,285.74,107.95,771.17,637.89,1258.38,195.25,1736.4,604.75,2543.2400000000002,498.95,628.38,358.61,2114.33,582.05,2070.97,1250.76,2235.3,318.17,1096.67,606.13,917.07,160.19,867.38,329.68,1592.18,663.81,718.08,380.02,2686.34,1164.55,1289.94,3899.1,1400.34,1088.53,1167.16,1311.79,389.64,563.15,638.05,738.96,420.5,1484.06,1625.97,255.9,250.55,254.11,2423.07,139.5,139.26,1011.9,2195.58,-17.45,730.86,447.68,289.99,77.4,679.4399999999999,197.64,745.06,0.0,214.14,1272.11,173.74,157.7,193.14,353.27,554.65,193.39000000000001,778.5,657.8,272.07,507.29,1127.71,2226.91,644.65,197.13,1698.35,102.44999999999999,1641.2,3295.76,2456.8,3189.81,511.35,2836.69,463.05,2749.89,645.65,1311.3799999999999,1165.65,1352.04,168.62,125.79,841.1999999999999,266.76,52.2,2939.64,721.95,522.38,1448.72,1485.54,706.19,255.4,589.7,756.64,765.3199999999999,1862.0,1237.8500000000001,655.75,1366.38,1228.32,1414.99,314.11,1025.44,277.8,389.86,841.52,1227.43,258.83,1264.84,1610.15,1316.07,749.1,223.88,2372.86,964.6800000000001,1888.84,1617.63,100.9,290.82,1066.57,361.25,311.69,289.82,336.17,684.97,221.27,1487.8,599.0,191.32,463.8,147.59,1592.06,1116.57,114.77,1314.45,114.39,279.94,765.86,1931.42,213.27,326.4,233.23000000000002,540.98,490.52,1641.76,1246.32,502.09,1261.78,308.94,423.04,260.17,125.58,456.26,905.04,1661.33,377.01,469.0,1051.95,627.13,518.28,668.14,252.73000000000002,465.55,665.59,537.0,380.57,1727.17,1391.61,697.79,302.1,1325.82,303.09,987.86,3135.98,760.59,1744.76,553.36,982.07,612.43,748.87,773.03,487.35,1140.27,2420.84,476.96,1364.7,219.39000000000001,248.08,410.48,310.03,703.36,2298.93,1407.73,1291.75,970.25,1567.48,3439.41,340.11,1352.75,1550.13,244.8,343.82,457.72,1612.13,2199.31,184.19,406.53,1419.54,3447.4,977.9300000000001,982.42,1387.99,1282.45,2350.0,498.74,1194.73,301.29,520.8000000000001,329.25,240.27,961.49,1869.5,401.40000000000003,304.47,843.05,106.56,1624.05,224.14,2186.2,680.28,406.76,310.62,411.41,1044.32,499.32,3861.0,656.44,193.64,1268.7,927.84,1827.8,648.8299999999999,420.29999999999995,867.62,894.4100000000001,1661.44,615.99,96.6,1758.92,1219.4,3376.96,612.06,1412.32,1056.54,764.34,1685.57,1738.59,316.68,631.57,2515.84,356.0,740.78,915.3,300.36,890.85,1780.77,254.82,156.51,393.74,1506.1200000000001,1717.36,408.8,2298.2,721.94,716.57,609.19,135.31,255.89999999999998,2239.9500000000003,240.55,485.24,2306.52,935.1,635.04,3787.09,496.44,680.3,1174.35,205.3,921.1,52.0,551.54,312.62,267.13,2650.73,602.97,162.29,208.75,1005.5,714.96,173.97,557.57,2020.52,391.76,364.5,476.58,367.69,158.04,277.05,427.93,913.19,1330.45,602.51,1867.69,446.94000000000005,2360.55,2007.3999999999999,2213.11,168.0,1233.3600000000001,1682.3600000000001,316.88,1515.73,231.86,2183.54,288.18,1339.63,815.77,666.7,426.61,1056.44,3450.84,1346.38,774.9000000000001,508.8,135.86,950.36,43.5,93.78,364.90000000000003,171.19,417.87,997.48,149.29,156.57999999999998,383.68,1418.26,971.22,429.84,538.73,161.64,234.6,126.14,334.53,511.88,438.46,504.5,469.48,371.56,1465.2,454.10999999999996,1441.42,905.5,2575.0,91.32000000000001,1090.03,3090.85,659.4599999999999,1299.23,1259.7,1131.56,52.83,3497.14,979.26,909.23,62.43,1911.89,343.5,398.84,412.01000000000005,440.0,811.02,148.44,2348.82,1502.35,746.92,538.46,213.3,85.13000000000001,292.71999999999997,1655.76,575.63,436.06,437.23,279.77,473.65000000000003,722.74,1319.69,173.16,186.01,758.29,1375.71,650.4300000000001,607.45,940.6700000000001,348.6,3429.9700000000003,682.9100000000001,722.61,913.6800000000001,388.58,199.8,1767.53,1343.34,315.71999999999997,235.68,761.74,1083.63,48.480000000000004,216.39,1198.23,2422.64,1093.68,112.46000000000001,1568.39,195.15,747.031,336.40000000000003,1524.4,1158.77,588.13,1504.56,675.8,2865.64,1180.4,243.55,724.76,223.36,425.32,1887.2,813.0,612.01,646.3,337.74,877.4399999999999,922.53,748.5,30.0,306.45,1552.01,138.14,358.63,2242.01,301.32,677.69,2635.4900000000002,2881.02,1744.02,323.69,657.23,352.7,781.28,1333.68,946.36,193.75,254.1,239.76,191.04,2644.46,309.65,1542.14,2293.62,1001.8100000000001,945.58,1072.3600000000001,330.88,1118.81,598.73,507.08,2181.21,415.25,-134.8,1108.38,1339.45,1121.21,449.12,154.88,784.46,34.8,1071.24,182.96,974.04,149.31,455.67,2318.88,532.96,714.42,205.25,583.75,1048.67,315.06,581.8299999999999,635.6800000000001,270.8,241.62,333.56,2593.94,246.3,2303.75,948.05,220.85,1604.44,948.96,2666.61,2207.4,884.14,699.08,1042.19,415.82000000000005,784.58,903.9,399.21,1145.43,2171.32,1801.14,1842.73,2100.6,1905.45,570.96,885.47,1649.3600000000001,1641.48,636.14,547.7,747.76,954.09,117.47,391.98,1020.74,345.66,1209.1,130.73999999999998,389.27,238.85,110.8,2974.65,712.24,297.0,1438.85,977.21,832.88,68.84,1769.7800000000002,895.13,230.53,354.09000000000003,360.93,440.78,396.48,379.35,181.09,141.27,1384.68,351.11,363.88,164.68,1521.79,967.45,1491.24,639.89,426.63,2461.85,1107.46,145.35,404.58,337.44,1708.24,955.24,364.72,1705.26,669.57,806.57,1634.53,428.89,104.35,470.76,845.64,418.83,582.9,4199.85,371.01,1054.73,1098.78,2398.86,3408.48,1475.02,1037.42,168.12,1451.28,158.03,792.11,41.989999999999995,427.07,1044.78,2735.37,615.39,478.78,992.71,1415.29,653.13,690.54,1483.31,211.88,408.90000000000003,851.01,719.81,251.24,439.65999999999997,236.09,852.12,548.94,758.92,454.33000000000004,1313.55,3166.4,1147.37,773.99,1340.7,243.69000000000003,362.06,1511.95,783.9,664.85,2140.2200000000003,1459.8600000000001,1153.62,1521.87,852.15,326.24,2173.53,1352.0,176.6,1317.62,981.51,1119.31,779.36,17.0,1041.83,2005.63,731.9,1245.96,1842.14,1429.64,302.36,108.38,3204.1600000000003,816.1,423.36,1294.14,867.11,684.4200000000001,307.78,656.25,1880.22,3506.54,603.69,709.38,635.41,703.77,620.4,2419.84,375.0,280.52,1906.07,1824.23,3024.62,644.24,1009.4499999999999,802.53,3770.6,1822.97,1880.4199999999998,73.2,1140.21,1406.57,1009.5500000000001,1037.59,331.95,215.83,305.54,338.71000000000004,1155.54,529.41,981.86,215.48,215.08,400.68100000000004,1080.6200000000001,1821.52,589.15,405.71,761.38,537.0600000000001,394.38,664.26,2262.62,542.77,681.19,159.0,242.35,3054.87,864.86,1295.3,1096.32,1010.6,983.23,422.13,858.41,432.2,372.9,409.1,1352.3600000000001,152.94,1800.07,3665.62,1035.45,746.83,861.89,667.65,1423.29,411.7,537.83,1496.68,2062.06,1531.51,823.97,280.9,2236.7400000000002,1328.55,598.2,212.82,361.21999999999997,2560.0,686.67,616.26,274.15000000000003,2755.56,1341.65,328.15,230.70000000000002,326.75,428.68,510.54,242.21,1583.2,151.05,549.07,1959.38,322.41,370.47999999999996,575.41,887.65,1469.45,1100.47,494.44,395.8,658.88,2024.95,1460.3700000000001,896.66,652.07,109.36000000000001,707.04,1540.42,327.3,804.49,497.43,1553.66,1320.56,367.93,473.03000000000003,977.52,2131.9,1780.59,668.36,584.5,555.89,317.2,1362.27,1412.06,1486.9,1631.15,408.57,303.93,443.05,163.07,2126.93,214.65,151.83,262.2,126.25,210.35,1026.99,675.27,959.48,346.12,-2.95,284.55,300.85,287.4,184.26,1522.25,798.35,381.2,616.79,638.77,230.51,2.8999999999941792,259.01,266.97,-8.15,1841.18,2158.37,814.72,102.0,1383.7,1314.68,1603.46,74.9,650.43,757.44,544.3,2494.46,331.0,300.83,769.29,220.62,363.65,492.2,731.5,1329.66,684.41,1562.22,2965.69,400.86,1421.43,484.38,777.6,90.30000000000001,950.26,874.59,1627.13,101.69999999999999,480.92,215.07999999999998,228.06,244.41,1244.59,1026.94,593.75,539.02,1388.81,119.62,922.12,641.55,285.89,281.85,816.51,511.12,1077.74,614.01,124.2,1285.22,999.7,648.41,451.44,313.62,908.03,459.24,213.5,330.03,181.09,360.16,250.15,90.04,813.52,244.79999999999998,494.72999999999996,482.47,1187.66,618.59,500.42,2630.64,178.96,813.48,810.5699999999999,322.8,2183.04,417.73,2878.15,1124.59,1676.47,1169.38,231.10000000000002,679.83,270.85999999999996,518.42,1166.92,594.97,933.62,810.4499999999999,118.98,570.13,306.71999999999997,1370.8700000000001,1692.27,319.61,1558.72,183.7,1770.34,1028.0,324.24,1260.86,303.26,208.63,482.01,657.9000000000001,531.35,656.63,3029.87,1651.03,301.71999999999997,1773.92,155.24,589.15,1382.02,1054.67,702.79,603.75,650.51,2269.21,417.59999999999997,0.0,2191.84,1304.76,826.96,1515.9,623.93,1764.72,223.92000000000002,1484.63,369.34000000000003,772.84,316.62,1501.38,458.04,744.9,171.59,654.92,1695.66,388.28,226.35,245.94,425.19,2242.25,107.6,597.48,80.8,1520.1200000000001,243.84,305.62,1201.49,332.3,536.99,801.49,1121.59,288.42,912.74,547.07,417.06,1446.95,497.61,460.64,775.1800000000001,341.7,128.5,325.91,1106.53,180.85,251.87,1774.62,1260.44,214.32,193.44,281.42,342.45,144.91000000000003,328.4,35.400000000000006,473.14,151.65,481.35,805.62,2761.4900000000002,680.02,2023.47,853.72,0.0,1519.08,432.0,705.12,429.84000000000003,471.51,194.88,809.7,496.84000000000003,219.14,444.46,1281.56,187.6900000000001,1706.88,373.24,579.77,981.65,364.14,2528.67,208.46,621.6800000000001,576.26,1043.34,169.79,739.5,543.05,1295.39,380.55,161.94,530.08,950.9300000000001,262.68,435.02,1161.27,1178.56,1262.75,167.61,20.8,2085.08,292.34,117.35000000000001,507.05,234.17,2148.47,439.43,650.41,232.20999999999998,344.33,1809.05,384.06,1920.2,1873.2,1625.05,126.12,1133.25,1601.8600000000001,1427.46,484.82,1487.78,1412.94,781.78,877.4300000000001,185.46,270.9,565.58,1842.56,920.1,1272.61,71.0,95.85,357.77,848.59,716.0,146.87,380.35,1030.14,734.5699999999999,1253.22,112.4,449.73,1065.77,1044.3799999999999,1735.18,897.4300000000001,339.44,1100.9,864.32,413.75,496.38,1353.83,1179.89,1421.59,859.35,2655.2200000000003,312.14,2385.48,1446.09,813.77,841.0799999999999,378.2,118.80000000000001,285.5,290.16,2003.85,1405.78,2949.75,1555.05,2050.08,1991.01,2041.8500000000001,1777.78,1088.2,992.6800000000001,937.92,971.74,1621.73,869.6800000000001,248.61,747.22,806.9000000000001,593.61,138.32,259.35,991.85,2463.17,4892.240000000001,425.0,1139.73,984.57,749.78,1679.64,124.88,213.78,329.34,251.70000000000002,306.55,1266.97,1534.73,1707.21,293.1,2466.4,189.49,816.88,313.26,3755.65,1430.94,780.38,239.92000000000002,3286.9100000000003,144.0,2275.58,384.40000000000003,249.74,1674.46,1013.01,692.22,342.63,384.08,204.24,2741.08,984.12,114.23,335.13,354.15,939.32,1906.09,318.76,421.52,190.88,550.06,916.13,314.69,1135.04,954.9,282.19,318.65,384.52,353.86,178.26,272.44,298.41,240.0,603.37,1253.3600000000001,562.9,310.64,317.62,763.64,2144.53,111.97999999999999,187.82999999999998,1703.41,153.92,1064.11,1419.73,936.16,525.24,1875.1100000000001,556.95,131.78,498.42,669.11,197.63,1119.93,82.75,1384.85,644.3,2288.13,2514.76,2524.02,1200.6200000000001,700.86,908.99,990.23,523.11,363.9,175.2,494.25,243.36,781.36,160.57,537.74,228.96,1159.52,1256.19,587.15,1740.0,1393.06,388.14,127.86,585.79,488.2,1349.52,446.18,423.89,1342.68,646.92,203.2,404.66,65.4,199.29,336.4,261.11,2686.42,784.11,1259.56,696.41,653.38,2129.96,2633.85,281.62,967.22,1214.72,748.94,1258.06,778.0,507.84,463.46000000000004,598.83,1853.1299999999999,663.63,759.17,100.8,512.12,265.76,365.76,303.15999999999997,2333.42,216.29999999999998,2210.2599999999998,2940.04,541.53,1648.95,486.71999999999997,1737.7,316.5,657.3,452.63,757.46,662.94,1881.36,763.28,137.0,1843.06,1125.07,194.37,506.51,1249.34,414.04,376.64,1926.8799999999999,3541.92,497.56,272.22,1138.0,689.1,558.96,294.29,308.48,2920.04,513.2,208.65,639.02,768.08,1839.07,546.81,721.9599999999999,1070.71,652.74,706.7,888.86,293.45,223.36,897.62,98.42,570.4,645.96,148.86,909.96,1487.6,1952.45,483.26,541.46,854.95,167.62,1107.38,454.01,901.21,226.75000000000003,362.9,440.2,1227.3,1133.07,1240.2,1479.22,2215.02,993.18,388.79,161.67000000000002,-1165.3,193.42,1103.92,1992.76,390.07,329.6,971.58,81.44,1336.1,527.0500000000001,843.48,75.75,1784.12,528.33,1242.34,265.93,547.0600000000001,621.66,712.29,2768.98,133.06,1789.55,861.74,166.08,1175.88,2571.7400000000002,1674.69,485.88,2954.75,196.0,1788.27,604.64,728.16,2055.51,347.75,3406.7200000000003,1284.08,3106.62,1622.22,551.04,1383.27,1992.1100000000001,184.4,2459.33,239.41,3191.53,733.4399999999999,187.02,765.34,2201.05,2508.89,1719.72,798.74,1781.12,385.1,522.91,1195.94,2380.64,3276.4000000000005,995.6500000000001,1042.55,2515.68,878.2,692.19,700.63,337.49,168.24,1863.35,2786.05,355.11,2291.08,64.65,1797.57,1739.92,834.99,287.59,712.78,818.8199999999999,271.2,2273.1800000000003,245.81,182.77,1215.46,665.86,642.17,283.47,131.94,278.74,1865.19,1117.9,1965.55,106.1,323.04,697.9,780.43,1199.01,1251.84,512.31,546.04,4627.62,732.16,36.56,387.68,3661.0699999999997,298.4,1995.46,1599.97,398.7,35.400000000000006,155.37,350.64,110.21000000000001,1560.53,2312.7,338.8,51.559999999999995,2033.1,901.1999999999999,114.34,1393.79,3160.0,597.5,622.75,428.18,1764.3600000000001,379.45,671.77,717.45,190.19,899.61,111.35,525.78,244.1,1119.81,98.0,256.32,152.06,110.38,178.92,800.24,366.23,411.6,336.43,341.28,1304.04,826.52,2894.33,397.29,212.54,834.5,1740.48,408.36,1331.57,704.25,145.79,389.84,4301.22,1983.5800000000002,304.56,77.50000000000001,176.68,472.12,990.8400000000001,111.68,508.4599999999999,1296.44,471.7,1098.43,337.04,740.79,288.14,737.81,634.95,20.8,191.17000000000002,629.6899999999999,1511.3,382.06,417.23,249.72,444.68,2116.19,166.42,120.03,1483.56,523.0,122.14,38.45,668.11,115.31,220.7,97.97,422.88,730.4,405.62,357.20000000000005,165.04999999999998,559.51,2085.65,189.4,297.07,170.16,296.71,2119.41,814.0,2380.08,318.0,396.33,3864.44,2538.7200000000003,3651.97,1231.5,343.45,703.37,87.52999999999999,3770.1199999999994,167.67000000000002,2083.42,3017.3,911.15,2692.85,168.31,223.65,754.64,113.48000000000002,206.05,352.69,320.72,589.4399999999999,1141.34,206.82999999999998,348.73,1045.74,681.9100000000001,761.83,1000.16,2888.75,179.33999999999997,612.0799999999999,566.58,653.35,399.19,347.82,734.94,451.75,638.0600000000001,1612.79,394.7,1355.51,202.65,980.31,1208.51,2106.84,104.0,1314.17,1573.41,1793.17,1843.75,382.8,49.8,1998.49,1084.34,957.97,896.0,689.13,163.8,1979.3,517.36,139.10000000000002,2621.38,600.07,299.34000000000003,481.75,621.75,2019.77,1033.31,443.0,769.2,2716.6000000000004,582.47,1796.48,882.24,987.1,422.58,2058.09,2232.4900000000002,2507.56,596.1,783.02,95.34,4314.72,526.67,103.3,2265.38,2338.6000000000004,2595.0,324.24,1211.08,801.51,0.0,238.95000000000002,204.0,1.7763568394002505e-15,323.36,97.63,173.9,176.6,1837.28],\"y0\":\" \",\"yaxis\":\"y\",\"type\":\"box\"}],                        {\"template\":{\"data\":{\"bar\":[{\"error_x\":{\"color\":\"#2a3f5f\"},\"error_y\":{\"color\":\"#2a3f5f\"},\"marker\":{\"line\":{\"color\":\"#E5ECF6\",\"width\":0.5},\"pattern\":{\"fillmode\":\"overlay\",\"size\":10,\"solidity\":0.2}},\"type\":\"bar\"}],\"barpolar\":[{\"marker\":{\"line\":{\"color\":\"#E5ECF6\",\"width\":0.5},\"pattern\":{\"fillmode\":\"overlay\",\"size\":10,\"solidity\":0.2}},\"type\":\"barpolar\"}],\"carpet\":[{\"aaxis\":{\"endlinecolor\":\"#2a3f5f\",\"gridcolor\":\"white\",\"linecolor\":\"white\",\"minorgridcolor\":\"white\",\"startlinecolor\":\"#2a3f5f\"},\"baxis\":{\"endlinecolor\":\"#2a3f5f\",\"gridcolor\":\"white\",\"linecolor\":\"white\",\"minorgridcolor\":\"white\",\"startlinecolor\":\"#2a3f5f\"},\"type\":\"carpet\"}],\"choropleth\":[{\"colorbar\":{\"outlinewidth\":0,\"ticks\":\"\"},\"type\":\"choropleth\"}],\"contour\":[{\"colorbar\":{\"outlinewidth\":0,\"ticks\":\"\"},\"colorscale\":[[0.0,\"#0d0887\"],[0.1111111111111111,\"#46039f\"],[0.2222222222222222,\"#7201a8\"],[0.3333333333333333,\"#9c179e\"],[0.4444444444444444,\"#bd3786\"],[0.5555555555555556,\"#d8576b\"],[0.6666666666666666,\"#ed7953\"],[0.7777777777777778,\"#fb9f3a\"],[0.8888888888888888,\"#fdca26\"],[1.0,\"#f0f921\"]],\"type\":\"contour\"}],\"contourcarpet\":[{\"colorbar\":{\"outlinewidth\":0,\"ticks\":\"\"},\"type\":\"contourcarpet\"}],\"heatmap\":[{\"colorbar\":{\"outlinewidth\":0,\"ticks\":\"\"},\"colorscale\":[[0.0,\"#0d0887\"],[0.1111111111111111,\"#46039f\"],[0.2222222222222222,\"#7201a8\"],[0.3333333333333333,\"#9c179e\"],[0.4444444444444444,\"#bd3786\"],[0.5555555555555556,\"#d8576b\"],[0.6666666666666666,\"#ed7953\"],[0.7777777777777778,\"#fb9f3a\"],[0.8888888888888888,\"#fdca26\"],[1.0,\"#f0f921\"]],\"type\":\"heatmap\"}],\"heatmapgl\":[{\"colorbar\":{\"outlinewidth\":0,\"ticks\":\"\"},\"colorscale\":[[0.0,\"#0d0887\"],[0.1111111111111111,\"#46039f\"],[0.2222222222222222,\"#7201a8\"],[0.3333333333333333,\"#9c179e\"],[0.4444444444444444,\"#bd3786\"],[0.5555555555555556,\"#d8576b\"],[0.6666666666666666,\"#ed7953\"],[0.7777777777777778,\"#fb9f3a\"],[0.8888888888888888,\"#fdca26\"],[1.0,\"#f0f921\"]],\"type\":\"heatmapgl\"}],\"histogram\":[{\"marker\":{\"pattern\":{\"fillmode\":\"overlay\",\"size\":10,\"solidity\":0.2}},\"type\":\"histogram\"}],\"histogram2d\":[{\"colorbar\":{\"outlinewidth\":0,\"ticks\":\"\"},\"colorscale\":[[0.0,\"#0d0887\"],[0.1111111111111111,\"#46039f\"],[0.2222222222222222,\"#7201a8\"],[0.3333333333333333,\"#9c179e\"],[0.4444444444444444,\"#bd3786\"],[0.5555555555555556,\"#d8576b\"],[0.6666666666666666,\"#ed7953\"],[0.7777777777777778,\"#fb9f3a\"],[0.8888888888888888,\"#fdca26\"],[1.0,\"#f0f921\"]],\"type\":\"histogram2d\"}],\"histogram2dcontour\":[{\"colorbar\":{\"outlinewidth\":0,\"ticks\":\"\"},\"colorscale\":[[0.0,\"#0d0887\"],[0.1111111111111111,\"#46039f\"],[0.2222222222222222,\"#7201a8\"],[0.3333333333333333,\"#9c179e\"],[0.4444444444444444,\"#bd3786\"],[0.5555555555555556,\"#d8576b\"],[0.6666666666666666,\"#ed7953\"],[0.7777777777777778,\"#fb9f3a\"],[0.8888888888888888,\"#fdca26\"],[1.0,\"#f0f921\"]],\"type\":\"histogram2dcontour\"}],\"mesh3d\":[{\"colorbar\":{\"outlinewidth\":0,\"ticks\":\"\"},\"type\":\"mesh3d\"}],\"parcoords\":[{\"line\":{\"colorbar\":{\"outlinewidth\":0,\"ticks\":\"\"}},\"type\":\"parcoords\"}],\"pie\":[{\"automargin\":true,\"type\":\"pie\"}],\"scatter\":[{\"marker\":{\"colorbar\":{\"outlinewidth\":0,\"ticks\":\"\"}},\"type\":\"scatter\"}],\"scatter3d\":[{\"line\":{\"colorbar\":{\"outlinewidth\":0,\"ticks\":\"\"}},\"marker\":{\"colorbar\":{\"outlinewidth\":0,\"ticks\":\"\"}},\"type\":\"scatter3d\"}],\"scattercarpet\":[{\"marker\":{\"colorbar\":{\"outlinewidth\":0,\"ticks\":\"\"}},\"type\":\"scattercarpet\"}],\"scattergeo\":[{\"marker\":{\"colorbar\":{\"outlinewidth\":0,\"ticks\":\"\"}},\"type\":\"scattergeo\"}],\"scattergl\":[{\"marker\":{\"colorbar\":{\"outlinewidth\":0,\"ticks\":\"\"}},\"type\":\"scattergl\"}],\"scattermapbox\":[{\"marker\":{\"colorbar\":{\"outlinewidth\":0,\"ticks\":\"\"}},\"type\":\"scattermapbox\"}],\"scatterpolar\":[{\"marker\":{\"colorbar\":{\"outlinewidth\":0,\"ticks\":\"\"}},\"type\":\"scatterpolar\"}],\"scatterpolargl\":[{\"marker\":{\"colorbar\":{\"outlinewidth\":0,\"ticks\":\"\"}},\"type\":\"scatterpolargl\"}],\"scatterternary\":[{\"marker\":{\"colorbar\":{\"outlinewidth\":0,\"ticks\":\"\"}},\"type\":\"scatterternary\"}],\"surface\":[{\"colorbar\":{\"outlinewidth\":0,\"ticks\":\"\"},\"colorscale\":[[0.0,\"#0d0887\"],[0.1111111111111111,\"#46039f\"],[0.2222222222222222,\"#7201a8\"],[0.3333333333333333,\"#9c179e\"],[0.4444444444444444,\"#bd3786\"],[0.5555555555555556,\"#d8576b\"],[0.6666666666666666,\"#ed7953\"],[0.7777777777777778,\"#fb9f3a\"],[0.8888888888888888,\"#fdca26\"],[1.0,\"#f0f921\"]],\"type\":\"surface\"}],\"table\":[{\"cells\":{\"fill\":{\"color\":\"#EBF0F8\"},\"line\":{\"color\":\"white\"}},\"header\":{\"fill\":{\"color\":\"#C8D4E3\"},\"line\":{\"color\":\"white\"}},\"type\":\"table\"}]},\"layout\":{\"annotationdefaults\":{\"arrowcolor\":\"#2a3f5f\",\"arrowhead\":0,\"arrowwidth\":1},\"autotypenumbers\":\"strict\",\"coloraxis\":{\"colorbar\":{\"outlinewidth\":0,\"ticks\":\"\"}},\"colorscale\":{\"diverging\":[[0,\"#8e0152\"],[0.1,\"#c51b7d\"],[0.2,\"#de77ae\"],[0.3,\"#f1b6da\"],[0.4,\"#fde0ef\"],[0.5,\"#f7f7f7\"],[0.6,\"#e6f5d0\"],[0.7,\"#b8e186\"],[0.8,\"#7fbc41\"],[0.9,\"#4d9221\"],[1,\"#276419\"]],\"sequential\":[[0.0,\"#0d0887\"],[0.1111111111111111,\"#46039f\"],[0.2222222222222222,\"#7201a8\"],[0.3333333333333333,\"#9c179e\"],[0.4444444444444444,\"#bd3786\"],[0.5555555555555556,\"#d8576b\"],[0.6666666666666666,\"#ed7953\"],[0.7777777777777778,\"#fb9f3a\"],[0.8888888888888888,\"#fdca26\"],[1.0,\"#f0f921\"]],\"sequentialminus\":[[0.0,\"#0d0887\"],[0.1111111111111111,\"#46039f\"],[0.2222222222222222,\"#7201a8\"],[0.3333333333333333,\"#9c179e\"],[0.4444444444444444,\"#bd3786\"],[0.5555555555555556,\"#d8576b\"],[0.6666666666666666,\"#ed7953\"],[0.7777777777777778,\"#fb9f3a\"],[0.8888888888888888,\"#fdca26\"],[1.0,\"#f0f921\"]]},\"colorway\":[\"#636efa\",\"#EF553B\",\"#00cc96\",\"#ab63fa\",\"#FFA15A\",\"#19d3f3\",\"#FF6692\",\"#B6E880\",\"#FF97FF\",\"#FECB52\"],\"font\":{\"color\":\"#2a3f5f\"},\"geo\":{\"bgcolor\":\"white\",\"lakecolor\":\"white\",\"landcolor\":\"#E5ECF6\",\"showlakes\":true,\"showland\":true,\"subunitcolor\":\"white\"},\"hoverlabel\":{\"align\":\"left\"},\"hovermode\":\"closest\",\"mapbox\":{\"style\":\"light\"},\"paper_bgcolor\":\"white\",\"plot_bgcolor\":\"#E5ECF6\",\"polar\":{\"angularaxis\":{\"gridcolor\":\"white\",\"linecolor\":\"white\",\"ticks\":\"\"},\"bgcolor\":\"#E5ECF6\",\"radialaxis\":{\"gridcolor\":\"white\",\"linecolor\":\"white\",\"ticks\":\"\"}},\"scene\":{\"xaxis\":{\"backgroundcolor\":\"#E5ECF6\",\"gridcolor\":\"white\",\"gridwidth\":2,\"linecolor\":\"white\",\"showbackground\":true,\"ticks\":\"\",\"zerolinecolor\":\"white\"},\"yaxis\":{\"backgroundcolor\":\"#E5ECF6\",\"gridcolor\":\"white\",\"gridwidth\":2,\"linecolor\":\"white\",\"showbackground\":true,\"ticks\":\"\",\"zerolinecolor\":\"white\"},\"zaxis\":{\"backgroundcolor\":\"#E5ECF6\",\"gridcolor\":\"white\",\"gridwidth\":2,\"linecolor\":\"white\",\"showbackground\":true,\"ticks\":\"\",\"zerolinecolor\":\"white\"}},\"shapedefaults\":{\"line\":{\"color\":\"#2a3f5f\"}},\"ternary\":{\"aaxis\":{\"gridcolor\":\"white\",\"linecolor\":\"white\",\"ticks\":\"\"},\"baxis\":{\"gridcolor\":\"white\",\"linecolor\":\"white\",\"ticks\":\"\"},\"bgcolor\":\"#E5ECF6\",\"caxis\":{\"gridcolor\":\"white\",\"linecolor\":\"white\",\"ticks\":\"\"}},\"title\":{\"x\":0.05},\"xaxis\":{\"automargin\":true,\"gridcolor\":\"white\",\"linecolor\":\"white\",\"ticks\":\"\",\"title\":{\"standoff\":15},\"zerolinecolor\":\"white\",\"zerolinewidth\":2},\"yaxis\":{\"automargin\":true,\"gridcolor\":\"white\",\"linecolor\":\"white\",\"ticks\":\"\",\"title\":{\"standoff\":15},\"zerolinecolor\":\"white\",\"zerolinewidth\":2}}},\"xaxis\":{\"anchor\":\"y\",\"domain\":[0.0,1.0],\"title\":{\"text\":\"ClusterID\"},\"categoryorder\":\"array\",\"categoryarray\":[2,0,1]},\"yaxis\":{\"anchor\":\"x\",\"domain\":[0.0,1.0],\"title\":{\"text\":\"Amount\"}},\"legend\":{\"title\":{\"text\":\"ClusterID\"},\"tracegroupgap\":0},\"margin\":{\"t\":60},\"boxmode\":\"overlay\"},                        {\"responsive\": true}                    ).then(function(){\n",
              "                            \n",
              "var gd = document.getElementById('f74b39e2-a70d-410d-bc05-4cdf249d4560');\n",
              "var x = new MutationObserver(function (mutations, observer) {{\n",
              "        var display = window.getComputedStyle(gd).display;\n",
              "        if (!display || display === 'none') {{\n",
              "            console.log([gd, 'removed!']);\n",
              "            Plotly.purge(gd);\n",
              "            observer.disconnect();\n",
              "        }}\n",
              "}});\n",
              "\n",
              "// Listen for the removal of the full notebook cells\n",
              "var notebookContainer = gd.closest('#notebook-container');\n",
              "if (notebookContainer) {{\n",
              "    x.observe(notebookContainer, {childList: true});\n",
              "}}\n",
              "\n",
              "// Listen for the clearing of the current output cell\n",
              "var outputEl = gd.closest('.output');\n",
              "if (outputEl) {{\n",
              "    x.observe(outputEl, {childList: true});\n",
              "}}\n",
              "\n",
              "                        })                };                            </script>        </div>\n",
              "</body>\n",
              "</html>"
            ]
          },
          "metadata": {}
        }
      ]
    },
    {
      "cell_type": "code",
      "source": [
        "import plotly.express as px\n",
        "fig = px.box(rfm, x=\"ClusterID\", y=\"Frequency\",color=\"ClusterID\")\n",
        "fig.show()"
      ],
      "metadata": {
        "colab": {
          "base_uri": "https://localhost:8080/",
          "height": 542
        },
        "id": "-07HyDzbDq8W",
        "outputId": "71b510ab-f94e-40be-f5df-1d1c02049512"
      },
      "execution_count": 30,
      "outputs": [
        {
          "output_type": "display_data",
          "data": {
            "text/html": [
              "<html>\n",
              "<head><meta charset=\"utf-8\" /></head>\n",
              "<body>\n",
              "    <div>            <script src=\"https://cdnjs.cloudflare.com/ajax/libs/mathjax/2.7.5/MathJax.js?config=TeX-AMS-MML_SVG\"></script><script type=\"text/javascript\">if (window.MathJax) {MathJax.Hub.Config({SVG: {font: \"STIX-Web\"}});}</script>                <script type=\"text/javascript\">window.PlotlyConfig = {MathJaxConfig: 'local'};</script>\n",
              "        <script src=\"https://cdn.plot.ly/plotly-2.8.3.min.js\"></script>                <div id=\"94a70257-e874-42e5-8212-0c42e8c2172c\" class=\"plotly-graph-div\" style=\"height:525px; width:100%;\"></div>            <script type=\"text/javascript\">                                    window.PLOTLYENV=window.PLOTLYENV || {};                                    if (document.getElementById(\"94a70257-e874-42e5-8212-0c42e8c2172c\")) {                    Plotly.newPlot(                        \"94a70257-e874-42e5-8212-0c42e8c2172c\",                        [{\"alignmentgroup\":\"True\",\"hovertemplate\":\"ClusterID=%{x}<br>Frequency=%{y}<extra></extra>\",\"legendgroup\":\"2\",\"marker\":{\"color\":\"#636efa\"},\"name\":\"2\",\"notched\":false,\"offsetgroup\":\"2\",\"orientation\":\"v\",\"showlegend\":true,\"x\":[2,2,2,2,2,2,2,2,2,2,2,2,2,2,2,2,2,2,2,2,2,2,2,2,2,2,2,2,2,2,2,2,2,2,2,2,2,2,2,2,2,2,2,2,2,2,2,2,2,2,2,2,2,2,2,2,2,2,2,2,2,2,2,2,2,2,2,2,2,2,2,2,2,2,2,2,2,2,2,2,2,2,2,2,2,2,2,2,2,2,2,2,2,2,2,2,2,2,2,2,2,2,2,2,2,2,2,2,2,2,2,2,2,2,2,2,2,2,2,2,2,2,2,2,2,2,2,2,2,2,2,2,2,2,2,2,2,2,2,2,2,2,2,2,2,2,2,2,2,2,2,2,2,2,2,2,2,2,2,2,2,2,2,2,2,2,2,2,2,2,2,2,2,2,2,2,2,2,2,2,2,2,2,2,2,2,2,2,2,2,2,2,2,2,2,2,2,2,2,2,2,2,2,2,2,2,2,2,2,2,2,2,2,2,2,2,2,2,2,2,2,2,2,2,2,2,2,2,2,2,2,2,2,2,2,2,2,2,2,2,2,2,2,2,2,2,2,2,2,2,2,2,2,2,2,2,2,2,2,2,2,2,2,2,2,2,2,2,2,2,2,2,2,2,2,2,2,2,2,2,2,2,2,2,2,2,2,2,2,2,2,2,2,2,2,2,2,2,2,2,2,2,2,2,2,2,2,2,2,2,2,2,2,2,2,2,2,2,2,2,2,2,2,2,2,2,2,2,2,2,2,2,2,2,2,2,2,2,2,2,2,2,2,2,2,2,2,2,2,2,2,2,2,2,2,2,2,2,2,2,2,2,2,2,2,2,2,2,2,2,2,2,2,2,2,2,2,2,2,2,2,2,2,2,2,2,2,2,2,2,2,2,2,2,2,2,2,2,2,2,2,2,2,2,2,2,2,2,2,2,2,2,2,2,2,2,2,2,2,2,2,2,2,2,2,2,2,2,2,2,2,2,2,2,2,2,2,2,2,2,2,2,2,2,2,2,2,2,2,2,2,2,2,2,2,2,2,2,2,2,2,2,2,2,2,2,2,2,2,2,2,2,2,2,2,2,2,2,2,2,2,2,2,2,2,2,2,2,2,2,2,2,2,2,2,2,2,2,2,2,2,2,2,2,2,2,2,2,2,2,2,2,2,2,2,2,2,2,2,2,2,2,2,2,2,2,2,2,2,2,2,2,2,2,2,2,2,2,2,2,2,2,2,2,2,2,2,2,2,2,2,2,2,2,2,2,2,2,2,2,2,2,2,2,2,2,2,2,2,2,2,2,2,2,2,2,2,2,2,2,2,2,2,2,2,2,2,2,2,2,2,2,2,2,2,2,2,2,2,2,2,2,2,2,2,2,2,2,2,2,2,2,2,2,2,2,2,2,2,2,2,2,2,2,2,2,2,2,2,2,2,2,2,2,2,2,2,2,2,2,2,2,2,2,2,2,2,2,2,2,2,2,2,2,2,2,2,2,2,2,2,2,2,2,2,2,2,2,2,2,2,2,2,2,2,2,2,2,2,2,2,2,2,2,2,2,2,2,2,2,2,2,2,2,2,2,2,2,2,2,2,2,2,2,2,2,2,2,2,2,2,2,2,2,2,2,2,2,2,2,2,2,2,2,2,2,2,2,2,2,2,2,2,2,2,2,2,2,2,2,2,2,2,2,2,2,2,2,2,2,2,2,2,2,2,2,2,2,2,2,2,2,2,2,2,2,2,2,2,2,2,2,2,2,2,2,2,2,2,2,2,2,2,2,2,2,2,2,2,2,2,2,2,2,2,2,2,2,2,2,2,2,2,2,2,2,2,2,2,2,2,2,2,2,2,2,2,2,2,2,2,2,2,2,2,2,2,2,2,2,2,2,2,2,2,2,2,2,2,2,2,2,2,2,2,2,2,2,2,2,2,2,2,2,2,2,2,2,2,2,2,2,2,2,2,2,2,2,2,2,2,2,2,2,2,2,2,2,2,2,2,2,2,2,2,2,2,2,2,2,2,2,2,2,2,2,2,2,2,2,2,2,2,2,2,2,2,2,2,2,2,2,2,2,2,2,2,2,2,2,2,2,2,2,2,2,2,2,2,2,2,2,2,2,2,2,2,2,2,2,2,2,2,2,2,2,2,2,2,2,2,2,2,2,2,2,2,2,2,2,2,2,2,2,2,2,2,2,2,2,2,2,2,2,2,2,2,2,2,2,2,2,2,2,2,2,2,2,2,2,2,2,2,2,2,2,2,2,2,2,2,2,2,2,2,2,2,2,2,2,2,2,2,2,2,2,2,2,2,2,2,2,2,2,2,2,2,2,2,2,2,2,2,2,2,2,2,2,2,2,2,2,2,2,2,2,2,2,2,2,2,2,2,2,2,2,2,2,2,2,2,2,2,2,2,2,2,2],\"x0\":\" \",\"xaxis\":\"x\",\"y\":[2,17,4,58,13,10,23,14,77,100,10,5,11,28,18,30,30,11,26,8,15,23,160,1,1,23,7,51,16,8,5,10,22,16,21,10,28,11,24,22,97,26,29,3,20,11,18,91,22,21,9,51,4,2,10,7,16,33,24,12,22,4,43,4,11,65,6,45,32,12,21,2,25,24,17,26,26,31,4,16,6,12,9,24,18,12,27,20,3,46,3,26,107,2,66,4,2,7,7,3,4,10,22,28,1,23,19,8,22,9,34,92,28,7,29,15,3,11,14,33,18,8,15,11,14,9,7,6,29,8,10,1,53,3,7,1,3,75,1,8,42,1,37,3,5,66,5,16,9,10,59,22,58,36,9,11,1,14,42,54,11,5,5,22,1,21,17,24,54,42,22,22,90,29,29,19,44,15,35,1,21,26,54,2,17,10,64,86,61,16,11,8,23,8,18,20,53,29,12,15,22,76,4,14,44,27,33,10,53,24,19,24,13,19,66,23,49,108,13,16,25,16,3,31,8,4,14,1,20,48,51,13,10,108,21,12,6,38,30,23,26,1,9,35,12,14,17,7,33,17,7,12,14,36,12,1,29,19,1,17,28,22,18,28,19,21,12,43,7,10,16,31,27,9,3,39,138,33,5,35,2,11,10,16,16,44,11,22,28,38,28,21,14,88,8,7,24,156,29,1,21,15,3,1,67,22,3,40,52,6,108,25,25,32,3,8,2,21,5,21,41,54,9,8,10,16,112,20,8,54,5,19,29,10,8,17,27,27,42,9,12,34,18,6,18,21,1,47,6,11,8,4,4,75,11,7,5,14,23,3,22,6,9,32,40,22,4,130,19,18,30,10,30,17,19,31,23,64,19,5,4,56,58,29,1,101,27,3,25,2,3,22,30,21,57,5,8,20,34,30,30,80,170,132,61,1,2,13,8,22,8,1,29,10,71,93,19,7,21,52,41,6,6,44,30,4,63,2,70,17,4,13,22,37,13,28,18,20,10,7,33,43,18,57,10,17,10,12,42,5,13,8,87,40,75,12,20,70,55,67,5,13,22,3,30,25,5,70,1,49,48,5,15,23,26,5,6,71,20,31,14,22,10,13,14,95,29,4,27,41,7,11,3,6,29,9,20,7,25,9,11,5,32,16,23,8,23,14,143,15,33,6,8,34,10,6,21,16,25,31,21,24,1,16,29,35,16,99,17,5,72,5,63,7,17,1,8,43,31,10,1,7,6,42,8,34,10,48,6,17,45,2,5,9,28,25,60,58,58,157,88,70,46,92,1,7,27,26,78,24,28,17,14,1,168,39,13,31,30,1,13,18,19,2,36,36,28,2,37,56,5,1,12,2,22,89,5,6,6,20,7,41,12,6,14,10,1,7,7,22,29,25,42,3,210,40,17,17,20,54,8,22,15,106,32,24,93,62,41,11,24,4,7,19,12,40,60,25,12,21,12,12,2,6,2,11,6,98,8,86,76,29,22,39,10,8,1,23,74,23,2,1,38,18,12,10,13,18,16,30,8,35,30,16,13,21,1,37,1,29,1,29,14,2,7,8,19,18,44,37,19,137,8,7,35,91,16,24,21,14,2,3,54,67,33,6,11,8,23,44,14,3,56,1,11,20,2,9,8,32,5,23,4,45,60,15,5,6,21,9,83,20,43,11,9,33,13,19,19,26,50,16,22,13,13,17,157,15,30,3,31,17,3,35,1,11,14,8,13,11,6,11,26,5,16,5,23,9,27,62,14,8,2,9,3,3,21,5,94,3,45,37,152,46,1,16,9,2,13,7,24,1,34,40,19,12,66,121,98,16,15,38,11,12,24,26,8,19,13,11,38,135,45,44,8,9,14,33,21,26,16,7,26,21,2,87,1,1,12,6,4,32,22,43,5,71,1,15,1,90,12,9,10,18,9,32,14,24,20,15,16,10,16,4,15,80,10,29,67,4,9,49,21,73,14,16,9,39,23,69,15,1,53,1,6,12,17,9,19,59,35,34,28,71,3,62,4,116,2,13,43,19,8,1,9,1,61,8,17,9,181,24,12,10,40,18,140,52,88,22,11,6,9,13,3,25,2,17,42,43,6,29,8,6,45,29,55,9,63,3,77,26,7,8,54,22,11,16,19,15,19,8,24,31,5,35,7,10,1,6,18,8,35,1,1,57,38,3,12,14,46,5,30,37,26,15,17,25,58,11,10,10,47,12,6,26,8,21,94,34,16,115,32,11,12,58,40,1,1,12,20,1,19,1,26,35,48,85,14,31,31,65,12,30,48,13,29,5,2,40,33,14,28,31,22,5,19,7,5,19,27,1,25,36,13,29,29,7,21,39,19,1,28,30,17,32,14,2,8,1,18,10,23,10,140,33,44,17,16,7,18,68,19,43,15,24,4,10,5,126,1,88,22,4,13,8,10,7],\"y0\":\" \",\"yaxis\":\"y\",\"type\":\"box\"},{\"alignmentgroup\":\"True\",\"hovertemplate\":\"ClusterID=%{x}<br>Frequency=%{y}<extra></extra>\",\"legendgroup\":\"0\",\"marker\":{\"color\":\"#EF553B\"},\"name\":\"0\",\"notched\":false,\"offsetgroup\":\"0\",\"orientation\":\"v\",\"showlegend\":true,\"x\":[0,0,0,0,0,0,0,0,0,0,0,0,0,0,0,0,0,0,0,0,0,0,0,0,0,0,0,0,0,0,0,0,0,0,0,0,0,0,0,0,0,0,0,0,0,0,0,0,0,0,0,0,0,0,0,0,0,0,0,0,0,0,0,0,0,0,0,0,0,0,0,0,0,0,0,0,0,0,0,0,0,0,0,0,0,0,0,0,0,0,0,0,0,0,0,0,0,0,0,0,0,0,0,0,0,0,0,0,0,0,0,0,0,0,0,0,0,0,0,0,0,0,0,0,0,0,0,0,0,0,0,0,0,0,0,0,0,0,0,0,0,0,0,0,0,0,0,0,0,0,0,0,0,0,0,0,0,0,0,0,0,0,0,0,0,0,0,0,0,0,0,0,0,0,0,0,0,0,0,0,0,0,0,0,0,0,0,0,0,0,0,0,0,0,0,0,0,0,0,0,0,0,0,0,0,0,0,0,0,0,0,0,0,0,0,0,0,0,0,0,0,0,0,0,0,0,0,0,0,0,0,0,0,0,0,0,0,0,0,0,0,0,0,0,0,0,0,0,0,0,0,0,0,0,0,0,0,0,0,0,0,0,0,0,0,0,0,0,0,0,0,0,0,0,0,0,0,0,0,0,0,0,0,0,0,0,0,0,0,0,0,0,0,0,0,0,0,0,0,0,0,0,0,0,0,0,0,0,0,0,0,0,0,0,0,0,0,0,0,0,0,0,0,0,0,0,0,0,0,0,0,0,0,0,0,0,0,0,0,0,0,0,0,0,0,0,0,0,0,0,0,0,0,0,0,0,0,0,0,0,0,0,0,0,0,0,0,0,0,0,0,0,0,0,0,0,0,0,0,0,0,0,0,0,0,0,0,0,0,0,0,0,0,0,0,0,0,0,0,0,0,0,0,0,0,0,0,0,0,0,0,0,0,0,0,0,0,0,0,0,0,0,0,0,0,0,0,0,0,0,0,0,0,0,0,0,0,0,0,0,0,0,0,0,0,0,0,0,0,0,0,0,0,0,0,0,0,0,0,0,0,0,0,0,0,0,0,0,0,0,0,0,0,0,0,0,0,0,0,0,0,0,0,0,0,0,0,0,0,0,0,0,0,0,0,0,0,0,0],\"x0\":\" \",\"xaxis\":\"x\",\"y\":[182,131,254,274,167,219,114,198,300,240,108,420,36,201,177,191,355,391,179,457,264,308,154,218,350,245,147,286,144,273,274,481,196,33,168,463,191,251,70,214,163,474,307,230,394,130,232,168,646,525,362,171,270,348,257,142,259,359,141,229,103,231,377,310,159,8,39,316,439,317,551,47,219,183,244,308,24,68,342,409,222,176,459,26,196,422,470,380,161,170,437,310,280,235,705,174,347,314,265,229,120,329,34,612,202,224,447,320,187,88,500,77,268,134,169,158,173,155,314,159,167,199,444,394,306,260,427,227,436,177,224,342,179,136,341,130,264,59,501,216,346,208,323,343,143,177,206,114,307,338,165,633,340,353,239,212,171,162,243,241,505,291,203,111,333,451,217,252,35,157,201,134,245,327,248,277,263,604,194,183,112,228,156,285,238,108,180,269,533,191,291,353,183,612,222,264,382,293,246,281,631,164,316,298,216,558,333,417,367,216,446,273,330,384,114,175,237,259,576,421,359,350,348,415,197,359,341,278,501,216,205,237,392,256,255,392,506,364,168,366,172,149,317,479,563,513,400,461,207,276,451,112,197,140,218,344,278,93,326,166,358,121,275,212,109,200,194,247,233,519,561,196,306,193,300,306,329,385,286,104,127,189,299,523,252,218,200,674,228,263,261,702,330,215,414,429,214,177,495,216,168,79,297,302,176,295,412,188,280,274,307,276,140,547,463,137,75,267,77,185,177,275,560,509,9,385,212,165,312,227,354,284,117,237,502,176,28,219,297,151,142,662,295,274,135,260,167,320,319,94,671,358,198,232,372,282,202,368,298,200,4,261,86,207,474,133,222,174,280,184,123,261,80,262,117,170,588,312,154,402,447,632,236,228,668,358,452,718,222,255,344,322,287,449,325,191,166,379,289,710,209,547,327,696,213,242,305,283,249,418,121,169,268,322,316,516,101,297,198,421,487,229,237,152,213,274,472,546,566,407,294,69,487,548,424,503,414,468,419,27,271,208,272,279,369,260,394,177,299,417,452,253,215,270,565,582,319,315,297,239,270,286,258,395,254,278,198,220,690,412,313,410,378,312,199,223,389,280,696,489,329,297,474,363,472,227,90,454,378,364,162,221,197,166,299,286,245,164,170],\"y0\":\" \",\"yaxis\":\"y\",\"type\":\"box\"},{\"alignmentgroup\":\"True\",\"hovertemplate\":\"ClusterID=%{x}<br>Frequency=%{y}<extra></extra>\",\"legendgroup\":\"1\",\"marker\":{\"color\":\"#00cc96\"},\"name\":\"1\",\"notched\":false,\"offsetgroup\":\"1\",\"orientation\":\"v\",\"showlegend\":true,\"x\":[1,1,1,1,1,1,1,1,1,1,1,1,1,1,1,1,1,1,1,1,1,1,1,1,1,1,1,1,1,1,1,1,1,1,1,1,1,1,1,1,1,1,1,1,1,1,1,1,1,1,1,1,1,1,1,1,1,1,1,1,1,1,1,1,1,1,1,1,1,1,1,1,1,1,1,1,1,1,1,1,1,1,1,1,1,1,1,1,1,1,1,1,1,1,1,1,1,1,1,1,1,1,1,1,1,1,1,1,1,1,1,1,1,1,1,1,1,1,1,1,1,1,1,1,1,1,1,1,1,1,1,1,1,1,1,1,1,1,1,1,1,1,1,1,1,1,1,1,1,1,1,1,1,1,1,1,1,1,1,1,1,1,1,1,1,1,1,1,1,1,1,1,1,1,1,1,1,1,1,1,1,1,1,1,1,1,1,1,1,1,1,1,1,1,1,1,1,1,1,1,1,1,1,1,1,1,1,1,1,1,1,1,1,1,1,1,1,1,1,1,1,1,1,1,1,1,1,1,1,1,1,1,1,1,1,1,1,1,1,1,1,1,1,1,1,1,1,1,1,1,1,1,1,1,1,1,1,1,1,1,1,1,1,1,1,1,1,1,1,1,1,1,1,1,1,1,1,1,1,1,1,1,1,1,1,1,1,1,1,1,1,1,1,1,1,1,1,1,1,1,1,1,1,1,1,1,1,1,1,1,1,1,1,1,1,1,1,1,1,1,1,1,1,1,1,1,1,1,1,1,1,1,1,1,1,1,1,1,1,1,1,1,1,1,1,1,1,1,1,1,1,1,1,1,1,1,1,1,1,1,1,1,1,1,1,1,1,1,1,1,1,1,1,1,1,1,1,1,1,1,1,1,1,1,1,1,1,1,1,1,1,1,1,1,1,1,1,1,1,1,1,1,1,1,1,1,1,1,1,1,1,1,1,1,1,1,1,1,1,1,1,1,1,1,1,1,1,1,1,1,1,1,1,1,1,1,1,1,1,1,1,1,1,1,1,1,1,1,1,1,1,1,1,1,1,1,1,1,1,1,1,1,1,1,1,1,1,1,1,1,1,1,1,1,1,1,1,1,1,1,1,1,1,1,1,1,1,1,1,1,1,1,1,1,1,1,1,1,1,1,1,1,1,1,1,1,1,1,1,1,1,1,1,1,1,1,1,1,1,1,1,1,1,1,1,1,1,1,1,1,1,1,1,1,1,1,1,1,1,1,1,1,1,1,1,1,1,1,1,1,1,1,1,1,1,1,1,1,1,1,1,1,1,1,1,1,1,1,1,1,1,1,1,1,1,1,1,1,1,1,1,1,1,1,1,1,1,1,1,1,1,1,1,1,1,1,1,1,1,1,1,1,1,1,1,1,1,1,1,1,1,1,1,1,1,1,1,1,1,1,1,1,1,1,1,1,1,1,1,1,1,1,1,1,1,1,1,1,1,1,1,1,1,1,1,1,1,1,1,1,1,1,1,1,1,1,1,1,1,1,1,1,1,1,1,1,1,1,1,1,1,1,1,1,1,1,1,1,1,1,1,1,1,1,1,1,1,1,1,1,1,1,1,1,1,1,1,1,1,1,1,1,1,1,1,1,1,1,1,1,1,1,1,1,1,1,1,1,1,1,1,1,1,1,1,1,1,1,1,1,1,1,1,1,1,1,1,1,1,1,1,1,1,1,1,1,1,1,1,1,1,1,1,1,1,1,1,1,1,1,1,1,1,1,1,1,1,1,1,1,1,1,1,1,1,1,1,1,1,1,1,1,1,1,1,1,1,1,1,1,1,1,1,1,1,1,1,1,1,1,1,1,1,1,1,1,1,1,1,1,1,1,1,1,1,1,1,1,1,1,1,1,1,1,1,1,1,1,1,1,1,1,1,1,1,1,1,1,1,1,1,1,1,1,1,1,1,1,1,1,1,1,1,1,1,1,1,1,1,1,1,1,1,1,1,1,1,1,1,1,1,1,1,1,1,1,1,1,1,1,1,1,1,1,1,1,1,1,1,1,1,1,1,1,1,1,1,1,1,1,1,1,1,1,1,1,1,1,1,1,1,1,1,1,1,1,1,1,1,1,1,1,1,1,1,1,1,1,1,1,1,1,1,1,1,1,1,1,1,1,1,1,1,1,1,1,1,1,1,1,1,1,1,1,1,1,1,1,1,1,1,1,1,1,1,1,1,1,1,1,1,1,1,1,1,1,1,1,1,1,1,1,1,1,1,1,1,1,1,1,1,1,1,1,1,1,1,1,1,1,1,1,1,1,1,1,1,1,1,1,1,1,1,1,1,1,1,1,1,1,1,1,1,1,1,1,1,1,1,1,1,1,1,1,1,1,1,1,1,1,1,1,1,1,1,1,1,1,1,1,1,1,1,1,1,1,1,1,1,1,1,1,1,1,1,1,1,1,1,1,1,1,1,1,1,1,1,1,1,1,1,1,1,1,1,1,1,1,1,1,1,1,1,1,1,1,1,1,1,1,1,1,1,1,1,1,1,1,1,1,1,1,1,1,1,1,1,1,1,1,1,1,1,1,1,1,1,1,1,1,1,1,1,1,1,1,1,1,1,1,1,1,1,1,1,1,1,1,1,1,1,1,1,1,1,1,1,1,1,1,1,1,1,1,1,1,1,1,1,1,1,1,1,1,1,1,1,1,1,1,1,1,1,1,1,1,1,1,1,1,1,1,1,1,1,1,1,1,1,1,1,1,1,1,1,1,1,1,1,1,1,1,1,1,1,1,1,1,1,1,1,1,1,1,1,1,1,1,1,1,1,1,1,1,1,1,1,1,1,1,1,1,1,1,1,1,1,1,1,1,1,1,1,1,1,1,1,1,1,1,1,1,1,1,1,1,1,1,1,1,1,1,1,1,1,1,1,1,1,1,1,1,1,1,1,1,1,1,1,1,1,1,1,1,1,1,1,1,1,1,1,1,1,1,1,1,1,1,1,1,1,1,1,1,1,1,1,1,1,1,1,1,1,1,1,1,1,1,1,1,1,1,1,1,1,1,1,1,1,1,1,1,1,1,1,1,1,1,1,1,1,1,1,1,1,1,1,1,1,1,1,1,1,1,1,1,1,1,1,1,1,1,1,1,1,1,1,1,1,1,1,1,1,1,1,1,1,1,1,1,1,1,1,1,1,1,1,1,1,1,1,1,1,1,1,1,1,1,1,1,1,1,1,1,1,1,1,1,1,1,1,1,1,1,1,1,1,1,1,1,1,1,1,1,1,1,1,1,1,1,1,1,1,1,1,1,1,1,1,1,1,1,1,1,1,1,1,1,1,1,1,1,1,1,1,1,1,1,1,1,1,1,1,1,1,1,1,1,1,1,1,1,1,1,1,1,1,1,1,1,1,1,1,1,1,1,1,1,1,1,1,1,1,1,1,1,1,1,1,1,1,1,1,1,1,1,1,1,1,1,1,1,1,1,1,1,1,1,1,1,1,1,1,1,1,1,1,1,1,1,1,1,1,1,1,1,1,1,1,1,1,1,1,1,1,1,1,1,1,1,1,1,1,1,1,1,1,1,1,1,1,1,1,1,1,1,1,1,1,1,1,1,1,1,1,1,1,1,1,1,1,1,1,1,1,1,1,1,1,1,1,1,1,1,1,1,1,1,1,1,1,1,1,1,1,1,1,1,1,1,1,1,1,1,1,1,1,1,1,1,1,1,1,1,1,1,1,1,1,1,1,1,1,1,1,1,1,1,1,1,1,1,1,1,1,1,1,1,1,1,1,1,1,1,1,1,1,1,1,1,1,1,1,1,1,1,1,1,1,1,1,1,1,1,1,1,1,1,1,1,1,1,1,1,1,1,1,1,1,1,1,1,1,1,1,1,1,1,1,1,1,1,1,1,1,1,1,1,1,1,1,1,1,1,1,1,1,1,1,1,1,1,1,1,1,1,1,1,1,1,1,1,1,1,1,1,1,1,1,1,1,1,1,1,1,1,1,1,1,1,1,1,1,1,1,1,1,1,1,1,1,1,1,1,1,1,1,1,1,1,1,1,1,1,1,1,1,1,1,1,1,1,1,1,1,1,1,1,1,1,1,1,1,1,1,1,1,1,1,1,1,1,1,1,1,1,1,1,1,1,1,1,1,1,1,1,1,1,1,1,1,1,1,1,1,1,1,1,1,1,1,1,1,1,1,1,1,1,1,1,1,1,1,1,1,1,1,1,1,1,1,1,1,1,1,1,1,1,1,1,1,1,1,1,1,1,1,1,1,1,1,1,1,1,1,1,1,1,1,1,1,1,1,1,1,1,1,1,1,1,1,1,1,1,1,1,1,1,1,1,1,1,1,1,1,1,1,1,1,1,1,1,1,1,1,1,1,1,1,1,1,1,1,1,1,1,1,1,1,1,1,1,1,1,1,1,1,1,1,1,1,1,1,1,1,1,1,1,1,1,1,1,1,1,1,1,1,1,1,1,1,1,1,1,1,1,1,1,1,1,1,1,1,1,1,1,1,1,1,1,1,1,1,1,1,1,1,1,1,1,1,1,1,1,1,1,1,1,1,1,1,1,1,1,1,1,1,1,1,1,1,1,1,1,1,1,1,1,1,1,1,1,1,1,1,1,1,1,1,1,1,1,1,1,1,1,1,1,1,1,1,1,1,1,1,1,1,1,1,1,1,1,1,1,1,1,1,1,1,1,1,1,1,1,1,1,1,1,1,1,1,1,1,1,1,1,1,1,1,1,1,1,1,1,1,1,1,1,1,1,1,1,1,1,1,1,1,1,1,1,1,1,1,1,1,1,1,1,1,1,1,1,1,1,1,1,1,1,1,1,1,1,1,1,1,1,1,1,1,1,1,1,1,1,1,1,1,1,1,1,1,1,1,1,1,1,1,1,1,1,1,1,1,1,1,1,1,1,1,1,1,1,1,1,1,1,1,1,1,1,1,1,1,1,1,1,1,1,1,1,1,1,1,1,1,1,1,1,1,1,1,1,1,1,1,1,1,1,1,1,1,1,1,1,1,1,1,1,1,1,1,1,1,1,1,1,1,1,1,1,1,1,1,1,1,1,1,1,1,1,1,1,1,1,1,1,1,1,1,1,1,1,1,1,1,1,1,1,1,1,1,1,1,1,1,1,1,1,1,1,1,1,1,1,1,1,1,1,1,1,1,1,1,1,1,1,1,1,1,1,1,1,1,1,1,1,1,1,1,1,1,1,1,1,1,1,1,1,1,1,1,1,1,1,1,1,1,1,1,1,1,1,1,1,1,1,1,1,1,1,1,1,1,1,1,1,1,1,1,1,1,1,1,1,1,1,1,1,1,1,1,1,1,1,1,1,1,1,1,1,1,1,1,1,1,1,1,1,1,1,1,1,1,1,1,1,1,1,1,1,1,1,1,1,1,1,1,1,1,1,1,1,1,1,1,1,1,1,1,1,1,1,1,1,1,1,1,1,1,1,1,1,1,1,1,1,1,1,1,1,1,1,1,1,1,1,1,1,1,1,1,1,1,1,1,1,1,1,1,1,1,1,1,1,1,1,1,1,1,1,1,1,1,1,1,1,1,1,1,1,1,1,1,1,1,1,1,1,1,1,1,1,1,1,1,1,1,1,1,1,1,1,1,1,1,1,1,1,1,1,1,1,1,1,1,1,1,1,1,1,1,1,1,1,1,1,1,1,1,1,1,1,1,1,1,1,1,1,1,1,1,1,1,1,1,1,1,1,1,1,1,1,1,1,1,1,1,1,1,1,1,1,1,1,1,1,1,1,1,1,1,1,1,1,1,1,1,1,1,1,1,1,1,1,1,1,1,1,1,1,1,1,1,1,1,1,1,1,1,1,1,1,1,1,1,1,1,1,1,1,1,1,1,1,1,1,1,1,1,1,1,1,1,1,1,1,1,1,1,1,1,1,1,1,1,1,1,1,1,1,1,1,1,1,1,1,1,1,1,1,1,1,1,1,1,1,1,1,1,1,1,1,1,1,1,1,1,1,1,1,1,1,1,1,1,1,1,1,1,1,1,1,1,1,1,1,1,1,1,1,1,1,1,1,1,1,1,1,1,1,1,1,1,1,1,1,1,1,1,1,1,1,1,1,1,1,1,1,1,1,1,1,1,1,1,1,1,1,1,1,1,1,1,1,1,1,1,1,1,1,1,1,1,1,1,1],\"x0\":\" \",\"xaxis\":\"x\",\"y\":[31,73,95,59,19,129,23,85,11,63,52,33,18,41,105,91,30,100,32,100,64,27,159,126,85,59,6,54,108,77,113,61,40,34,29,46,39,126,36,35,97,11,54,16,98,12,4,58,22,23,43,30,90,129,68,38,35,72,88,29,51,40,36,36,35,81,55,26,20,84,14,23,65,15,23,69,33,34,36,26,124,18,155,38,12,110,71,18,95,68,17,16,63,34,21,52,20,50,70,57,20,121,22,111,20,34,62,89,148,120,31,15,126,12,4,10,35,18,21,119,27,133,62,65,12,3,16,202,60,111,65,21,105,36,42,11,95,92,38,43,64,31,103,101,39,53,10,47,24,31,74,45,128,33,20,43,38,56,36,5,13,38,33,102,94,42,91,45,56,52,105,157,72,32,41,37,27,43,53,12,22,90,174,79,38,21,69,56,19,42,164,57,69,53,124,46,26,38,27,134,15,53,4,97,95,69,18,55,67,51,30,107,86,59,15,20,4,45,14,28,15,2,47,29,59,47,5,25,94,25,56,27,175,123,116,34,108,52,91,51,50,84,115,6,96,11,85,154,49,12,13,42,7,72,86,82,34,24,72,63,4,96,75,24,50,109,2,52,28,29,31,45,84,9,27,107,130,63,120,9,103,75,30,103,118,23,65,80,17,16,96,109,10,33,5,151,20,4,78,30,13,31,27,73,5,67,31,6,4,107,124,47,1,134,40,43,47,10,99,75,37,30,48,28,43,18,35,137,14,78,8,10,69,49,15,2,22,112,6,75,18,24,26,30,6,1,8,20,2,60,50,146,132,31,76,82,55,142,15,2,46,105,139,63,46,136,23,7,17,4,86,15,85,89,79,122,4,82,42,65,133,13,32,48,43,72,17,11,94,183,84,2,29,63,29,110,46,57,8,150,22,56,143,92,7,5,21,109,2,207,43,39,32,67,13,27,16,143,25,26,23,14,1,38,87,8,91,101,15,16,30,8,46,11,85,40,7,31,59,2,81,81,1,57,107,77,26,78,75,135,20,110,11,25,21,12,109,19,53,21,51,119,8,14,16,43,16,27,51,32,42,24,60,20,132,1,23,38,53,97,36,51,13,164,47,39,39,3,11,27,30,18,24,19,28,16,10,105,128,78,29,74,67,54,46,10,103,12,13,62,19,71,53,65,17,27,41,18,99,10,22,81,112,10,69,34,14,86,50,52,36,45,67,18,17,22,162,44,117,10,4,59,44,143,38,9,95,5,27,6,15,66,25,38,87,98,124,52,121,34,175,33,82,49,85,38,176,85,26,46,85,23,11,180,21,89,58,16,129,26,166,41,99,23,27,43,98,228,76,201,44,19,86,94,80,12,147,188,62,64,101,8,40,28,148,5,80,98,6,63,166,56,16,112,58,12,87,9,25,65,57,39,6,9,55,90,12,197,135,28,8,103,60,43,28,86,118,42,20,63,43,33,194,3,35,42,72,28,24,76,117,25,57,70,17,208,143,120,177,22,9,57,115,31,31,45,17,13,39,23,66,137,13,10,76,36,36,71,58,33,24,59,96,40,46,93,15,74,4,55,174,20,9,58,5,101,94,81,24,11,77,142,30,7,61,33,118,24,104,7,3,36,66,155,60,16,40,15,114,27,30,119,17,19,149,26,126,148,34,18,30,33,20,137,45,11,21,27,17,59,23,7,46,49,47,11,5,160,36,20,30,152,92,12,11,158,15,28,15,54,11,115,112,17,13,41,86,5,125,155,87,40,47,84,30,34,39,20,68,39,31,16,6,15,152,92,66,93,6,209,6,34,54,56,4,6,10,82,52,14,43,46,42,65,12,4,181,70,14,105,21,26,84,76,124,35,14,11,173,40,72,161,5,167,16,44,46,52,30,47,26,67,46,7,12,6,26,50,49,41,52,29,52,58,29,26,164,43,165,24,71,42,6,44,39,44,39,10,88,103,118,9,70,109,59,107,12,7,61,118,73,43,118,36,159,80,15,116,42,148,75,111,78,107,52,143,31,66,33,29,75,34,27,11,47,103,61,7,64,162,3,16,110,35,123,87,8,104,24,123,41,28,26,19,163,63,90,130,24,71,6,60,31,9,38,41,58,118,41,69,46,56,131,59,14,140,62,73,95,26,26,104,8,76,107,55,287,45,98,14,124,206,30,27,1,17,148,12,9,55,59,68,98,70,20,258,109,62,37,17,180,6,72,90,43,7,30,47,11,13,144,14,47,145,49,123,7,6,193,194,7,12,107,98,57,71,18,73,101,18,16,4,17,12,203,18,229,65,10,19,32,76,111,107,114,48,10,113,21,32,76,69,129,4,34,12,241,123,24,17,6,29,197,164,152,53,102,55,50,7,20,4,17,96,135,13,126,24,153,41,28,16,113,7,2,29,199,102,29,50,127,29,30,4,168,99,117,14,74,102,44,7,15,54,71,69,133,210,115,22,29,139,25,10,71,55,238,37,52,45,149,17,56,61,59,28,70,92,5,30,41,38,19,71,102,11,7,39,137,6,9,60,134,3,35,27,15,3,30,6,46,4,15,82,12,13,59,12,47,11,53,48,13,29,29,121,45,40,70,6,110,138,158,130,28,143,10,131,20,66,61,59,12,6,48,11,4,147,72,98,50,124,47,17,11,54,15,6,73,23,55,119,98,24,69,9,35,28,87,13,79,45,78,44,11,128,42,88,35,3,14,64,20,20,55,85,61,27,198,83,38,6,37,34,160,18,32,21,11,73,216,41,4,61,27,77,115,158,144,182,20,128,35,20,32,135,155,72,61,37,48,7,111,27,127,133,3,98,80,143,71,114,239,121,57,158,53,82,104,26,76,42,27,35,60,145,31,49,11,25,23,9,35,101,102,61,40,84,101,21,45,80,1,22,28,87,106,15,16,111,84,52,29,73,69,81,26,67,20,23,22,92,55,133,7,29,103,5,110,23,95,18,63,21,19,51,19,1,36,10,13,97,142,38,9,43,52,110,43,2,119,58,126,31,99,52,52,83,111,22,34,89,6,44,55,18,47,78,19,12,23,82,11,2,48,63,47,42,52,12,150,3,21,88,59,41,12,28,26,58,12,48,1,38,33,36,106,49,49,10,62,13,36,88,17,26,21,32,23,9,14,13,29,151,44,96,4,95,27,137,3,117,37,12,85,12,85,14,74,50,13,58,153,122,100,39,28,8,53,2,6,83,10,53,59,29,25,62,219,62,30,58,7,11,7,57,53,29,27,77,76,14,29,46,45,86,2,55,155,35,125,16,68,13,99,164,160,15,220,18,57,10,1,180,4,166,108,86,41,15,29,81,116,61,29,56,31,20,31,117,8,7,53,31,57,104,45,51,151,44,125,9,24,5,104,84,23,16,52,54,2,17,67,91,60,6,45,6,49,3,104,18,34,68,49,157,61,15,25,15,25,119,238,52,32,21,6,21,47,1,11,94,9,19,116,13,35,81,155,135,21,33,12,110,78,67,10,9,19,12,177,18,237,117,59,214,53,35,118,128,91,72,32,4,73,26,81,8,9,88,3,65,29,93,21,29,149,192,45,9,37,63,11,28,10,25,18,21,44,14,87,206,35,76,13,135,8,98,119,69,8,31,48,43,112,139,41,74,49,123,62,33,69,134,51,41,69,50,12,24,65,28,50,11,22,97,30,140,80,14,191,142,147,18,24,40,45,76,128,131,49,18,12,14,87,51,116,30,151,249,160,143,21,119,74,7,18,14,29,60,19,103,43,91,103,42,7,28,122,84,21,35,24,65,49,43,97,113,38,14,140,27,52,3,35,131,103,218,33,90,94,148,184,237,32,28,46,101,64,28,32,17,100,55,28,65,6,75,39,83,9,34,84,70,68,134,180,64,102,33,21,131,21,11,31,167,40,53,1,67,67,39,83,57,48,29,6,31,49,16,32,212,38,16,40,89,78,38,37,31,37,30,118,22,18,136,89,139,19,22,35,99,85,127,3,69,87,23,58,15,11,11,15,46,31,67,11,6,15,179,115,36,57,98,63,19,66,46,24,43,6,14,90,97,96,134,47,38,25,48,20,21,51,93,7,69,124,18,124,61,45,134,25,25,109,17,168,109,19,120,79,27,12,22,4,44,37,16,156,69,19,16,37,118,20,41,154,10,153,84,15,47,38,92,235,60,28,39,34,110,70,106,90,5,53,51,18,130,76,118,228,97,111,128,109,32,102,33,59,88,35,100,210,86,73,29,23,63,172,45,35,31,7,54,73,102,52,18,1,2,6,8,17,109,132,24,174,86,63,4,36,14,3,99,111,135,4,85,236,148,2,182,171,28,146,17,35,53,18,42,31,39,62,97,97,136,11,86,86,4,3,169,35,113,6,42,13,14,17,77,181,31,56,45,5,32,74,17,11,58,31,19,19,5,106,58,46,28,6,31,33,10,27,53,85,12,7,62,31,32,34,66,30,33,97,9,29,48,20,119,64,153,72,95,52,12,35,21,24,76,31,208,17,32,53,20,161,6,98,92,10,44,30,62,62,16,13,60,10,123,27,79,22,19,203,27,43,185,269,84,28,53,128,1,4,193,242,45,69,95,25,34,176,22,43,13,89,58,146,26,49,158,76,50,16,60,197,3,155,5,95,16,18,164,24,60,103,67,23,150,28,28,95,26,26,28,22,8,23,47,10,11,117,64,11,12,14,20,9,19,2,72,8,28,129,139,7,123,159,6,178,1,39,26,101,37,203,101,69,163,125,82,44,60,93,151,19,105,38,57,143,130,60,89,6,77,54,53,49,62,57,19,61,42,87,16,1,54,18,7,101,14,31,31,42,42,39,91,22,149,3,129,7,12,95,41,23,50,44,44,53,12,15,75,217,16,234,7,3,9,155,2,11,22,28,32,77,22,15,71,98,102,10,22,65,48,92,14,84,62,82,62,154,64,148,174,80,25,28,2,9,64,81,52,162,189,96,115,64,125,77,52,213,65,42,121,30,135,43,38,7,40,262,134,27,24,52,48,35,85,9,14,23,20,15,67,102,105,5,145,14,60,16,87,64,131,23,76,2,89,61,20,35,29,96,40,13,7,164,104,25,63,28,47,208,47,36,25,29,105,19,40,31,55,69,57,87,18,112,78,16,124,12,127,80,38,6,116,27,9,94,45,124,142,112,102,135,69,51,30,57,66,81,12,55,14,28,136,11,73,107,204,50,33,6,1,28,9,183,32,87,1,215,72,27,8,16,45,15,132,29,128,33,87,253,57,24,83,2,51,15,47,28,78,15,92,38,213,59,33,94,64,43,66,6,14,30,30,135,28,43,2,42,14,48,54,138,9,140,135,36,107,19,19,54,111,37,111,28,219,41,5,90,78,14,31,83,21,29,86,110,27,17,5,28,38,16,20,106,6,40,87,137,83,30,46,73,33,23,49,15,9,75,9,26,145,6,51,2,88,106,34,27,46,64,49,152,12,26,52,36,214,23,201,167,50,83,13,15,59,238,142,100,14,78,4,27,33,50,5,124,39,72,24,35,5,40,169,7,92,53,8,50,93,82,23,161,45,90,43,18,117,15,68,61,115,228,27,79,30,11,119,15,130,47,18,35,126,146,80,55,108,23,29,50,120,10,45,67,169,83,35,43,26,10,99,48,15,137,2,193,93,95,25,19,75,21,105,54,53,157,194,84,67,13,72,134,5,190,10,58,82,111,104,147,10,43,64,141,17,33,49,13,220,82,23,2,61,61,24,172,137,56,5,1,51,24,17,148,102,81,40,46,26,145,117,64,109,10,81,28,193,16,2,28,19,39,34,39,59,80,94,23,145,38,21,23,6,39,65,90,21,29,77,43,23,2,2,9,72,21,31,7,249,104,68,15,179,21,147,23,1,39,84,180,93,58,60,22,30,32,46,123,3,29,5,191,21,10,34,112,53,96,19,7,121,128,47,21,3,21,46,7,138,10,37,76,153,127,2,17,73,2,7,39,38,70,213,109,19,41,38,18,49,26,74,36,197,56,47,71,20,39,61,43,7,16,37,38,21,28,140,35,39,81,25,43,9,38,56,31,1,75,99,90,119,44,1,72,69,45,9,141,32,202,32,8,134,42,13,26,31,115,65,19,32,89,40,104,49,61,6,105,78,177,4,49,8,16,98,6,123,42,140,21,62,46,2,13,3,22,16,9,9,13,70],\"y0\":\" \",\"yaxis\":\"y\",\"type\":\"box\"}],                        {\"template\":{\"data\":{\"bar\":[{\"error_x\":{\"color\":\"#2a3f5f\"},\"error_y\":{\"color\":\"#2a3f5f\"},\"marker\":{\"line\":{\"color\":\"#E5ECF6\",\"width\":0.5},\"pattern\":{\"fillmode\":\"overlay\",\"size\":10,\"solidity\":0.2}},\"type\":\"bar\"}],\"barpolar\":[{\"marker\":{\"line\":{\"color\":\"#E5ECF6\",\"width\":0.5},\"pattern\":{\"fillmode\":\"overlay\",\"size\":10,\"solidity\":0.2}},\"type\":\"barpolar\"}],\"carpet\":[{\"aaxis\":{\"endlinecolor\":\"#2a3f5f\",\"gridcolor\":\"white\",\"linecolor\":\"white\",\"minorgridcolor\":\"white\",\"startlinecolor\":\"#2a3f5f\"},\"baxis\":{\"endlinecolor\":\"#2a3f5f\",\"gridcolor\":\"white\",\"linecolor\":\"white\",\"minorgridcolor\":\"white\",\"startlinecolor\":\"#2a3f5f\"},\"type\":\"carpet\"}],\"choropleth\":[{\"colorbar\":{\"outlinewidth\":0,\"ticks\":\"\"},\"type\":\"choropleth\"}],\"contour\":[{\"colorbar\":{\"outlinewidth\":0,\"ticks\":\"\"},\"colorscale\":[[0.0,\"#0d0887\"],[0.1111111111111111,\"#46039f\"],[0.2222222222222222,\"#7201a8\"],[0.3333333333333333,\"#9c179e\"],[0.4444444444444444,\"#bd3786\"],[0.5555555555555556,\"#d8576b\"],[0.6666666666666666,\"#ed7953\"],[0.7777777777777778,\"#fb9f3a\"],[0.8888888888888888,\"#fdca26\"],[1.0,\"#f0f921\"]],\"type\":\"contour\"}],\"contourcarpet\":[{\"colorbar\":{\"outlinewidth\":0,\"ticks\":\"\"},\"type\":\"contourcarpet\"}],\"heatmap\":[{\"colorbar\":{\"outlinewidth\":0,\"ticks\":\"\"},\"colorscale\":[[0.0,\"#0d0887\"],[0.1111111111111111,\"#46039f\"],[0.2222222222222222,\"#7201a8\"],[0.3333333333333333,\"#9c179e\"],[0.4444444444444444,\"#bd3786\"],[0.5555555555555556,\"#d8576b\"],[0.6666666666666666,\"#ed7953\"],[0.7777777777777778,\"#fb9f3a\"],[0.8888888888888888,\"#fdca26\"],[1.0,\"#f0f921\"]],\"type\":\"heatmap\"}],\"heatmapgl\":[{\"colorbar\":{\"outlinewidth\":0,\"ticks\":\"\"},\"colorscale\":[[0.0,\"#0d0887\"],[0.1111111111111111,\"#46039f\"],[0.2222222222222222,\"#7201a8\"],[0.3333333333333333,\"#9c179e\"],[0.4444444444444444,\"#bd3786\"],[0.5555555555555556,\"#d8576b\"],[0.6666666666666666,\"#ed7953\"],[0.7777777777777778,\"#fb9f3a\"],[0.8888888888888888,\"#fdca26\"],[1.0,\"#f0f921\"]],\"type\":\"heatmapgl\"}],\"histogram\":[{\"marker\":{\"pattern\":{\"fillmode\":\"overlay\",\"size\":10,\"solidity\":0.2}},\"type\":\"histogram\"}],\"histogram2d\":[{\"colorbar\":{\"outlinewidth\":0,\"ticks\":\"\"},\"colorscale\":[[0.0,\"#0d0887\"],[0.1111111111111111,\"#46039f\"],[0.2222222222222222,\"#7201a8\"],[0.3333333333333333,\"#9c179e\"],[0.4444444444444444,\"#bd3786\"],[0.5555555555555556,\"#d8576b\"],[0.6666666666666666,\"#ed7953\"],[0.7777777777777778,\"#fb9f3a\"],[0.8888888888888888,\"#fdca26\"],[1.0,\"#f0f921\"]],\"type\":\"histogram2d\"}],\"histogram2dcontour\":[{\"colorbar\":{\"outlinewidth\":0,\"ticks\":\"\"},\"colorscale\":[[0.0,\"#0d0887\"],[0.1111111111111111,\"#46039f\"],[0.2222222222222222,\"#7201a8\"],[0.3333333333333333,\"#9c179e\"],[0.4444444444444444,\"#bd3786\"],[0.5555555555555556,\"#d8576b\"],[0.6666666666666666,\"#ed7953\"],[0.7777777777777778,\"#fb9f3a\"],[0.8888888888888888,\"#fdca26\"],[1.0,\"#f0f921\"]],\"type\":\"histogram2dcontour\"}],\"mesh3d\":[{\"colorbar\":{\"outlinewidth\":0,\"ticks\":\"\"},\"type\":\"mesh3d\"}],\"parcoords\":[{\"line\":{\"colorbar\":{\"outlinewidth\":0,\"ticks\":\"\"}},\"type\":\"parcoords\"}],\"pie\":[{\"automargin\":true,\"type\":\"pie\"}],\"scatter\":[{\"marker\":{\"colorbar\":{\"outlinewidth\":0,\"ticks\":\"\"}},\"type\":\"scatter\"}],\"scatter3d\":[{\"line\":{\"colorbar\":{\"outlinewidth\":0,\"ticks\":\"\"}},\"marker\":{\"colorbar\":{\"outlinewidth\":0,\"ticks\":\"\"}},\"type\":\"scatter3d\"}],\"scattercarpet\":[{\"marker\":{\"colorbar\":{\"outlinewidth\":0,\"ticks\":\"\"}},\"type\":\"scattercarpet\"}],\"scattergeo\":[{\"marker\":{\"colorbar\":{\"outlinewidth\":0,\"ticks\":\"\"}},\"type\":\"scattergeo\"}],\"scattergl\":[{\"marker\":{\"colorbar\":{\"outlinewidth\":0,\"ticks\":\"\"}},\"type\":\"scattergl\"}],\"scattermapbox\":[{\"marker\":{\"colorbar\":{\"outlinewidth\":0,\"ticks\":\"\"}},\"type\":\"scattermapbox\"}],\"scatterpolar\":[{\"marker\":{\"colorbar\":{\"outlinewidth\":0,\"ticks\":\"\"}},\"type\":\"scatterpolar\"}],\"scatterpolargl\":[{\"marker\":{\"colorbar\":{\"outlinewidth\":0,\"ticks\":\"\"}},\"type\":\"scatterpolargl\"}],\"scatterternary\":[{\"marker\":{\"colorbar\":{\"outlinewidth\":0,\"ticks\":\"\"}},\"type\":\"scatterternary\"}],\"surface\":[{\"colorbar\":{\"outlinewidth\":0,\"ticks\":\"\"},\"colorscale\":[[0.0,\"#0d0887\"],[0.1111111111111111,\"#46039f\"],[0.2222222222222222,\"#7201a8\"],[0.3333333333333333,\"#9c179e\"],[0.4444444444444444,\"#bd3786\"],[0.5555555555555556,\"#d8576b\"],[0.6666666666666666,\"#ed7953\"],[0.7777777777777778,\"#fb9f3a\"],[0.8888888888888888,\"#fdca26\"],[1.0,\"#f0f921\"]],\"type\":\"surface\"}],\"table\":[{\"cells\":{\"fill\":{\"color\":\"#EBF0F8\"},\"line\":{\"color\":\"white\"}},\"header\":{\"fill\":{\"color\":\"#C8D4E3\"},\"line\":{\"color\":\"white\"}},\"type\":\"table\"}]},\"layout\":{\"annotationdefaults\":{\"arrowcolor\":\"#2a3f5f\",\"arrowhead\":0,\"arrowwidth\":1},\"autotypenumbers\":\"strict\",\"coloraxis\":{\"colorbar\":{\"outlinewidth\":0,\"ticks\":\"\"}},\"colorscale\":{\"diverging\":[[0,\"#8e0152\"],[0.1,\"#c51b7d\"],[0.2,\"#de77ae\"],[0.3,\"#f1b6da\"],[0.4,\"#fde0ef\"],[0.5,\"#f7f7f7\"],[0.6,\"#e6f5d0\"],[0.7,\"#b8e186\"],[0.8,\"#7fbc41\"],[0.9,\"#4d9221\"],[1,\"#276419\"]],\"sequential\":[[0.0,\"#0d0887\"],[0.1111111111111111,\"#46039f\"],[0.2222222222222222,\"#7201a8\"],[0.3333333333333333,\"#9c179e\"],[0.4444444444444444,\"#bd3786\"],[0.5555555555555556,\"#d8576b\"],[0.6666666666666666,\"#ed7953\"],[0.7777777777777778,\"#fb9f3a\"],[0.8888888888888888,\"#fdca26\"],[1.0,\"#f0f921\"]],\"sequentialminus\":[[0.0,\"#0d0887\"],[0.1111111111111111,\"#46039f\"],[0.2222222222222222,\"#7201a8\"],[0.3333333333333333,\"#9c179e\"],[0.4444444444444444,\"#bd3786\"],[0.5555555555555556,\"#d8576b\"],[0.6666666666666666,\"#ed7953\"],[0.7777777777777778,\"#fb9f3a\"],[0.8888888888888888,\"#fdca26\"],[1.0,\"#f0f921\"]]},\"colorway\":[\"#636efa\",\"#EF553B\",\"#00cc96\",\"#ab63fa\",\"#FFA15A\",\"#19d3f3\",\"#FF6692\",\"#B6E880\",\"#FF97FF\",\"#FECB52\"],\"font\":{\"color\":\"#2a3f5f\"},\"geo\":{\"bgcolor\":\"white\",\"lakecolor\":\"white\",\"landcolor\":\"#E5ECF6\",\"showlakes\":true,\"showland\":true,\"subunitcolor\":\"white\"},\"hoverlabel\":{\"align\":\"left\"},\"hovermode\":\"closest\",\"mapbox\":{\"style\":\"light\"},\"paper_bgcolor\":\"white\",\"plot_bgcolor\":\"#E5ECF6\",\"polar\":{\"angularaxis\":{\"gridcolor\":\"white\",\"linecolor\":\"white\",\"ticks\":\"\"},\"bgcolor\":\"#E5ECF6\",\"radialaxis\":{\"gridcolor\":\"white\",\"linecolor\":\"white\",\"ticks\":\"\"}},\"scene\":{\"xaxis\":{\"backgroundcolor\":\"#E5ECF6\",\"gridcolor\":\"white\",\"gridwidth\":2,\"linecolor\":\"white\",\"showbackground\":true,\"ticks\":\"\",\"zerolinecolor\":\"white\"},\"yaxis\":{\"backgroundcolor\":\"#E5ECF6\",\"gridcolor\":\"white\",\"gridwidth\":2,\"linecolor\":\"white\",\"showbackground\":true,\"ticks\":\"\",\"zerolinecolor\":\"white\"},\"zaxis\":{\"backgroundcolor\":\"#E5ECF6\",\"gridcolor\":\"white\",\"gridwidth\":2,\"linecolor\":\"white\",\"showbackground\":true,\"ticks\":\"\",\"zerolinecolor\":\"white\"}},\"shapedefaults\":{\"line\":{\"color\":\"#2a3f5f\"}},\"ternary\":{\"aaxis\":{\"gridcolor\":\"white\",\"linecolor\":\"white\",\"ticks\":\"\"},\"baxis\":{\"gridcolor\":\"white\",\"linecolor\":\"white\",\"ticks\":\"\"},\"bgcolor\":\"#E5ECF6\",\"caxis\":{\"gridcolor\":\"white\",\"linecolor\":\"white\",\"ticks\":\"\"}},\"title\":{\"x\":0.05},\"xaxis\":{\"automargin\":true,\"gridcolor\":\"white\",\"linecolor\":\"white\",\"ticks\":\"\",\"title\":{\"standoff\":15},\"zerolinecolor\":\"white\",\"zerolinewidth\":2},\"yaxis\":{\"automargin\":true,\"gridcolor\":\"white\",\"linecolor\":\"white\",\"ticks\":\"\",\"title\":{\"standoff\":15},\"zerolinecolor\":\"white\",\"zerolinewidth\":2}}},\"xaxis\":{\"anchor\":\"y\",\"domain\":[0.0,1.0],\"title\":{\"text\":\"ClusterID\"},\"categoryorder\":\"array\",\"categoryarray\":[2,0,1]},\"yaxis\":{\"anchor\":\"x\",\"domain\":[0.0,1.0],\"title\":{\"text\":\"Frequency\"}},\"legend\":{\"title\":{\"text\":\"ClusterID\"},\"tracegroupgap\":0},\"margin\":{\"t\":60},\"boxmode\":\"overlay\"},                        {\"responsive\": true}                    ).then(function(){\n",
              "                            \n",
              "var gd = document.getElementById('94a70257-e874-42e5-8212-0c42e8c2172c');\n",
              "var x = new MutationObserver(function (mutations, observer) {{\n",
              "        var display = window.getComputedStyle(gd).display;\n",
              "        if (!display || display === 'none') {{\n",
              "            console.log([gd, 'removed!']);\n",
              "            Plotly.purge(gd);\n",
              "            observer.disconnect();\n",
              "        }}\n",
              "}});\n",
              "\n",
              "// Listen for the removal of the full notebook cells\n",
              "var notebookContainer = gd.closest('#notebook-container');\n",
              "if (notebookContainer) {{\n",
              "    x.observe(notebookContainer, {childList: true});\n",
              "}}\n",
              "\n",
              "// Listen for the clearing of the current output cell\n",
              "var outputEl = gd.closest('.output');\n",
              "if (outputEl) {{\n",
              "    x.observe(outputEl, {childList: true});\n",
              "}}\n",
              "\n",
              "                        })                };                            </script>        </div>\n",
              "</body>\n",
              "</html>"
            ]
          },
          "metadata": {}
        }
      ]
    },
    {
      "cell_type": "code",
      "source": [
        "import plotly.express as px\n",
        "fig = px.box(rfm, x=\"ClusterID\", y=\"Recency\",color=\"ClusterID\")\n",
        "fig.show()"
      ],
      "metadata": {
        "colab": {
          "base_uri": "https://localhost:8080/",
          "height": 542
        },
        "id": "UK2rDhVfE12w",
        "outputId": "e5c09376-7f9e-4935-be64-52f7c27482e8"
      },
      "execution_count": 29,
      "outputs": [
        {
          "output_type": "display_data",
          "data": {
            "text/html": [
              "<html>\n",
              "<head><meta charset=\"utf-8\" /></head>\n",
              "<body>\n",
              "    <div>            <script src=\"https://cdnjs.cloudflare.com/ajax/libs/mathjax/2.7.5/MathJax.js?config=TeX-AMS-MML_SVG\"></script><script type=\"text/javascript\">if (window.MathJax) {MathJax.Hub.Config({SVG: {font: \"STIX-Web\"}});}</script>                <script type=\"text/javascript\">window.PlotlyConfig = {MathJaxConfig: 'local'};</script>\n",
              "        <script src=\"https://cdn.plot.ly/plotly-2.8.3.min.js\"></script>                <div id=\"b8c4a346-593c-4dad-939c-9637abcffc8a\" class=\"plotly-graph-div\" style=\"height:525px; width:100%;\"></div>            <script type=\"text/javascript\">                                    window.PLOTLYENV=window.PLOTLYENV || {};                                    if (document.getElementById(\"b8c4a346-593c-4dad-939c-9637abcffc8a\")) {                    Plotly.newPlot(                        \"b8c4a346-593c-4dad-939c-9637abcffc8a\",                        [{\"alignmentgroup\":\"True\",\"hovertemplate\":\"ClusterID=%{x}<br>Recency=%{y}<extra></extra>\",\"legendgroup\":\"2\",\"marker\":{\"color\":\"#636efa\"},\"name\":\"2\",\"notched\":false,\"offsetgroup\":\"2\",\"orientation\":\"v\",\"showlegend\":true,\"x\":[2,2,2,2,2,2,2,2,2,2,2,2,2,2,2,2,2,2,2,2,2,2,2,2,2,2,2,2,2,2,2,2,2,2,2,2,2,2,2,2,2,2,2,2,2,2,2,2,2,2,2,2,2,2,2,2,2,2,2,2,2,2,2,2,2,2,2,2,2,2,2,2,2,2,2,2,2,2,2,2,2,2,2,2,2,2,2,2,2,2,2,2,2,2,2,2,2,2,2,2,2,2,2,2,2,2,2,2,2,2,2,2,2,2,2,2,2,2,2,2,2,2,2,2,2,2,2,2,2,2,2,2,2,2,2,2,2,2,2,2,2,2,2,2,2,2,2,2,2,2,2,2,2,2,2,2,2,2,2,2,2,2,2,2,2,2,2,2,2,2,2,2,2,2,2,2,2,2,2,2,2,2,2,2,2,2,2,2,2,2,2,2,2,2,2,2,2,2,2,2,2,2,2,2,2,2,2,2,2,2,2,2,2,2,2,2,2,2,2,2,2,2,2,2,2,2,2,2,2,2,2,2,2,2,2,2,2,2,2,2,2,2,2,2,2,2,2,2,2,2,2,2,2,2,2,2,2,2,2,2,2,2,2,2,2,2,2,2,2,2,2,2,2,2,2,2,2,2,2,2,2,2,2,2,2,2,2,2,2,2,2,2,2,2,2,2,2,2,2,2,2,2,2,2,2,2,2,2,2,2,2,2,2,2,2,2,2,2,2,2,2,2,2,2,2,2,2,2,2,2,2,2,2,2,2,2,2,2,2,2,2,2,2,2,2,2,2,2,2,2,2,2,2,2,2,2,2,2,2,2,2,2,2,2,2,2,2,2,2,2,2,2,2,2,2,2,2,2,2,2,2,2,2,2,2,2,2,2,2,2,2,2,2,2,2,2,2,2,2,2,2,2,2,2,2,2,2,2,2,2,2,2,2,2,2,2,2,2,2,2,2,2,2,2,2,2,2,2,2,2,2,2,2,2,2,2,2,2,2,2,2,2,2,2,2,2,2,2,2,2,2,2,2,2,2,2,2,2,2,2,2,2,2,2,2,2,2,2,2,2,2,2,2,2,2,2,2,2,2,2,2,2,2,2,2,2,2,2,2,2,2,2,2,2,2,2,2,2,2,2,2,2,2,2,2,2,2,2,2,2,2,2,2,2,2,2,2,2,2,2,2,2,2,2,2,2,2,2,2,2,2,2,2,2,2,2,2,2,2,2,2,2,2,2,2,2,2,2,2,2,2,2,2,2,2,2,2,2,2,2,2,2,2,2,2,2,2,2,2,2,2,2,2,2,2,2,2,2,2,2,2,2,2,2,2,2,2,2,2,2,2,2,2,2,2,2,2,2,2,2,2,2,2,2,2,2,2,2,2,2,2,2,2,2,2,2,2,2,2,2,2,2,2,2,2,2,2,2,2,2,2,2,2,2,2,2,2,2,2,2,2,2,2,2,2,2,2,2,2,2,2,2,2,2,2,2,2,2,2,2,2,2,2,2,2,2,2,2,2,2,2,2,2,2,2,2,2,2,2,2,2,2,2,2,2,2,2,2,2,2,2,2,2,2,2,2,2,2,2,2,2,2,2,2,2,2,2,2,2,2,2,2,2,2,2,2,2,2,2,2,2,2,2,2,2,2,2,2,2,2,2,2,2,2,2,2,2,2,2,2,2,2,2,2,2,2,2,2,2,2,2,2,2,2,2,2,2,2,2,2,2,2,2,2,2,2,2,2,2,2,2,2,2,2,2,2,2,2,2,2,2,2,2,2,2,2,2,2,2,2,2,2,2,2,2,2,2,2,2,2,2,2,2,2,2,2,2,2,2,2,2,2,2,2,2,2,2,2,2,2,2,2,2,2,2,2,2,2,2,2,2,2,2,2,2,2,2,2,2,2,2,2,2,2,2,2,2,2,2,2,2,2,2,2,2,2,2,2,2,2,2,2,2,2,2,2,2,2,2,2,2,2,2,2,2,2,2,2,2,2,2,2,2,2,2,2,2,2,2,2,2,2,2,2,2,2,2,2,2,2,2,2,2,2,2,2,2,2,2,2,2,2,2,2,2,2,2,2,2,2,2,2,2,2,2,2,2,2,2,2,2,2,2,2,2,2,2,2,2,2,2,2,2,2,2,2,2,2,2,2,2,2,2,2,2,2,2,2,2,2,2,2,2,2,2,2,2,2,2,2,2,2,2,2,2,2,2,2,2,2,2,2,2,2,2,2,2,2,2,2,2,2,2,2,2,2,2,2,2,2,2,2,2,2,2,2,2,2,2,2,2,2,2,2,2,2,2,2,2,2,2,2,2,2,2,2,2,2,2,2,2,2,2,2,2,2,2,2,2,2,2,2,2,2,2,2,2,2,2,2,2,2,2,2,2,2,2,2,2,2,2,2,2,2,2,2,2,2],\"x0\":\" \",\"xaxis\":\"x\",\"y\":[325,309,203,231,213,286,290,310,314,184,337,302,322,300,216,162,194,366,242,155,335,165,314,337,300,232,283,266,352,197,165,357,310,302,260,281,226,315,246,238,233,316,189,364,277,231,275,211,238,154,334,321,324,358,329,371,205,291,370,179,233,352,314,332,371,235,249,316,238,210,191,373,256,334,359,183,167,260,280,177,213,321,261,144,282,172,266,289,372,210,137,282,185,365,326,281,142,275,213,185,204,264,148,160,300,287,305,197,211,155,239,291,195,317,173,322,371,356,253,290,211,249,253,190,372,191,266,178,157,233,372,238,268,261,273,196,332,202,143,312,281,267,336,135,267,239,199,272,201,225,211,261,202,156,268,262,365,322,155,189,359,136,267,164,154,350,315,153,200,260,172,276,256,268,256,353,365,280,329,203,184,191,254,258,165,182,235,190,178,197,231,240,232,274,311,282,242,311,243,260,204,182,318,215,172,242,205,308,155,306,311,312,173,252,215,256,164,196,178,300,150,151,186,285,182,324,154,317,302,266,270,218,246,280,268,245,216,218,199,240,150,373,287,287,151,203,250,366,309,254,366,304,183,301,157,358,158,211,252,168,325,244,357,188,203,297,325,182,351,168,294,263,170,168,360,175,210,153,371,307,145,286,206,212,205,197,277,154,224,284,175,265,283,276,266,266,319,266,364,324,154,273,143,353,318,372,233,212,238,265,215,173,275,296,330,201,217,238,371,246,176,178,372,325,183,234,175,277,317,253,141,154,331,225,196,211,222,224,206,234,162,157,234,218,259,270,164,156,214,365,319,294,357,184,190,296,217,310,361,217,298,142,305,319,180,189,310,246,256,253,164,149,206,174,311,300,187,235,259,185,150,310,151,280,371,168,226,371,305,274,242,238,203,184,184,311,262,265,169,156,200,168,241,279,234,371,187,208,264,217,213,198,146,273,373,190,247,293,263,231,280,319,165,161,369,196,199,366,179,196,267,148,311,185,261,209,252,206,335,253,147,204,153,212,245,365,296,252,146,270,246,245,197,211,169,158,172,266,255,169,198,151,269,273,318,274,212,178,372,172,212,256,281,307,214,181,329,166,310,240,245,169,232,239,225,164,218,356,372,320,324,322,259,366,153,356,224,238,318,175,365,318,225,357,233,310,238,276,217,298,237,148,280,168,323,337,354,171,200,289,270,198,326,283,333,365,207,156,332,365,157,372,254,361,240,143,213,169,185,269,171,325,289,148,188,263,170,312,322,253,261,248,263,330,312,361,282,261,353,337,160,362,171,188,330,155,232,253,172,162,287,216,277,351,177,150,161,176,252,288,336,182,140,300,178,157,203,335,232,189,316,217,296,251,266,171,264,200,283,142,233,364,200,197,211,282,304,217,244,240,183,357,149,142,305,207,319,336,171,253,303,186,276,368,311,198,156,226,252,149,193,368,173,177,247,190,153,172,371,372,193,238,310,276,364,303,235,164,210,245,259,309,195,269,173,220,268,259,364,287,291,283,298,154,263,239,248,218,142,182,170,205,189,315,366,262,367,249,246,156,295,268,281,251,224,137,236,360,170,266,234,317,202,218,189,211,169,260,365,257,176,360,352,372,196,176,339,169,212,213,330,217,171,195,156,283,157,290,332,197,266,246,322,269,264,301,301,190,301,262,212,197,190,149,217,177,274,164,191,173,296,160,359,296,371,276,185,171,189,164,290,242,363,193,364,154,373,248,231,276,218,185,182,235,253,245,274,222,245,177,169,367,188,361,365,255,240,226,218,266,368,261,301,363,297,171,372,371,214,318,184,293,272,259,364,281,364,162,173,191,360,226,156,183,227,196,186,333,365,140,186,194,366,298,289,276,370,211,235,184,238,186,226,188,266,254,218,371,287,149,184,245,156,193,265,313,142,317,261,158,164,287,317,232,161,184,334,275,246,238,194,283,288,217,201,177,226,273,168,252,233,309,308,263,182,312,204,362,207,227,240,307,360,364,279,300,354,178,311,302,238,237,218,189,163,306,218,329,162,184,312,246,147,219,176,144,191,203,364,157,190,260,247,358,289,220,205,161,261,280,308,360,359,279,176,269,371,217,196,358,205,331,242,190,252,235,213,238,216,173,311,169,275,372,218,276,227,263,357,141,235,260,252,168,184,187,169,320,200,231,372,234,177,358,262,158,198,254,158,280,179,190,298,302,217,184,372,304,368,323,142,204,184,169,173,364,303,211,322,161,224,172,158,164,246,373,309,281,372,159,232,146,198,248,170,141,371,373,165,210,241,371,364,165,144,184,236,224,281,361,234,256,372,154,152,333,153,202,358,287,172,288,257,154,373,216,329,273,312,329,248,368,289,367,213,148,242,210,294,360,150,140,300,176,175,353,217,248,191,261,150,199,156,325,236,205,219,263,217,191,325,218,300,354,139,357,277,180],\"y0\":\" \",\"yaxis\":\"y\",\"type\":\"box\"},{\"alignmentgroup\":\"True\",\"hovertemplate\":\"ClusterID=%{x}<br>Recency=%{y}<extra></extra>\",\"legendgroup\":\"0\",\"marker\":{\"color\":\"#EF553B\"},\"name\":\"0\",\"notched\":false,\"offsetgroup\":\"0\",\"orientation\":\"v\",\"showlegend\":true,\"x\":[0,0,0,0,0,0,0,0,0,0,0,0,0,0,0,0,0,0,0,0,0,0,0,0,0,0,0,0,0,0,0,0,0,0,0,0,0,0,0,0,0,0,0,0,0,0,0,0,0,0,0,0,0,0,0,0,0,0,0,0,0,0,0,0,0,0,0,0,0,0,0,0,0,0,0,0,0,0,0,0,0,0,0,0,0,0,0,0,0,0,0,0,0,0,0,0,0,0,0,0,0,0,0,0,0,0,0,0,0,0,0,0,0,0,0,0,0,0,0,0,0,0,0,0,0,0,0,0,0,0,0,0,0,0,0,0,0,0,0,0,0,0,0,0,0,0,0,0,0,0,0,0,0,0,0,0,0,0,0,0,0,0,0,0,0,0,0,0,0,0,0,0,0,0,0,0,0,0,0,0,0,0,0,0,0,0,0,0,0,0,0,0,0,0,0,0,0,0,0,0,0,0,0,0,0,0,0,0,0,0,0,0,0,0,0,0,0,0,0,0,0,0,0,0,0,0,0,0,0,0,0,0,0,0,0,0,0,0,0,0,0,0,0,0,0,0,0,0,0,0,0,0,0,0,0,0,0,0,0,0,0,0,0,0,0,0,0,0,0,0,0,0,0,0,0,0,0,0,0,0,0,0,0,0,0,0,0,0,0,0,0,0,0,0,0,0,0,0,0,0,0,0,0,0,0,0,0,0,0,0,0,0,0,0,0,0,0,0,0,0,0,0,0,0,0,0,0,0,0,0,0,0,0,0,0,0,0,0,0,0,0,0,0,0,0,0,0,0,0,0,0,0,0,0,0,0,0,0,0,0,0,0,0,0,0,0,0,0,0,0,0,0,0,0,0,0,0,0,0,0,0,0,0,0,0,0,0,0,0,0,0,0,0,0,0,0,0,0,0,0,0,0,0,0,0,0,0,0,0,0,0,0,0,0,0,0,0,0,0,0,0,0,0,0,0,0,0,0,0,0,0,0,0,0,0,0,0,0,0,0,0,0,0,0,0,0,0,0,0,0,0,0,0,0,0,0,0,0,0,0,0,0,0,0,0,0,0,0,0,0,0,0,0,0,0,0,0,0,0,0,0,0,0,0,0,0,0,0,0,0,0,0,0,0,0,0,0,0,0],\"x0\":\" \",\"xaxis\":\"x\",\"y\":[1,32,7,2,50,129,78,2,25,35,42,0,79,1,20,21,10,30,28,16,0,22,27,22,32,4,95,27,8,7,21,19,7,15,7,22,1,2,189,18,30,1,22,10,66,16,0,6,14,3,3,113,7,14,2,22,8,2,10,51,1,3,15,3,20,9,37,2,4,7,25,63,30,0,3,3,155,2,3,11,0,52,15,113,31,8,0,0,8,266,32,0,0,89,10,15,28,15,25,9,3,29,2,3,10,2,17,0,22,36,4,31,81,44,2,60,20,30,11,0,13,16,25,6,1,0,16,67,0,32,33,1,0,73,12,9,0,22,2,0,3,24,16,3,1,21,58,8,122,22,20,6,30,3,19,9,42,153,17,40,16,23,4,9,3,1,7,15,73,3,1,1,8,8,10,1,1,4,41,25,8,14,2,23,1,7,88,8,7,8,9,1,3,0,0,18,9,0,63,103,19,2,16,8,25,2,58,3,3,9,3,2,5,18,15,51,0,8,10,25,7,10,0,10,14,9,8,9,0,8,3,9,47,39,40,21,7,20,2,8,29,45,10,8,2,4,15,18,8,24,6,17,29,24,7,16,9,1,2,10,31,8,6,4,25,43,1,50,11,30,4,168,14,64,18,32,11,1,1,19,15,0,32,0,15,11,35,22,7,24,8,6,6,4,10,9,2,15,3,8,8,0,40,16,18,2,39,80,43,0,22,69,17,11,4,62,9,0,89,23,38,2,8,36,2,47,7,1,39,55,44,9,28,8,1,99,71,22,31,2,7,9,7,16,44,8,25,5,13,3,4,1,0,35,1,7,2,6,1,1,17,108,162,66,0,8,3,17,14,0,53,17,21,16,1,2,46,8,8,18,8,18,8,16,35,86,4,3,30,32,1,28,0,7,13,10,30,42,4,3,4,3,155,11,79,8,51,12,21,77,16,0,2,2,95,29,73,11,2,32,15,30,27,35,26,3,23,11,2,0,59,10,0,150,8,3,0,12,23,38,29,10,3,1,57,0,0,6,49,7,0,59,3,22,1,3,22,17,35,11,24,6,29,3,22,37,15,2,1,18,12,21,13,301,5,2,30,1,3,4,37,14,11,6,25,7,1,1,67,7,16,12,14,3,1,2,38,11,2],\"y0\":\" \",\"yaxis\":\"y\",\"type\":\"box\"},{\"alignmentgroup\":\"True\",\"hovertemplate\":\"ClusterID=%{x}<br>Recency=%{y}<extra></extra>\",\"legendgroup\":\"1\",\"marker\":{\"color\":\"#00cc96\"},\"name\":\"1\",\"notched\":false,\"offsetgroup\":\"1\",\"orientation\":\"v\",\"showlegend\":true,\"x\":[1,1,1,1,1,1,1,1,1,1,1,1,1,1,1,1,1,1,1,1,1,1,1,1,1,1,1,1,1,1,1,1,1,1,1,1,1,1,1,1,1,1,1,1,1,1,1,1,1,1,1,1,1,1,1,1,1,1,1,1,1,1,1,1,1,1,1,1,1,1,1,1,1,1,1,1,1,1,1,1,1,1,1,1,1,1,1,1,1,1,1,1,1,1,1,1,1,1,1,1,1,1,1,1,1,1,1,1,1,1,1,1,1,1,1,1,1,1,1,1,1,1,1,1,1,1,1,1,1,1,1,1,1,1,1,1,1,1,1,1,1,1,1,1,1,1,1,1,1,1,1,1,1,1,1,1,1,1,1,1,1,1,1,1,1,1,1,1,1,1,1,1,1,1,1,1,1,1,1,1,1,1,1,1,1,1,1,1,1,1,1,1,1,1,1,1,1,1,1,1,1,1,1,1,1,1,1,1,1,1,1,1,1,1,1,1,1,1,1,1,1,1,1,1,1,1,1,1,1,1,1,1,1,1,1,1,1,1,1,1,1,1,1,1,1,1,1,1,1,1,1,1,1,1,1,1,1,1,1,1,1,1,1,1,1,1,1,1,1,1,1,1,1,1,1,1,1,1,1,1,1,1,1,1,1,1,1,1,1,1,1,1,1,1,1,1,1,1,1,1,1,1,1,1,1,1,1,1,1,1,1,1,1,1,1,1,1,1,1,1,1,1,1,1,1,1,1,1,1,1,1,1,1,1,1,1,1,1,1,1,1,1,1,1,1,1,1,1,1,1,1,1,1,1,1,1,1,1,1,1,1,1,1,1,1,1,1,1,1,1,1,1,1,1,1,1,1,1,1,1,1,1,1,1,1,1,1,1,1,1,1,1,1,1,1,1,1,1,1,1,1,1,1,1,1,1,1,1,1,1,1,1,1,1,1,1,1,1,1,1,1,1,1,1,1,1,1,1,1,1,1,1,1,1,1,1,1,1,1,1,1,1,1,1,1,1,1,1,1,1,1,1,1,1,1,1,1,1,1,1,1,1,1,1,1,1,1,1,1,1,1,1,1,1,1,1,1,1,1,1,1,1,1,1,1,1,1,1,1,1,1,1,1,1,1,1,1,1,1,1,1,1,1,1,1,1,1,1,1,1,1,1,1,1,1,1,1,1,1,1,1,1,1,1,1,1,1,1,1,1,1,1,1,1,1,1,1,1,1,1,1,1,1,1,1,1,1,1,1,1,1,1,1,1,1,1,1,1,1,1,1,1,1,1,1,1,1,1,1,1,1,1,1,1,1,1,1,1,1,1,1,1,1,1,1,1,1,1,1,1,1,1,1,1,1,1,1,1,1,1,1,1,1,1,1,1,1,1,1,1,1,1,1,1,1,1,1,1,1,1,1,1,1,1,1,1,1,1,1,1,1,1,1,1,1,1,1,1,1,1,1,1,1,1,1,1,1,1,1,1,1,1,1,1,1,1,1,1,1,1,1,1,1,1,1,1,1,1,1,1,1,1,1,1,1,1,1,1,1,1,1,1,1,1,1,1,1,1,1,1,1,1,1,1,1,1,1,1,1,1,1,1,1,1,1,1,1,1,1,1,1,1,1,1,1,1,1,1,1,1,1,1,1,1,1,1,1,1,1,1,1,1,1,1,1,1,1,1,1,1,1,1,1,1,1,1,1,1,1,1,1,1,1,1,1,1,1,1,1,1,1,1,1,1,1,1,1,1,1,1,1,1,1,1,1,1,1,1,1,1,1,1,1,1,1,1,1,1,1,1,1,1,1,1,1,1,1,1,1,1,1,1,1,1,1,1,1,1,1,1,1,1,1,1,1,1,1,1,1,1,1,1,1,1,1,1,1,1,1,1,1,1,1,1,1,1,1,1,1,1,1,1,1,1,1,1,1,1,1,1,1,1,1,1,1,1,1,1,1,1,1,1,1,1,1,1,1,1,1,1,1,1,1,1,1,1,1,1,1,1,1,1,1,1,1,1,1,1,1,1,1,1,1,1,1,1,1,1,1,1,1,1,1,1,1,1,1,1,1,1,1,1,1,1,1,1,1,1,1,1,1,1,1,1,1,1,1,1,1,1,1,1,1,1,1,1,1,1,1,1,1,1,1,1,1,1,1,1,1,1,1,1,1,1,1,1,1,1,1,1,1,1,1,1,1,1,1,1,1,1,1,1,1,1,1,1,1,1,1,1,1,1,1,1,1,1,1,1,1,1,1,1,1,1,1,1,1,1,1,1,1,1,1,1,1,1,1,1,1,1,1,1,1,1,1,1,1,1,1,1,1,1,1,1,1,1,1,1,1,1,1,1,1,1,1,1,1,1,1,1,1,1,1,1,1,1,1,1,1,1,1,1,1,1,1,1,1,1,1,1,1,1,1,1,1,1,1,1,1,1,1,1,1,1,1,1,1,1,1,1,1,1,1,1,1,1,1,1,1,1,1,1,1,1,1,1,1,1,1,1,1,1,1,1,1,1,1,1,1,1,1,1,1,1,1,1,1,1,1,1,1,1,1,1,1,1,1,1,1,1,1,1,1,1,1,1,1,1,1,1,1,1,1,1,1,1,1,1,1,1,1,1,1,1,1,1,1,1,1,1,1,1,1,1,1,1,1,1,1,1,1,1,1,1,1,1,1,1,1,1,1,1,1,1,1,1,1,1,1,1,1,1,1,1,1,1,1,1,1,1,1,1,1,1,1,1,1,1,1,1,1,1,1,1,1,1,1,1,1,1,1,1,1,1,1,1,1,1,1,1,1,1,1,1,1,1,1,1,1,1,1,1,1,1,1,1,1,1,1,1,1,1,1,1,1,1,1,1,1,1,1,1,1,1,1,1,1,1,1,1,1,1,1,1,1,1,1,1,1,1,1,1,1,1,1,1,1,1,1,1,1,1,1,1,1,1,1,1,1,1,1,1,1,1,1,1,1,1,1,1,1,1,1,1,1,1,1,1,1,1,1,1,1,1,1,1,1,1,1,1,1,1,1,1,1,1,1,1,1,1,1,1,1,1,1,1,1,1,1,1,1,1,1,1,1,1,1,1,1,1,1,1,1,1,1,1,1,1,1,1,1,1,1,1,1,1,1,1,1,1,1,1,1,1,1,1,1,1,1,1,1,1,1,1,1,1,1,1,1,1,1,1,1,1,1,1,1,1,1,1,1,1,1,1,1,1,1,1,1,1,1,1,1,1,1,1,1,1,1,1,1,1,1,1,1,1,1,1,1,1,1,1,1,1,1,1,1,1,1,1,1,1,1,1,1,1,1,1,1,1,1,1,1,1,1,1,1,1,1,1,1,1,1,1,1,1,1,1,1,1,1,1,1,1,1,1,1,1,1,1,1,1,1,1,1,1,1,1,1,1,1,1,1,1,1,1,1,1,1,1,1,1,1,1,1,1,1,1,1,1,1,1,1,1,1,1,1,1,1,1,1,1,1,1,1,1,1,1,1,1,1,1,1,1,1,1,1,1,1,1,1,1,1,1,1,1,1,1,1,1,1,1,1,1,1,1,1,1,1,1,1,1,1,1,1,1,1,1,1,1,1,1,1,1,1,1,1,1,1,1,1,1,1,1,1,1,1,1,1,1,1,1,1,1,1,1,1,1,1,1,1,1,1,1,1,1,1,1,1,1,1,1,1,1,1,1,1,1,1,1,1,1,1,1,1,1,1,1,1,1,1,1,1,1,1,1,1,1,1,1,1,1,1,1,1,1,1,1,1,1,1,1,1,1,1,1,1,1,1,1,1,1,1,1,1,1,1,1,1,1,1,1,1,1,1,1,1,1,1,1,1,1,1,1,1,1,1,1,1,1,1,1,1,1,1,1,1,1,1,1,1,1,1,1,1,1,1,1,1,1,1,1,1,1,1,1,1,1,1,1,1,1,1,1,1,1,1,1,1,1,1,1,1,1,1,1,1,1,1,1,1,1,1,1,1,1,1,1,1,1,1,1,1,1,1,1,1,1,1,1,1,1,1,1,1,1,1,1,1,1,1,1,1,1,1,1,1,1,1,1,1,1,1,1,1,1,1,1,1,1,1,1,1,1,1,1,1,1,1,1,1,1,1,1,1,1,1,1,1,1,1,1,1,1,1,1,1,1,1,1,1,1,1,1,1,1,1,1,1,1,1,1,1,1,1,1,1,1,1,1,1,1,1,1,1,1,1,1,1,1,1,1,1,1,1,1,1,1,1,1,1,1,1,1,1,1,1,1,1,1,1,1,1,1,1,1,1,1,1,1,1,1,1,1,1,1,1,1,1,1,1,1,1,1,1,1,1,1,1,1,1,1,1,1,1,1,1,1,1,1,1,1,1,1,1,1,1,1,1,1,1,1,1,1,1,1,1,1,1,1,1,1,1,1,1,1,1,1,1,1,1,1,1,1,1,1,1,1,1,1,1,1,1,1,1,1,1,1,1,1,1,1,1,1,1,1,1,1,1,1,1,1,1,1,1,1,1,1,1,1,1,1,1,1,1,1,1,1,1,1,1,1,1,1,1,1,1,1,1,1,1,1,1,1,1,1,1,1,1,1,1,1,1,1,1,1,1,1,1,1,1,1,1,1,1,1,1,1,1,1,1,1,1,1,1,1,1,1,1,1,1,1,1,1,1,1,1,1,1,1,1,1,1,1,1,1,1,1,1,1,1,1,1,1,1,1,1,1,1,1,1,1,1,1,1,1,1,1,1,1,1,1,1,1,1,1,1,1,1,1,1,1,1,1,1,1,1,1,1,1,1,1,1,1,1,1,1,1,1,1,1,1,1,1,1,1,1,1,1,1,1,1,1,1,1,1,1,1,1,1,1,1,1,1,1,1,1,1,1,1,1,1,1,1,1,1,1,1,1,1,1,1,1,1,1,1,1,1,1,1,1,1,1,1,1,1,1,1,1,1,1,1,1,1,1,1,1,1,1,1,1,1,1,1,1,1,1,1,1,1,1,1,1,1,1,1,1,1,1,1,1,1,1,1,1,1,1,1,1,1,1,1,1,1,1,1,1,1,1,1,1,1,1,1,1,1,1,1,1,1,1,1,1,1,1,1,1,1,1,1,1,1,1,1,1,1,1,1,1,1,1,1,1,1,1,1,1,1,1,1,1,1,1,1,1,1,1,1,1,1,1,1,1,1,1,1,1,1,1,1,1,1,1,1,1,1,1,1,1,1,1,1,1,1,1,1,1,1,1,1,1,1,1,1,1,1,1,1,1,1,1,1,1,1,1,1,1,1,1,1,1,1,1,1,1,1,1,1,1,1,1,1,1,1,1,1,1,1,1,1,1,1,1,1,1,1,1,1,1,1,1,1,1,1,1,1,1,1,1,1,1,1,1,1,1,1,1,1,1,1,1,1,1,1,1,1,1,1,1,1,1,1,1,1,1,1,1,1,1,1,1,1,1,1,1,1,1,1,1,1,1,1,1,1,1,1,1,1,1,1,1,1,1,1,1,1,1,1,1,1,1,1,1,1,1,1,1,1,1,1,1,1,1,1,1,1,1,1,1,1,1,1,1,1,1,1,1,1,1,1,1,1,1,1,1,1,1,1,1,1,1,1,1,1,1,1,1,1,1,1,1,1,1,1,1,1,1,1,1,1,1,1,1,1,1,1,1,1,1,1,1,1,1,1,1,1,1,1,1,1,1,1,1,1,1,1,1,1,1,1,1,1,1,1,1,1,1,1,1,1,1,1,1,1,1,1,1,1,1,1,1,1,1,1,1,1,1,1,1,1,1,1,1,1,1,1,1,1,1,1,1,1,1,1,1,1,1,1,1,1,1,1,1,1,1,1,1,1,1,1,1,1,1,1,1,1,1,1,1,1,1,1,1,1,1,1,1,1,1,1,1,1,1,1,1,1,1,1,1,1,1,1,1,1,1,1,1,1,1,1,1,1,1,1,1,1,1,1,1,1,1,1,1,1,1,1,1,1,1,1,1,1,1,1,1,1,1,1,1,1,1,1,1,1,1,1,1,1,1,1,1,1,1,1,1,1,1,1,1,1,1,1,1,1,1,1,1,1,1,1,1,1,1,1,1,1,1,1,1,1,1,1,1,1,1,1,1,1,1,1,1,1,1,1,1,1,1,1,1,1,1,1,1,1,1,1,1,1,1,1,1,1,1,1,1,1],\"x0\":\" \",\"xaxis\":\"x\",\"y\":[74,18,35,22,1,51,109,7,3,44,71,24,2,81,21,4,28,15,79,21,71,63,15,35,45,118,49,148,21,49,32,74,66,112,63,15,95,0,77,11,8,42,84,99,13,2,21,57,43,16,133,52,72,43,57,70,93,1,45,9,7,142,53,3,3,16,9,38,62,9,81,20,22,17,133,25,142,65,84,77,0,63,78,142,38,1,0,81,8,59,14,29,130,91,28,29,29,74,46,78,38,49,1,4,72,39,8,35,34,20,72,39,3,16,7,38,28,91,108,37,50,9,28,28,58,21,78,57,77,22,51,57,1,84,28,21,15,14,105,3,9,56,58,89,32,23,114,24,127,129,33,4,21,106,2,148,10,10,18,29,10,7,57,150,9,4,11,24,51,0,7,27,25,27,120,69,6,20,79,19,63,6,29,96,0,105,3,150,70,4,31,84,3,4,27,70,113,77,63,133,128,80,86,116,51,7,137,59,16,19,20,4,1,8,2,9,64,52,18,36,44,101,147,95,2,70,74,59,2,5,2,31,58,33,143,69,65,28,21,30,96,107,78,51,25,83,57,3,17,44,8,24,87,62,67,23,30,41,17,11,58,39,22,2,4,138,127,7,16,63,87,4,34,121,77,23,1,16,14,25,45,130,35,143,15,1,8,5,9,6,7,88,9,2,111,6,29,18,0,73,30,22,22,3,77,21,106,105,55,8,2,72,6,3,63,0,22,30,10,38,54,57,137,79,8,98,30,13,63,63,24,71,12,23,81,9,129,0,3,125,3,20,70,20,70,98,39,2,128,43,2,30,8,116,21,19,93,4,77,93,22,72,49,21,107,84,18,39,25,9,13,5,32,48,94,8,21,121,45,18,35,63,26,7,3,45,64,44,7,14,39,10,18,94,60,10,18,9,14,58,93,9,8,56,121,126,77,59,80,12,73,24,10,95,111,92,50,17,17,124,91,3,13,11,61,60,52,36,30,112,63,15,40,63,121,17,59,38,7,0,103,3,119,22,6,8,3,21,1,63,0,69,71,16,2,81,38,31,92,13,76,67,69,63,10,15,65,7,70,121,79,58,17,66,8,49,89,80,98,25,120,10,74,1,21,72,126,17,0,73,8,106,133,43,4,63,134,39,50,107,18,9,10,18,66,73,4,1,91,22,23,26,24,17,28,38,57,99,10,98,60,37,45,65,77,57,104,51,135,7,10,17,22,16,70,63,2,8,0,126,73,72,20,59,85,49,58,29,40,14,78,33,42,85,39,11,95,25,65,27,5,6,81,83,143,18,40,16,49,22,24,14,31,15,14,10,64,35,107,52,5,46,44,64,25,28,39,11,88,23,39,116,30,58,4,99,24,32,67,36,51,15,73,30,8,119,9,16,34,45,42,113,10,9,85,59,148,50,74,18,17,2,62,58,24,30,38,25,4,7,31,31,14,116,35,119,49,38,28,36,135,27,4,17,71,2,94,95,53,123,11,32,53,49,62,70,1,63,33,81,102,6,12,9,75,3,42,65,116,66,137,30,51,63,5,28,41,39,55,23,28,144,5,18,32,57,21,15,17,24,5,10,64,24,91,51,87,95,8,56,0,17,57,73,30,6,1,119,53,63,85,54,2,0,6,70,119,92,0,26,21,20,49,15,71,36,79,56,3,49,49,52,53,1,35,22,74,10,57,85,108,34,22,16,21,78,64,2,10,6,1,4,78,20,21,8,70,48,14,72,59,38,29,26,16,65,11,29,31,3,14,45,133,9,115,109,76,52,46,16,6,121,60,62,1,21,28,77,32,26,108,8,31,19,123,64,105,28,63,20,4,128,40,101,124,32,3,2,56,11,36,137,4,84,51,30,22,13,22,3,19,3,83,10,7,122,60,1,129,1,45,3,2,133,46,48,35,74,19,39,86,70,38,97,10,32,50,84,40,66,8,67,106,3,59,1,10,94,10,90,52,89,30,11,2,1,42,3,91,109,28,51,31,43,21,9,80,42,29,8,110,6,1,50,50,7,108,150,73,50,87,30,20,7,8,10,2,39,17,7,18,107,70,50,7,46,106,20,64,10,114,123,22,63,16,15,16,44,20,126,38,120,9,5,59,42,18,31,21,108,43,51,25,37,8,32,8,64,0,140,129,33,118,106,10,70,15,34,91,21,3,10,84,56,17,49,6,21,98,7,0,1,53,18,8,18,59,10,154,109,147,97,28,17,11,73,42,71,19,10,17,49,38,26,50,6,25,50,42,25,87,63,46,23,21,10,100,60,17,32,63,1,23,107,31,36,59,24,57,64,15,9,58,3,23,10,17,18,56,63,6,75,95,110,34,0,179,12,2,16,40,49,14,34,21,6,19,10,43,10,3,71,8,0,31,56,8,90,3,50,35,50,15,21,58,8,4,66,76,3,17,4,86,26,28,19,60,23,2,15,30,70,106,43,30,136,3,1,31,14,2,13,28,23,24,42,1,5,24,46,7,3,38,1,11,15,112,28,43,86,44,14,74,144,4,58,43,28,7,16,111,57,50,3,126,54,25,9,6,28,16,63,3,2,52,50,60,8,14,74,36,73,63,20,9,3,28,52,17,9,89,52,34,63,22,57,8,77,118,35,59,12,8,51,25,28,6,2,3,2,8,12,76,19,26,18,131,78,9,84,7,22,10,20,1,73,2,16,35,85,70,115,29,50,31,108,4,72,56,13,71,22,8,78,24,11,58,7,9,95,14,49,29,67,34,127,106,36,56,56,71,18,15,38,45,47,115,146,50,11,35,53,42,33,38,11,9,32,79,30,7,71,3,89,71,42,30,64,24,22,4,11,40,7,70,37,31,77,45,93,9,104,77,21,20,9,53,103,42,3,83,8,30,17,17,141,23,28,9,17,17,14,133,129,49,84,6,22,65,59,49,17,127,14,2,51,45,3,10,133,30,73,0,3,44,17,68,25,8,71,17,65,28,69,13,119,60,2,8,91,58,78,25,84,9,0,59,1,44,87,51,36,65,112,1,28,9,44,66,73,64,133,121,35,15,126,66,99,134,106,63,150,21,23,15,56,3,30,65,46,58,49,21,42,28,9,66,63,60,63,95,74,109,63,3,43,48,63,103,52,34,31,53,65,80,115,86,0,34,71,28,39,95,25,74,56,20,40,136,7,128,39,8,39,4,15,9,112,15,0,91,17,33,83,25,9,84,24,58,37,14,26,22,78,7,21,130,54,8,25,29,29,24,93,28,84,8,34,42,1,112,13,76,39,115,29,92,22,94,27,20,17,7,80,52,22,11,44,63,1,32,83,24,1,32,18,21,18,6,10,113,53,76,3,36,59,23,28,11,8,49,18,2,103,11,31,37,68,120,24,23,49,46,70,15,100,29,34,26,7,78,51,35,56,27,51,9,35,32,10,49,3,116,99,74,4,44,16,89,52,133,104,165,18,36,90,92,8,44,22,43,24,105,50,167,39,39,18,87,72,80,48,52,23,8,17,116,119,3,27,32,17,1,139,59,34,8,11,145,23,11,35,14,48,65,114,14,65,48,15,77,8,133,12,39,50,0,60,65,24,64,31,63,115,5,68,132,24,9,10,29,25,9,43,8,0,112,75,106,45,50,45,49,35,78,16,106,2,63,48,43,2,50,72,98,28,57,43,44,64,24,58,63,45,37,18,51,3,136,18,15,40,7,25,21,40,100,32,14,1,1,92,59,79,0,23,16,7,19,3,15,19,66,3,20,63,111,133,82,7,16,1,0,33,14,31,73,19,16,22,2,17,83,16,76,88,24,21,122,29,11,18,43,3,54,87,29,11,23,21,34,35,3,2,46,38,16,45,11,29,42,91,91,86,7,64,30,21,37,119,85,53,32,144,44,3,65,9,16,21,44,2,16,81,100,22,58,98,106,11,87,49,8,41,6,61,65,17,84,7,58,56,72,51,38,17,51,21,59,18,52,87,2,133,4,38,49,8,15,63,16,10,7,50,58,94,15,125,93,49,60,72,66,63,16,44,15,39,74,3,2,58,22,30,54,24,44,88,80,18,78,80,29,36,56,44,86,32,70,40,77,56,33,23,61,52,31,50,16,73,70,2,116,22,20,71,5,30,116,8,9,22,107,138,37,91,17,2,63,119,34,71,0,127,43,17,27,36,106,24,74,15,43,10,31,20,17,62,32,0,6,9,31,52,11,17,18,36,1,17,81,32,65,8,3,60,74,89,59,28,52,49,60,144,18,94,69,18,12,18,53,56,21,43,26,44,112,24,80,105,56,63,27,28,5,66,1,45,33,0,135,87,44,63,98,27,63,20,19,33,73,23,51,87,63,24,9,75,15,76,32,46,72,2,8,49,4,106,24,31,19,21,4,51,29,60,24,80,3,21,18,4,106,2,53,95,2,34,23,20,5,53,14,2,2,126,73,70,112,79,70,68,50,74,60,15,3,3,40,30,74,32,69,14,30,3,51,80,78,29,73,16,31,22,24,105,4,38,71,15,140,9,15,18,67,14,23,27,54,33,42,72,4,60,0,75,43,68,134,36,45,84,2,77,14,25,90,25,45,51,31,51,78,52,46,28,10,24,17,44,30,57,113,64,7,96,19,47,57,56,67,9,59,79,73,99,9,19,122,7,3,56,88,10,64,22,102,142,98,22,4,102,2,95,15,38,50,92,38,0,127,39,36,63,49,42,52,3,9,23,14,105,59,28,22,21,76,63,11,24,30,66,66,37,14,34,1,0,64,25,7,11,115,28,81,28,63,22,35,8,23,49,60,20,115,3,25,52,0,54,25,138,3,56,122,108,29,0,8,86,38,115,7,3,38,2,77,3,60,12,29,2,4,6,10,29,22,72,45,4,50,16,29,7,28,40,10,30,44,60,78,110,63,11,85,15,77,29,137,26,2,31,8,112,84,114,27,128,27,81,8,58,27,113,8,17,17,35,35,77,21,24,32,108,34,122,6,27,3,49,21,8,1,17,9,28,46,5,7,2,118,49,151,4,15,106,15,0,105,22,51,23,74,17,7,31,21,28,21,32,38,49,74,4,43,55,56,7,46,10,105,58,35,29,23,53,53,52,39,59,31,6,64,18,15,95,2,34,24,12,10,107,52,14,119,3,116,17,4,40,106,147,51,138,1,126,107,41,34,57,129,21,25,8,31,3,7,28,16,100,11,20,14,94,77,138,17,24,45,99,7,14,17,13,22,123,85,93,156,45,14,85,14,7,35,128,50,23,10,16,48,22,72,16,40,39,70,10,64,3,18,14,7,19,77,21,114,125,4,35,0,15,11,2,43,79,41,49,15,44,18,71,120,32,17,87,1,1,28,147,39,0,17,126,14,42,78,22,50,15,9,9,15,44,78,73,3,64,58,0,0,7,75,16,8,2,69,24,28,71,127,30,14,16,53,23,1,10,0,53,120,53,29,25,8,42,23,42,129,0,19,13,94,18,13,23,7,70,28,4,6,108,99,1,72,84,11,17,49,32,40,52,56,129,5,59,20,32,14,80,5,1,30,8,30,86,119,0,64,60,134,20,28,10,72,10,3,140,25,18,3,65,0,42,15,43,0,73,3,52,23,9,43,16,126,135,131,37,16,29,34,2,10,44,25,95,126,57,8,3,78,38,53,8,8,18,11,112,3,99,4,0,16,21,32,50,14,7,56,10,96,24,20,71,52,84,152,73,26,29,24,39,21,36,81,73,10,15,12,36,3,71,50,4,8,1,32,49,2,46,41,26,41,106,84,80,11,1,58,12,29,106,79,43,2,3,11,31,128,18,55,71,43,22,84,28,20,70,8,58,3,44,87,63,0,132,44,10,35,133,28,51,137,4,8,48,130,7,36,71,39,65,116,20,31,37,51,24,28,35,21,55,11,121,73,36,11,3,22,69,27,3,31,80,107,51,35,98,3,64,21,35,31,18,53,24,3,44,65,9,8,21,132,5,74,39,113,22,44,18,35,25,15,97,60,92,81,11,7,126,10,36,37,18,11,25,23,29,60,18,8,28,62,116,7,45,50,31,134,2,74,12,8,56,9,30,3,60,32,58,86,6,30,113,8,4,23,14,14,77,71,63,94,105,70,35,28,1,25,88,30,28,2,21,92,49,8,81,71,29,2,45,9,71,6,23,113,16,86,50,88,38,24,172,42,22,71,133,37,1,17,20,57,73,7,42],\"y0\":\" \",\"yaxis\":\"y\",\"type\":\"box\"}],                        {\"template\":{\"data\":{\"bar\":[{\"error_x\":{\"color\":\"#2a3f5f\"},\"error_y\":{\"color\":\"#2a3f5f\"},\"marker\":{\"line\":{\"color\":\"#E5ECF6\",\"width\":0.5},\"pattern\":{\"fillmode\":\"overlay\",\"size\":10,\"solidity\":0.2}},\"type\":\"bar\"}],\"barpolar\":[{\"marker\":{\"line\":{\"color\":\"#E5ECF6\",\"width\":0.5},\"pattern\":{\"fillmode\":\"overlay\",\"size\":10,\"solidity\":0.2}},\"type\":\"barpolar\"}],\"carpet\":[{\"aaxis\":{\"endlinecolor\":\"#2a3f5f\",\"gridcolor\":\"white\",\"linecolor\":\"white\",\"minorgridcolor\":\"white\",\"startlinecolor\":\"#2a3f5f\"},\"baxis\":{\"endlinecolor\":\"#2a3f5f\",\"gridcolor\":\"white\",\"linecolor\":\"white\",\"minorgridcolor\":\"white\",\"startlinecolor\":\"#2a3f5f\"},\"type\":\"carpet\"}],\"choropleth\":[{\"colorbar\":{\"outlinewidth\":0,\"ticks\":\"\"},\"type\":\"choropleth\"}],\"contour\":[{\"colorbar\":{\"outlinewidth\":0,\"ticks\":\"\"},\"colorscale\":[[0.0,\"#0d0887\"],[0.1111111111111111,\"#46039f\"],[0.2222222222222222,\"#7201a8\"],[0.3333333333333333,\"#9c179e\"],[0.4444444444444444,\"#bd3786\"],[0.5555555555555556,\"#d8576b\"],[0.6666666666666666,\"#ed7953\"],[0.7777777777777778,\"#fb9f3a\"],[0.8888888888888888,\"#fdca26\"],[1.0,\"#f0f921\"]],\"type\":\"contour\"}],\"contourcarpet\":[{\"colorbar\":{\"outlinewidth\":0,\"ticks\":\"\"},\"type\":\"contourcarpet\"}],\"heatmap\":[{\"colorbar\":{\"outlinewidth\":0,\"ticks\":\"\"},\"colorscale\":[[0.0,\"#0d0887\"],[0.1111111111111111,\"#46039f\"],[0.2222222222222222,\"#7201a8\"],[0.3333333333333333,\"#9c179e\"],[0.4444444444444444,\"#bd3786\"],[0.5555555555555556,\"#d8576b\"],[0.6666666666666666,\"#ed7953\"],[0.7777777777777778,\"#fb9f3a\"],[0.8888888888888888,\"#fdca26\"],[1.0,\"#f0f921\"]],\"type\":\"heatmap\"}],\"heatmapgl\":[{\"colorbar\":{\"outlinewidth\":0,\"ticks\":\"\"},\"colorscale\":[[0.0,\"#0d0887\"],[0.1111111111111111,\"#46039f\"],[0.2222222222222222,\"#7201a8\"],[0.3333333333333333,\"#9c179e\"],[0.4444444444444444,\"#bd3786\"],[0.5555555555555556,\"#d8576b\"],[0.6666666666666666,\"#ed7953\"],[0.7777777777777778,\"#fb9f3a\"],[0.8888888888888888,\"#fdca26\"],[1.0,\"#f0f921\"]],\"type\":\"heatmapgl\"}],\"histogram\":[{\"marker\":{\"pattern\":{\"fillmode\":\"overlay\",\"size\":10,\"solidity\":0.2}},\"type\":\"histogram\"}],\"histogram2d\":[{\"colorbar\":{\"outlinewidth\":0,\"ticks\":\"\"},\"colorscale\":[[0.0,\"#0d0887\"],[0.1111111111111111,\"#46039f\"],[0.2222222222222222,\"#7201a8\"],[0.3333333333333333,\"#9c179e\"],[0.4444444444444444,\"#bd3786\"],[0.5555555555555556,\"#d8576b\"],[0.6666666666666666,\"#ed7953\"],[0.7777777777777778,\"#fb9f3a\"],[0.8888888888888888,\"#fdca26\"],[1.0,\"#f0f921\"]],\"type\":\"histogram2d\"}],\"histogram2dcontour\":[{\"colorbar\":{\"outlinewidth\":0,\"ticks\":\"\"},\"colorscale\":[[0.0,\"#0d0887\"],[0.1111111111111111,\"#46039f\"],[0.2222222222222222,\"#7201a8\"],[0.3333333333333333,\"#9c179e\"],[0.4444444444444444,\"#bd3786\"],[0.5555555555555556,\"#d8576b\"],[0.6666666666666666,\"#ed7953\"],[0.7777777777777778,\"#fb9f3a\"],[0.8888888888888888,\"#fdca26\"],[1.0,\"#f0f921\"]],\"type\":\"histogram2dcontour\"}],\"mesh3d\":[{\"colorbar\":{\"outlinewidth\":0,\"ticks\":\"\"},\"type\":\"mesh3d\"}],\"parcoords\":[{\"line\":{\"colorbar\":{\"outlinewidth\":0,\"ticks\":\"\"}},\"type\":\"parcoords\"}],\"pie\":[{\"automargin\":true,\"type\":\"pie\"}],\"scatter\":[{\"marker\":{\"colorbar\":{\"outlinewidth\":0,\"ticks\":\"\"}},\"type\":\"scatter\"}],\"scatter3d\":[{\"line\":{\"colorbar\":{\"outlinewidth\":0,\"ticks\":\"\"}},\"marker\":{\"colorbar\":{\"outlinewidth\":0,\"ticks\":\"\"}},\"type\":\"scatter3d\"}],\"scattercarpet\":[{\"marker\":{\"colorbar\":{\"outlinewidth\":0,\"ticks\":\"\"}},\"type\":\"scattercarpet\"}],\"scattergeo\":[{\"marker\":{\"colorbar\":{\"outlinewidth\":0,\"ticks\":\"\"}},\"type\":\"scattergeo\"}],\"scattergl\":[{\"marker\":{\"colorbar\":{\"outlinewidth\":0,\"ticks\":\"\"}},\"type\":\"scattergl\"}],\"scattermapbox\":[{\"marker\":{\"colorbar\":{\"outlinewidth\":0,\"ticks\":\"\"}},\"type\":\"scattermapbox\"}],\"scatterpolar\":[{\"marker\":{\"colorbar\":{\"outlinewidth\":0,\"ticks\":\"\"}},\"type\":\"scatterpolar\"}],\"scatterpolargl\":[{\"marker\":{\"colorbar\":{\"outlinewidth\":0,\"ticks\":\"\"}},\"type\":\"scatterpolargl\"}],\"scatterternary\":[{\"marker\":{\"colorbar\":{\"outlinewidth\":0,\"ticks\":\"\"}},\"type\":\"scatterternary\"}],\"surface\":[{\"colorbar\":{\"outlinewidth\":0,\"ticks\":\"\"},\"colorscale\":[[0.0,\"#0d0887\"],[0.1111111111111111,\"#46039f\"],[0.2222222222222222,\"#7201a8\"],[0.3333333333333333,\"#9c179e\"],[0.4444444444444444,\"#bd3786\"],[0.5555555555555556,\"#d8576b\"],[0.6666666666666666,\"#ed7953\"],[0.7777777777777778,\"#fb9f3a\"],[0.8888888888888888,\"#fdca26\"],[1.0,\"#f0f921\"]],\"type\":\"surface\"}],\"table\":[{\"cells\":{\"fill\":{\"color\":\"#EBF0F8\"},\"line\":{\"color\":\"white\"}},\"header\":{\"fill\":{\"color\":\"#C8D4E3\"},\"line\":{\"color\":\"white\"}},\"type\":\"table\"}]},\"layout\":{\"annotationdefaults\":{\"arrowcolor\":\"#2a3f5f\",\"arrowhead\":0,\"arrowwidth\":1},\"autotypenumbers\":\"strict\",\"coloraxis\":{\"colorbar\":{\"outlinewidth\":0,\"ticks\":\"\"}},\"colorscale\":{\"diverging\":[[0,\"#8e0152\"],[0.1,\"#c51b7d\"],[0.2,\"#de77ae\"],[0.3,\"#f1b6da\"],[0.4,\"#fde0ef\"],[0.5,\"#f7f7f7\"],[0.6,\"#e6f5d0\"],[0.7,\"#b8e186\"],[0.8,\"#7fbc41\"],[0.9,\"#4d9221\"],[1,\"#276419\"]],\"sequential\":[[0.0,\"#0d0887\"],[0.1111111111111111,\"#46039f\"],[0.2222222222222222,\"#7201a8\"],[0.3333333333333333,\"#9c179e\"],[0.4444444444444444,\"#bd3786\"],[0.5555555555555556,\"#d8576b\"],[0.6666666666666666,\"#ed7953\"],[0.7777777777777778,\"#fb9f3a\"],[0.8888888888888888,\"#fdca26\"],[1.0,\"#f0f921\"]],\"sequentialminus\":[[0.0,\"#0d0887\"],[0.1111111111111111,\"#46039f\"],[0.2222222222222222,\"#7201a8\"],[0.3333333333333333,\"#9c179e\"],[0.4444444444444444,\"#bd3786\"],[0.5555555555555556,\"#d8576b\"],[0.6666666666666666,\"#ed7953\"],[0.7777777777777778,\"#fb9f3a\"],[0.8888888888888888,\"#fdca26\"],[1.0,\"#f0f921\"]]},\"colorway\":[\"#636efa\",\"#EF553B\",\"#00cc96\",\"#ab63fa\",\"#FFA15A\",\"#19d3f3\",\"#FF6692\",\"#B6E880\",\"#FF97FF\",\"#FECB52\"],\"font\":{\"color\":\"#2a3f5f\"},\"geo\":{\"bgcolor\":\"white\",\"lakecolor\":\"white\",\"landcolor\":\"#E5ECF6\",\"showlakes\":true,\"showland\":true,\"subunitcolor\":\"white\"},\"hoverlabel\":{\"align\":\"left\"},\"hovermode\":\"closest\",\"mapbox\":{\"style\":\"light\"},\"paper_bgcolor\":\"white\",\"plot_bgcolor\":\"#E5ECF6\",\"polar\":{\"angularaxis\":{\"gridcolor\":\"white\",\"linecolor\":\"white\",\"ticks\":\"\"},\"bgcolor\":\"#E5ECF6\",\"radialaxis\":{\"gridcolor\":\"white\",\"linecolor\":\"white\",\"ticks\":\"\"}},\"scene\":{\"xaxis\":{\"backgroundcolor\":\"#E5ECF6\",\"gridcolor\":\"white\",\"gridwidth\":2,\"linecolor\":\"white\",\"showbackground\":true,\"ticks\":\"\",\"zerolinecolor\":\"white\"},\"yaxis\":{\"backgroundcolor\":\"#E5ECF6\",\"gridcolor\":\"white\",\"gridwidth\":2,\"linecolor\":\"white\",\"showbackground\":true,\"ticks\":\"\",\"zerolinecolor\":\"white\"},\"zaxis\":{\"backgroundcolor\":\"#E5ECF6\",\"gridcolor\":\"white\",\"gridwidth\":2,\"linecolor\":\"white\",\"showbackground\":true,\"ticks\":\"\",\"zerolinecolor\":\"white\"}},\"shapedefaults\":{\"line\":{\"color\":\"#2a3f5f\"}},\"ternary\":{\"aaxis\":{\"gridcolor\":\"white\",\"linecolor\":\"white\",\"ticks\":\"\"},\"baxis\":{\"gridcolor\":\"white\",\"linecolor\":\"white\",\"ticks\":\"\"},\"bgcolor\":\"#E5ECF6\",\"caxis\":{\"gridcolor\":\"white\",\"linecolor\":\"white\",\"ticks\":\"\"}},\"title\":{\"x\":0.05},\"xaxis\":{\"automargin\":true,\"gridcolor\":\"white\",\"linecolor\":\"white\",\"ticks\":\"\",\"title\":{\"standoff\":15},\"zerolinecolor\":\"white\",\"zerolinewidth\":2},\"yaxis\":{\"automargin\":true,\"gridcolor\":\"white\",\"linecolor\":\"white\",\"ticks\":\"\",\"title\":{\"standoff\":15},\"zerolinecolor\":\"white\",\"zerolinewidth\":2}}},\"xaxis\":{\"anchor\":\"y\",\"domain\":[0.0,1.0],\"title\":{\"text\":\"ClusterID\"},\"categoryorder\":\"array\",\"categoryarray\":[2,0,1]},\"yaxis\":{\"anchor\":\"x\",\"domain\":[0.0,1.0],\"title\":{\"text\":\"Recency\"}},\"legend\":{\"title\":{\"text\":\"ClusterID\"},\"tracegroupgap\":0},\"margin\":{\"t\":60},\"boxmode\":\"overlay\"},                        {\"responsive\": true}                    ).then(function(){\n",
              "                            \n",
              "var gd = document.getElementById('b8c4a346-593c-4dad-939c-9637abcffc8a');\n",
              "var x = new MutationObserver(function (mutations, observer) {{\n",
              "        var display = window.getComputedStyle(gd).display;\n",
              "        if (!display || display === 'none') {{\n",
              "            console.log([gd, 'removed!']);\n",
              "            Plotly.purge(gd);\n",
              "            observer.disconnect();\n",
              "        }}\n",
              "}});\n",
              "\n",
              "// Listen for the removal of the full notebook cells\n",
              "var notebookContainer = gd.closest('#notebook-container');\n",
              "if (notebookContainer) {{\n",
              "    x.observe(notebookContainer, {childList: true});\n",
              "}}\n",
              "\n",
              "// Listen for the clearing of the current output cell\n",
              "var outputEl = gd.closest('.output');\n",
              "if (outputEl) {{\n",
              "    x.observe(outputEl, {childList: true});\n",
              "}}\n",
              "\n",
              "                        })                };                            </script>        </div>\n",
              "</body>\n",
              "</html>"
            ]
          },
          "metadata": {}
        }
      ]
    },
    {
      "cell_type": "code",
      "source": [
        "fig=px.scatter_3d(x=rfm['Amount'],y=rfm['Frequency'], z=rfm['Recency'],color=kmeans.fit_predict(df))\n",
        "fig.show()"
      ],
      "metadata": {
        "colab": {
          "base_uri": "https://localhost:8080/",
          "height": 542
        },
        "id": "TSYalQeFE6bS",
        "outputId": "368c9df2-7297-4fea-a11b-1cfc95d25edb"
      },
      "execution_count": 32,
      "outputs": [
        {
          "output_type": "display_data",
          "data": {
            "text/html": [
              "<html>\n",
              "<head><meta charset=\"utf-8\" /></head>\n",
              "<body>\n",
              "    <div>            <script src=\"https://cdnjs.cloudflare.com/ajax/libs/mathjax/2.7.5/MathJax.js?config=TeX-AMS-MML_SVG\"></script><script type=\"text/javascript\">if (window.MathJax) {MathJax.Hub.Config({SVG: {font: \"STIX-Web\"}});}</script>                <script type=\"text/javascript\">window.PlotlyConfig = {MathJaxConfig: 'local'};</script>\n",
              "        <script src=\"https://cdn.plot.ly/plotly-2.8.3.min.js\"></script>                <div id=\"cd4ac432-120f-40ae-a4fa-05c577a11d54\" class=\"plotly-graph-div\" style=\"height:525px; width:100%;\"></div>            <script type=\"text/javascript\">                                    window.PLOTLYENV=window.PLOTLYENV || {};                                    if (document.getElementById(\"cd4ac432-120f-40ae-a4fa-05c577a11d54\")) {                    Plotly.newPlot(                        \"cd4ac432-120f-40ae-a4fa-05c577a11d54\",                        [{\"hovertemplate\":\"x=%{x}<br>y=%{y}<br>z=%{z}<br>color=%{marker.color}<extra></extra>\",\"legendgroup\":\"\",\"marker\":{\"color\":[2,0,1,1,2,1,2,2,2,1,0,1,0,1,2,0,1,1,2,1,0,1,1,2,1,1,2,0,1,1,1,2,1,2,1,1,1,1,1,1,1,1,1,2,2,1,1,1,1,1,0,2,1,1,2,0,1,1,1,1,1,2,1,2,1,0,1,1,0,0,0,1,0,1,0,1,2,1,0,1,1,2,1,0,2,0,1,1,1,1,1,1,1,1,1,1,1,1,1,0,0,0,1,0,0,1,1,0,0,1,0,1,2,0,1,1,2,1,1,1,1,2,0,2,1,2,2,1,1,2,1,1,1,2,2,1,0,1,1,1,1,1,1,0,1,1,1,1,1,1,1,1,0,1,0,0,1,1,1,1,2,2,1,2,1,0,1,0,1,2,1,2,0,2,2,1,0,0,1,1,2,2,1,1,1,1,2,1,2,0,1,2,1,1,1,1,0,2,1,1,1,1,0,1,1,1,2,1,1,1,2,1,1,1,1,1,0,2,1,1,1,1,1,1,0,2,2,1,2,0,0,1,1,1,1,1,0,1,2,1,1,1,1,1,1,1,1,2,1,1,2,2,1,1,0,1,1,1,1,0,1,2,2,1,0,1,1,2,1,1,1,1,1,0,0,0,1,1,2,0,1,2,1,1,1,1,1,0,1,1,1,1,0,2,1,0,1,0,1,0,1,1,1,1,1,0,1,1,1,1,2,1,0,1,1,2,2,2,2,2,2,1,1,1,0,0,0,1,1,2,2,1,0,1,1,1,1,2,0,2,2,1,1,1,0,1,1,1,1,1,1,1,2,2,2,2,1,1,2,0,2,1,2,2,1,1,1,1,2,2,1,2,1,1,1,1,1,1,2,0,2,1,2,2,1,2,1,0,1,0,1,1,1,2,1,1,1,2,1,1,2,0,2,1,2,1,2,0,2,2,1,2,2,2,1,1,1,1,2,1,1,1,1,1,2,1,2,1,1,2,2,1,1,1,1,1,1,1,2,1,1,1,1,2,1,1,1,1,1,1,1,1,1,1,1,0,1,1,2,1,2,1,1,0,1,1,1,1,0,2,0,1,1,1,1,1,1,1,0,2,2,2,0,1,2,1,1,1,2,0,1,1,1,1,1,1,2,1,0,2,1,0,2,1,2,2,1,0,1,0,1,1,0,1,1,1,0,1,1,1,1,2,1,1,1,1,1,2,2,1,1,0,1,1,0,2,1,1,2,2,1,2,1,2,1,1,1,0,2,2,1,1,0,1,2,1,1,2,0,1,1,0,1,1,0,1,2,0,1,1,1,1,2,1,1,0,1,1,1,1,2,2,1,0,1,1,1,1,2,2,1,2,1,0,1,0,1,1,1,2,1,1,1,0,1,2,1,2,1,1,1,1,1,2,1,1,2,1,1,1,1,1,1,0,1,1,0,1,1,1,2,1,2,1,1,1,1,2,1,0,0,1,1,1,1,0,1,1,1,1,2,1,1,1,2,2,1,0,2,2,1,2,0,1,1,2,1,1,2,1,1,2,1,1,1,1,1,1,2,1,1,1,1,1,2,2,1,0,0,0,0,2,1,1,1,1,1,1,1,1,1,1,2,0,2,1,2,2,2,1,1,2,2,1,2,2,1,1,1,1,1,1,1,1,0,1,1,0,1,1,1,1,0,1,1,2,1,1,1,0,1,2,2,0,2,2,1,2,1,1,1,1,1,1,1,1,1,2,2,1,0,1,1,1,1,2,2,2,1,0,1,1,1,0,2,0,2,1,1,1,2,1,2,1,1,2,1,1,1,1,1,1,1,1,1,0,1,1,1,1,1,0,1,1,1,1,1,1,1,1,0,2,1,1,0,1,1,0,2,2,1,1,0,1,1,2,1,1,1,0,1,0,1,2,2,2,1,2,1,2,1,2,2,1,1,0,1,1,1,2,2,1,1,2,1,1,2,1,1,1,0,2,1,2,1,1,2,1,1,1,1,1,1,1,1,0,1,0,1,1,0,1,2,1,2,0,0,1,1,1,1,1,1,2,1,0,1,1,1,2,1,1,1,1,1,2,1,2,0,2,1,1,0,1,1,2,2,2,1,1,1,1,1,1,1,1,1,1,0,2,1,1,1,1,1,1,1,1,2,1,2,1,1,2,1,0,1,1,1,1,1,1,1,1,1,2,1,1,1,1,2,1,1,1,1,1,2,1,1,2,1,2,1,1,0,1,1,2,1,2,2,0,1,2,2,1,2,1,1,1,2,1,1,2,1,2,1,1,2,2,2,0,1,2,2,2,2,1,2,1,1,1,1,2,1,1,1,1,1,2,1,0,1,2,1,2,1,0,1,1,2,2,1,1,2,1,2,2,0,0,1,1,1,1,2,1,1,1,1,1,1,1,1,2,1,1,2,1,1,1,1,1,2,1,1,2,1,1,1,2,1,2,1,2,1,1,1,0,1,1,2,1,1,1,1,2,1,1,2,1,1,2,1,2,1,2,0,1,1,1,1,1,1,1,1,0,2,1,2,1,1,2,1,1,1,1,0,1,0,1,2,1,1,1,1,0,1,1,1,2,1,2,1,1,1,1,2,1,1,1,2,1,2,1,1,1,1,1,1,1,1,2,1,1,1,1,1,1,2,1,1,2,1,2,2,2,1,1,1,1,1,1,2,1,1,2,2,1,1,2,1,2,1,1,1,2,2,0,1,1,2,1,0,2,1,1,1,1,1,1,0,1,0,1,2,1,1,1,1,1,0,2,1,1,0,1,1,2,2,1,1,1,0,1,1,2,2,1,1,1,1,0,1,1,1,2,2,1,1,0,2,1,1,2,1,2,0,1,1,1,1,1,0,2,0,0,1,2,1,2,0,1,1,1,1,1,1,1,2,2,1,0,1,1,2,0,1,1,0,1,0,1,2,1,1,1,1,0,1,1,1,2,1,2,2,1,1,1,1,1,1,1,2,0,1,0,1,1,1,1,2,1,1,0,1,2,2,1,1,2,2,1,1,2,2,1,1,2,1,1,1,1,1,2,1,0,1,0,1,2,1,0,0,1,0,2,1,1,2,1,1,1,2,1,1,1,1,1,2,1,1,1,1,1,1,2,0,2,1,1,1,0,1,2,1,1,1,1,1,2,2,1,1,2,2,1,2,1,2,2,1,1,2,1,0,2,1,1,2,1,1,2,2,1,1,1,0,2,0,1,1,0,1,2,1,1,0,0,1,1,1,1,1,1,2,1,1,0,1,2,1,1,1,1,2,1,1,2,2,0,1,1,1,1,1,1,2,2,2,1,1,1,1,1,2,1,2,2,2,2,1,2,1,1,1,1,1,1,0,2,2,2,2,2,1,1,1,1,1,2,1,0,1,0,2,0,1,1,1,0,1,1,1,1,1,1,1,2,1,2,1,0,1,1,1,1,1,0,2,1,0,1,1,2,0,1,1,2,2,2,1,1,1,1,0,1,1,1,2,1,1,2,2,1,1,1,0,1,2,1,1,1,0,1,1,1,2,1,2,1,2,1,2,1,1,1,1,2,2,1,1,1,2,2,1,1,1,1,0,0,1,0,1,1,1,2,1,1,1,1,1,1,1,1,1,0,1,1,0,2,1,0,0,2,1,1,1,1,1,2,1,1,0,0,2,2,1,1,2,1,0,1,1,1,1,0,1,1,1,1,2,0,1,2,1,1,1,1,0,2,1,2,0,2,1,1,1,1,1,1,1,2,1,2,0,1,1,2,1,2,2,1,2,1,1,2,1,2,1,1,1,2,2,1,1,0,1,1,1,2,1,2,2,1,1,1,0,1,2,1,1,0,1,1,1,1,1,1,0,2,2,2,1,1,1,2,1,2,0,1,0,2,1,1,1,2,1,2,1,2,1,0,0,1,0,2,1,0,1,0,1,0,1,1,1,1,1,2,0,1,2,2,0,1,1,0,0,1,1,1,2,1,1,1,2,1,1,1,1,0,1,1,1,1,2,1,2,1,1,1,1,2,1,1,1,1,1,2,1,2,1,1,1,1,1,1,1,1,2,1,1,0,1,2,1,1,1,0,0,2,1,2,2,1,1,1,2,2,1,1,2,1,1,1,1,1,2,1,1,1,2,0,2,1,1,1,1,1,1,1,1,1,1,1,1,1,2,1,1,2,1,2,1,1,1,1,1,1,1,2,1,2,2,2,2,1,1,0,2,1,1,1,1,0,1,2,0,1,1,1,1,1,1,1,2,1,1,2,1,1,1,2,1,2,0,1,0,1,1,1,1,1,0,1,1,2,2,1,1,0,2,1,2,1,1,1,1,1,1,1,1,1,1,1,1,2,1,2,1,2,1,1,2,1,1,1,1,2,1,1,1,1,2,1,1,2,0,1,0,1,1,1,1,1,1,1,2,0,0,1,1,1,2,2,1,0,2,0,2,1,2,1,1,2,1,1,2,0,1,1,1,2,1,1,1,1,2,2,1,1,1,1,2,0,2,1,2,2,1,1,2,1,2,0,1,1,1,2,1,2,1,1,2,1,1,2,1,2,1,1,1,0,1,1,1,1,2,1,1,1,1,1,0,1,1,1,2,1,1,1,2,1,2,1,1,2,0,1,2,2,1,1,0,0,1,1,1,1,1,2,1,1,2,2,1,2,1,2,1,2,1,2,1,2,1,1,1,0,1,1,0,1,1,1,1,1,1,2,1,1,1,2,1,2,2,1,1,1,0,2,1,2,2,2,2,2,2,1,1,2,1,2,2,2,1,1,1,1,1,1,1,1,2,1,0,0,1,1,1,1,2,2,2,1,1,2,1,1,1,2,1,1,1,0,1,1,1,1,1,2,2,1,1,1,1,1,0,0,2,0,1,0,1,1,0,2,1,1,1,2,1,1,2,1,2,1,2,1,1,1,1,2,1,1,1,2,2,2,1,1,1,1,1,1,1,2,2,1,2,2,0,2,1,0,0,1,2,2,1,1,1,1,1,2,1,1,1,1,1,0,1,2,0,2,1,2,2,2,1,1,1,2,1,2,1,1,1,2,2,1,1,2,1,1,2,1,2,0,1,1,1,2,1,2,0,0,1,1,1,1,1,1,0,2,1,1,2,0,1,2,2,2,1,1,1,0,2,2,2,1,2,1,1,2,0,1,1,1,1,1,1,1,1,1,1,0,2,0,1,1,1,1,1,0,1,1,0,1,0,2,1,1,1,2,2,2,1,2,0,1,2,1,1,0,1,1,1,1,1,1,2,0,1,0,0,1,2,2,1,1,1,2,0,1,0,1,1,1,2,1,2,1,1,1,2,1,1,1,1,1,0,1,0,1,2,1,2,2,1,1,1,1,2,1,2,2,1,1,1,1,1,1,1,0,1,1,1,1,1,2,1,2,1,1,1,0,1,1,1,1,0,2,1,1,1,1,1,0,1,1,1,2,1,0,1,2,1,1,2,2,2,1,1,1,1,2,1,1,2,1,1,2,1,1,1,1,2,1,2,1,1,1,1,0,1,1,1,1,1,1,0,1,1,2,1,0,2,1,1,2,1,2,1,2,1,1,0,2,1,2,1,1,2,1,1,1,2,2,1,0,1,2,1,2,2,1,1,0,1,1,1,1,1,1,1,1,0,0,2,1,1,1,1,1,2,1,1,0,1,1,1,1,2,1,2,2,1,1,1,1,0,1,2,1,1,1,2,1,1,1,1,1,2,1,0,0,1,1,2,1,1,1,1,2,1,1,1,2,1,1,2,2,1,1,1,1,1,2,0,1,1,1,1,1,1,2,1,0,1,1,2,1,1,1,1,1,1,0,1,1,1,1,1,0,2,1,1,0,1,2,2,2,1,1,1,1,2,2,2,2,2,1,2,1,1,0,1,1,1,2,0,2,1,2,2,1,2,2,2,2,2,1,1,1,2,1,1,0,2,1,2,2,1,1,1,1,1,1,1,0,1,1,1,1,1,1,2,1,2,0,1,2,1,1,1,1,1,0,1,1,1,1,1,1,0,1,1,0,0,1,1,2,0,1,1,2,0,1,1,1,1,1,1,0,1,2,1,1,1,1,1,2,1,2,1,2,1,1,1,1,1,1,1,0,2,1,1,1,2,1,1,1,2,1,2,2,1,1,1,2,2,1,2,1,1,0,1,2,1,1,2,1,1,1,2,2,1,1,1,1,1,1,2,1,1,1,2,0,2,2,2,0,2,2,1,1,1,1,1,2,2,0,1,1,1,1,2,1,2,1,1,1,2,1,2,0,2,1,2,1,1,2,1,1,1,2,1,0,2,2,1,1,1,1,1,1,1,1,1,1,2,1,0,1,0,1,1,1,0,0,1,1,1,0,2,1,1,1,2,1,1,1,1,1,1,1,1,1,1,2,1,2,2,1,1,2,1,1,2,2,1,2,1,1,1,1,1,0,0,0,1,2,1,2,1,1,2,2,1,0,2,2,0,1,1,2,0,1,1,2,1,1,2,2,2,1,1,1,2,1,1,2,1,1,1,2,1,1,0,1,2,1,1,1,1,2,1,1,1,2,2,1,1,2,1,1,0,0,1,1,1,2,2,1,1,1,1,2,1,1,1,2,1,2,1,0,1,2,1,1,1,0,1,1,1,1,1,1,1,1,1,1,1,1,1,2,2,1,1,1,1,1,1,2,1,2,0,1,1,1,1,1,0,2,2,1,2,1,1,0,1,1,1,1,1,1,1,1,1,2,2,0,2,1,1,1,2,1,1,1,1,0,1,1,1,1,1,1,2,2,2,1,1,1,1,2,0,1,2,1,1,1,1,1,1,1,2,2,0,1,1,1,1,1,1,2,2,1,1,1,1,2,1,1,1,2,2,1,1,1,1,1,2,2,1,1,1,1,2,1,1,2,0,0,2,1,1,2,1,0,1,1,1,1,1,2,2,0,1,2,0,1,1,0,1,0,1,1,1,2,1,2,1,0,1,1,1,1,2,2,1,2,1,2,2,1,1,0,1,1,1,1,1,2,1,1,1,1,0,0,2,2,1,1,2,1,2,1,2,1,1,2,1,2,0,1,1,1,1,2,1,1,1,1,1,2,2,2,1,1,0,1,1,0,0,1,2,2,1,2,1,1,1,1,0,1,0,1,1,0,2,1,1,1,1,0,1,1,1,2,1,1,2,2,0,0,1,1,1,0,1,0,0,2,1,2,0,2,1,1,2,0,1,2,1,2,1,0,1,1,1,1,1,2,2,1,1,1,0,0,1,1,1,1,2,1,2,1,2,2,1,1,1,1,2,0,2,2,0,1,2,1,0,1,1,1,1,1,1,0,1,2,1,1,1,1,1,0,2,1,0,2,1,1,2,1,1,2,1,1,1,1,2,1,2,0,0,1,1,0,1,2,1,1,1,1,2,1,2,1,2,1,1,0,2,1,1,0,1,1,1,2,2,1,1,1,1,2,1,1,1,2,1,1,1,0,1,1,1,1,1,1,2,1,1,1,2,1,1,2,1,2,1,1,1,1,1,0,0,1,1,1,0,1,2,1,1,1,2,1,0,1,0,1,2,1,0,1,1,1,1,1,1,0,0,0,2,0,2,1,1,1,1,1,1,1,2,1,2,1,1,1,2,2,1,2,1,1,1,2,1,1,2,1,1,0,0,1,1,1,1,2,1,2,1,2,2,1,0,1,1,1,1,1,1,1,1,0,1,1,1,1,1,2,1,1,1,1,1,1,2,1,1,1,1,1,1,1,1,2,1,1,0,0,2,1,1,1,1,0,2,0,2,1,1,2,0,1,1,1,1,1,1,1,1,1,1,1,1,1,1,1,1,1,0,1,2,1,1,1,1,1,2,2,0,1,2,1,1,1,2,2,1,2,1,2,2,1,1,2,1,1,1,1,2,0,2,2,1,1,1,1,2,1,1,1,1,1,1,0,1,1,1,2,1,1,2,1,1,2,1,2,2,1,1,1,1,2,1,1,1,0,1,2,1,1,1,0,2,1,1,0,2,1,1,2,0,1,0,1,1,2,2,1,1,1,2,0,1,1,2,1,1,1,0,2,1,0,1,2,1,1,1,2,1,1,1,1,1,1,1,2,1,1,1,1,1,1,2,2,1,1,0,1,1,1,1,1,2,1,1,1,1,1,1,1,2,0,2,1,1,1,1,1,0,1,1,1,1,1,2,1,1,1,1,2,0,1,0,1,2,1,1,0,1,1,2,1,1,1,1,2,1,2,1,1,1,2,0,0,2,1,1,1,1,1,2,2,1,0,1,1,1,1,1,1,1,1,2,2,2,0,1,1,1,1,1,1,2,2,2,1,1,1,1,1,0,1,0,1,1,1,1,0,1,1,1,2,1,1,1,1,2,2,1,2,1,2,1,2,0,1,1,2,2,2,1,1,1,1,1,1,1,2,1,1,1,1,2,1,1,1,1,2,1,1,1,2,1,2,1,2,1,2,1,1,2,2,1,2,2,0,1,1,1,1,1,1,2,1,1,1,1,1,2,2,1,1,0,0,1,1,2,2,1,1,1,2,1,2,2,1,2,2,1,1,1,1,2,1,1,1,1,1,1,0,2,0,1,1,2,0,2,1,2,0,2,1,1,1,0,1,1,0,1,1,0,2,1,2,0,1,2,1,1,0,1,0,1,1,2,1,2,1,1,1,1,0,1,1,2,1,1,0,1,1,2,1,1,2,1,2,1,1,1,1,0,0,1,2,1,1,1,1,1,1,1,1,1,1,1,2,1,1,1,1,1,2,1,1,1,1,1,0,0,2,1,1,2,1,1,2,2,1,2,1,1,2,1,0,2,2,2,1,1,2,2,0,2,0,1,1,1,1,0,1,1,0,1,2,1,1,0,1,1,1,1,1,1,2,1,2,1,2,1,0,1,1,1,2,1,2,1,1,0,2,1,1,1,2,1,1,2,1,1,1,1,1,2,1,1,1,2,1,1,0,1,1,1,1,1,1,0,1,1,1,2,1,1,1,2,1,1,1,1,1,1,1,1,2,1,1,1,2,0,1,2,2,1,0,2,2,0,2,1,1,0,2,1,1,0,2,1,2,2,1,2,2,2,1,1,1,1,1,1,2,2,2,1,2,1,1,1,2,1,2,2,1,1,1,2,2,1,2,1,1,1,1,0,1,2,1,2,1,1,1,1,1,1,1,1,1,1,2,1,1,1,2,1,2,1,1,0,2,2,1,1,2,1,2,1,0,1,2,2,2,2,2,1,1,0,2,1,2,1,2,2,1,1,2,1,2,2,1,2,1,1,1,2,1,1,1,2,2,2,2,1,1,1,1,1,1,1,2,1,1,2,1,1,1,1,2,1,0,1,1,1,1,2,2,1,0,2,1,1,1,2,1,1,1,1,2,0,2,2,1,2,1,0,2,1,1,1,1,1,2,2,1,1,0,1,1,2,1,1,1,1,1,1,2,2,0,1,1,2,2,0,1,2,2,2,0,1,1,1,1,2,1,2,1,1,2,0,2,2,1,1,0,2,1,1,1,1,1,1,1,1,2,1,1,1,2,1,2,1,1,1,0,1,1,2,1,1,1,1,1,2,1,2,1,1,2,2,1,2,1,1,0,1,2,2,1,1,1,1,1,2,2,1,1,1,2,1,2,1,1,0,2,0,0,2,1,0,1,2,1,2,1,1,1,2,1,1,1,1,1,1,1,2,1,1,1,2,1,1,1,1,2,1,1,1,2,1,0,1,1,1,1,1,2,2,1,1],\"coloraxis\":\"coloraxis\",\"symbol\":\"circle\"},\"mode\":\"markers\",\"name\":\"\",\"scene\":\"scene\",\"showlegend\":false,\"x\":[0.0,4310.0,1797.24,1757.55,334.4,1545.41,89.0,1079.4,459.4,2811.43,6207.67,1168.06,6245.53,2662.06,189.9,5154.58,552.0,1313.1,320.69,168.9,3545.69,1887.96,1298.04,364.6,742.9300000000001,455.42,1628.12,4008.62,850.29,2720.56,1803.96,1839.31,566.16,401.9,2780.66,549.84,460.89,1582.6000000000001,1272.48,2998.28,2409.9,1635.6599999999999,1108.65,84.3,225.6,409.7,1710.39,3280.75,1708.1200000000001,2842.57,11056.93,681.0799999999999,1226.88,694.15,562.41,3578.8,668.58,600.39,806.27,803.5600000000001,1849.11,1760.96,777.2,582.73,708.37,7877.2,3750.4,256.4,6416.39,5059.32,13375.87,765.19,7829.89,509.01,4896.66,2906.85,173.55,172.06,5005.46,133.4,1002.3100000000001,476.49,449.45,4067.29,197.88,8933.52,428.57,707.09,5.684341886080802e-14,2466.86,3153.89,1917.78,947.4,826.88,1124.01,1303.63,1212.05,733.89,724.0400000000001,6229.48,2848.23,7116.47,723.38,6546.58,13117.01,680.99,477.3,3281.63,5590.86,2327.13,4495.27,1298.66,334.93,5417.93,460.40000000000003,263.21000000000004,416.79,1139.3500000000001,1043.1,403.70000000000005,4206.27,2089.68,3723.87,-1126.0,114.0,-4.5,73.5,1258.06,398.27,176.5,982.5699999999999,138.03,586.79,1017.68,383.7,1312.06,2464.89,2056.89,340.84,2582.51,599.68,192.72,1745.57,4485.72,1316.66,348.71000000000004,1922.28,1623.63,125.22,349.83000000000004,1089.18,716.35,4106.82,363.95,3852.5,13309.039999999999,981.18,355.7,1000.39,1141.5,207.79999999999998,95.19999999999999,964.83,168.0,437.82,3652.25,603.71,11990.960000000001,1.0658141036401503e-14,536.21,2101.39,238.85,3781.7400000000002,456.9,131.17,346.7,9114.94,4064.9900000000002,519.61,1004.72,160.54000000000002,218.45,1306.98,595.4,2753.36,410.72,415.7,197.71,511.36,7187.34,1893.95,1982.81,179.94000000000003,144.0,214.89999999999998,646.68,9861.38,452.84999999999997,437.6,418.09999999999997,3320.2200000000003,618.27,3683.13,3002.68,1032.58,2581.04,569.5600000000001,153.12,739.1999999999999,254.18,-7.5,3.552713678800501e-15,1126.85,2057.99,1193.32,643.59,3218.98,315.6,2291.19,657.25,355.53,177.31,3214.81,1339.41,13612.07,180.1,305.1,641.13,2614.32,6388.35,4478.53,769.61,1270.88,640.5,2140.63,1689.18,5953.25,671.69,486.1,1174.58,185.9,1013.26,3344.64,477.91,1755.38,1346.97,3669.92,318.05,603.71,314.44,114.0,914.53,2209.85,601.98,3982.72,1152.06,686.05,91.68,245.1,3817.08,4863.88,61.75,-227.44,620.13,3743.18,1607.73,2986.15,225.89999999999998,610.52,1919.31,1331.39,1058.67,862.81,13677.59,12288.22,8221.09,2283.63,2863.08,89.14,4873.8099999999995,1247.61,389.01,1035.8,830.96,869.67,582.1,939.02,4867.99,797.71,219.0,274.7,2220.84,6814.24,603.42,2616.32,9294.1,1130.57,4241.63,848.55,4708.86,353.86,1053.49,980.98,238.25,608.1,5713.28,2628.98,904.33,725.07,1031.41,427.8,2609.1,3947.7,836.33,453.01,236.26000000000002,383.95,110.39999999999999,779.5699999999999,234.0,155.35,1013.04,427.6,546.43,9120.39,4196.01,3868.2,275.88,4366.78,2949.12,2203.2,112.07999999999998,4227.7,2791.59,1531.44,1898.52,494.08,1693.88,6989.63,1143.6,1351.45,892.47,1351.24,804.23,3868.7,707.72,2273.32,1603.87,574.42,305.71,463.66,91.85,324.92,192.60000000000002,400.53999999999996,545.48,860.41,430.48,194.18,6977.04,412.58,483.65000000000003,484.36,514.85,229.64000000000001,125.92,1063.46,572.2,166.04,1517.88,942.34,92.72,918.98,1759.5,397.12,1468.1200000000001,430.15000000000003,1018.71,253.05,6748.4,215.05,383.03,417.38,312.38,2612.86,134.1,683.13,5583.62,2714.27,3876.4,1118.99,1680.76,325.96000000000004,354.09,871.54,1050.8899999999999,135.18,299.75,1881.7,1289.15,38.1,2162.68,1106.4,504.2,147.12,1548.07,559.12,3986.22,1607.0600000000002,-14.899999999999999,380.64,599.97,374.0,343.2300000000001,2218.02,1535.77,841.64,552.5699999999999,298.0,1463.04,703.47,309.05,1158.27,1351.09,313.77,380.46999999999997,331.0,188.14,347.3,216.5,138.68,509.58,2919.81,246.0,2128.83,3075.04,1662.3,2483.63,363.65,2982.35,594.0,1301.44,164.23,405.38,176.97,929.95,694.05,2062.7000000000003,105.1,409.9,606.28,2156.45,1012.9,1504.27,114.14,11581.8,876.29,683.9,-3.75,604.51,462.95,1407.29,2053.7,4143.02,1843.0,1042.07,1382.8400000000001,329.85,4734.26,108.07,3979.04,266.39,1841.03,771.91,160.18,1194.75,135.95,452.24,10930.26,144.8,738.6,39.239999999999995,7092.06,372.21999999999997,377.2,97.5,1215.6200000000001,545.0,535.32,6854.51,409.5,503.76,414.76,902.22,200.72,1197.94,455.88,534.85,9797.92,120.94999999999999,149.05,5613.43,468.95,81.57,178.46999999999997,50.550000000000004,1311.6200000000001,4786.99,3365.43,3346.28,789.89,204.0,7272.75,2584.4,689.9,936.15,6912.0,659.68,1247.5,799.48,996.52,190.55,642.77,886.63,881.07,908.46,676.99,471.57,560.47,305.28000000000003,629.31,3079.1,1805.91,656.6800000000001,5684.61,348.15000000000003,1201.96,271.40000000000003,183.4,307.53,248.61,346.98,1119.49,205.86,430.9,115.46000000000001,344.0,3717.82,228.8,177.15,919.61,729.27,12432.28,220.10000000000002,58.08,3595.48,303.75,272.38,8689.39,319.82,459.83,7741.47,1708.8600000000001,74.39999999999999,5893.32,207.35999999999999,101.19,6336.29,243.94,1098.48,59.5,1524.07,350.06,766.84,1452.8700000000001,10510.0,2205.63,485.19,984.91,1125.0,30.599999999999998,254.73,922.39,3866.33,2056.29,259.17,64.0,1039.3,77.3,109.8,1740.63,3096.0,2545.38,3605.08,962.39,5055.79,423.72,2385.8,307.09,110.95,614.77,228.91,712.8000000000001,3348.48,1676.06,1250.3700000000001,486.22,-611.86,971.76,1721.57,1201.06,1379.75,91.8,112.75,1644.99,1021.48,414.7,791.33,1310.14,712.88,116.00999999999999,426.81,353.65,2817.03,492.84,282.45,5725.47,121.18,3957.78,1648.79,71.4,1539.69,236.02,114.60000000000001,260.68,911.94,117.88,60.7,1797.78,3384.09,9803.96,870.09,869.46,250.26000000000002,1205.9,5820.16,353.48,1197.42,780.58,1518.43,333.74,133.62,62.63999999999999,819.2900000000001,847.41,163.20000000000002,2150.85,6083.04,108.21000000000001,257.7,358.0,160.95,2763.41,1357.6,605.12,101.17000000000007,727.27,680.83,329.56,663.65,270.40000000000003,600.07,121.74000000000001,430.5,1922.1,501.12,465.68,711.41,1030.4,390.66,0.0,698.58,292.32,557.62,944.1,200.29,2107.66,3717.67,4404.44,3167.64,5315.92,590.0,178.26,276.56,138.98,590.9300000000001,258.4,542.73,126.30000000000001,814.86,1047.8400000000001,93.66,196.15,2709.12,361.11,578.9399999999999,873.74,197.95000000000002,87.4,2089.85,360.0,142.5,365.29,618.09,63.75,300.42,2000.86,15.0,1367.6100000000001,1456.79,1083.63,598.57,1555.32,578.66,5815.49,2140.07,640.76,10664.34,1491.7,567.36,199.48000000000002,787.85,7072.8,675.3,3617.57,1308.48,740.4,1140.93,350.9,3536.82,795.12,431.82,860.12,10736.48,775.85,303.93,2543.72,377.6,341.36,233.76,247.32,910.72,373.94,389.28,743.53,674.7,768.24,609.95,439.03,431.26,3085.4900000000002,992.5,0.0,2191.22,56.160000000000004,623.4,263.75,721.32,378.64,3312.25,772.9,1019.76,572.56,3626.81,222.99,4122.28,534.57,627.15,797.96,544.08,59.8,2312.8,307.72,1325.29,1539.18,457.34,621.23,75.0,252.49,572.451,988.91,213.55,1390.5,712.5,640.83,5845.44,221.06,140.35,1848.98,2601.55,1624.21,3550.7000000000003,582.6,218.47,1006.8,648.6899999999999,1269.1,534.24,3794.4900000000002,196.89,3408.06,283.71,296.64,1104.23,3465.67,291.88,2043.7199999999998,2916.45,590.0,356.97999999999996,1007.35,1737.8200000000002,9537.92,183.44,1445.0,143.25,674.68,297.95,1083.71,5656.75,165.0,2531.58,417.54,229.59,1431.78,1092.77,1441.53,291.0,1776.81,184.64,140.34,313.8,454.24,1122.41,575.4,8910.61,449.52,1215.82,1269.84,618.63,316.26000000000005,1990.1200000000001,617.93,321.05,1146.96,1136.77,1310.47,292.0,216.85,295.93,4282.88,452.82,2479.16,110.97,979.72,1785.16,251.21,205.1,152.20000000000002,891.12,1389.41,2109.07,659.4399999999999,110.80000000000001,3487.75,1093.65,125.80000000000001,3755.38,680.1800000000001,628.78,2263.76,307.76,483.8,210.31,270.79,5613.08,3448.29,1280.85,605.84,291.41,626.99,682.41,916.12,91.80000000000001,3539.53,4149.28,584.06,605.06,174.37,141.85999999999999,1799.33,777.53,647.74,240.22,874.71,192.85,373.75,239.49,2092.32,1384.25,294.4,732.0699999999999,6703.3,1658.3,467.04,118.0,781.03,142.4,347.0,2445.12,379.65,1976.12,1117.13,247.95999999999998,1990.28,396.97,697.04,167.42000000000002,5030.6,219.52,693.32,428.89,164.34,280.53999999999996,678.01,1115.43,1158.2,1610.46,399.99,544.18,177.34,213.85,672.44,257.23,1624.02,7792.36,1995.68,3021.77,2117.02,1575.16,1071.03,941.62,810.5,122.64,1033.34,354.8,519.44,2597.52,252.1,1670.22,346.6,1809.34,94.2,1095.08,2707.33,932.97,379.65,382.14,2421.47,1550.85,879.08,189.47,84.65,305.02,6216.07,218.55,349.7,-71.46,396.92,486.82000000000005,232.6,2202.31,827.83,59.5,64.23,3119.44,72.0,910.0,172.25,1466.8700000000001,-32.0,2504.13,151.29999999999998,308.58000000000004,2265.12,99.5,2295.31,711.86,330.79,806.41,296.88,6249.110000000001,180.48,252.06,228.84,1053.94,138.28,1432.26,306.55,1041.68,799.9,524.14,2369.16,199.85000000000002,1809.81,1079.6599999999999,333.48,1016.14,752.6,610.59,491.86,2766.18,724.0,339.59999999999997,216.9,350.75,666.33,3102.42,1340.1499999999999,1156.36,291.54,79.6,948.25,1647.26,296.25,1186.28,741.26,282.59999999999997,2154.68,5145.12,3190.55,659.4100000000001,286.79,1070.65,3.552713678800501e-15,1689.46,1521.76,2771.87,2631.7,1132.13,345.0,178.7,360.01,127.84,912.0,2462.79,230.39999999999998,309.04,348.8,1047.68,195.55,688.86,558.32,324.8,3906.27,277.07,2635.79,924.6,256.38,112.6,1747.66,155.05,899.51,591.75,539.0,1353.41,1562.12,4014.91,555.04,382.98,1140.35,385.64,632.0,957.66,1698.94,174.65,412.05,209.49,-102.0,2202.99,40.949999999999996,384.8,834.57,271.24,691.73,85.0,3385.62,361.62,312.98,847.61,1255.0,1537.95,1586.81,2651.46,1056.94,8025.0199999999995,363.4,216.17,201.16,1240.0,2187.31,299.56,501.56,145.67000000000002,1015.29,3192.54,3104.95,2751.25,6389.8,381.7,540.45,1786.79,122.7,117.24,1281.53,3219.77,1131.28,2538.75,781.3000000000001,506.8,243.56,349.55,605.63,416.90000000000003,1860.8600000000001,632.97,821.1,535.97,2588.12,311.16,155.93,388.52,740.95,2867.2,332.64,2347.05,2580.91,613.95,272.04,1212.8400000000001,350.15999999999997,172.25,351.13,1682.08,616.65,223.85000000000002,348.99,464.57,802.85,337.34,1230.93,307.4,608.7900000000001,922.1,361.28,158.85,71.66,556.75,839.14,4912.41,561.5699999999999,90.6,102.0,2427.32,728.56,674.45,3246.091,3515.68,378.59,322.96,1026.42,-102.45,598.2,230.22,169.55,664.54,80.7,8986.69,2702.2200000000003,190.25,264.7,413.59000000000003,2503.23,357.98,196.79000000000002,869.87,200.14,1861.11,2590.46,488.03,7024.53,320.46,4098.8,1266.08,311.3,850.63,76.8,3409.66,2313.14,1383.49,3865.26,633.71,2030.3300000000002,529.73,4582.64,2874.72,962.19,685.9300000000001,328.8,473.02,505.18,917.34,4328.46,1398.96,642.8,631.9,440.0,584.07,327.7,104.82,467.66,2360.09,2929.84,512.02,1428.02,626.65,147.20000000000002,1554.48,152.2,3542.19,141.41,652.82,1659.75,154.99,1290.01,375.13,5639.15,746.36,225.36,260.25,92.46,725.6400000000001,6147.4,183.6,6135.38,10464.85,1188.32,152.55,374.7,265.85,1307.41,139.54,942.26,122.47,499.41999999999996,1049.37,375.1,45.599999999999994,904.67,182.25,1018.43,4435.79,181.67,161.0,76.32000000000001,4063.1,442.85,147.35,3092.9700000000003,194.9,5976.79,1314.73,216.20999999999998,1260.33,2688.48,594.16,80.2,5669.65,688.6,2774.17,1377.92,386.53,1382.74,90.0,-19.9,2740.3,419.58000000000004,2740.43,643.6300000000001,709.71,637.5,1123.8600000000001,483.86,3580.13,590.3399999999999,4690.31,982.3800000000001,415.82,920.05,879.0300000000001,311.81,115.8,3148.2,2949.57,468.4,157.2,259.43,658.64,611.09,1345.62,118.75,400.43,507.66,1110.52,289.36,2445.91,1631.77,122.53999999999999,574.84,363.79,450.84,134.46,3108.06,574.0,554.46,1620.93,719.78,4640.77,452.89,197.65,2018.91,4604.31,4660.01,853.39,11216.75,962.7,335.52,663.5,185.39999999999998,688.04,161.03,218.78,308.26,151.74,2067.13,1900.89,2208.3,1070.48,-1192.2,1000.23,1777.92,1839.3,1925.3600000000001,169.48000000000002,89.94,632.4,3427.85,683.17,975.23,1050.12,2201.64,3315.71,1450.6,822.0600000000001,2043.93,1447.51,775.46,3093.86,490.86,161.0,146.85,2323.5,890.34,213.70000000000002,280.55,2535.88,1677.48,1474.06,136.76999999999998,302.58,1904.05,2879.7000000000003,935.0600000000001,3087.27,12650.08,120.0,1163.45,2618.23,319.47,530.18,1279.09,492.65000000000003,112.32,437.96,559.97,1019.39,3957.0,134.04,3729.34,578.45,1910.01,4595.81,151.23000000000002,413.85,911.26,2307.4500000000003,3873.3,4819.33,1046.56,154.70000000000002,1284.06,2855.35,43.2,632.04,197.1,1803.76,2083.42,2995.72,2319.68,229.71,1611.59,120.0,2456.98,508.58000000000004,343.11,1530.75,574.26,166.85,311.65,4928.74,462.65999999999997,866.31,351.45,2539.46,468.26,1614.91,554.22,289.90999999999997,134.7,2166.38,607.71,889.9300000000001,108.97999999999999,1021.58,409.57,133.5,258.7,51.0,1078.96,90.6,163.62,174.4,666.9399999999999,225.77,882.58,2128.23,161.2,3717.35,9167.82,155.0,100.5,76.55,257.68,617.05,348.1,202.68,626.0699999999999,1247.69,202.11,142.4,1770.56,3172.04,999.72,4592.47,67.95,3471.91,487.99,2556.68,559.7,4039.98,1426.31,1434.72,156.75,2111.08,2606.53,1908.25,576.3,1063.0,761.3299999999999,122.7,1485.1299999999999,5811.56,490.22,1937.25,1058.06,385.87,813.11,4263.64,265.2,322.08,3918.9,363.34000000000003,1230.14,397.76,2255.51,1372.8,89.06,-43.400000000000006,131.9,2661.24,2357.6800000000003,1545.14,1544.62,1400.88,1039.58,1163.23,375.35,907.1,483.25,662.59,264.44,119.93,113.64,1837.92,383.34,2103.06,1965.9,529.62,1058.6200000000001,2272.4,598.76,461.19,1936.84,234.34000000000003,537.71,799.82,215.7,1307.81,316.25,279.05,636.51,2068.15,129.2,321.92,165.75,1183.58,1047.43,463.38,340.93,2362.84,139.56,123.8,538.8100000000001,457.47,1957.32,815.32,356.85,190.31,2351.02,3543.26,673.26,2012.17,1368.18,276.42,1267.4099999999999,275.28,438.49,1055.35,2102.09,330.45,174.37,270.6,974.54,241.09,1867.68,4221.37,364.21999999999997,620.04,2925.91,932.85,1812.6200000000001,4075.35,2841.09,171.8,355.56,388.25,537.48,996.26,1461.65,103.25,2916.17,2024.45,2487.02,3986.7400000000002,652.8,289.24,765.62,186.23,165.07,859.27,2381.04,324.14,0.0,2174.18,1080.76,4709.22,3073.77,1432.0,1524.46,227.39,218.06,2803.69,1603.72,35.400000000000006,859.71,168.63,138.6,114.11,1052.55,1029.26,157.05,134.16,1598.24,39.75,1447.14,570.46,617.99,379.83,1740.6,883.15,221.97,393.33000000000004,213.96,660.0,11341.1,1785.15,601.56,406.08000000000004,538.59,379.51,393.28000000000003,1765.76,320.58000000000004,869.35,225.85,848.48,2757.07,-21.85,671.96,939.21,1006.98,114.56,344.90000000000003,609.85,443.6,2952.34,2042.15,110.46,96.12,668.61,780.46,597.09,243.22,1417.29,654.6,114.18,1947.55,1930.15,291.05,838.27,247.15,2456.53,285.74,107.95,771.17,637.89,1258.38,195.25,9231.2,1269.99,411.53,765.55,1736.4,604.75,2543.2400000000002,-2.55,498.95,52.0,1236.28,628.38,5107.38,112.8,358.61,2114.33,582.05,172.9,2070.97,188.60999999999999,1250.76,109.13000000000001,2235.3,2486.2200000000003,3250.64,318.17,1546.91,179.0,1096.67,4911.14,606.13,2838.2,917.07,2664.2599999999998,160.19,867.38,329.68,1592.18,663.81,187.92000000000002,1158.3,718.08,268.58,313.49,2005.06,380.02,2686.34,9451.54,5807.6900000000005,1164.55,1289.94,3899.1,1423.21,1400.34,1088.53,1167.16,294.3,1311.79,389.64,563.15,638.05,4965.38,738.96,420.5,1484.06,1625.97,53.8,255.9,300.52,250.55,254.11,2423.07,139.5,876.42,139.26,1011.9,2195.58,-17.45,730.86,386.15,447.68,200.10000000000002,289.99,77.4,679.4399999999999,197.64,745.06,0.0,214.14,1272.11,131.45000000000002,173.74,157.7,4236.34,193.14,845.55,353.27,554.65,193.39000000000001,2175.37,2087.88,155.43,778.5,271.85,1110.34,657.8,272.07,507.29,48.800000000000004,321.43,1127.71,2226.91,2139.76,644.65,197.13,1698.35,102.44999999999999,1641.2,62.85,3295.76,2456.8,3189.81,309.4,7904.28,278.15,511.35,2836.69,463.05,2749.89,645.65,1311.3799999999999,1165.65,1352.04,168.62,125.79,841.1999999999999,266.76,52.2,701.33,2939.64,721.95,327.25,522.38,519.68,1448.72,1485.54,706.19,255.4,589.7,756.64,765.3199999999999,364.8,1862.0,369.2,135.9,125.65,554.38,1237.8500000000001,655.75,11020.26,468.77000000000004,1366.38,1228.32,1414.99,314.11,2744.48,1025.44,599.9,3478.85,277.8,389.86,841.52,1227.43,258.83,1264.84,1610.15,977.77,1316.07,749.1,310.05,223.88,2372.86,964.6800000000001,363.53,1888.84,1784.71,8117.42,1617.63,5842.95,100.9,290.82,1066.57,361.25,311.69,7912.79,289.82,336.17,58.49,499.68,684.97,221.27,7006.58,126.7,1487.8,206.21,599.0,191.32,463.8,147.59,1592.06,1116.57,114.77,1314.45,114.39,279.94,765.86,1931.42,102.12,213.27,296.75,326.4,334.54,233.23000000000002,540.98,429.87,490.52,1641.76,1246.32,502.09,156.91,1261.78,308.94,423.04,260.17,170.04,125.58,456.26,266.0,1872.28,905.04,6763.16,1661.33,377.01,469.0,1051.95,627.13,518.28,668.14,4464.1,2571.02,4277.66,252.73000000000002,465.55,665.59,180.35,135.93,537.0,7629.38,633.66,5064.01,343.62,380.57,121.17000000000002,1727.17,1391.61,215.78,697.79,302.1,1489.5,2124.9900000000002,1325.82,303.09,987.86,370.79999999999995,3135.98,760.59,1744.76,553.36,1109.53,106.2,982.07,612.43,748.87,773.03,880.85,9623.35,893.66,487.35,88.2,306.94,1140.27,2420.84,381.32,476.96,457.81,4410.14,1364.7,219.39000000000001,248.08,649.5,410.48,635.1,310.03,703.36,1002.54,2298.93,1407.73,247.66,1291.75,463.75,970.25,1567.48,3439.41,2760.56,340.11,1352.75,1550.13,244.8,266.4,343.82,457.72,1612.13,2199.31,184.19,11117.05,406.53,1419.54,3447.4,330.11,977.9300000000001,982.42,1387.99,127.15,1282.45,178.96,2350.0,498.74,259.45,6530.04,1194.73,1313.66,608.65,301.29,520.8000000000001,5303.97,4684.24,329.25,240.27,961.49,1869.5,401.40000000000003,158.16,304.47,843.05,487.75,163.0,106.56,1034.5,1624.05,135.75,224.14,40.5,2186.2,87.5,680.28,622.85,406.76,310.62,411.41,4670.08,1044.32,499.32,7521.17,3861.0,656.44,193.64,1268.7,927.84,1827.8,316.58,648.8299999999999,420.29999999999995,867.62,331.18,894.4100000000001,88.94999999999999,325.05,1661.44,615.99,96.6,5756.89,305.75,1758.92,114.1,585.0,454.90000000000003,310.48,409.40000000000003,154.41,1219.4,3376.96,429.6,612.06,197.0,2247.51,321.05,1412.32,1056.54,764.34,1685.57,1738.59,316.68,631.57,2515.84,514.15,356.0,6657.36,10327.11,740.78,915.3,300.36,890.85,98.45,232.14999999999998,623.16,1780.77,254.82,178.95000000000002,156.51,393.74,1506.1200000000001,119.3,1717.36,408.8,2298.2,2485.82,721.94,716.57,609.19,135.31,255.89999999999998,277.40999999999997,113.12,2239.9500000000003,240.55,485.24,2306.52,935.1,7803.7699999999995,4596.51,180.94,3610.31,635.04,3774.1,3787.09,496.44,5028.12,574.02,680.3,1174.35,205.3,302.27,921.1,52.0,327.97,551.54,165.0,312.62,204.5,267.13,2650.73,602.97,162.29,311.71,208.75,1005.5,714.96,1661.06,1028.56,351.67,173.97,557.57,2020.52,391.76,364.5,476.58,367.69,252.42000000000002,201.60000000000002,158.04,473.81,115.65,1862.14,777.02,277.05,2766.5,8234.8,427.93,418.92,318.05,913.19,1330.45,602.51,1867.69,446.94000000000005,-1592.49,2360.55,2007.3999999999999,2213.11,168.0,1233.3600000000001,3631.8900000000003,1682.3600000000001,596.85,5927.86,635.76,316.88,394.14,140.54,500.0,1515.73,231.86,2183.54,107.45,288.18,94.0,1339.63,815.77,666.7,626.77,349.1,426.61,1056.44,267.18,3450.84,1346.38,190.53,774.9000000000001,572.8100000000001,3974.37,508.8,135.86,950.36,97.7,43.5,383.34,1429.9,1483.14,93.78,364.90000000000003,171.19,417.87,997.48,149.29,1122.53,200.16,156.57999999999998,383.68,594.0,3212.16,1418.26,113.5,155.17,494.64,971.22,429.84,538.73,1388.37,179.1,447.22,237.07,161.64,216.76,234.6,126.14,1048.85,6945.0199999999995,334.53,511.88,438.46,504.5,469.48,371.56,1465.2,454.10999999999996,1441.42,905.5,6568.72,233.81,3563.11,2575.0,91.32000000000001,1090.03,3090.85,659.4599999999999,1967.25,1299.23,1259.7,12396.46,1131.56,5541.46,147.09,52.83,3497.14,979.26,492.36,1000.27,250.0,909.23,121.0,2963.19,62.43,267.03,1911.89,343.5,2574.65,398.84,412.01000000000005,440.0,811.02,148.44,2348.82,229.33,3967.78,1502.35,2007.44,1517.08,746.92,459.9,110.92,538.46,213.3,85.13000000000001,127.86,3542.51,292.71999999999997,4954.84,1655.76,575.63,436.06,90.12,437.23,217.2,279.77,473.65000000000003,722.74,134.55,1319.69,173.16,186.01,758.29,1375.71,4109.97,650.4300000000001,2552.86,607.45,702.25,940.6700000000001,258.88,127.1,348.6,3429.9700000000003,682.9100000000001,722.61,455.3,913.6800000000001,456.58,-30.19,388.58,199.8,1767.53,1343.34,315.71999999999997,235.68,761.74,6745.36,1083.63,48.480000000000004,216.39,1198.23,2422.64,104.76,1093.68,270.03000000000003,112.46000000000001,1568.39,195.15,10360.04,747.031,336.40000000000003,1524.4,1158.77,3224.53,301.03,588.13,1504.56,675.8,2865.64,1180.4,3147.31,243.55,724.76,223.36,-94.0,425.32,12433.34,1887.2,647.4,813.0,612.01,425.14000000000004,599.9,816.0,646.3,337.74,877.4399999999999,922.53,511.32,748.5,30.0,958.9,306.45,1552.01,309.8,138.14,358.63,2242.01,301.32,76.32000000000001,677.69,173.05,2635.4900000000002,2881.02,1744.02,323.69,3324.09,657.23,352.7,781.28,1333.68,946.36,193.75,2981.5,254.1,239.76,136.8,191.04,6423.6,409.98,2644.46,309.65,664.03,1542.14,211.5,2293.62,143.1,1001.8100000000001,945.58,3329.7200000000003,133.25,1072.3600000000001,346.75,330.88,1118.81,150.3,598.73,507.08,2181.21,203.1,212.3,415.25,5178.96,-134.8,62.0,1108.38,294.12,162.3,1339.45,1121.21,4788.77,449.12,154.88,784.46,34.8,1071.24,182.96,974.04,149.31,2451.23,2628.93,79.2,455.67,2318.88,532.96,714.42,205.25,253.04,583.75,1048.67,3245.47,315.06,581.8299999999999,635.6800000000001,270.8,104.9,241.62,1021.61,475.28000000000003,333.56,2593.94,246.3,2303.75,4834.2,948.05,351.3,220.85,1604.44,948.96,610.01,2666.61,2207.4,884.14,699.08,1042.19,-451.42,415.82000000000005,3848.55,5452.17,784.58,903.9,3724.77,399.21,1145.43,2171.32,1801.14,1303.9099999999999,1842.73,2100.6,1905.45,206.98,570.96,885.47,-840.76,532.94,1649.3600000000001,1641.48,636.14,547.7,747.76,836.79,2084.9,954.09,117.47,391.98,1020.74,345.66,1209.1,118.95000000000002,130.73999999999998,3650.87,389.27,238.85,160.71,110.8,2974.65,712.24,297.0,1438.85,977.21,3000.36,832.88,68.84,1769.7800000000002,895.13,230.53,3797.79,149.64,354.09000000000003,360.93,4330.67,440.78,313.28000000000003,438.24,495.36,396.48,379.35,181.09,141.27,446.87,524.52,263.55,179.17,222.05,1384.68,56.25,351.11,363.88,5126.34,164.68,1521.79,967.45,191.94,1232.18,264.62,1491.24,123.1,334.23,639.89,167.5,336.03000000000003,363.6,127.08,207.15,426.63,2461.85,1107.46,416.86,145.35,404.58,6102.26,31.799999999999997,337.44,325.1,181.0,1708.24,955.24,364.72,1705.26,669.57,806.57,1634.53,4389.81,428.89,104.35,470.76,845.64,418.83,582.9,314.1,4199.85,99.77000000000002,3429.55,371.01,430.94,1054.73,1098.78,2398.86,3408.48,1475.02,2816.97,1037.42,168.12,1451.28,158.03,792.11,41.989999999999995,2756.82,427.07,1044.78,3084.17,12393.7,2735.37,615.39,101.4,1701.94,478.78,992.71,407.5,3362.71,1415.29,653.13,690.54,1483.31,211.88,408.90000000000003,3450.2400000000002,851.01,628.28,719.81,251.24,439.65999999999997,236.09,852.12,331.24,548.94,437.7,758.92,855.02,454.33000000000004,1313.55,3166.4,1147.37,773.99,1340.7,243.69000000000003,1111.79,137.9,362.06,1511.95,783.9,134.8,664.85,2140.2200000000003,1459.8600000000001,-29.95,1153.62,335.32,372.09,1521.87,852.15,326.24,584.3199999999999,94.35,2173.53,79.2,1352.0,176.6,2806.9,1317.62,436.18,981.51,1119.31,315.06,779.36,17.0,1041.83,320.62,185.04999999999998,2005.63,731.9,1245.96,1842.14,1429.64,302.36,336.96,108.38,3204.1600000000003,816.1,611.88,1337.48,195.73999999999998,161.38,135.75000000000003,1667.97,592.88,232.21,423.36,1294.14,867.11,684.4200000000001,307.78,187.15,289.35,6287.77,656.25,1880.22,3506.54,603.69,517.55,709.38,-7.95,635.41,703.77,620.4,535.34,2419.84,175.2,3741.98,734.13,375.0,76.32000000000001,280.52,1906.07,1829.04,1824.23,3024.62,644.24,348.2,1009.4499999999999,5352.97,37.4,441.59999999999997,802.53,3770.6,1822.97,1880.4199999999998,73.2,1140.21,1406.57,1009.5500000000001,1037.59,331.95,197.9,215.83,10217.48,305.54,6617.65,338.71000000000004,1155.54,529.41,3991.94,6841.24,981.86,215.48,215.08,4913.32,314.45,400.68100000000004,1080.6200000000001,1821.52,365.27,589.15,405.71,761.38,537.0600000000001,394.38,664.26,2262.62,542.77,681.19,159.0,1062.75,242.35,914.9300000000001,259.39000000000004,3054.87,864.86,846.72,1295.3,1096.32,255.12,308.32000000000005,1010.6,542.03,983.23,422.13,858.41,432.2,372.9,3693.81,2607.87,3598.26,409.1,1522.75,1352.3600000000001,114.56,152.94,1800.07,389.44,-295.09,3665.62,2609.3,732.63,46.95,5203.51,1035.45,746.83,-31.65,5423.15,861.89,667.65,1141.24,1423.29,411.7,357.95,559.87,810.6000000000001,537.83,1496.68,2062.06,168.3,1531.51,823.97,142.5,280.9,2236.7400000000002,1328.55,275.4,598.2,212.82,5305.83,361.21999999999997,602.27,2560.0,686.67,616.26,274.15000000000003,226.37,2755.56,1341.65,328.15,404.40000000000003,1038.46,230.70000000000002,326.75,207.50000000000003,428.68,510.54,3085.96,3844.22,242.21,1583.2,151.05,214.79999999999998,109.95,549.07,1959.38,322.41,370.47999999999996,101.10000000000001,575.41,887.65,1469.45,53.5,1100.47,153.9,494.44,6675.71,395.8,210.32000000000002,658.88,2024.95,1460.3700000000001,3411.69,896.66,652.07,109.36000000000001,707.04,1540.42,327.3,804.49,497.43,1553.66,1320.56,367.93,473.03000000000003,977.52,676.2,362.95,2131.9,1780.59,668.36,584.5,555.89,317.2,94.36,1362.27,221.19,2941.05,1412.06,1486.9,1631.15,408.57,303.93,4061.24,299.6,161.04999999999998,443.05,167.25,163.07,2126.93,2028.88,214.65,151.83,262.2,126.25,210.35,1026.99,675.27,959.48,346.12,82.56,302.7,1908.25,241.06,-2.95,284.55,300.85,642.81,287.4,184.26,1522.25,798.35,3640.67,381.2,616.79,638.77,230.51,2.8999999999941792,259.01,188.89000000000001,674.69,311.92,266.97,-8.15,1841.18,2158.37,208.36,3482.7400000000002,814.72,151.42,102.0,1383.7,1314.68,1603.46,74.9,650.43,757.44,223.95000000000002,314.86,1811.47,544.3,2494.46,331.0,300.83,769.29,220.62,139.35,379.4,363.65,492.2,731.5,1329.66,826.53,684.41,1562.22,2965.69,86.12,319.1,400.86,1421.43,484.38,777.6,90.30000000000001,363.7,248.1,950.26,874.59,1627.13,101.69999999999999,162.7,480.92,215.07999999999998,1036.6200000000001,9295.67,11895.57,290.36,228.06,244.41,455.25,1244.59,6748.8,1026.94,593.75,539.02,1388.81,119.62,339.3,-95.93,2266.25,922.12,379.73,5664.57,641.55,285.89,3313.79,281.85,8257.04,816.51,511.12,1077.74,173.7,614.01,865.6,124.2,3622.95,1285.22,999.7,648.41,451.44,-30.599999999999998,70.44,313.62,233.45,908.03,463.95,225.15,459.24,213.5,4073.28,330.03,181.09,360.16,250.15,90.04,140.7,813.52,244.79999999999998,494.72999999999996,482.47,3038.67,5450.96,75.66,120.99000000000001,1187.66,618.59,506.19,500.42,151.85,2630.64,204.41,178.96,813.48,129.45,810.5699999999999,333.08,4379.65,322.8,2183.04,417.73,2878.15,217.9,1124.59,1676.47,1169.38,231.10000000000002,679.83,487.51,833.78,214.06,270.85999999999996,518.42,6654.26,1166.92,594.97,3794.52,8568.24,933.62,123.24,39.12,810.4499999999999,135.39999999999998,118.98,570.13,306.71999999999997,1370.8700000000001,4022.46,1692.27,8093.59,319.61,1558.72,3013.83,129.75,183.7,1770.34,1028.0,324.24,3043.48,1260.86,303.26,208.63,1276.0,482.01,657.9000000000001,112.75,1998.0,5040.0,5150.2699999999995,531.35,656.63,3029.87,2483.04,1651.03,3645.43,6840.2300000000005,911.53,301.71999999999997,319.8000000000001,3278.36,623.75,1773.92,155.24,292.47,4711.21,589.15,775.07,1382.02,272.82,1054.67,7076.28,702.79,603.75,650.51,2269.21,417.59999999999997,3.75,312.55,0.0,2191.84,1304.76,7170.7,6694.31,826.96,1515.9,623.93,1764.72,207.5,223.92000000000002,2002.4,1484.63,239.4,106.83000000000001,369.34000000000003,772.84,316.62,1501.38,594.9,2758.25,34.0,1145.6,5580.6,458.04,380.39,744.9,2246.81,171.59,654.92,1695.66,388.28,226.35,245.94,10454.05,425.19,294.65,2242.25,107.6,597.48,80.8,1520.1200000000001,1706.28,110.38000000000001,243.84,1201.51,414.88,305.62,1201.49,867.83,332.3,536.99,460.59,801.49,1121.59,288.42,912.74,275.64,547.07,479.35,1692.98,6500.6,417.06,1446.95,3317.97,497.61,358.38,460.64,775.1800000000001,341.7,128.5,197.22,325.91,199.15,1106.53,413.46,180.85,251.87,3167.73,582.9,1774.62,1260.44,10183.82,214.32,193.44,281.42,124.57,332.41,342.45,144.91000000000003,328.4,35.400000000000006,345.89000000000004,473.14,151.65,481.35,207.73999999999998,805.62,2761.4900000000002,680.02,7066.31,2023.47,853.72,0.0,1519.08,432.0,705.12,276.73,429.84000000000003,471.51,194.88,1578.67,809.7,496.84000000000003,145.93,219.14,213.03,444.46,1281.56,187.6900000000001,1706.88,373.24,3754.27,3085.48,579.77,981.65,364.14,1510.06,2528.67,113.44,208.46,621.6800000000001,576.26,391.52,1043.34,2596.45,169.79,6666.83,739.5,230.25,543.05,2781.5,1295.39,380.55,161.94,530.08,950.9300000000001,262.68,1903.13,3049.88,1894.11,816.73,4345.5,406.48,435.02,1161.27,1178.56,1262.75,167.61,20.8,2085.08,493.67,292.34,416.64,117.35000000000001,507.05,234.17,110.55000000000001,201.19,2148.47,319.02,439.43,650.41,232.20999999999998,251.51999999999998,344.33,1809.05,1078.96,384.06,1920.2,4392.42,5461.62,1873.2,1625.05,126.12,1133.25,179.0,1601.8600000000001,-1.25,1427.46,702.0,287.02000000000004,484.82,3989.57,1487.78,1412.94,781.78,877.4300000000001,185.46,270.9,565.58,1842.56,8574.11,920.1,1272.61,71.0,95.85,357.77,154.82999999999998,848.59,716.0,146.87,380.35,1030.14,734.5699999999999,388.33,1253.22,112.4,449.73,1065.77,1044.3799999999999,1735.18,897.4300000000001,339.44,642.02,1100.9,864.32,5594.78,3228.84,247.14000000000001,413.75,496.38,1353.83,1179.89,3095.04,234.24,5116.13,534.47,1421.59,859.35,-112.35,4531.34,2655.2200000000003,312.14,2385.48,1446.09,813.77,841.0799999999999,378.2,118.80000000000001,285.5,290.16,2003.85,1405.78,2949.75,1555.05,2050.08,1991.01,2041.8500000000001,3802.81,1777.78,270.20000000000005,1088.2,992.6800000000001,937.92,971.74,1621.73,25.5,665.78,10380.43,869.6800000000001,163.29999999999998,248.61,747.22,806.9000000000001,116.19999999999999,157.02,593.61,307.46,138.32,345.29999999999995,298.89,259.35,991.85,157.09,2463.17,4892.240000000001,425.0,1139.73,380.5,10585.57,465.32,579.0,984.57,749.78,1679.64,124.88,1503.5,213.78,329.34,251.70000000000002,306.55,1266.97,1534.73,3518.03,1707.21,293.1,2466.4,158.68,189.49,816.88,224.91,313.26,3755.65,59.9,1430.94,306.13,711.79,780.38,239.92000000000002,3286.9100000000003,144.0,203.95,2275.58,384.40000000000003,249.74,2095.13,1674.46,262.62,1013.01,692.22,342.63,3563.85,1352.91,384.08,204.24,2299.67,226.85,2741.08,984.12,113.5,1960.72,114.23,3198.25,335.13,354.15,426.79,393.49,939.32,1906.09,318.76,3466.67,3127.82,421.52,190.88,149.89000000000001,550.06,916.13,314.69,3744.65,379.95,1135.04,8628.55,954.9,171.45,282.19,318.65,384.52,283.28000000000003,353.86,178.26,272.44,298.41,240.0,603.37,1253.3600000000001,63.440000000000005,562.9,310.64,317.62,763.64,2144.53,111.97999999999999,1065.3500000000001,246.04,187.82999999999998,1703.41,1641.68,153.92,1064.11,1419.73,936.16,525.24,550.8000000000001,1875.1100000000001,556.95,131.78,498.42,669.11,197.63,1119.93,250.04,8600.73,-152.64000000000001,82.75,1384.85,644.3,2288.13,2514.76,6204.46,2524.02,1200.6200000000001,700.86,908.99,990.23,96.8,523.11,363.9,175.2,494.25,306.6,1944.32,243.36,11891.18,781.36,193.64,160.57,537.74,2611.58,228.96,1159.52,110.75,1256.19,587.15,1740.0,1393.06,178.22,388.14,365.85,127.86,585.79,488.2,312.23,4455.73,4801.56,168.4,1349.52,446.18,423.89,1342.68,646.92,495.77,372.5,203.2,3925.92,404.66,65.4,199.29,336.4,261.11,2686.42,784.11,1259.56,508.8,457.91,203.86999999999998,7330.8,696.41,653.38,2129.96,2633.85,281.62,967.22,1928.72,32.65,771.85,1214.72,748.94,1258.06,778.0,507.84,6838.34,463.46000000000004,4200.97,598.83,1853.1299999999999,663.63,759.17,5022.26,100.8,512.12,265.76,403.3,365.76,303.15999999999997,2333.42,216.29999999999998,378.3,177.1,2210.2599999999998,534.24,2940.04,120.9,541.53,-4287.63,2504.86,1648.95,486.71999999999997,517.53,131.7,249.86,1737.7,316.5,657.3,452.63,757.46,662.94,1881.36,289.96000000000004,763.28,137.0,1843.06,1125.07,710.29,194.37,506.51,1249.34,414.04,396.87,376.64,1926.8799999999999,3541.92,374.57,497.56,271.05,272.22,622.88,1138.0,288.6,689.1,558.96,2745.2799999999997,1145.84,294.29,605.58,387.31,6100.74,308.48,2920.04,513.2,208.65,639.02,768.08,153.94,1839.07,546.81,721.9599999999999,1070.71,652.74,145.0,422.70000000000005,706.7,888.86,3540.1,2385.0,293.45,223.36,164.4,76.5,897.62,98.42,570.4,170.75,645.96,-11.8,-141.48,148.86,267.16,306.84,909.96,1487.6,1952.45,483.26,157.9,541.46,854.95,167.62,1107.38,454.01,901.21,4012.56,344.14,1498.51,226.75000000000003,362.9,185.65,3457.78,124.74,440.2,215.72,10736.11,175.27,1227.3,1133.07,1240.2,2404.17,1479.22,2215.02,3911.56,993.18,388.79,2827.93,2044.3700000000001,161.67000000000002,116.00999999999999,5050.77,-1165.3,309.36,193.42,1103.92,3947.87,1992.76,4509.37,390.07,329.6,571.1999999999999,971.58,218.52,81.44,1336.1,527.0500000000001,843.48,2047.0,75.75,1784.12,503.59999999999997,528.33,1242.34,2361.9700000000003,265.93,547.0600000000001,108.5,621.66,712.29,101.55,2768.98,995.6600000000001,133.06,1789.55,861.74,166.08,3886.67,4737.13,1175.88,117.55,2571.7400000000002,1674.69,485.88,2954.75,196.0,1788.27,604.64,728.16,2055.51,347.75,3406.7200000000003,205.7,1284.08,3106.62,1622.22,551.04,1383.27,298.11,1992.1100000000001,184.4,2459.33,239.41,3191.53,5739.46,4748.45,290.40000000000003,733.4399999999999,187.02,283.12,765.34,2201.05,338.95,154.95,2508.89,417.95,1719.72,798.74,885.19,1781.12,10097.37,152.4,267.08,137.45,385.1,522.91,153.0,326.4,5505.79,139.35,5367.8,1195.94,2380.64,3276.4000000000005,995.6500000000001,3371.13,1042.55,2515.68,5288.83,878.2,303.97,692.19,700.63,13110.02,337.49,168.24,1863.35,2786.05,355.11,2291.08,98.8,64.65,674.52,1797.57,80.64,1739.92,3456.7000000000003,834.99,287.59,712.78,15.0,818.8199999999999,371.88,271.2,2273.1800000000003,3960.63,1143.27,245.81,182.77,1215.46,56.4,665.86,642.17,188.02,283.47,131.94,278.74,1865.19,1117.9,225.9,1965.55,106.1,323.04,350.39,697.9,780.43,3026.08,1199.01,1251.84,512.31,546.04,4627.62,732.16,1714.6,36.56,387.68,3661.0699999999997,-24.05,298.4,1995.46,1599.97,889.24,398.7,35.400000000000006,155.37,350.64,110.21000000000001,1560.53,2312.7,338.8,205.48,51.559999999999995,2033.1,901.1999999999999,605.8000000000001,5288.63,114.34,311.26,208.97,1393.79,5155.66,148.21,252.8,2059.2,330.9,3160.0,597.5,10158.54,325.7,622.75,428.18,1889.4,155.9,1764.3600000000001,658.26,237.61,379.45,178.51999999999998,458.92,133.35000000000002,671.77,717.45,190.19,899.61,111.35,525.78,203.87,602.09,203.85999999999999,244.1,112.25,1119.81,98.0,256.32,541.1,152.06,155.8,15.0,110.38,178.92,800.24,72.9,243.28,366.23,295.61,411.6,336.43,341.28,1304.04,4204.1,826.52,207.50000000000003,2894.33,244.08,397.29,212.54,834.5,1740.48,408.36,1331.57,704.25,145.79,389.84,4301.22,99.14,1983.5800000000002,304.56,77.50000000000001,149.57999999999998,176.68,358.56000000000006,472.12,990.8400000000001,2295.37,557.3,12.75,111.68,508.4599999999999,73.78,1296.44,102.83,471.7,2622.57,1098.43,123.07,277.35,228.2,582.59,136.04,337.04,740.79,4393.61,353.19,288.14,300.91999999999996,737.81,811.45,152.68,634.95,20.8,198.57,191.17000000000002,630.84,93.35,629.6899999999999,76.1,1511.3,382.06,417.23,169.47,249.72,444.68,2116.19,252.24,174.8,102.78999999999999,187.29,166.42,120.03,1483.56,523.0,122.14,38.45,668.11,236.77999999999997,115.31,220.7,73.5,97.97,422.88,730.4,405.62,70.02,357.20000000000005,4161.14,165.04999999999998,559.51,2085.65,189.4,172.29000000000002,74.4,297.07,6752.14,363.65,170.16,296.71,2119.41,720.52,814.0,2380.08,318.0,396.33,101.69999999999999,2021.82,453.0,-5.329070518200751e-15,3864.44,489.6,2538.7200000000003,2633.0099999999998,336.13,3651.97,1231.5,343.45,703.37,87.52999999999999,689.95,101.34,3770.1199999999994,167.67000000000002,9065.76,2083.42,3017.3,580.0500000000001,911.15,2692.85,168.31,223.65,754.64,113.48000000000002,430.7,264.65,7925.32,206.05,352.69,76.32000000000001,220.1,1418.03,320.72,181.12,111.15,673.1,1826.21,589.4399999999999,1141.34,206.82999999999998,348.73,112.55000000000001,1045.74,715.4999999999999,681.9100000000001,761.83,152.65,8393.22,-35.400000000000006,1014.9,1000.16,2888.75,2861.55,160.35000000000002,179.33999999999997,612.0799999999999,566.58,653.35,399.19,347.82,734.94,451.75,530.15,638.0600000000001,1612.79,394.7,302.46000000000004,1355.51,1133.64,202.65,980.31,1208.51,7490.17,2106.84,104.0,448.65,1314.17,1573.41,1793.17,1843.75,382.8,600.52,49.8,304.25,1998.49,1084.34,274.51,207.79999999999998,957.97,212.96,896.0,689.13,5083.06,163.8,1396.99,160.42000000000002,1979.3,517.36,139.10000000000002,2621.38,600.07,248.42,232.48000000000002,299.34000000000003,481.75,621.75,626.38,2019.77,297.78000000000003,1033.31,443.0,6315.2300000000005,158.95000000000002,5361.02,5192.1,93.75,769.2,7276.900000000001,2716.6000000000004,2066.17,582.47,440.0,1796.48,882.24,987.1,1561.6100000000001,422.58,2058.09,2232.4900000000002,2507.56,596.1,783.02,95.34,342.92,4314.72,526.67,103.3,-50.1,2265.38,2338.6000000000004,2595.0,324.24,149.48,1211.08,801.51,0.0,138.9,238.95000000000002,3064.78,204.0,1.7763568394002505e-15,323.36,97.63,173.9,180.60000000000002,80.82,176.6,1837.28],\"y\":[2,182,31,73,17,95,4,58,13,59,131,19,254,129,10,274,23,85,23,11,167,63,52,14,33,18,77,219,41,105,91,100,30,10,100,32,100,64,27,159,126,85,59,5,11,6,54,108,77,113,114,28,61,40,18,198,34,29,46,39,126,30,36,30,35,300,97,11,240,108,420,54,36,16,201,98,11,12,177,4,58,26,22,191,8,355,23,43,30,90,129,68,38,35,72,88,29,51,40,391,179,457,36,264,308,36,35,154,218,81,350,55,15,245,26,20,23,84,14,23,65,160,147,1,15,1,23,23,69,7,33,34,36,51,16,26,286,124,18,155,38,12,110,144,71,18,95,68,17,16,63,34,273,21,274,481,52,20,50,70,8,5,57,10,20,196,121,33,22,22,111,16,168,21,10,20,463,191,34,62,28,11,89,148,120,31,24,15,22,251,126,97,12,4,10,35,70,26,18,21,119,27,214,133,62,65,29,12,3,16,3,202,60,111,65,21,163,20,105,36,42,11,95,92,474,11,18,38,91,307,230,43,64,31,103,101,394,39,22,53,10,47,24,31,74,45,128,21,33,20,9,51,43,38,130,56,36,5,13,232,38,4,2,33,168,102,94,10,42,91,45,56,52,646,525,362,105,157,7,171,72,16,32,41,37,27,43,270,53,12,22,90,348,33,174,257,79,142,38,259,21,69,56,19,42,359,164,57,69,53,24,124,141,46,26,12,22,4,43,4,11,38,27,134,229,103,231,15,53,65,6,4,377,97,95,69,18,45,310,32,12,55,67,51,159,30,107,86,59,15,20,4,21,2,25,24,45,14,17,8,26,28,26,31,15,2,47,29,4,16,59,6,47,5,25,94,25,56,12,39,9,27,24,18,175,12,123,316,116,439,34,108,52,27,91,51,50,20,84,115,3,317,46,6,3,96,26,551,107,2,11,66,4,2,85,154,49,12,7,13,42,7,72,86,7,82,3,34,24,4,10,72,63,4,96,75,24,50,22,109,2,52,28,28,29,31,45,84,9,27,107,130,63,120,9,47,103,75,1,30,23,103,118,219,23,65,80,17,183,19,244,16,96,109,10,33,5,151,308,8,22,9,24,20,34,4,78,30,92,68,13,31,27,73,5,67,28,31,342,7,6,409,29,4,15,3,107,222,124,176,47,1,459,134,40,43,26,47,10,99,75,11,37,30,48,28,43,14,33,18,35,196,137,14,422,18,78,8,8,15,10,11,69,14,49,15,2,470,9,7,22,112,380,6,6,75,18,29,161,24,26,170,30,6,437,1,8,310,8,20,2,60,10,50,146,280,132,31,76,82,1,53,55,235,142,15,2,46,3,7,105,1,139,705,63,174,46,136,23,3,7,17,4,347,86,75,15,1,85,89,79,122,4,8,82,42,42,65,133,13,32,48,43,314,72,17,265,11,94,183,1,84,37,2,29,63,29,3,110,229,120,46,57,8,150,329,22,56,143,92,5,7,5,21,66,5,109,34,16,9,2,10,612,207,43,59,39,32,22,67,13,58,27,16,143,25,26,23,36,14,1,38,87,8,9,11,91,202,224,447,320,1,101,15,16,30,8,46,11,85,40,7,14,187,42,31,54,11,5,59,2,5,22,81,1,21,81,1,57,107,77,26,78,75,88,135,20,500,110,11,25,21,77,12,109,17,19,53,21,268,51,24,54,134,42,22,119,22,8,14,16,43,16,27,51,32,42,90,29,24,169,60,20,132,1,29,19,44,23,158,38,53,97,173,15,155,35,36,51,13,1,164,21,47,39,26,39,3,11,27,30,18,24,19,28,314,16,10,105,128,78,159,29,74,67,54,46,10,103,12,167,54,13,62,199,19,71,444,2,17,53,65,394,17,27,10,41,18,99,306,10,260,22,64,86,61,81,16,112,11,10,8,23,69,34,427,14,86,50,8,18,52,36,20,45,67,53,18,17,22,227,29,162,12,44,117,15,10,4,59,44,143,38,9,95,436,5,177,27,6,224,15,22,66,76,342,179,25,38,87,98,124,52,4,121,136,34,175,33,14,82,49,85,38,176,44,85,27,341,33,26,46,130,85,23,10,53,24,11,180,21,89,58,16,129,26,166,41,264,19,99,23,27,43,98,228,76,201,24,44,13,19,86,19,94,59,80,12,147,188,62,64,101,8,40,66,28,148,5,80,23,98,6,63,166,56,49,16,112,108,58,13,12,87,501,9,25,16,65,25,16,216,57,3,31,39,8,6,9,55,4,90,12,14,197,1,135,28,20,48,51,346,8,13,10,108,21,103,12,60,43,28,86,6,118,42,20,63,43,38,33,208,194,30,3,23,35,323,42,72,26,1,28,24,9,76,35,12,343,143,117,25,57,70,14,17,208,143,120,177,22,9,57,17,115,31,7,31,45,17,13,39,33,23,66,17,137,13,10,7,76,12,36,14,36,71,58,177,33,24,36,59,96,40,46,12,93,15,1,74,4,29,55,19,174,1,206,20,9,58,5,101,94,81,24,114,17,11,28,77,142,22,30,7,61,33,307,118,338,24,18,104,7,3,36,165,66,155,60,28,16,19,40,15,114,27,21,30,119,17,12,19,43,149,26,126,148,34,18,30,33,7,20,137,45,11,21,27,10,17,59,16,23,31,27,9,7,46,49,47,11,5,3,160,36,39,138,20,30,33,152,5,92,12,11,35,2,633,158,15,11,28,340,10,15,54,11,115,112,17,353,13,239,41,16,86,5,125,155,87,212,16,40,47,171,84,30,44,11,34,39,20,162,68,39,22,28,31,16,6,15,243,152,92,66,38,28,93,6,241,21,209,6,14,34,88,505,54,56,4,6,10,291,8,203,111,82,7,52,24,333,14,43,46,42,65,12,4,156,29,181,451,70,14,1,217,105,21,252,26,35,84,21,76,124,35,14,157,11,173,40,15,72,3,1,161,5,167,16,44,46,52,67,201,30,134,47,26,67,46,22,7,12,245,6,3,40,26,50,52,6,49,41,108,25,52,29,25,52,58,29,26,164,32,43,327,165,248,24,3,71,277,263,42,604,8,6,44,2,39,44,39,21,10,88,103,118,9,5,70,109,59,107,12,7,21,194,41,61,118,73,183,43,54,118,36,159,80,15,9,8,116,42,10,16,148,112,75,20,8,111,78,54,107,112,5,52,143,19,31,66,29,10,33,29,75,228,8,156,34,27,285,11,17,47,103,238,108,61,7,64,162,3,16,27,110,35,180,123,27,87,8,104,24,42,123,41,9,12,269,28,26,19,163,63,90,34,18,6,130,24,71,6,60,18,31,21,1,47,6,9,11,38,41,58,118,41,69,533,8,4,4,75,11,46,56,131,59,14,7,140,191,62,291,5,353,73,95,26,183,26,104,8,76,107,55,287,14,45,23,98,612,14,124,206,30,27,222,3,1,264,17,148,22,382,12,9,6,9,32,55,59,68,98,293,70,20,258,40,109,62,22,4,37,17,180,246,6,130,72,90,43,281,7,30,47,19,11,18,13,30,144,10,14,47,145,49,30,17,123,7,6,19,31,193,194,7,12,631,164,107,316,98,57,71,23,18,73,101,18,16,4,17,12,203,298,18,229,216,64,65,558,333,19,10,19,32,76,111,5,107,114,417,367,4,56,48,10,58,113,216,21,32,76,69,446,129,4,34,12,29,273,241,1,123,24,17,6,330,101,29,27,384,3,197,164,152,53,102,55,50,25,7,2,114,20,4,3,17,22,30,96,21,135,13,57,126,5,24,153,41,8,20,28,16,175,113,7,2,34,29,30,30,199,102,29,237,50,80,127,29,259,30,4,168,99,117,14,576,170,132,61,74,102,44,1,7,2,421,15,359,13,54,71,69,8,133,22,210,8,115,350,348,22,415,1,29,197,139,359,25,341,10,71,55,238,37,29,278,52,10,71,501,45,149,216,205,17,56,61,93,59,28,70,19,92,5,30,41,237,38,19,71,102,7,11,21,7,39,137,6,52,9,60,134,3,35,41,27,6,15,3,30,6,46,4,15,82,6,12,13,392,59,44,12,47,11,256,255,30,53,4,63,48,13,29,2,70,29,121,17,45,40,70,6,110,4,138,158,130,13,392,22,28,143,10,131,20,66,61,59,12,6,48,11,4,37,147,72,13,98,28,50,124,47,17,11,54,15,18,6,20,10,7,33,73,23,506,43,55,119,98,24,364,69,18,168,9,35,28,87,13,79,45,57,78,44,10,11,128,42,17,88,10,366,35,172,3,14,64,20,20,149,55,85,12,42,61,27,317,5,198,13,83,38,6,37,34,160,18,32,21,11,73,216,8,41,87,4,40,61,27,75,77,115,158,144,12,182,20,128,35,20,20,32,70,479,135,563,155,72,61,37,48,7,111,55,513,400,27,127,133,67,5,3,461,13,207,22,98,3,80,143,30,71,114,25,276,239,121,57,5,158,53,82,104,70,1,26,76,42,27,49,451,48,35,5,15,60,145,23,31,26,112,49,11,25,5,23,6,9,35,71,101,102,20,61,31,40,84,101,197,21,45,80,1,14,22,28,87,106,15,140,16,111,84,22,52,29,73,10,69,13,81,26,14,218,67,95,29,20,23,344,278,22,92,55,133,7,4,29,103,27,41,5,7,110,11,23,3,95,6,18,29,63,21,19,93,51,19,326,1,36,10,13,97,142,9,38,9,43,20,52,7,25,110,43,2,166,9,119,11,5,32,16,23,8,58,126,23,31,14,143,15,99,52,52,83,111,22,34,89,33,6,358,121,44,55,18,47,6,8,34,78,19,10,12,23,82,6,11,2,48,275,63,47,42,52,12,21,16,150,3,21,88,59,212,109,25,200,41,194,12,28,247,31,26,58,12,21,48,1,24,38,1,33,16,36,106,49,49,29,10,62,13,35,16,99,36,88,17,26,21,32,23,17,5,9,72,5,233,63,14,519,561,13,7,17,29,151,44,96,4,1,95,27,137,3,117,196,37,8,306,43,12,31,10,1,85,12,85,7,14,6,74,50,13,42,8,58,153,34,122,100,10,39,48,193,28,8,53,6,2,17,300,306,6,83,10,53,59,29,329,45,25,62,2,385,219,5,9,28,62,30,58,286,25,60,58,7,58,11,7,157,104,57,53,29,27,77,76,14,29,46,45,127,88,189,86,2,55,155,35,299,125,16,523,68,252,70,13,99,164,46,92,1,160,7,218,15,27,220,18,200,57,10,1,180,4,166,26,674,108,228,263,86,78,24,41,15,29,28,261,81,702,116,61,29,17,56,14,31,20,31,1,117,8,7,53,31,330,57,215,104,168,45,39,13,51,151,44,125,31,9,30,1,24,5,104,84,23,16,52,414,54,2,17,67,91,13,60,18,6,45,6,429,49,3,104,18,214,19,34,68,49,157,61,177,15,25,15,2,25,495,119,36,238,52,36,28,2,32,21,6,21,37,47,1,56,11,94,5,9,19,116,13,1,35,12,81,155,135,21,216,33,12,110,78,67,10,168,9,19,2,12,79,22,177,18,89,237,5,117,6,59,214,297,6,53,20,35,118,7,128,91,72,41,12,32,302,4,6,73,14,10,26,81,176,8,9,88,3,65,29,93,21,295,412,1,29,149,192,45,9,7,37,63,188,11,28,10,25,7,18,22,29,21,44,14,87,280,206,25,35,76,13,42,135,8,98,119,69,3,8,274,307,31,48,210,43,112,139,41,40,74,49,123,17,62,33,17,20,69,134,51,41,69,54,276,50,12,24,65,28,50,8,11,140,22,97,22,30,140,80,14,191,142,547,147,18,24,40,45,463,15,76,128,137,131,106,32,24,49,18,12,14,93,62,41,11,24,87,4,51,116,75,30,151,249,7,267,19,160,12,40,143,60,25,12,21,12,21,119,74,12,7,18,77,2,14,6,2,29,60,19,103,43,91,103,185,42,7,28,122,84,21,11,35,6,177,24,98,65,49,43,97,113,275,38,14,140,27,52,3,560,35,131,509,9,103,218,8,385,33,90,86,212,94,148,184,237,32,28,165,46,76,101,64,28,32,17,29,100,22,55,39,28,65,6,75,39,83,9,312,10,34,84,70,8,68,134,180,1,64,23,74,102,33,21,23,2,131,1,21,11,227,31,38,167,40,18,53,1,67,12,10,67,39,83,57,48,29,13,6,31,49,18,354,16,30,8,284,35,30,16,32,212,38,16,16,13,117,40,89,78,38,21,37,1,31,37,30,37,118,1,237,29,22,1,18,136,29,89,139,19,14,22,502,2,7,35,99,85,127,3,69,87,23,58,15,8,11,176,11,28,15,46,31,219,297,67,11,6,151,19,15,179,115,18,36,57,98,63,19,66,46,24,43,6,44,14,37,19,90,97,137,96,134,8,7,47,35,38,25,48,20,21,142,662,295,51,91,93,16,7,69,24,21,124,274,14,2,135,18,124,3,260,61,45,54,134,25,67,33,6,25,109,17,11,168,109,8,19,120,79,23,27,12,167,22,44,4,44,37,16,14,156,69,19,3,56,16,37,1,118,20,320,319,41,154,10,11,20,153,84,15,47,2,38,92,235,9,60,8,28,94,39,32,34,110,70,671,106,90,5,53,51,18,130,76,118,228,97,111,128,5,23,109,32,102,33,59,88,4,35,45,358,100,210,86,73,29,198,60,15,23,5,63,172,232,45,35,31,7,54,73,102,52,18,6,21,372,9,1,2,6,83,8,17,109,132,282,24,174,86,63,4,36,20,43,11,14,3,99,111,9,202,135,33,4,85,236,148,2,182,171,13,19,368,28,146,17,35,53,18,19,26,42,31,39,62,50,97,97,136,16,22,11,86,86,4,3,13,13,169,35,113,6,17,42,13,157,298,200,15,14,17,30,77,4,181,31,56,45,5,3,31,261,32,17,86,74,17,207,11,474,58,31,19,3,19,35,5,133,106,58,46,28,1,11,6,14,31,8,13,33,10,222,27,53,85,12,7,11,62,31,32,34,174,280,6,11,66,30,26,33,5,97,16,9,29,5,48,23,184,20,119,64,153,9,72,95,52,12,35,27,62,14,21,24,123,76,31,261,80,208,8,2,17,9,32,53,20,161,262,6,117,98,92,170,3,10,44,30,62,588,62,16,13,3,60,10,21,5,312,154,123,27,79,402,22,447,632,94,19,3,236,45,203,27,37,228,43,152,185,46,269,668,84,28,53,128,1,1,16,4,193,242,358,452,45,69,95,25,9,34,2,176,13,7,22,43,13,89,24,718,1,34,222,58,40,146,255,26,49,158,76,50,16,344,60,19,197,3,155,5,95,322,12,16,287,66,18,164,121,24,60,98,103,67,23,150,16,28,15,449,325,28,95,191,26,38,26,28,22,8,11,23,12,47,24,10,11,166,26,117,64,379,11,12,14,8,19,20,9,19,2,13,72,8,28,11,129,139,7,289,123,159,6,178,1,39,38,26,101,37,135,203,101,45,69,44,163,125,82,44,60,710,209,93,151,19,547,105,8,38,57,143,9,130,327,60,696,89,14,6,213,77,54,53,49,62,57,242,305,283,33,249,21,19,61,42,87,16,1,54,26,18,16,7,101,14,7,26,31,21,31,42,42,2,39,91,87,22,149,418,121,3,129,7,12,1,95,1,41,12,6,23,169,50,44,44,53,12,15,75,217,268,16,234,7,3,9,4,155,2,11,22,28,32,32,77,22,15,71,98,102,10,22,22,65,48,322,316,43,92,14,84,62,516,5,101,71,82,62,1,297,154,64,148,174,80,25,28,2,9,64,81,52,162,189,96,115,64,198,125,15,77,52,213,65,42,1,90,421,121,12,30,135,43,9,10,38,18,7,9,32,40,262,14,134,27,24,52,24,487,20,15,48,35,85,9,16,14,23,20,15,67,102,229,105,5,145,10,14,60,16,16,87,4,64,15,80,131,23,76,2,10,89,61,20,237,35,29,29,96,40,152,67,13,7,213,4,164,104,9,274,25,472,63,28,49,21,47,208,47,73,546,36,25,14,29,105,19,566,16,40,407,31,9,55,69,57,39,87,18,112,78,16,124,12,23,127,80,38,6,116,27,69,15,9,94,294,45,124,142,112,102,1,135,69,51,30,57,66,81,53,69,1,12,55,14,28,136,487,11,73,107,204,50,6,33,6,1,28,12,548,9,424,183,17,32,87,503,1,215,9,72,27,8,16,19,45,59,15,132,29,35,414,468,34,128,33,87,253,57,28,71,24,419,83,2,51,15,47,28,78,15,3,62,4,27,92,38,213,59,33,94,116,2,13,64,43,66,6,14,271,30,208,30,135,28,43,272,2,42,14,43,48,54,138,9,19,8,140,1,135,9,36,1,279,107,19,61,8,17,19,54,111,37,111,28,219,9,41,5,90,78,181,14,31,83,21,24,29,86,110,12,27,10,17,40,5,18,28,38,140,52,16,88,22,369,20,106,6,40,87,137,11,83,30,46,73,33,6,9,23,49,260,394,15,9,13,3,75,9,26,25,145,2,17,6,42,43,51,2,88,106,6,34,27,46,64,49,152,177,29,299,12,26,8,417,6,52,45,452,29,36,214,23,253,201,167,215,50,83,270,55,13,9,565,15,63,59,238,582,142,319,100,14,3,78,77,4,27,33,50,315,5,124,26,39,72,297,24,35,7,5,40,8,169,54,7,92,53,8,239,270,50,22,93,82,23,161,45,90,43,18,117,15,68,11,61,115,228,27,79,16,30,11,119,15,130,286,258,19,47,18,15,35,126,19,8,146,24,80,55,31,108,395,5,35,7,23,29,10,1,254,6,278,50,120,10,45,198,67,169,220,83,18,35,43,690,26,10,99,48,15,137,8,2,35,193,1,93,412,95,25,19,1,75,57,21,105,313,38,54,53,157,3,194,84,12,67,13,72,134,5,14,190,10,58,46,82,111,410,104,147,10,43,64,141,378,17,33,49,5,13,220,82,30,23,2,61,61,24,172,137,56,37,5,1,51,26,312,24,15,17,17,199,25,58,223,11,148,102,389,10,81,40,280,10,46,47,12,26,6,26,8,145,117,64,109,10,81,21,94,34,28,16,193,16,2,115,28,32,11,19,39,34,12,58,39,40,59,80,94,23,696,145,1,38,1,21,23,6,39,65,90,21,29,77,43,12,23,2,2,20,9,1,72,21,489,19,1,31,7,26,249,35,104,329,68,48,85,14,31,31,15,179,297,65,21,12,147,30,48,23,1,13,39,29,5,84,2,180,93,58,40,60,22,30,33,14,28,31,32,46,123,3,29,5,191,22,21,10,5,34,112,53,96,19,19,474,7,121,128,47,7,5,21,363,19,3,21,46,27,7,138,10,37,1,472,25,36,76,13,153,227,29,127,2,17,73,2,29,7,7,39,90,38,70,21,213,109,19,41,38,18,39,19,454,49,26,1,28,378,74,30,17,32,364,36,197,56,47,14,71,2,20,39,8,162,1,18,61,43,221,10,7,16,37,38,21,28,140,35,23,39,81,25,10,43,140,9,38,56,197,31,1,33,75,99,90,119,44,44,1,17,72,69,16,7,45,18,9,141,166,32,68,19,202,32,8,134,42,43,15,13,26,31,24,115,4,65,19,299,10,286,245,5,32,164,89,126,40,1,104,49,61,88,6,105,78,177,4,49,8,22,16,98,6,4,123,42,140,21,13,62,46,2,8,13,170,3,22,16,9,9,10,7,13,70],\"z\":[325,1,74,18,309,35,203,231,213,22,32,1,7,51,286,2,109,7,290,3,50,44,71,310,24,2,314,129,81,21,4,184,28,337,15,79,21,71,63,15,35,45,118,302,322,49,148,21,49,32,78,300,74,66,216,2,112,63,15,95,0,162,77,194,11,25,8,42,35,42,0,84,79,99,1,13,366,2,20,21,57,242,43,21,155,10,16,133,52,72,43,57,70,93,1,45,9,7,142,30,28,16,53,0,22,3,3,27,22,16,32,9,335,4,38,62,165,9,81,20,22,314,95,337,17,300,232,133,25,283,142,65,84,266,352,77,27,0,63,78,142,38,1,8,0,81,8,59,14,29,130,91,7,28,21,19,29,29,74,46,197,165,78,357,38,7,49,15,1,310,4,302,7,260,281,72,22,1,39,8,226,315,35,34,20,72,246,39,238,2,3,233,16,7,38,28,189,316,91,108,37,50,18,9,28,28,189,58,21,78,364,57,77,22,51,57,30,277,1,84,28,21,15,14,1,231,275,105,211,22,10,3,9,56,58,89,66,32,238,23,114,24,127,129,33,4,21,154,106,2,334,321,148,10,16,10,18,29,10,0,7,324,358,57,6,150,9,329,4,11,24,51,0,14,3,3,7,27,371,113,25,205,27,120,69,6,20,7,79,19,63,6,14,291,29,2,96,22,0,8,105,3,150,70,4,2,31,84,3,4,370,27,10,70,113,179,233,352,314,332,371,77,63,133,51,1,3,128,80,235,249,86,15,116,51,7,137,316,3,238,210,59,16,19,20,20,4,1,8,2,9,64,191,373,256,334,52,18,359,9,183,36,167,260,44,101,147,95,280,177,2,213,70,74,59,2,5,2,321,37,261,31,144,282,58,172,33,2,143,4,69,65,28,266,21,30,96,289,107,78,372,7,210,51,137,25,282,25,185,365,83,326,281,142,57,3,17,44,275,8,24,87,62,67,213,23,185,30,41,204,264,17,11,58,39,22,2,4,148,138,127,7,16,160,63,87,4,34,121,77,23,1,16,14,25,63,45,130,300,35,287,143,15,30,1,8,5,9,0,305,3,6,7,88,9,2,111,6,3,197,211,155,155,29,239,18,0,73,291,2,30,22,22,3,77,21,195,106,3,317,105,11,173,55,322,371,8,0,2,52,72,6,15,3,63,0,113,22,30,10,38,356,54,57,137,79,8,253,290,98,30,31,13,63,8,211,63,24,249,253,71,190,12,372,23,81,9,0,191,266,129,0,0,3,178,125,3,157,8,20,70,266,20,70,32,98,233,0,39,2,128,43,372,2,30,0,8,116,21,19,238,268,93,89,4,77,93,22,261,273,72,196,49,10,21,15,107,84,18,332,39,25,9,28,13,202,5,143,32,48,94,8,21,312,121,45,281,18,35,63,26,7,3,15,45,64,25,44,7,14,267,39,336,10,18,94,60,135,10,9,3,18,9,14,58,29,93,9,8,56,267,121,126,77,239,199,59,2,272,201,80,225,3,12,73,211,24,10,261,95,111,202,92,50,17,17,124,91,156,3,13,11,61,60,268,262,52,10,2,17,0,365,36,30,112,63,15,40,63,121,17,59,322,22,155,38,189,359,136,7,0,267,164,103,154,350,3,119,22,6,8,3,21,1,36,63,0,4,69,71,16,2,31,81,38,315,31,92,13,81,76,153,200,44,260,172,67,276,69,63,10,15,65,7,70,121,79,256,268,58,2,17,66,8,49,256,353,365,89,60,80,98,25,20,280,30,329,120,10,74,203,1,184,21,72,191,126,17,0,73,8,106,133,43,4,11,63,134,39,50,107,0,18,9,10,18,66,73,4,1,13,254,91,22,16,23,26,25,258,165,24,17,6,28,38,182,57,99,10,1,98,0,60,235,190,178,37,197,45,231,65,240,232,77,57,16,104,51,135,274,311,7,10,282,17,22,242,16,70,63,67,311,2,243,8,0,260,126,73,72,20,59,85,49,58,0,29,32,40,14,33,78,204,33,182,1,0,42,85,39,11,95,25,318,65,73,27,5,6,215,81,83,143,18,40,172,16,242,12,205,49,22,9,24,14,308,155,306,31,15,14,10,64,35,107,52,5,46,0,311,44,64,25,28,39,11,88,23,312,39,173,116,30,252,58,22,4,99,24,32,67,36,51,15,73,215,30,8,119,9,256,16,34,45,42,113,164,10,9,196,85,178,59,148,2,50,74,300,18,150,151,0,17,186,285,2,182,62,58,24,324,30,38,154,25,317,4,7,302,266,270,3,31,218,246,280,268,31,245,14,116,35,119,216,49,38,28,36,135,218,27,24,4,199,17,240,71,16,2,94,150,373,95,53,287,123,287,151,3,1,11,32,53,49,203,62,70,1,63,33,81,102,6,250,12,9,366,75,3,42,65,116,309,66,137,254,30,51,63,366,5,304,28,183,41,39,55,21,23,28,301,144,5,18,32,157,57,21,358,15,17,158,24,211,5,252,58,10,64,24,91,51,87,95,8,8,168,56,325,0,17,244,57,73,30,6,122,1,22,119,357,53,63,85,54,20,2,0,6,188,70,203,119,92,0,26,297,21,20,49,325,15,182,71,36,79,56,3,49,49,52,351,53,1,35,22,74,10,168,57,85,294,108,263,170,168,34,22,16,21,78,64,360,2,10,175,210,6,1,153,4,371,78,20,21,307,145,6,8,70,286,48,30,206,14,72,59,38,29,26,3,16,19,65,212,11,29,31,3,14,9,205,45,133,42,9,115,197,277,109,76,52,153,46,16,154,224,6,121,60,62,17,1,21,28,284,175,77,32,40,265,26,108,283,8,276,16,31,19,123,64,105,23,266,4,9,28,266,63,319,3,20,4,128,40,101,124,32,266,364,3,1,2,56,324,7,11,36,15,137,73,4,154,84,51,30,22,3,13,22,3,273,19,143,353,3,83,10,7,122,60,1,318,1,129,1,1,45,3,2,372,133,46,8,48,233,212,35,74,238,265,19,39,215,173,86,70,275,38,97,10,32,50,296,84,8,40,10,66,330,8,1,1,67,4,201,106,3,217,59,1,10,238,94,10,90,52,89,371,30,11,2,1,42,3,246,41,176,91,109,28,25,51,178,31,43,21,9,80,372,325,42,29,183,234,8,175,110,277,317,6,1,253,50,8,141,50,7,154,108,150,331,225,73,50,87,14,196,2,30,20,23,7,211,8,10,1,7,2,39,17,7,18,107,222,70,50,88,7,224,46,106,20,64,206,10,114,234,162,8,123,22,63,16,15,16,157,234,218,44,20,126,38,120,259,9,270,164,156,214,5,365,59,42,18,31,21,108,7,319,294,357,184,190,43,51,25,37,8,296,32,8,8,9,217,1,64,0,140,3,129,33,118,106,10,70,15,310,34,361,91,0,21,3,10,84,56,0,217,17,18,49,6,298,9,21,98,142,305,319,7,0,1,53,0,18,8,18,180,59,10,189,310,154,109,147,63,97,246,28,17,11,103,73,42,71,256,19,253,10,164,17,149,49,38,26,50,206,174,6,25,50,311,300,42,25,87,63,19,2,46,16,23,21,10,187,100,60,17,32,63,1,23,107,31,8,36,59,25,235,24,2,58,259,57,64,15,9,58,185,3,23,3,3,150,310,10,17,151,18,9,56,63,6,75,3,95,110,34,0,280,2,179,371,12,2,16,40,5,168,49,226,18,371,14,34,21,6,19,10,43,305,10,274,15,3,71,242,8,238,203,0,184,31,56,184,8,311,90,3,50,262,265,35,50,51,15,21,58,169,8,156,200,4,66,76,0,3,168,17,4,8,86,26,28,19,60,23,10,241,279,234,2,15,30,371,70,187,25,106,7,208,43,30,136,264,3,217,1,213,31,10,0,14,10,198,2,14,13,9,28,8,23,24,42,1,5,146,9,24,273,373,0,46,7,8,3,3,38,1,190,11,15,112,247,28,43,86,44,9,14,74,144,4,293,58,263,43,28,7,16,231,111,57,50,3,126,280,54,319,25,9,6,28,16,63,3,2,165,52,50,47,60,161,8,14,74,39,40,369,36,196,199,73,63,20,366,179,9,3,196,28,52,17,9,89,267,52,34,63,148,21,311,22,57,8,77,118,35,59,12,8,51,25,28,6,185,2,3,261,2,209,8,12,76,19,26,18,131,252,78,206,335,253,147,9,84,7,204,7,22,10,20,20,1,153,2,73,2,16,35,85,70,115,212,29,50,245,31,108,4,365,72,296,8,56,29,13,71,22,8,78,45,24,11,252,146,58,7,10,270,9,246,95,14,49,29,67,34,127,106,36,56,56,71,245,18,197,15,211,38,45,169,47,115,146,50,158,11,35,53,42,172,33,38,266,8,11,2,9,32,79,30,7,71,3,255,4,15,89,71,42,169,198,30,18,151,8,269,64,273,24,22,318,4,11,274,24,40,7,70,212,37,31,77,45,178,372,93,9,104,77,172,6,212,21,256,281,20,9,307,53,214,17,103,42,3,181,83,329,8,30,166,17,17,310,141,240,23,28,9,29,17,17,14,133,245,129,49,84,6,22,24,65,59,49,169,17,127,14,232,2,239,51,45,225,7,3,164,218,10,133,16,9,30,73,0,3,44,356,17,68,372,320,25,324,8,322,71,259,17,366,65,153,28,69,13,1,119,60,2,2,8,91,58,78,25,356,84,9,0,224,59,238,318,1,44,87,10,175,51,365,318,225,357,233,310,36,65,238,112,276,217,298,1,28,9,44,66,73,64,133,237,121,31,8,35,15,126,66,148,280,168,99,134,323,106,63,150,337,21,23,15,6,56,3,30,65,46,354,171,58,49,21,42,28,4,25,200,43,9,1,66,63,50,289,60,63,95,270,74,109,198,63,326,3,283,43,48,63,103,333,52,34,31,365,207,156,53,65,80,115,86,0,34,332,365,71,157,372,11,254,28,30,4,39,361,240,95,25,74,56,20,143,40,136,7,128,39,168,8,213,14,169,39,185,269,171,4,15,9,325,112,289,15,0,91,148,188,17,33,263,83,25,170,9,312,64,84,24,58,322,37,253,18,32,14,26,22,78,7,21,11,261,130,54,248,1,8,263,330,312,25,29,29,1,361,282,261,24,353,93,28,337,19,84,8,34,42,1,112,13,76,39,115,15,160,0,29,92,22,94,27,32,20,17,0,7,15,362,80,52,22,171,188,330,11,155,11,44,232,63,1,35,32,83,24,1,32,18,253,22,21,7,24,18,172,162,6,10,113,287,8,53,6,76,3,36,216,59,277,23,28,11,351,8,49,18,2,103,6,11,4,31,177,37,150,161,68,120,24,23,176,49,252,288,46,70,15,100,29,34,26,10,7,78,51,35,56,336,27,182,51,9,35,9,32,10,49,3,2,140,116,99,74,4,44,15,16,89,52,300,133,3,104,178,165,18,157,203,335,36,90,92,8,232,44,22,189,43,24,316,105,50,167,39,217,39,296,18,87,72,80,8,48,52,23,8,17,116,8,119,3,251,27,0,266,32,17,171,1,264,139,200,59,34,40,283,8,142,11,145,233,23,11,35,364,200,14,16,48,197,65,211,282,114,14,18,65,48,15,77,8,133,12,39,2,39,304,50,0,60,65,24,217,64,31,80,63,115,5,68,244,132,240,183,24,9,10,29,43,25,357,9,43,8,149,0,112,75,106,45,142,50,0,22,45,49,305,35,78,16,106,207,2,63,48,319,43,2,336,171,50,72,98,28,57,253,69,43,44,64,24,58,63,303,45,17,37,18,186,51,3,136,18,15,40,11,7,25,21,40,100,4,276,32,14,62,1,368,311,198,1,92,59,79,156,226,252,149,193,0,368,23,16,9,7,19,3,173,0,177,15,247,190,19,153,172,371,372,193,66,3,20,238,63,111,89,310,133,276,364,82,7,16,1,0,33,14,23,31,73,19,16,22,2,303,17,235,38,83,164,16,76,88,24,21,2,122,29,11,18,43,3,8,54,87,36,2,29,11,210,47,23,21,245,7,34,35,3,2,46,38,1,16,259,45,11,29,42,91,309,91,195,86,269,7,64,30,21,37,119,85,39,173,53,32,144,220,44,3,65,268,9,259,364,16,21,44,287,291,2,283,16,81,55,100,298,22,58,154,98,106,11,263,239,87,49,8,41,6,61,248,65,17,84,218,44,142,182,170,9,205,189,7,58,56,72,51,315,366,28,38,17,51,21,262,59,367,18,52,87,249,2,246,8,156,133,295,4,38,268,49,8,15,281,63,1,251,224,16,10,7,50,58,94,15,125,93,49,137,60,99,72,71,66,63,16,22,31,44,15,39,2,236,74,3,2,360,58,22,30,54,24,44,88,80,18,78,170,80,266,234,29,36,317,56,44,202,218,86,189,32,70,40,77,56,7,9,7,33,211,23,169,61,52,260,365,31,16,257,176,44,50,16,360,8,73,70,352,2,116,372,196,176,22,20,71,339,5,30,169,116,8,9,212,22,107,25,138,213,37,91,17,2,330,63,119,34,217,171,71,0,195,127,43,5,13,17,27,36,156,283,106,24,74,15,157,43,10,31,290,20,332,17,3,62,197,32,0,6,4,9,31,52,11,17,18,36,1,17,81,32,65,8,266,246,3,60,74,89,59,28,322,52,269,1,49,60,144,18,94,0,264,301,69,301,18,12,35,18,53,56,21,43,26,44,112,24,190,301,1,262,80,105,56,212,63,27,28,5,7,66,1,45,33,0,135,197,190,149,87,44,63,98,217,2,27,177,63,20,19,33,73,23,51,274,164,6,87,63,24,9,75,15,191,173,76,32,46,72,296,2,8,49,160,359,4,106,24,31,19,296,371,21,4,51,29,276,60,24,185,1,1,171,80,3,189,21,17,18,4,106,2,53,164,290,108,95,242,162,2,34,66,23,0,20,5,53,363,14,193,2,8,2,126,73,70,364,154,112,373,79,248,231,70,68,3,50,74,60,15,3,276,3,40,30,74,17,14,218,185,32,69,182,14,235,30,253,3,51,245,80,274,0,78,29,73,16,222,31,22,24,105,4,245,177,169,38,71,53,15,140,17,21,9,367,188,15,361,18,67,14,23,16,27,1,54,33,2,365,42,72,4,60,46,0,75,43,255,68,134,240,226,8,8,36,45,84,18,2,8,18,218,77,266,8,368,14,25,261,16,90,301,25,363,45,35,51,31,51,78,52,297,171,46,28,10,86,4,24,17,44,30,372,57,371,113,214,318,64,7,96,19,184,3,293,272,30,47,259,57,32,56,67,9,59,79,73,1,99,364,9,19,122,7,3,28,281,56,0,364,88,10,162,64,22,173,102,142,98,22,191,4,360,7,13,102,2,10,95,226,15,38,50,92,156,38,183,0,227,127,39,30,196,36,63,42,49,42,52,186,333,3,9,23,14,365,105,59,28,140,22,21,76,4,63,11,24,30,66,66,186,37,14,34,194,1,0,366,64,298,25,7,11,115,28,3,4,81,28,63,3,22,289,35,8,23,276,49,155,60,11,20,370,115,79,3,25,52,0,54,25,8,51,12,211,21,235,138,3,56,122,108,29,0,184,8,238,86,38,115,186,226,7,188,3,38,2,266,77,3,254,60,12,77,16,29,2,4,6,218,10,371,29,287,149,22,0,72,45,4,50,16,29,7,28,2,40,10,30,44,60,184,78,110,63,11,85,15,245,77,29,137,26,2,31,8,112,156,84,114,2,95,193,27,128,27,81,29,265,73,313,8,58,142,11,27,113,8,17,17,35,35,77,21,24,32,108,34,122,6,27,3,2,49,317,21,8,1,17,9,261,158,32,28,164,46,5,7,287,317,2,232,118,161,184,49,151,334,4,15,106,15,275,15,246,238,0,105,22,51,194,23,74,17,7,31,21,30,28,21,32,283,38,49,288,74,4,217,43,201,177,55,56,7,46,226,10,105,58,27,35,273,29,23,53,35,168,53,52,26,252,39,59,233,3,31,23,6,64,309,308,18,15,95,263,11,2,34,182,24,12,10,2,312,107,0,52,204,14,119,3,362,116,17,4,40,106,147,51,207,138,1,126,107,41,34,227,240,57,129,59,21,25,8,31,3,307,7,28,16,100,11,20,14,360,10,364,94,77,138,17,24,0,45,99,7,14,17,279,13,22,123,85,300,150,93,8,156,354,45,14,3,85,14,178,7,35,128,50,311,23,302,10,16,48,238,0,12,237,22,72,16,40,39,218,189,70,23,10,64,3,18,14,7,19,77,163,306,218,38,21,114,125,4,35,0,329,162,184,15,11,2,43,79,29,41,10,49,15,44,18,3,71,120,32,312,17,87,1,1,246,147,28,219,147,176,39,144,1,0,17,191,203,364,126,14,42,78,22,50,15,157,9,9,15,44,190,78,73,3,64,260,58,0,0,247,7,358,75,289,16,220,8,2,205,161,69,261,280,57,24,28,71,127,30,14,308,16,53,23,1,10,360,359,0,53,0,0,120,53,279,176,29,25,8,269,42,371,217,23,196,358,42,129,0,19,205,13,94,18,13,23,7,6,331,49,70,28,242,7,190,4,252,0,235,6,108,99,59,1,72,3,84,11,22,213,17,238,1,49,216,32,40,3,52,22,56,129,173,5,311,59,20,32,14,17,80,5,169,1,30,35,8,30,275,86,119,372,0,218,64,60,134,20,11,24,28,276,10,72,10,3,140,25,18,3,65,0,42,227,15,43,0,73,3,263,52,23,9,43,16,6,29,357,126,135,141,131,37,235,260,16,252,29,34,168,2,3,184,187,169,10,44,320,200,22,231,37,25,95,126,57,15,8,3,2,78,372,38,53,1,8,8,18,11,112,3,234,99,177,4,358,0,18,16,21,32,262,50,158,14,7,12,198,56,10,96,254,24,20,158,71,52,84,152,73,280,26,29,24,179,39,21,21,36,81,73,10,15,12,13,36,3,71,190,50,4,8,298,1,32,49,2,46,41,26,41,302,106,84,80,217,301,11,184,372,1,5,304,368,2,323,58,12,30,142,29,106,1,204,79,184,169,43,173,364,303,2,3,11,31,128,18,211,322,161,55,224,71,43,22,172,84,158,164,28,20,70,246,373,8,309,58,3,44,87,3,63,281,0,372,132,44,10,35,133,28,51,137,4,8,159,48,130,7,232,36,146,71,39,4,198,248,65,116,170,20,141,31,37,37,371,373,165,210,241,51,24,14,371,28,364,35,165,144,21,55,184,11,236,224,121,281,73,36,11,361,3,22,69,234,256,372,154,27,3,31,80,107,51,35,152,98,3,333,64,21,35,31,153,18,11,53,24,3,44,202,358,65,6,287,9,8,21,172,132,5,74,39,288,25,257,154,113,373,22,7,216,44,18,35,25,15,329,273,97,60,1,92,81,312,11,7,126,10,36,37,329,248,1,18,11,368,289,67,25,367,213,148,7,23,29,60,18,242,8,210,28,62,294,16,360,150,116,7,12,140,45,50,31,134,2,74,12,8,300,56,9,30,176,3,175,60,32,58,14,86,6,353,30,113,8,4,23,217,14,248,14,77,191,261,71,150,63,94,3,105,199,156,70,35,28,1,25,325,236,88,30,28,205,2,219,21,92,1,263,2,38,217,49,11,8,191,81,325,71,29,2,218,45,9,71,6,23,113,16,300,86,50,88,354,38,24,172,42,139,22,71,133,357,37,2,1,17,20,57,73,277,180,7,42],\"type\":\"scatter3d\"}],                        {\"template\":{\"data\":{\"bar\":[{\"error_x\":{\"color\":\"#2a3f5f\"},\"error_y\":{\"color\":\"#2a3f5f\"},\"marker\":{\"line\":{\"color\":\"#E5ECF6\",\"width\":0.5},\"pattern\":{\"fillmode\":\"overlay\",\"size\":10,\"solidity\":0.2}},\"type\":\"bar\"}],\"barpolar\":[{\"marker\":{\"line\":{\"color\":\"#E5ECF6\",\"width\":0.5},\"pattern\":{\"fillmode\":\"overlay\",\"size\":10,\"solidity\":0.2}},\"type\":\"barpolar\"}],\"carpet\":[{\"aaxis\":{\"endlinecolor\":\"#2a3f5f\",\"gridcolor\":\"white\",\"linecolor\":\"white\",\"minorgridcolor\":\"white\",\"startlinecolor\":\"#2a3f5f\"},\"baxis\":{\"endlinecolor\":\"#2a3f5f\",\"gridcolor\":\"white\",\"linecolor\":\"white\",\"minorgridcolor\":\"white\",\"startlinecolor\":\"#2a3f5f\"},\"type\":\"carpet\"}],\"choropleth\":[{\"colorbar\":{\"outlinewidth\":0,\"ticks\":\"\"},\"type\":\"choropleth\"}],\"contour\":[{\"colorbar\":{\"outlinewidth\":0,\"ticks\":\"\"},\"colorscale\":[[0.0,\"#0d0887\"],[0.1111111111111111,\"#46039f\"],[0.2222222222222222,\"#7201a8\"],[0.3333333333333333,\"#9c179e\"],[0.4444444444444444,\"#bd3786\"],[0.5555555555555556,\"#d8576b\"],[0.6666666666666666,\"#ed7953\"],[0.7777777777777778,\"#fb9f3a\"],[0.8888888888888888,\"#fdca26\"],[1.0,\"#f0f921\"]],\"type\":\"contour\"}],\"contourcarpet\":[{\"colorbar\":{\"outlinewidth\":0,\"ticks\":\"\"},\"type\":\"contourcarpet\"}],\"heatmap\":[{\"colorbar\":{\"outlinewidth\":0,\"ticks\":\"\"},\"colorscale\":[[0.0,\"#0d0887\"],[0.1111111111111111,\"#46039f\"],[0.2222222222222222,\"#7201a8\"],[0.3333333333333333,\"#9c179e\"],[0.4444444444444444,\"#bd3786\"],[0.5555555555555556,\"#d8576b\"],[0.6666666666666666,\"#ed7953\"],[0.7777777777777778,\"#fb9f3a\"],[0.8888888888888888,\"#fdca26\"],[1.0,\"#f0f921\"]],\"type\":\"heatmap\"}],\"heatmapgl\":[{\"colorbar\":{\"outlinewidth\":0,\"ticks\":\"\"},\"colorscale\":[[0.0,\"#0d0887\"],[0.1111111111111111,\"#46039f\"],[0.2222222222222222,\"#7201a8\"],[0.3333333333333333,\"#9c179e\"],[0.4444444444444444,\"#bd3786\"],[0.5555555555555556,\"#d8576b\"],[0.6666666666666666,\"#ed7953\"],[0.7777777777777778,\"#fb9f3a\"],[0.8888888888888888,\"#fdca26\"],[1.0,\"#f0f921\"]],\"type\":\"heatmapgl\"}],\"histogram\":[{\"marker\":{\"pattern\":{\"fillmode\":\"overlay\",\"size\":10,\"solidity\":0.2}},\"type\":\"histogram\"}],\"histogram2d\":[{\"colorbar\":{\"outlinewidth\":0,\"ticks\":\"\"},\"colorscale\":[[0.0,\"#0d0887\"],[0.1111111111111111,\"#46039f\"],[0.2222222222222222,\"#7201a8\"],[0.3333333333333333,\"#9c179e\"],[0.4444444444444444,\"#bd3786\"],[0.5555555555555556,\"#d8576b\"],[0.6666666666666666,\"#ed7953\"],[0.7777777777777778,\"#fb9f3a\"],[0.8888888888888888,\"#fdca26\"],[1.0,\"#f0f921\"]],\"type\":\"histogram2d\"}],\"histogram2dcontour\":[{\"colorbar\":{\"outlinewidth\":0,\"ticks\":\"\"},\"colorscale\":[[0.0,\"#0d0887\"],[0.1111111111111111,\"#46039f\"],[0.2222222222222222,\"#7201a8\"],[0.3333333333333333,\"#9c179e\"],[0.4444444444444444,\"#bd3786\"],[0.5555555555555556,\"#d8576b\"],[0.6666666666666666,\"#ed7953\"],[0.7777777777777778,\"#fb9f3a\"],[0.8888888888888888,\"#fdca26\"],[1.0,\"#f0f921\"]],\"type\":\"histogram2dcontour\"}],\"mesh3d\":[{\"colorbar\":{\"outlinewidth\":0,\"ticks\":\"\"},\"type\":\"mesh3d\"}],\"parcoords\":[{\"line\":{\"colorbar\":{\"outlinewidth\":0,\"ticks\":\"\"}},\"type\":\"parcoords\"}],\"pie\":[{\"automargin\":true,\"type\":\"pie\"}],\"scatter\":[{\"marker\":{\"colorbar\":{\"outlinewidth\":0,\"ticks\":\"\"}},\"type\":\"scatter\"}],\"scatter3d\":[{\"line\":{\"colorbar\":{\"outlinewidth\":0,\"ticks\":\"\"}},\"marker\":{\"colorbar\":{\"outlinewidth\":0,\"ticks\":\"\"}},\"type\":\"scatter3d\"}],\"scattercarpet\":[{\"marker\":{\"colorbar\":{\"outlinewidth\":0,\"ticks\":\"\"}},\"type\":\"scattercarpet\"}],\"scattergeo\":[{\"marker\":{\"colorbar\":{\"outlinewidth\":0,\"ticks\":\"\"}},\"type\":\"scattergeo\"}],\"scattergl\":[{\"marker\":{\"colorbar\":{\"outlinewidth\":0,\"ticks\":\"\"}},\"type\":\"scattergl\"}],\"scattermapbox\":[{\"marker\":{\"colorbar\":{\"outlinewidth\":0,\"ticks\":\"\"}},\"type\":\"scattermapbox\"}],\"scatterpolar\":[{\"marker\":{\"colorbar\":{\"outlinewidth\":0,\"ticks\":\"\"}},\"type\":\"scatterpolar\"}],\"scatterpolargl\":[{\"marker\":{\"colorbar\":{\"outlinewidth\":0,\"ticks\":\"\"}},\"type\":\"scatterpolargl\"}],\"scatterternary\":[{\"marker\":{\"colorbar\":{\"outlinewidth\":0,\"ticks\":\"\"}},\"type\":\"scatterternary\"}],\"surface\":[{\"colorbar\":{\"outlinewidth\":0,\"ticks\":\"\"},\"colorscale\":[[0.0,\"#0d0887\"],[0.1111111111111111,\"#46039f\"],[0.2222222222222222,\"#7201a8\"],[0.3333333333333333,\"#9c179e\"],[0.4444444444444444,\"#bd3786\"],[0.5555555555555556,\"#d8576b\"],[0.6666666666666666,\"#ed7953\"],[0.7777777777777778,\"#fb9f3a\"],[0.8888888888888888,\"#fdca26\"],[1.0,\"#f0f921\"]],\"type\":\"surface\"}],\"table\":[{\"cells\":{\"fill\":{\"color\":\"#EBF0F8\"},\"line\":{\"color\":\"white\"}},\"header\":{\"fill\":{\"color\":\"#C8D4E3\"},\"line\":{\"color\":\"white\"}},\"type\":\"table\"}]},\"layout\":{\"annotationdefaults\":{\"arrowcolor\":\"#2a3f5f\",\"arrowhead\":0,\"arrowwidth\":1},\"autotypenumbers\":\"strict\",\"coloraxis\":{\"colorbar\":{\"outlinewidth\":0,\"ticks\":\"\"}},\"colorscale\":{\"diverging\":[[0,\"#8e0152\"],[0.1,\"#c51b7d\"],[0.2,\"#de77ae\"],[0.3,\"#f1b6da\"],[0.4,\"#fde0ef\"],[0.5,\"#f7f7f7\"],[0.6,\"#e6f5d0\"],[0.7,\"#b8e186\"],[0.8,\"#7fbc41\"],[0.9,\"#4d9221\"],[1,\"#276419\"]],\"sequential\":[[0.0,\"#0d0887\"],[0.1111111111111111,\"#46039f\"],[0.2222222222222222,\"#7201a8\"],[0.3333333333333333,\"#9c179e\"],[0.4444444444444444,\"#bd3786\"],[0.5555555555555556,\"#d8576b\"],[0.6666666666666666,\"#ed7953\"],[0.7777777777777778,\"#fb9f3a\"],[0.8888888888888888,\"#fdca26\"],[1.0,\"#f0f921\"]],\"sequentialminus\":[[0.0,\"#0d0887\"],[0.1111111111111111,\"#46039f\"],[0.2222222222222222,\"#7201a8\"],[0.3333333333333333,\"#9c179e\"],[0.4444444444444444,\"#bd3786\"],[0.5555555555555556,\"#d8576b\"],[0.6666666666666666,\"#ed7953\"],[0.7777777777777778,\"#fb9f3a\"],[0.8888888888888888,\"#fdca26\"],[1.0,\"#f0f921\"]]},\"colorway\":[\"#636efa\",\"#EF553B\",\"#00cc96\",\"#ab63fa\",\"#FFA15A\",\"#19d3f3\",\"#FF6692\",\"#B6E880\",\"#FF97FF\",\"#FECB52\"],\"font\":{\"color\":\"#2a3f5f\"},\"geo\":{\"bgcolor\":\"white\",\"lakecolor\":\"white\",\"landcolor\":\"#E5ECF6\",\"showlakes\":true,\"showland\":true,\"subunitcolor\":\"white\"},\"hoverlabel\":{\"align\":\"left\"},\"hovermode\":\"closest\",\"mapbox\":{\"style\":\"light\"},\"paper_bgcolor\":\"white\",\"plot_bgcolor\":\"#E5ECF6\",\"polar\":{\"angularaxis\":{\"gridcolor\":\"white\",\"linecolor\":\"white\",\"ticks\":\"\"},\"bgcolor\":\"#E5ECF6\",\"radialaxis\":{\"gridcolor\":\"white\",\"linecolor\":\"white\",\"ticks\":\"\"}},\"scene\":{\"xaxis\":{\"backgroundcolor\":\"#E5ECF6\",\"gridcolor\":\"white\",\"gridwidth\":2,\"linecolor\":\"white\",\"showbackground\":true,\"ticks\":\"\",\"zerolinecolor\":\"white\"},\"yaxis\":{\"backgroundcolor\":\"#E5ECF6\",\"gridcolor\":\"white\",\"gridwidth\":2,\"linecolor\":\"white\",\"showbackground\":true,\"ticks\":\"\",\"zerolinecolor\":\"white\"},\"zaxis\":{\"backgroundcolor\":\"#E5ECF6\",\"gridcolor\":\"white\",\"gridwidth\":2,\"linecolor\":\"white\",\"showbackground\":true,\"ticks\":\"\",\"zerolinecolor\":\"white\"}},\"shapedefaults\":{\"line\":{\"color\":\"#2a3f5f\"}},\"ternary\":{\"aaxis\":{\"gridcolor\":\"white\",\"linecolor\":\"white\",\"ticks\":\"\"},\"baxis\":{\"gridcolor\":\"white\",\"linecolor\":\"white\",\"ticks\":\"\"},\"bgcolor\":\"#E5ECF6\",\"caxis\":{\"gridcolor\":\"white\",\"linecolor\":\"white\",\"ticks\":\"\"}},\"title\":{\"x\":0.05},\"xaxis\":{\"automargin\":true,\"gridcolor\":\"white\",\"linecolor\":\"white\",\"ticks\":\"\",\"title\":{\"standoff\":15},\"zerolinecolor\":\"white\",\"zerolinewidth\":2},\"yaxis\":{\"automargin\":true,\"gridcolor\":\"white\",\"linecolor\":\"white\",\"ticks\":\"\",\"title\":{\"standoff\":15},\"zerolinecolor\":\"white\",\"zerolinewidth\":2}}},\"scene\":{\"domain\":{\"x\":[0.0,1.0],\"y\":[0.0,1.0]},\"xaxis\":{\"title\":{\"text\":\"x\"}},\"yaxis\":{\"title\":{\"text\":\"y\"}},\"zaxis\":{\"title\":{\"text\":\"z\"}}},\"coloraxis\":{\"colorbar\":{\"title\":{\"text\":\"color\"}},\"colorscale\":[[0.0,\"#0d0887\"],[0.1111111111111111,\"#46039f\"],[0.2222222222222222,\"#7201a8\"],[0.3333333333333333,\"#9c179e\"],[0.4444444444444444,\"#bd3786\"],[0.5555555555555556,\"#d8576b\"],[0.6666666666666666,\"#ed7953\"],[0.7777777777777778,\"#fb9f3a\"],[0.8888888888888888,\"#fdca26\"],[1.0,\"#f0f921\"]]},\"legend\":{\"tracegroupgap\":0},\"margin\":{\"t\":60}},                        {\"responsive\": true}                    ).then(function(){\n",
              "                            \n",
              "var gd = document.getElementById('cd4ac432-120f-40ae-a4fa-05c577a11d54');\n",
              "var x = new MutationObserver(function (mutations, observer) {{\n",
              "        var display = window.getComputedStyle(gd).display;\n",
              "        if (!display || display === 'none') {{\n",
              "            console.log([gd, 'removed!']);\n",
              "            Plotly.purge(gd);\n",
              "            observer.disconnect();\n",
              "        }}\n",
              "}});\n",
              "\n",
              "// Listen for the removal of the full notebook cells\n",
              "var notebookContainer = gd.closest('#notebook-container');\n",
              "if (notebookContainer) {{\n",
              "    x.observe(notebookContainer, {childList: true});\n",
              "}}\n",
              "\n",
              "// Listen for the clearing of the current output cell\n",
              "var outputEl = gd.closest('.output');\n",
              "if (outputEl) {{\n",
              "    x.observe(outputEl, {childList: true});\n",
              "}}\n",
              "\n",
              "                        })                };                            </script>        </div>\n",
              "</body>\n",
              "</html>"
            ]
          },
          "metadata": {}
        }
      ]
    },
    {
      "cell_type": "markdown",
      "source": [
        "HIERARCHICAL CLUSTERING"
      ],
      "metadata": {
        "id": "ZDav5PRjJyJf"
      }
    },
    {
      "cell_type": "code",
      "source": [
        "from scipy.cluster.hierarchy import linkage\n",
        "from scipy.cluster.hierarchy import dendrogram\n",
        "from scipy.cluster.hierarchy import cut_tree"
      ],
      "metadata": {
        "id": "AAavgq9PFm0d"
      },
      "execution_count": 34,
      "outputs": []
    },
    {
      "cell_type": "code",
      "source": [
        "#SINGLE LINKAGE\n",
        "plt.figure(figsize=(15,8))\n",
        "mergings=linkage(df,method='single',metric='euclidean')\n",
        "dendrogram(mergings)\n",
        "plt.show()"
      ],
      "metadata": {
        "colab": {
          "base_uri": "https://localhost:8080/",
          "height": 360
        },
        "id": "XNF0drSdKEK6",
        "outputId": "ab1fbf90-8efd-4fd4-eed7-7cc73d566fe7"
      },
      "execution_count": 38,
      "outputs": [
        {
          "output_type": "display_data",
          "data": {
            "text/plain": [
              "<Figure size 1080x576 with 1 Axes>"
            ],
            "image/png": "[encoded data removed]"
          },
          "metadata": {
            "needs_background": "light"
          }
        }
      ]
    },
    {
      "cell_type": "code",
      "source": [
        "plt.figure(figsize=(15,8))\n",
        "mergings=linkage(df,method='complete',metric='euclidean')\n",
        "dendrogram(mergings)\n",
        "plt.show()"
      ],
      "metadata": {
        "colab": {
          "base_uri": "https://localhost:8080/",
          "height": 364
        },
        "id": "SXa5GGR4KW9B",
        "outputId": "411ddcde-f4a8-4228-c2bc-e721edd56d5d"
      },
      "execution_count": 39,
      "outputs": [
        {
          "output_type": "display_data",
          "data": {
            "text/plain": [
              "<Figure size 1080x576 with 1 Axes>"
            ],
            "image/png": "[encoded data removed]"
          },
          "metadata": {
            "needs_background": "light"
          }
        }
      ]
    },
    {
      "cell_type": "code",
      "source": [
        "plt.figure(figsize=(15,8))\n",
        "mergings=linkage(df,method='average',metric='euclidean')\n",
        "dendrogram(mergings)\n",
        "plt.show()"
      ],
      "metadata": {
        "colab": {
          "base_uri": "https://localhost:8080/",
          "height": 367
        },
        "id": "AqkZXJ5KKiF5",
        "outputId": "9e6d6bee-baa3-44a2-9b40-0c78801a881e"
      },
      "execution_count": 40,
      "outputs": [
        {
          "output_type": "display_data",
          "data": {
            "text/plain": [
              "<Figure size 1080x576 with 1 Axes>"
            ],
            "image/png": "[encoded data removed]"
          },
          "metadata": {
            "needs_background": "light"
          }
        }
      ]
    },
    {
      "cell_type": "markdown",
      "source": [
        "Cutting The dendrogram based on K"
      ],
      "metadata": {
        "id": "cr4YNAo-Otpg"
      }
    },
    {
      "cell_type": "code",
      "source": [
        "clusterlabels=cut_tree(mergings,n_clusters=3).reshape(-1,)\n",
        "clusterlabels"
      ],
      "metadata": {
        "colab": {
          "base_uri": "https://localhost:8080/"
        },
        "id": "9ZeuPmjELD2w",
        "outputId": "3a0d24c4-2d89-454b-c301-f0ce54fd270e"
      },
      "execution_count": 41,
      "outputs": [
        {
          "output_type": "execute_result",
          "data": {
            "text/plain": [
              "array([0, 0, 0, ..., 0, 0, 0])"
            ]
          },
          "metadata": {},
          "execution_count": 41
        }
      ]
    },
    {
      "cell_type": "code",
      "source": [
        "rfm['Clusterlabels']=clusterlabels\n",
        "rfm.head()"
      ],
      "metadata": {
        "colab": {
          "base_uri": "https://localhost:8080/",
          "height": 206
        },
        "id": "UiX3NvPcO8qJ",
        "outputId": "b6edad32-7455-408d-d58c-9d6f20baa4a3"
      },
      "execution_count": 42,
      "outputs": [
        {
          "output_type": "execute_result",
          "data": {
            "text/plain": [
              "  CustomerID   Amount  Frequency  Recency  ClusterID  Clusterlabels\n",
              "0    12346.0     0.00          2      325          2              0\n",
              "1    12347.0  4310.00        182        1          0              0\n",
              "2    12348.0  1797.24         31       74          1              0\n",
              "3    12349.0  1757.55         73       18          1              0\n",
              "4    12350.0   334.40         17      309          2              0"
            ],
            "text/html": [
              "\n",
              "  <div id=\"df-7db4e016-057a-47de-bcd2-cf3e7efc9711\">\n",
              "    <div class=\"colab-df-container\">\n",
              "      <div>\n",
              "<style scoped>\n",
              "    .dataframe tbody tr th:only-of-type {\n",
              "        vertical-align: middle;\n",
              "    }\n",
              "\n",
              "    .dataframe tbody tr th {\n",
              "        vertical-align: top;\n",
              "    }\n",
              "\n",
              "    .dataframe thead th {\n",
              "        text-align: right;\n",
              "    }\n",
              "</style>\n",
              "<table border=\"1\" class=\"dataframe\">\n",
              "  <thead>\n",
              "    <tr style=\"text-align: right;\">\n",
              "      <th></th>\n",
              "      <th>CustomerID</th>\n",
              "      <th>Amount</th>\n",
              "      <th>Frequency</th>\n",
              "      <th>Recency</th>\n",
              "      <th>ClusterID</th>\n",
              "      <th>Clusterlabels</th>\n",
              "    </tr>\n",
              "  </thead>\n",
              "  <tbody>\n",
              "    <tr>\n",
              "      <th>0</th>\n",
              "      <td>12346.0</td>\n",
              "      <td>0.00</td>\n",
              "      <td>2</td>\n",
              "      <td>325</td>\n",
              "      <td>2</td>\n",
              "      <td>0</td>\n",
              "    </tr>\n",
              "    <tr>\n",
              "      <th>1</th>\n",
              "      <td>12347.0</td>\n",
              "      <td>4310.00</td>\n",
              "      <td>182</td>\n",
              "      <td>1</td>\n",
              "      <td>0</td>\n",
              "      <td>0</td>\n",
              "    </tr>\n",
              "    <tr>\n",
              "      <th>2</th>\n",
              "      <td>12348.0</td>\n",
              "      <td>1797.24</td>\n",
              "      <td>31</td>\n",
              "      <td>74</td>\n",
              "      <td>1</td>\n",
              "      <td>0</td>\n",
              "    </tr>\n",
              "    <tr>\n",
              "      <th>3</th>\n",
              "      <td>12349.0</td>\n",
              "      <td>1757.55</td>\n",
              "      <td>73</td>\n",
              "      <td>18</td>\n",
              "      <td>1</td>\n",
              "      <td>0</td>\n",
              "    </tr>\n",
              "    <tr>\n",
              "      <th>4</th>\n",
              "      <td>12350.0</td>\n",
              "      <td>334.40</td>\n",
              "      <td>17</td>\n",
              "      <td>309</td>\n",
              "      <td>2</td>\n",
              "      <td>0</td>\n",
              "    </tr>\n",
              "  </tbody>\n",
              "</table>\n",
              "</div>\n",
              "      <button class=\"colab-df-convert\" onclick=\"convertToInteractive('df-7db4e016-057a-47de-bcd2-cf3e7efc9711')\"\n",
              "              title=\"Convert this dataframe to an interactive table.\"\n",
              "              style=\"display:none;\">\n",
              "        \n",
              "  <svg xmlns=\"http://www.w3.org/2000/svg\" height=\"24px\"viewBox=\"0 0 24 24\"\n",
              "       width=\"24px\">\n",
              "    <path d=\"M0 0h24v24H0V0z\" fill=\"none\"/>\n",
              "    <path d=\"M18.56 5.44l.94 2.06.94-2.06 2.06-.94-2.06-.94-.94-2.06-.94 2.06-2.06.94zm-11 1L8.5 8.5l.94-2.06 2.06-.94-2.06-.94L8.5 2.5l-.94 2.06-2.06.94zm10 10l.94 2.06.94-2.06 2.06-.94-2.06-.94-.94-2.06-.94 2.06-2.06.94z\"/><path d=\"M17.41 7.96l-1.37-1.37c-.4-.4-.92-.59-1.43-.59-.52 0-1.04.2-1.43.59L10.3 9.45l-7.72 7.72c-.78.78-.78 2.05 0 2.83L4 21.41c.39.39.9.59 1.41.59.51 0 1.02-.2 1.41-.59l7.78-7.78 2.81-2.81c.8-.78.8-2.07 0-2.86zM5.41 20L4 18.59l7.72-7.72 1.47 1.35L5.41 20z\"/>\n",
              "  </svg>\n",
              "      </button>\n",
              "      \n",
              "  <style>\n",
              "    .colab-df-container {\n",
              "      display:flex;\n",
              "      flex-wrap:wrap;\n",
              "      gap: 12px;\n",
              "    }\n",
              "\n",
              "    .colab-df-convert {\n",
              "      background-color: #E8F0FE;\n",
              "      border: none;\n",
              "      border-radius: 50%;\n",
              "      cursor: pointer;\n",
              "      display: none;\n",
              "      fill: #1967D2;\n",
              "      height: 32px;\n",
              "      padding: 0 0 0 0;\n",
              "      width: 32px;\n",
              "    }\n",
              "\n",
              "    .colab-df-convert:hover {\n",
              "      background-color: #E2EBFA;\n",
              "      box-shadow: 0px 1px 2px rgba(60, 64, 67, 0.3), 0px 1px 3px 1px rgba(60, 64, 67, 0.15);\n",
              "      fill: #174EA6;\n",
              "    }\n",
              "\n",
              "    [theme=dark] .colab-df-convert {\n",
              "      background-color: #3B4455;\n",
              "      fill: #D2E3FC;\n",
              "    }\n",
              "\n",
              "    [theme=dark] .colab-df-convert:hover {\n",
              "      background-color: #434B5C;\n",
              "      box-shadow: 0px 1px 3px 1px rgba(0, 0, 0, 0.15);\n",
              "      filter: drop-shadow(0px 1px 2px rgba(0, 0, 0, 0.3));\n",
              "      fill: #FFFFFF;\n",
              "    }\n",
              "  </style>\n",
              "\n",
              "      <script>\n",
              "        const buttonEl =\n",
              "          document.querySelector('#df-7db4e016-057a-47de-bcd2-cf3e7efc9711 button.colab-df-convert');\n",
              "        buttonEl.style.display =\n",
              "          google.colab.kernel.accessAllowed ? 'block' : 'none';\n",
              "\n",
              "        async function convertToInteractive(key) {\n",
              "          const element = document.querySelector('#df-7db4e016-057a-47de-bcd2-cf3e7efc9711');\n",
              "          const dataTable =\n",
              "            await google.colab.kernel.invokeFunction('convertToInteractive',\n",
              "                                                     [key], {});\n",
              "          if (!dataTable) return;\n",
              "\n",
              "          const docLinkHtml = 'Like what you see? Visit the ' +\n",
              "            '<a target=\"_blank\" href=https://colab.research.google.com/notebooks/data_table.ipynb>data table notebook</a>'\n",
              "            + ' to learn more about interactive tables.';\n",
              "          element.innerHTML = '';\n",
              "          dataTable['output_type'] = 'display_data';\n",
              "          await google.colab.output.renderOutput(dataTable, element);\n",
              "          const docLink = document.createElement('div');\n",
              "          docLink.innerHTML = docLinkHtml;\n",
              "          element.appendChild(docLink);\n",
              "        }\n",
              "      </script>\n",
              "    </div>\n",
              "  </div>\n",
              "  "
            ]
          },
          "metadata": {},
          "execution_count": 42
        }
      ]
    },
    {
      "cell_type": "code",
      "source": [
        "fig = px.box(rfm, x=\"Clusterlabels\", y=\"Amount\",color=\"Clusterlabels\")\n",
        "fig.show()"
      ],
      "metadata": {
        "colab": {
          "base_uri": "https://localhost:8080/",
          "height": 542
        },
        "id": "wDpigzV0PFSZ",
        "outputId": "3c878c4a-88be-40f7-b1b9-61c5ca18d18d"
      },
      "execution_count": 43,
      "outputs": [
        {
          "output_type": "display_data",
          "data": {
            "text/html": [
              "<html>\n",
              "<head><meta charset=\"utf-8\" /></head>\n",
              "<body>\n",
              "    <div>            <script src=\"https://cdnjs.cloudflare.com/ajax/libs/mathjax/2.7.5/MathJax.js?config=TeX-AMS-MML_SVG\"></script><script type=\"text/javascript\">if (window.MathJax) {MathJax.Hub.Config({SVG: {font: \"STIX-Web\"}});}</script>                <script type=\"text/javascript\">window.PlotlyConfig = {MathJaxConfig: 'local'};</script>\n",
              "        <script src=\"https://cdn.plot.ly/plotly-2.8.3.min.js\"></script>                <div id=\"6e3354c7-b9e9-428d-b8a1-85752f12e069\" class=\"plotly-graph-div\" style=\"height:525px; width:100%;\"></div>            <script type=\"text/javascript\">                                    window.PLOTLYENV=window.PLOTLYENV || {};                                    if (document.getElementById(\"6e3354c7-b9e9-428d-b8a1-85752f12e069\")) {                    Plotly.newPlot(                        \"6e3354c7-b9e9-428d-b8a1-85752f12e069\",                        [{\"alignmentgroup\":\"True\",\"hovertemplate\":\"Clusterlabels=%{x}<br>Amount=%{y}<extra></extra>\",\"legendgroup\":\"0\",\"marker\":{\"color\":\"#636efa\"},\"name\":\"0\",\"notched\":false,\"offsetgroup\":\"0\",\"orientation\":\"v\",\"showlegend\":true,\"x\":[0,0,0,0,0,0,0,0,0,0,0,0,0,0,0,0,0,0,0,0,0,0,0,0,0,0,0,0,0,0,0,0,0,0,0,0,0,0,0,0,0,0,0,0,0,0,0,0,0,0,0,0,0,0,0,0,0,0,0,0,0,0,0,0,0,0,0,0,0,0,0,0,0,0,0,0,0,0,0,0,0,0,0,0,0,0,0,0,0,0,0,0,0,0,0,0,0,0,0,0,0,0,0,0,0,0,0,0,0,0,0,0,0,0,0,0,0,0,0,0,0,0,0,0,0,0,0,0,0,0,0,0,0,0,0,0,0,0,0,0,0,0,0,0,0,0,0,0,0,0,0,0,0,0,0,0,0,0,0,0,0,0,0,0,0,0,0,0,0,0,0,0,0,0,0,0,0,0,0,0,0,0,0,0,0,0,0,0,0,0,0,0,0,0,0,0,0,0,0,0,0,0,0,0,0,0,0,0,0,0,0,0,0,0,0,0,0,0,0,0,0,0,0,0,0,0,0,0,0,0,0,0,0,0,0,0,0,0,0,0,0,0,0,0,0,0,0,0,0,0,0,0,0,0,0,0,0,0,0,0,0,0,0,0,0,0,0,0,0,0,0,0,0,0,0,0,0,0,0,0,0,0,0,0,0,0,0,0,0,0,0,0,0,0,0,0,0,0,0,0,0,0,0,0,0,0,0,0,0,0,0,0,0,0,0,0,0,0,0,0,0,0,0,0,0,0,0,0,0,0,0,0,0,0,0,0,0,0,0,0,0,0,0,0,0,0,0,0,0,0,0,0,0,0,0,0,0,0,0,0,0,0,0,0,0,0,0,0,0,0,0,0,0,0,0,0,0,0,0,0,0,0,0,0,0,0,0,0,0,0,0,0,0,0,0,0,0,0,0,0,0,0,0,0,0,0,0,0,0,0,0,0,0,0,0,0,0,0,0,0,0,0,0,0,0,0,0,0,0,0,0,0,0,0,0,0,0,0,0,0,0,0,0,0,0,0,0,0,0,0,0,0,0,0,0,0,0,0,0,0,0,0,0,0,0,0,0,0,0,0,0,0,0,0,0,0,0,0,0,0,0,0,0,0,0,0,0,0,0,0,0,0,0,0,0,0,0,0,0,0,0,0,0,0,0,0,0,0,0,0,0,0,0,0,0,0,0,0,0,0,0,0,0,0,0,0,0,0,0,0,0,0,0,0,0,0,0,0,0,0,0,0,0,0,0,0,0,0,0,0,0,0,0,0,0,0,0,0,0,0,0,0,0,0,0,0,0,0,0,0,0,0,0,0,0,0,0,0,0,0,0,0,0,0,0,0,0,0,0,0,0,0,0,0,0,0,0,0,0,0,0,0,0,0,0,0,0,0,0,0,0,0,0,0,0,0,0,0,0,0,0,0,0,0,0,0,0,0,0,0,0,0,0,0,0,0,0,0,0,0,0,0,0,0,0,0,0,0,0,0,0,0,0,0,0,0,0,0,0,0,0,0,0,0,0,0,0,0,0,0,0,0,0,0,0,0,0,0,0,0,0,0,0,0,0,0,0,0,0,0,0,0,0,0,0,0,0,0,0,0,0,0,0,0,0,0,0,0,0,0,0,0,0,0,0,0,0,0,0,0,0,0,0,0,0,0,0,0,0,0,0,0,0,0,0,0,0,0,0,0,0,0,0,0,0,0,0,0,0,0,0,0,0,0,0,0,0,0,0,0,0,0,0,0,0,0,0,0,0,0,0,0,0,0,0,0,0,0,0,0,0,0,0,0,0,0,0,0,0,0,0,0,0,0,0,0,0,0,0,0,0,0,0,0,0,0,0,0,0,0,0,0,0,0,0,0,0,0,0,0,0,0,0,0,0,0,0,0,0,0,0,0,0,0,0,0,0,0,0,0,0,0,0,0,0,0,0,0,0,0,0,0,0,0,0,0,0,0,0,0,0,0,0,0,0,0,0,0,0,0,0,0,0,0,0,0,0,0,0,0,0,0,0,0,0,0,0,0,0,0,0,0,0,0,0,0,0,0,0,0,0,0,0,0,0,0,0,0,0,0,0,0,0,0,0,0,0,0,0,0,0,0,0,0,0,0,0,0,0,0,0,0,0,0,0,0,0,0,0,0,0,0,0,0,0,0,0,0,0,0,0,0,0,0,0,0,0,0,0,0,0,0,0,0,0,0,0,0,0,0,0,0,0,0,0,0,0,0,0,0,0,0,0,0,0,0,0,0,0,0,0,0,0,0,0,0,0,0,0,0,0,0,0,0,0,0,0,0,0,0,0,0,0,0,0,0,0,0,0,0,0,0,0,0,0,0,0,0,0,0,0,0,0,0,0,0,0,0,0,0,0,0,0,0,0,0,0,0,0,0,0,0,0,0,0,0,0,0,0,0,0,0,0,0,0,0,0,0,0,0,0,0,0,0,0,0,0,0,0,0,0,0,0,0,0,0,0,0,0,0,0,0,0,0,0,0,0,0,0,0,0,0,0,0,0,0,0,0,0,0,0,0,0,0,0,0,0,0,0,0,0,0,0,0,0,0,0,0,0,0,0,0,0,0,0,0,0,0,0,0,0,0,0,0,0,0,0,0,0,0,0,0,0,0,0,0,0,0,0,0,0,0,0,0,0,0,0,0,0,0,0,0,0,0,0,0,0,0,0,0,0,0,0,0,0,0,0,0,0,0,0,0,0,0,0,0,0,0,0,0,0,0,0,0,0,0,0,0,0,0,0,0,0,0,0,0,0,0,0,0,0,0,0,0,0,0,0,0,0,0,0,0,0,0,0,0,0,0,0,0,0,0,0,0,0,0,0,0,0,0,0,0,0,0,0,0,0,0,0,0,0,0,0,0,0,0,0,0,0,0,0,0,0,0,0,0,0,0,0,0,0,0,0,0,0,0,0,0,0,0,0,0,0,0,0,0,0,0,0,0,0,0,0,0,0,0,0,0,0,0,0,0,0,0,0,0,0,0,0,0,0,0,0,0,0,0,0,0,0,0,0,0,0,0,0,0,0,0,0,0,0,0,0,0,0,0,0,0,0,0,0,0,0,0,0,0,0,0,0,0,0,0,0,0,0,0,0,0,0,0,0,0,0,0,0,0,0,0,0,0,0,0,0,0,0,0,0,0,0,0,0,0,0,0,0,0,0,0,0,0,0,0,0,0,0,0,0,0,0,0,0,0,0,0,0,0,0,0,0,0,0,0,0,0,0,0,0,0,0,0,0,0,0,0,0,0,0,0,0,0,0,0,0,0,0,0,0,0,0,0,0,0,0,0,0,0,0,0,0,0,0,0,0,0,0,0,0,0,0,0,0,0,0,0,0,0,0,0,0,0,0,0,0,0,0,0,0,0,0,0,0,0,0,0,0,0,0,0,0,0,0,0,0,0,0,0,0,0,0,0,0,0,0,0,0,0,0,0,0,0,0,0,0,0,0,0,0,0,0,0,0,0,0,0,0,0,0,0,0,0,0,0,0,0,0,0,0,0,0,0,0,0,0,0,0,0,0,0,0,0,0,0,0,0,0,0,0,0,0,0,0,0,0,0,0,0,0,0,0,0,0,0,0,0,0,0,0,0,0,0,0,0,0,0,0,0,0,0,0,0,0,0,0,0,0,0,0,0,0,0,0,0,0,0,0,0,0,0,0,0,0,0,0,0,0,0,0,0,0,0,0,0,0,0,0,0,0,0,0,0,0,0,0,0,0,0,0,0,0,0,0,0,0,0,0,0,0,0,0,0,0,0,0,0,0,0,0,0,0,0,0,0,0,0,0,0,0,0,0,0,0,0,0,0,0,0,0,0,0,0,0,0,0,0,0,0,0,0,0,0,0,0,0,0,0,0,0,0,0,0,0,0,0,0,0,0,0,0,0,0,0,0,0,0,0,0,0,0,0,0,0,0,0,0,0,0,0,0,0,0,0,0,0,0,0,0,0,0,0,0,0,0,0,0,0,0,0,0,0,0,0,0,0,0,0,0,0,0,0,0,0,0,0,0,0,0,0,0,0,0,0,0,0,0,0,0,0,0,0,0,0,0,0,0,0,0,0,0,0,0,0,0,0,0,0,0,0,0,0,0,0,0,0,0,0,0,0,0,0,0,0,0,0,0,0,0,0,0,0,0,0,0,0,0,0,0,0,0,0,0,0,0,0,0,0,0,0,0,0,0,0,0,0,0,0,0,0,0,0,0,0,0,0,0,0,0,0,0,0,0,0,0,0,0,0,0,0,0,0,0,0,0,0,0,0,0,0,0,0,0,0,0,0,0,0,0,0,0,0,0,0,0,0,0,0,0,0,0,0,0,0,0,0,0,0,0,0,0,0,0,0,0,0,0,0,0,0,0,0,0,0,0,0,0,0,0,0,0,0,0,0,0,0,0,0,0,0,0,0,0,0,0,0,0,0,0,0,0,0,0,0,0,0,0,0,0,0,0,0,0,0,0,0,0,0,0,0,0,0,0,0,0,0,0,0,0,0,0,0,0,0,0,0,0,0,0,0,0,0,0,0,0,0,0,0,0,0,0,0,0,0,0,0,0,0,0,0,0,0,0,0,0,0,0,0,0,0,0,0,0,0,0,0,0,0,0,0,0,0,0,0,0,0,0,0,0,0,0,0,0,0,0,0,0,0,0,0,0,0,0,0,0,0,0,0,0,0,0,0,0,0,0,0,0,0,0,0,0,0,0,0,0,0,0,0,0,0,0,0,0,0,0,0,0,0,0,0,0,0,0,0,0,0,0,0,0,0,0,0,0,0,0,0,0,0,0,0,0,0,0,0,0,0,0,0,0,0,0,0,0,0,0,0,0,0,0,0,0,0,0,0,0,0,0,0,0,0,0,0,0,0,0,0,0,0,0,0,0,0,0,0,0,0,0,0,0,0,0,0,0,0,0,0,0,0,0,0,0,0,0,0,0,0,0,0,0,0,0,0,0,0,0,0,0,0,0,0,0,0,0,0,0,0,0,0,0,0,0,0,0,0,0,0,0,0,0,0,0,0,0,0,0,0,0,0,0,0,0,0,0,0,0,0,0,0,0,0,0,0,0,0,0,0,0,0,0,0,0,0,0,0,0,0,0,0,0,0,0,0,0,0,0,0,0,0,0,0,0,0,0,0,0,0,0,0,0,0,0,0,0,0,0,0,0,0,0,0,0,0,0,0,0,0,0,0,0,0,0,0,0,0,0,0,0,0,0,0,0,0,0,0,0,0,0,0,0,0,0,0,0,0,0,0,0,0,0,0,0,0,0,0,0,0,0,0,0,0,0,0,0,0,0,0,0,0,0,0,0,0,0,0,0,0,0,0,0,0,0,0,0,0,0,0,0,0,0,0,0,0,0,0,0,0,0,0,0,0,0,0,0,0,0,0,0,0,0,0,0,0,0,0,0,0,0,0,0,0,0,0,0,0,0,0,0,0,0,0,0,0,0,0,0,0,0,0,0,0,0,0,0,0,0,0,0,0,0,0,0,0,0,0,0,0,0,0,0,0,0,0,0,0,0,0,0,0,0,0,0,0,0,0,0,0,0,0,0,0,0,0,0,0,0,0,0,0,0,0,0,0,0,0,0,0,0,0,0,0,0,0,0,0,0,0,0,0,0,0,0,0,0,0,0,0,0,0,0,0,0,0,0,0,0,0,0,0,0,0,0,0,0,0,0,0,0,0,0,0,0,0,0,0,0,0,0,0,0,0,0,0,0,0,0,0,0,0,0,0,0,0,0,0,0,0,0,0,0,0,0,0,0,0,0,0,0,0,0,0,0,0,0,0,0,0,0,0,0,0,0,0,0,0,0,0,0,0,0,0,0,0,0,0,0,0,0,0,0,0,0,0,0,0,0,0,0,0,0,0,0,0,0,0,0,0,0,0,0,0,0,0,0,0,0,0,0,0,0,0,0,0,0,0,0,0,0,0,0,0,0,0,0,0,0,0,0,0,0,0,0,0,0,0,0,0,0,0,0,0,0,0,0,0,0,0,0,0,0,0,0,0,0,0,0,0,0,0,0,0,0,0,0,0,0,0,0,0,0,0,0,0,0,0,0,0,0,0,0,0,0,0,0,0,0,0,0,0,0,0,0,0,0,0,0,0,0,0,0,0,0,0,0,0,0,0,0,0,0,0,0,0,0,0,0,0,0,0,0,0,0,0,0,0,0,0,0,0,0,0,0,0,0,0,0,0,0,0,0,0,0,0,0,0,0,0,0,0,0,0,0,0,0,0,0,0,0,0,0,0,0,0,0,0,0,0,0,0,0,0,0,0,0,0,0,0,0,0,0,0,0,0,0,0,0,0,0,0,0,0,0,0,0,0,0,0,0,0,0,0,0,0,0,0,0,0,0,0,0,0,0,0,0,0,0,0,0,0,0,0,0,0,0,0,0,0,0,0,0,0,0,0,0,0,0,0,0,0,0,0,0,0,0,0,0,0,0,0,0,0,0,0,0,0,0,0,0,0,0,0,0,0,0,0,0,0,0,0,0,0,0,0,0,0,0,0,0,0,0,0,0,0,0,0,0,0,0,0,0,0,0,0,0,0,0,0,0,0,0,0,0,0,0,0,0,0,0,0,0,0,0,0,0,0,0,0,0,0,0,0,0,0,0,0,0,0,0,0,0,0,0,0,0,0,0,0,0,0,0,0,0,0,0,0,0,0,0,0,0,0,0,0,0,0,0,0,0,0,0,0,0,0,0,0,0,0,0,0,0,0,0,0,0,0,0,0,0,0,0,0,0,0,0,0,0,0,0,0,0,0,0,0,0,0,0,0,0,0,0,0,0,0,0,0,0,0,0,0,0,0,0,0,0,0,0,0,0,0,0,0,0,0,0,0,0,0,0,0,0,0,0,0,0,0,0,0,0,0,0,0,0,0,0,0,0,0,0,0,0,0,0,0,0,0,0,0,0,0,0,0,0,0,0,0,0,0,0,0,0,0,0,0,0,0,0,0,0,0,0,0,0,0,0,0,0,0,0,0,0,0,0,0,0,0,0,0,0,0,0,0,0,0,0,0,0,0,0,0,0,0,0,0,0,0,0,0,0,0,0,0,0,0,0,0,0,0,0,0,0,0,0,0,0,0,0,0,0,0,0,0,0,0,0,0,0,0,0,0,0,0,0,0,0,0,0,0,0,0,0,0,0,0,0,0,0,0,0,0,0,0,0,0,0,0,0,0,0,0,0,0,0,0,0,0,0,0,0,0,0,0,0,0,0,0,0,0,0,0,0,0,0,0,0,0,0,0,0,0,0,0,0,0,0,0,0,0,0,0,0,0,0,0,0,0,0,0,0,0,0,0,0,0,0,0,0,0,0,0,0,0,0,0,0,0,0,0,0,0,0,0,0,0,0,0,0,0,0,0,0,0,0,0,0,0,0,0,0,0,0,0,0,0,0,0,0,0,0,0,0,0,0,0,0,0,0,0,0,0,0,0,0,0,0,0,0,0,0,0,0,0,0,0,0,0,0,0,0,0,0,0,0,0,0,0,0,0,0,0,0,0,0,0,0,0,0,0,0,0,0,0,0,0,0,0,0,0,0,0,0,0,0,0,0,0,0,0,0,0,0,0,0,0,0,0,0,0,0,0,0,0,0,0,0,0,0,0,0,0,0,0,0,0,0,0,0,0,0,0,0,0,0,0,0,0,0,0,0,0,0,0,0,0,0,0,0,0,0,0,0,0,0,0,0,0,0,0,0,0,0,0,0,0,0,0,0,0,0,0,0,0,0,0,0,0,0,0,0,0,0,0,0,0,0,0,0,0,0,0,0,0,0,0,0,0,0,0,0,0,0,0,0,0,0,0,0,0,0,0,0,0,0,0,0,0,0,0,0,0,0,0,0,0,0,0,0,0,0,0,0,0,0,0,0,0,0,0,0,0,0,0,0,0,0,0,0,0,0,0,0,0,0,0,0,0,0,0,0,0,0,0,0,0,0,0,0,0,0,0,0,0,0,0,0,0,0,0,0,0,0,0,0,0,0,0,0,0,0,0,0,0,0,0,0,0,0,0,0,0,0,0,0,0,0,0,0,0,0,0,0,0,0,0,0,0,0,0,0,0,0,0,0,0,0,0,0,0,0,0,0,0,0,0,0,0,0,0,0,0,0,0,0,0,0,0,0,0,0,0,0,0,0,0,0,0,0,0,0,0,0,0,0,0,0,0,0,0,0,0,0,0,0,0,0,0,0,0,0,0,0,0,0,0,0,0,0,0,0,0,0,0,0,0,0,0,0,0,0,0,0,0,0,0,0,0,0,0,0,0,0,0,0,0,0,0,0,0,0,0,0,0,0,0,0,0,0,0,0,0,0,0,0,0,0,0,0,0,0,0,0,0,0,0,0,0,0,0,0,0,0,0,0,0,0,0,0,0,0,0,0,0,0,0,0,0,0,0,0,0,0,0,0,0,0,0,0,0,0,0,0,0,0,0,0,0,0,0,0,0,0,0,0,0,0,0,0,0,0,0,0,0,0,0,0,0,0,0,0,0,0,0,0,0,0,0,0,0,0,0,0,0,0,0,0,0,0,0,0,0,0,0,0,0,0,0,0,0,0,0,0,0,0,0,0,0,0,0,0,0,0,0,0,0,0,0,0,0,0,0,0,0,0,0,0,0,0,0,0,0,0,0,0,0,0,0,0,0,0,0,0,0,0,0,0,0,0,0,0,0,0,0,0,0,0,0,0,0,0,0,0,0,0,0,0,0,0,0,0,0,0,0,0,0,0,0,0,0,0,0,0,0,0,0,0,0,0,0,0,0,0,0,0,0,0,0,0,0,0,0,0,0,0,0,0,0,0,0,0,0,0,0,0,0,0,0,0,0,0,0,0,0,0,0,0,0,0,0,0,0,0,0,0,0,0,0,0,0,0,0,0,0,0,0,0,0,0,0,0,0,0,0,0,0,0,0,0,0,0,0,0,0,0,0,0,0,0,0,0,0,0,0,0,0,0,0,0,0,0,0,0],\"x0\":\" \",\"xaxis\":\"x\",\"y\":[0.0,4310.0,1797.24,1757.55,334.4,1545.41,89.0,1079.4,459.4,2811.43,1168.06,2662.06,189.9,552.0,1313.1,320.69,168.9,3545.69,1887.96,1298.04,364.6,742.9300000000001,455.42,1628.12,4008.62,850.29,2720.56,1803.96,1839.31,566.16,401.9,2780.66,549.84,460.89,1582.6000000000001,1272.48,2998.28,2409.9,1635.6599999999999,1108.65,84.3,225.6,409.7,1710.39,3280.75,1708.1200000000001,2842.57,681.0799999999999,1226.88,694.15,562.41,3578.8,668.58,600.39,806.27,803.5600000000001,1849.11,1760.96,777.2,582.73,708.37,3750.4,256.4,5059.32,765.19,509.01,4896.66,2906.85,173.55,172.06,5005.46,133.4,1002.3100000000001,476.49,449.45,4067.29,197.88,428.57,707.09,5.684341886080802e-14,2466.86,3153.89,1917.78,947.4,826.88,1124.01,1303.63,1212.05,733.89,724.0400000000001,2848.23,723.38,680.99,477.3,3281.63,5590.86,2327.13,1298.66,334.93,460.40000000000003,263.21000000000004,416.79,1139.3500000000001,1043.1,403.70000000000005,4206.27,2089.68,3723.87,-1126.0,114.0,-4.5,73.5,1258.06,398.27,176.5,982.5699999999999,138.03,586.79,1017.68,383.7,1312.06,2056.89,340.84,2582.51,599.68,192.72,1745.57,4485.72,1316.66,348.71000000000004,1922.28,1623.63,125.22,349.83000000000004,1089.18,716.35,363.95,981.18,355.7,1000.39,1141.5,207.79999999999998,95.19999999999999,964.83,168.0,437.82,3652.25,603.71,1.0658141036401503e-14,536.21,2101.39,238.85,3781.7400000000002,456.9,131.17,346.7,4064.9900000000002,519.61,1004.72,160.54000000000002,218.45,1306.98,595.4,2753.36,410.72,415.7,197.71,511.36,1893.95,1982.81,179.94000000000003,144.0,214.89999999999998,646.68,452.84999999999997,437.6,418.09999999999997,3320.2200000000003,618.27,3683.13,3002.68,1032.58,2581.04,569.5600000000001,153.12,739.1999999999999,254.18,-7.5,3.552713678800501e-15,1126.85,2057.99,1193.32,643.59,3218.98,315.6,2291.19,657.25,355.53,177.31,3214.81,1339.41,180.1,305.1,641.13,2614.32,4478.53,769.61,1270.88,640.5,2140.63,1689.18,671.69,486.1,1174.58,185.9,1013.26,3344.64,477.91,1755.38,1346.97,3669.92,318.05,603.71,314.44,114.0,914.53,2209.85,601.98,3982.72,1152.06,686.05,91.68,245.1,3817.08,4863.88,61.75,-227.44,620.13,3743.18,1607.73,2986.15,225.89999999999998,610.52,1919.31,1331.39,1058.67,862.81,2283.63,2863.08,89.14,4873.8099999999995,1247.61,389.01,1035.8,830.96,869.67,582.1,939.02,797.71,219.0,274.7,2220.84,603.42,2616.32,1130.57,4241.63,848.55,353.86,1053.49,980.98,238.25,608.1,2628.98,904.33,725.07,1031.41,427.8,2609.1,3947.7,836.33,453.01,236.26000000000002,383.95,110.39999999999999,779.5699999999999,234.0,155.35,1013.04,427.6,546.43,4196.01,3868.2,275.88,4366.78,2949.12,2203.2,112.07999999999998,2791.59,1531.44,1898.52,494.08,1693.88,1143.6,1351.45,892.47,1351.24,804.23,3868.7,707.72,2273.32,1603.87,574.42,305.71,463.66,91.85,324.92,192.60000000000002,400.53999999999996,545.48,860.41,430.48,194.18,412.58,483.65000000000003,484.36,514.85,229.64000000000001,125.92,1063.46,572.2,166.04,1517.88,942.34,92.72,918.98,1759.5,397.12,1468.1200000000001,430.15000000000003,1018.71,253.05,215.05,383.03,417.38,312.38,2612.86,134.1,683.13,2714.27,1118.99,1680.76,325.96000000000004,354.09,871.54,1050.8899999999999,135.18,299.75,1881.7,1289.15,38.1,1106.4,504.2,147.12,1548.07,559.12,1607.0600000000002,-14.899999999999999,380.64,599.97,374.0,343.2300000000001,2218.02,1535.77,841.64,552.5699999999999,298.0,1463.04,703.47,309.05,1158.27,1351.09,313.77,380.46999999999997,331.0,188.14,347.3,216.5,138.68,509.58,2919.81,246.0,2128.83,3075.04,1662.3,2483.63,363.65,2982.35,594.0,1301.44,164.23,405.38,176.97,929.95,694.05,2062.7000000000003,105.1,409.9,606.28,2156.45,1012.9,1504.27,114.14,876.29,683.9,-3.75,604.51,462.95,1407.29,2053.7,4143.02,1843.0,1042.07,1382.8400000000001,329.85,4734.26,108.07,3979.04,266.39,1841.03,771.91,160.18,1194.75,135.95,452.24,144.8,738.6,39.239999999999995,372.21999999999997,377.2,97.5,1215.6200000000001,545.0,535.32,409.5,503.76,414.76,902.22,200.72,1197.94,455.88,534.85,120.94999999999999,149.05,468.95,81.57,178.46999999999997,50.550000000000004,1311.6200000000001,4786.99,3365.43,3346.28,789.89,204.0,2584.4,689.9,936.15,659.68,1247.5,799.48,996.52,190.55,642.77,886.63,881.07,908.46,676.99,471.57,560.47,305.28000000000003,629.31,3079.1,1805.91,656.6800000000001,348.15000000000003,1201.96,271.40000000000003,183.4,307.53,248.61,346.98,1119.49,205.86,430.9,115.46000000000001,344.0,228.8,177.15,919.61,729.27,220.10000000000002,58.08,3595.48,303.75,272.38,319.82,459.83,1708.8600000000001,74.39999999999999,207.35999999999999,101.19,243.94,1098.48,59.5,1524.07,350.06,766.84,1452.8700000000001,2205.63,485.19,984.91,1125.0,30.599999999999998,254.73,922.39,3866.33,2056.29,259.17,64.0,1039.3,77.3,109.8,1740.63,3096.0,2545.38,962.39,5055.79,423.72,2385.8,307.09,110.95,614.77,228.91,712.8000000000001,1676.06,1250.3700000000001,486.22,-611.86,971.76,1721.57,1201.06,1379.75,91.8,112.75,1644.99,1021.48,414.7,791.33,1310.14,712.88,116.00999999999999,426.81,353.65,492.84,282.45,121.18,3957.78,1648.79,71.4,1539.69,236.02,114.60000000000001,260.68,911.94,117.88,60.7,1797.78,3384.09,870.09,869.46,250.26000000000002,1205.9,353.48,1197.42,780.58,1518.43,333.74,133.62,62.63999999999999,819.2900000000001,847.41,163.20000000000002,2150.85,108.21000000000001,257.7,358.0,160.95,1357.6,605.12,101.17000000000007,727.27,680.83,329.56,663.65,270.40000000000003,600.07,121.74000000000001,430.5,1922.1,501.12,465.68,711.41,1030.4,390.66,0.0,698.58,292.32,557.62,944.1,200.29,2107.66,3717.67,4404.44,590.0,178.26,276.56,138.98,590.9300000000001,258.4,542.73,126.30000000000001,814.86,1047.8400000000001,93.66,196.15,2709.12,361.11,578.9399999999999,873.74,197.95000000000002,87.4,2089.85,360.0,142.5,365.29,618.09,63.75,300.42,2000.86,15.0,1367.6100000000001,1456.79,1083.63,598.57,1555.32,578.66,5815.49,2140.07,640.76,1491.7,567.36,199.48000000000002,787.85,675.3,3617.57,1308.48,740.4,1140.93,350.9,3536.82,795.12,431.82,860.12,775.85,303.93,2543.72,377.6,341.36,233.76,247.32,910.72,373.94,389.28,743.53,674.7,768.24,609.95,439.03,431.26,3085.4900000000002,992.5,0.0,2191.22,56.160000000000004,623.4,263.75,721.32,378.64,3312.25,772.9,1019.76,572.56,3626.81,222.99,4122.28,534.57,627.15,797.96,544.08,59.8,2312.8,307.72,1325.29,1539.18,457.34,621.23,75.0,252.49,572.451,988.91,213.55,1390.5,712.5,640.83,221.06,140.35,1848.98,2601.55,1624.21,3550.7000000000003,582.6,218.47,1006.8,648.6899999999999,1269.1,534.24,3794.4900000000002,196.89,3408.06,283.71,296.64,1104.23,3465.67,291.88,2043.7199999999998,590.0,356.97999999999996,1007.35,1737.8200000000002,183.44,1445.0,143.25,674.68,297.95,1083.71,165.0,417.54,229.59,1431.78,1092.77,1441.53,291.0,1776.81,184.64,140.34,313.8,454.24,1122.41,575.4,449.52,1215.82,1269.84,618.63,316.26000000000005,1990.1200000000001,617.93,321.05,1146.96,1136.77,1310.47,292.0,216.85,295.93,4282.88,452.82,2479.16,110.97,979.72,1785.16,251.21,205.1,152.20000000000002,891.12,1389.41,2109.07,659.4399999999999,110.80000000000001,3487.75,125.80000000000001,3755.38,680.1800000000001,628.78,2263.76,307.76,483.8,210.31,270.79,3448.29,1280.85,605.84,291.41,626.99,682.41,916.12,91.80000000000001,3539.53,4149.28,584.06,605.06,174.37,141.85999999999999,1799.33,777.53,647.74,240.22,874.71,192.85,373.75,239.49,1384.25,294.4,732.0699999999999,1658.3,467.04,118.0,781.03,142.4,347.0,2445.12,379.65,1976.12,1117.13,247.95999999999998,1990.28,396.97,697.04,167.42000000000002,219.52,693.32,428.89,164.34,280.53999999999996,678.01,1115.43,1158.2,1610.46,399.99,544.18,177.34,213.85,672.44,257.23,1624.02,1995.68,3021.77,2117.02,1575.16,1071.03,941.62,810.5,122.64,1033.34,354.8,519.44,2597.52,252.1,1670.22,346.6,1809.34,94.2,1095.08,2707.33,932.97,379.65,382.14,2421.47,1550.85,879.08,189.47,84.65,305.02,218.55,349.7,-71.46,396.92,486.82000000000005,232.6,2202.31,827.83,59.5,64.23,3119.44,72.0,910.0,172.25,1466.8700000000001,-32.0,2504.13,151.29999999999998,308.58000000000004,2265.12,99.5,2295.31,711.86,330.79,806.41,296.88,180.48,252.06,228.84,1053.94,138.28,1432.26,306.55,1041.68,799.9,524.14,2369.16,199.85000000000002,1809.81,1079.6599999999999,333.48,1016.14,752.6,610.59,491.86,2766.18,724.0,339.59999999999997,216.9,350.75,666.33,1340.1499999999999,1156.36,291.54,79.6,948.25,1647.26,296.25,1186.28,741.26,282.59999999999997,5145.12,3190.55,659.4100000000001,286.79,1070.65,3.552713678800501e-15,1689.46,1521.76,2771.87,2631.7,1132.13,345.0,178.7,360.01,127.84,912.0,2462.79,230.39999999999998,309.04,348.8,1047.68,195.55,688.86,558.32,324.8,3906.27,277.07,2635.79,924.6,256.38,112.6,1747.66,155.05,899.51,591.75,539.0,1353.41,1562.12,4014.91,555.04,382.98,1140.35,385.64,632.0,957.66,1698.94,174.65,412.05,209.49,-102.0,2202.99,40.949999999999996,384.8,834.57,271.24,691.73,85.0,3385.62,361.62,312.98,847.61,1255.0,1537.95,1586.81,2651.46,1056.94,363.4,216.17,201.16,1240.0,2187.31,299.56,501.56,145.67000000000002,1015.29,3192.54,2751.25,381.7,540.45,1786.79,122.7,117.24,1281.53,3219.77,1131.28,2538.75,781.3000000000001,506.8,243.56,349.55,605.63,416.90000000000003,1860.8600000000001,632.97,821.1,535.97,2588.12,311.16,155.93,388.52,740.95,2867.2,332.64,2347.05,2580.91,613.95,272.04,1212.8400000000001,350.15999999999997,172.25,351.13,1682.08,616.65,223.85000000000002,348.99,464.57,802.85,337.34,1230.93,307.4,608.7900000000001,922.1,361.28,158.85,71.66,556.75,839.14,4912.41,561.5699999999999,90.6,102.0,2427.32,728.56,674.45,3246.091,3515.68,378.59,322.96,1026.42,-102.45,598.2,230.22,169.55,664.54,80.7,2702.2200000000003,190.25,264.7,413.59000000000003,357.98,196.79000000000002,869.87,200.14,1861.11,2590.46,488.03,320.46,4098.8,1266.08,311.3,850.63,76.8,3409.66,2313.14,1383.49,3865.26,633.71,2030.3300000000002,529.73,4582.64,2874.72,962.19,685.9300000000001,328.8,473.02,505.18,917.34,4328.46,1398.96,642.8,631.9,440.0,584.07,327.7,104.82,467.66,2360.09,2929.84,512.02,1428.02,626.65,147.20000000000002,1554.48,152.2,3542.19,141.41,652.82,1659.75,154.99,1290.01,375.13,746.36,225.36,260.25,92.46,725.6400000000001,183.6,1188.32,152.55,374.7,265.85,139.54,942.26,122.47,499.41999999999996,1049.37,375.1,45.599999999999994,904.67,182.25,1018.43,181.67,161.0,76.32000000000001,4063.1,442.85,147.35,3092.9700000000003,194.9,1314.73,216.20999999999998,1260.33,2688.48,594.16,80.2,5669.65,688.6,2774.17,1377.92,386.53,1382.74,90.0,-19.9,2740.3,419.58000000000004,2740.43,643.6300000000001,709.71,637.5,1123.8600000000001,483.86,3580.13,590.3399999999999,4690.31,982.3800000000001,415.82,920.05,879.0300000000001,311.81,115.8,3148.2,2949.57,468.4,157.2,259.43,658.64,611.09,1345.62,118.75,400.43,507.66,1110.52,289.36,2445.91,1631.77,122.53999999999999,574.84,363.79,450.84,134.46,3108.06,574.0,554.46,719.78,452.89,197.65,2018.91,853.39,962.7,335.52,663.5,185.39999999999998,688.04,161.03,218.78,308.26,151.74,2067.13,1900.89,2208.3,1070.48,-1192.2,1000.23,1777.92,1839.3,1925.3600000000001,169.48000000000002,89.94,632.4,3427.85,683.17,975.23,1050.12,2201.64,3315.71,1450.6,822.0600000000001,2043.93,1447.51,775.46,3093.86,490.86,161.0,146.85,2323.5,890.34,213.70000000000002,280.55,2535.88,1677.48,1474.06,136.76999999999998,302.58,1904.05,2879.7000000000003,935.0600000000001,3087.27,120.0,1163.45,2618.23,319.47,530.18,1279.09,492.65000000000003,112.32,437.96,559.97,1019.39,3957.0,134.04,3729.34,578.45,1910.01,151.23000000000002,413.85,911.26,2307.4500000000003,3873.3,4819.33,1046.56,154.70000000000002,1284.06,2855.35,43.2,632.04,197.1,1803.76,2083.42,2995.72,2319.68,229.71,1611.59,120.0,2456.98,508.58000000000004,343.11,1530.75,574.26,166.85,311.65,462.65999999999997,866.31,351.45,2539.46,468.26,1614.91,554.22,289.90999999999997,134.7,2166.38,607.71,889.9300000000001,108.97999999999999,1021.58,409.57,133.5,258.7,51.0,1078.96,90.6,163.62,174.4,666.9399999999999,225.77,882.58,2128.23,161.2,3717.35,155.0,100.5,76.55,257.68,617.05,348.1,202.68,626.0699999999999,1247.69,202.11,142.4,1770.56,3172.04,999.72,67.95,487.99,2556.68,559.7,4039.98,1426.31,1434.72,156.75,2111.08,2606.53,1908.25,576.3,1063.0,761.3299999999999,122.7,1485.1299999999999,490.22,1937.25,1058.06,385.87,813.11,4263.64,265.2,322.08,363.34000000000003,1230.14,397.76,1372.8,89.06,-43.400000000000006,131.9,2661.24,2357.6800000000003,1545.14,1544.62,1400.88,1039.58,1163.23,375.35,907.1,483.25,662.59,264.44,119.93,113.64,1837.92,383.34,2103.06,1965.9,529.62,1058.6200000000001,2272.4,598.76,461.19,1936.84,234.34000000000003,537.71,799.82,215.7,1307.81,316.25,279.05,636.51,2068.15,129.2,321.92,165.75,1183.58,1047.43,463.38,340.93,2362.84,139.56,123.8,538.8100000000001,457.47,1957.32,815.32,356.85,190.31,3543.26,673.26,1368.18,276.42,1267.4099999999999,275.28,438.49,1055.35,2102.09,330.45,174.37,270.6,974.54,241.09,1867.68,364.21999999999997,620.04,2925.91,932.85,1812.6200000000001,171.8,355.56,388.25,537.48,996.26,1461.65,103.25,2916.17,2024.45,652.8,289.24,765.62,186.23,165.07,859.27,2381.04,324.14,0.0,2174.18,1080.76,3073.77,1432.0,1524.46,227.39,218.06,1603.72,35.400000000000006,859.71,168.63,138.6,114.11,1029.26,157.05,134.16,39.75,1447.14,570.46,617.99,379.83,1740.6,883.15,221.97,393.33000000000004,213.96,660.0,1785.15,601.56,406.08000000000004,538.59,379.51,393.28000000000003,1765.76,320.58000000000004,869.35,225.85,848.48,2757.07,-21.85,671.96,939.21,1006.98,114.56,344.90000000000003,609.85,443.6,2952.34,2042.15,110.46,96.12,668.61,780.46,597.09,243.22,1417.29,654.6,114.18,1947.55,1930.15,291.05,838.27,247.15,285.74,107.95,771.17,637.89,1258.38,195.25,1269.99,411.53,765.55,1736.4,604.75,2543.2400000000002,-2.55,498.95,52.0,628.38,112.8,358.61,2114.33,582.05,172.9,2070.97,188.60999999999999,1250.76,109.13000000000001,2235.3,318.17,179.0,1096.67,4911.14,606.13,917.07,160.19,867.38,329.68,1592.18,663.81,187.92000000000002,1158.3,718.08,268.58,313.49,380.02,2686.34,1164.55,1289.94,3899.1,1423.21,1400.34,1088.53,1167.16,294.3,1311.79,389.64,563.15,638.05,4965.38,738.96,420.5,1484.06,1625.97,53.8,255.9,300.52,250.55,254.11,2423.07,139.5,876.42,139.26,1011.9,2195.58,-17.45,730.86,386.15,447.68,200.10000000000002,289.99,77.4,679.4399999999999,197.64,745.06,0.0,214.14,1272.11,131.45000000000002,173.74,157.7,193.14,845.55,353.27,554.65,193.39000000000001,2175.37,2087.88,155.43,778.5,271.85,1110.34,657.8,272.07,507.29,48.800000000000004,321.43,1127.71,2226.91,2139.76,644.65,197.13,1698.35,102.44999999999999,1641.2,62.85,3295.76,2456.8,3189.81,309.4,278.15,511.35,2836.69,463.05,2749.89,645.65,1311.3799999999999,1165.65,1352.04,168.62,125.79,841.1999999999999,266.76,52.2,701.33,2939.64,721.95,327.25,522.38,519.68,1448.72,1485.54,706.19,255.4,589.7,756.64,765.3199999999999,364.8,1862.0,369.2,135.9,125.65,554.38,1237.8500000000001,655.75,468.77000000000004,1366.38,1228.32,1414.99,314.11,1025.44,599.9,3478.85,277.8,389.86,841.52,1227.43,258.83,1264.84,1610.15,977.77,1316.07,749.1,310.05,223.88,2372.86,964.6800000000001,363.53,1888.84,1784.71,1617.63,5842.95,100.9,290.82,1066.57,361.25,311.69,289.82,336.17,58.49,499.68,684.97,221.27,126.7,1487.8,206.21,599.0,191.32,463.8,147.59,1592.06,1116.57,114.77,1314.45,114.39,279.94,765.86,1931.42,102.12,213.27,296.75,326.4,334.54,233.23000000000002,540.98,429.87,490.52,1641.76,1246.32,502.09,156.91,1261.78,308.94,423.04,260.17,170.04,125.58,456.26,266.0,905.04,1661.33,377.01,469.0,1051.95,627.13,518.28,668.14,4464.1,252.73000000000002,465.55,665.59,180.35,135.93,537.0,633.66,5064.01,343.62,380.57,121.17000000000002,1727.17,1391.61,215.78,697.79,302.1,1489.5,1325.82,303.09,987.86,370.79999999999995,3135.98,760.59,1744.76,553.36,1109.53,106.2,982.07,612.43,748.87,773.03,880.85,893.66,487.35,88.2,306.94,1140.27,2420.84,381.32,476.96,457.81,4410.14,1364.7,219.39000000000001,248.08,649.5,410.48,635.1,310.03,703.36,1002.54,2298.93,1407.73,247.66,1291.75,463.75,970.25,1567.48,3439.41,2760.56,340.11,1352.75,1550.13,244.8,266.4,343.82,457.72,1612.13,2199.31,184.19,406.53,1419.54,3447.4,330.11,977.9300000000001,982.42,1387.99,127.15,1282.45,178.96,2350.0,498.74,259.45,1194.73,1313.66,608.65,301.29,520.8000000000001,329.25,240.27,961.49,1869.5,401.40000000000003,158.16,304.47,843.05,487.75,163.0,106.56,1034.5,1624.05,135.75,224.14,40.5,2186.2,87.5,680.28,622.85,406.76,310.62,411.41,4670.08,1044.32,499.32,3861.0,656.44,193.64,1268.7,927.84,1827.8,316.58,648.8299999999999,420.29999999999995,867.62,331.18,894.4100000000001,88.94999999999999,325.05,1661.44,615.99,96.6,5756.89,305.75,1758.92,114.1,585.0,454.90000000000003,310.48,409.40000000000003,154.41,1219.4,3376.96,429.6,612.06,197.0,2247.51,321.05,1412.32,1056.54,764.34,1685.57,1738.59,316.68,631.57,2515.84,514.15,356.0,740.78,915.3,300.36,890.85,98.45,232.14999999999998,623.16,1780.77,254.82,178.95000000000002,156.51,393.74,1506.1200000000001,119.3,1717.36,408.8,2298.2,721.94,716.57,609.19,135.31,255.89999999999998,277.40999999999997,113.12,2239.9500000000003,240.55,485.24,2306.52,935.1,4596.51,180.94,3610.31,635.04,3774.1,3787.09,496.44,574.02,680.3,1174.35,205.3,302.27,921.1,52.0,327.97,551.54,165.0,312.62,204.5,267.13,2650.73,602.97,162.29,311.71,208.75,1005.5,714.96,1661.06,1028.56,351.67,173.97,557.57,2020.52,391.76,364.5,476.58,367.69,252.42000000000002,201.60000000000002,158.04,473.81,115.65,1862.14,777.02,277.05,427.93,418.92,318.05,913.19,1330.45,602.51,1867.69,446.94000000000005,-1592.49,2360.55,2007.3999999999999,2213.11,168.0,1233.3600000000001,3631.8900000000003,1682.3600000000001,596.85,635.76,316.88,394.14,140.54,500.0,1515.73,231.86,2183.54,107.45,288.18,94.0,1339.63,815.77,666.7,626.77,349.1,426.61,1056.44,267.18,3450.84,1346.38,190.53,774.9000000000001,572.8100000000001,3974.37,508.8,135.86,950.36,97.7,43.5,383.34,93.78,364.90000000000003,171.19,417.87,997.48,149.29,200.16,156.57999999999998,383.68,594.0,1418.26,113.5,155.17,494.64,971.22,429.84,538.73,1388.37,179.1,447.22,237.07,161.64,216.76,234.6,126.14,1048.85,334.53,511.88,438.46,504.5,469.48,371.56,1465.2,454.10999999999996,1441.42,905.5,233.81,3563.11,2575.0,91.32000000000001,1090.03,3090.85,659.4599999999999,1299.23,1259.7,1131.56,147.09,52.83,3497.14,979.26,492.36,1000.27,250.0,909.23,121.0,2963.19,62.43,267.03,1911.89,343.5,2574.65,398.84,412.01000000000005,440.0,811.02,148.44,2348.82,229.33,1502.35,2007.44,1517.08,746.92,459.9,110.92,538.46,213.3,85.13000000000001,127.86,292.71999999999997,1655.76,575.63,436.06,90.12,437.23,217.2,279.77,473.65000000000003,722.74,134.55,1319.69,173.16,186.01,758.29,1375.71,650.4300000000001,2552.86,607.45,702.25,940.6700000000001,258.88,127.1,348.6,3429.9700000000003,682.9100000000001,722.61,455.3,913.6800000000001,456.58,-30.19,388.58,199.8,1767.53,1343.34,315.71999999999997,235.68,761.74,1083.63,48.480000000000004,216.39,1198.23,2422.64,104.76,1093.68,270.03000000000003,112.46000000000001,1568.39,195.15,747.031,336.40000000000003,1524.4,1158.77,3224.53,301.03,588.13,1504.56,675.8,2865.64,1180.4,3147.31,243.55,724.76,223.36,-94.0,425.32,1887.2,647.4,813.0,612.01,425.14000000000004,599.9,816.0,646.3,337.74,877.4399999999999,922.53,511.32,748.5,30.0,958.9,306.45,1552.01,309.8,138.14,358.63,2242.01,301.32,76.32000000000001,677.69,173.05,2635.4900000000002,2881.02,1744.02,323.69,3324.09,657.23,352.7,781.28,1333.68,946.36,193.75,2981.5,254.1,239.76,136.8,191.04,409.98,2644.46,309.65,664.03,1542.14,211.5,2293.62,143.1,1001.8100000000001,945.58,133.25,1072.3600000000001,346.75,330.88,1118.81,150.3,598.73,507.08,2181.21,203.1,212.3,415.25,-134.8,62.0,1108.38,294.12,162.3,1339.45,1121.21,4788.77,449.12,154.88,784.46,34.8,1071.24,182.96,974.04,149.31,79.2,455.67,2318.88,532.96,714.42,205.25,253.04,583.75,1048.67,3245.47,315.06,581.8299999999999,635.6800000000001,270.8,104.9,241.62,1021.61,475.28000000000003,333.56,2593.94,246.3,2303.75,948.05,351.3,220.85,1604.44,948.96,610.01,2666.61,2207.4,884.14,699.08,1042.19,-451.42,415.82000000000005,784.58,903.9,3724.77,399.21,1145.43,2171.32,1801.14,1303.9099999999999,1842.73,2100.6,1905.45,206.98,570.96,885.47,-840.76,532.94,1649.3600000000001,1641.48,636.14,547.7,747.76,836.79,2084.9,954.09,117.47,391.98,1020.74,345.66,1209.1,118.95000000000002,130.73999999999998,3650.87,389.27,238.85,160.71,110.8,2974.65,712.24,297.0,1438.85,977.21,832.88,68.84,1769.7800000000002,895.13,230.53,149.64,354.09000000000003,360.93,4330.67,440.78,313.28000000000003,438.24,495.36,396.48,379.35,181.09,141.27,446.87,524.52,263.55,179.17,222.05,1384.68,56.25,351.11,363.88,5126.34,164.68,1521.79,967.45,191.94,1232.18,264.62,1491.24,123.1,334.23,639.89,167.5,336.03000000000003,363.6,127.08,207.15,426.63,2461.85,1107.46,416.86,145.35,404.58,31.799999999999997,337.44,325.1,181.0,1708.24,955.24,364.72,1705.26,669.57,806.57,1634.53,4389.81,428.89,104.35,470.76,845.64,418.83,582.9,314.1,4199.85,99.77000000000002,3429.55,371.01,430.94,1054.73,1098.78,2398.86,3408.48,1475.02,1037.42,168.12,1451.28,158.03,792.11,41.989999999999995,427.07,1044.78,2735.37,615.39,101.4,478.78,992.71,407.5,3362.71,1415.29,653.13,690.54,1483.31,211.88,408.90000000000003,3450.2400000000002,851.01,628.28,719.81,251.24,439.65999999999997,236.09,852.12,331.24,548.94,437.7,758.92,855.02,454.33000000000004,1313.55,3166.4,1147.37,773.99,1340.7,243.69000000000003,137.9,362.06,1511.95,783.9,134.8,664.85,2140.2200000000003,1459.8600000000001,-29.95,1153.62,335.32,372.09,1521.87,852.15,326.24,584.3199999999999,94.35,2173.53,79.2,1352.0,176.6,2806.9,1317.62,436.18,981.51,1119.31,315.06,779.36,17.0,1041.83,320.62,185.04999999999998,2005.63,731.9,1245.96,1842.14,1429.64,302.36,336.96,108.38,3204.1600000000003,816.1,611.88,195.73999999999998,161.38,135.75000000000003,592.88,232.21,423.36,1294.14,867.11,684.4200000000001,307.78,187.15,289.35,656.25,1880.22,3506.54,603.69,517.55,709.38,-7.95,635.41,703.77,620.4,535.34,2419.84,175.2,3741.98,734.13,375.0,76.32000000000001,280.52,1906.07,1829.04,1824.23,3024.62,644.24,348.2,1009.4499999999999,37.4,441.59999999999997,802.53,3770.6,1822.97,1880.4199999999998,73.2,1140.21,1406.57,1009.5500000000001,1037.59,331.95,197.9,215.83,305.54,338.71000000000004,1155.54,529.41,3991.94,981.86,215.48,215.08,4913.32,314.45,400.68100000000004,1080.6200000000001,1821.52,365.27,589.15,405.71,761.38,537.0600000000001,394.38,664.26,2262.62,542.77,681.19,159.0,1062.75,242.35,914.9300000000001,259.39000000000004,3054.87,864.86,846.72,1295.3,1096.32,255.12,308.32000000000005,1010.6,542.03,983.23,422.13,858.41,432.2,372.9,3693.81,409.1,1522.75,1352.3600000000001,114.56,152.94,1800.07,389.44,-295.09,3665.62,732.63,46.95,5203.51,1035.45,746.83,-31.65,861.89,667.65,1141.24,1423.29,411.7,357.95,559.87,810.6000000000001,537.83,1496.68,2062.06,168.3,1531.51,823.97,142.5,280.9,2236.7400000000002,1328.55,275.4,598.2,212.82,5305.83,361.21999999999997,602.27,2560.0,686.67,616.26,274.15000000000003,226.37,2755.56,1341.65,328.15,404.40000000000003,1038.46,230.70000000000002,326.75,207.50000000000003,428.68,510.54,242.21,1583.2,151.05,214.79999999999998,109.95,549.07,1959.38,322.41,370.47999999999996,101.10000000000001,575.41,887.65,1469.45,53.5,1100.47,153.9,494.44,395.8,210.32000000000002,658.88,2024.95,1460.3700000000001,896.66,652.07,109.36000000000001,707.04,1540.42,327.3,804.49,497.43,1553.66,1320.56,367.93,473.03000000000003,977.52,676.2,362.95,2131.9,1780.59,668.36,584.5,555.89,317.2,94.36,1362.27,221.19,1412.06,1486.9,1631.15,408.57,303.93,4061.24,299.6,161.04999999999998,443.05,167.25,163.07,2126.93,2028.88,214.65,151.83,262.2,126.25,210.35,1026.99,675.27,959.48,346.12,82.56,302.7,241.06,-2.95,284.55,300.85,642.81,287.4,184.26,1522.25,798.35,381.2,616.79,638.77,230.51,2.8999999999941792,259.01,188.89000000000001,674.69,311.92,266.97,-8.15,1841.18,2158.37,208.36,3482.7400000000002,814.72,151.42,102.0,1383.7,1314.68,1603.46,74.9,650.43,757.44,223.95000000000002,314.86,544.3,2494.46,331.0,300.83,769.29,220.62,139.35,379.4,363.65,492.2,731.5,1329.66,826.53,684.41,1562.22,2965.69,86.12,319.1,400.86,1421.43,484.38,777.6,90.30000000000001,363.7,248.1,950.26,874.59,1627.13,101.69999999999999,162.7,480.92,215.07999999999998,1036.6200000000001,290.36,228.06,244.41,455.25,1244.59,1026.94,593.75,539.02,1388.81,119.62,339.3,-95.93,2266.25,922.12,379.73,5664.57,641.55,285.89,3313.79,281.85,816.51,511.12,1077.74,173.7,614.01,865.6,124.2,3622.95,1285.22,999.7,648.41,451.44,-30.599999999999998,70.44,313.62,233.45,908.03,463.95,225.15,459.24,213.5,4073.28,330.03,181.09,360.16,250.15,90.04,140.7,813.52,244.79999999999998,494.72999999999996,482.47,3038.67,75.66,120.99000000000001,1187.66,618.59,506.19,500.42,151.85,2630.64,204.41,178.96,813.48,129.45,810.5699999999999,333.08,4379.65,322.8,2183.04,417.73,2878.15,217.9,1124.59,1676.47,1169.38,231.10000000000002,679.83,487.51,833.78,214.06,270.85999999999996,518.42,1166.92,594.97,933.62,123.24,39.12,810.4499999999999,135.39999999999998,118.98,570.13,306.71999999999997,1370.8700000000001,1692.27,319.61,1558.72,3013.83,129.75,183.7,1770.34,1028.0,324.24,1260.86,303.26,208.63,1276.0,482.01,657.9000000000001,112.75,1998.0,5150.2699999999995,531.35,656.63,3029.87,1651.03,911.53,301.71999999999997,319.8000000000001,3278.36,623.75,1773.92,155.24,292.47,4711.21,589.15,775.07,1382.02,272.82,1054.67,702.79,603.75,650.51,2269.21,417.59999999999997,3.75,312.55,0.0,2191.84,1304.76,826.96,1515.9,623.93,1764.72,207.5,223.92000000000002,2002.4,1484.63,239.4,106.83000000000001,369.34000000000003,772.84,316.62,1501.38,594.9,34.0,1145.6,5580.6,458.04,380.39,744.9,2246.81,171.59,654.92,1695.66,388.28,226.35,245.94,425.19,294.65,2242.25,107.6,597.48,80.8,1520.1200000000001,110.38000000000001,243.84,1201.51,414.88,305.62,1201.49,867.83,332.3,536.99,460.59,801.49,1121.59,288.42,912.74,275.64,547.07,479.35,417.06,1446.95,3317.97,497.61,358.38,460.64,775.1800000000001,341.7,128.5,197.22,325.91,199.15,1106.53,413.46,180.85,251.87,3167.73,582.9,1774.62,1260.44,214.32,193.44,281.42,124.57,332.41,342.45,144.91000000000003,328.4,35.400000000000006,345.89000000000004,473.14,151.65,481.35,207.73999999999998,805.62,2761.4900000000002,680.02,2023.47,853.72,0.0,1519.08,432.0,705.12,276.73,429.84000000000003,471.51,194.88,1578.67,809.7,496.84000000000003,145.93,219.14,213.03,444.46,1281.56,187.6900000000001,1706.88,373.24,3085.48,579.77,981.65,364.14,2528.67,113.44,208.46,621.6800000000001,576.26,391.52,1043.34,169.79,739.5,230.25,543.05,2781.5,1295.39,380.55,161.94,530.08,950.9300000000001,262.68,1903.13,816.73,4345.5,406.48,435.02,1161.27,1178.56,1262.75,167.61,20.8,2085.08,493.67,292.34,416.64,117.35000000000001,507.05,234.17,110.55000000000001,201.19,2148.47,319.02,439.43,650.41,232.20999999999998,251.51999999999998,344.33,1809.05,1078.96,384.06,1920.2,5461.62,1873.2,1625.05,126.12,1133.25,179.0,1601.8600000000001,-1.25,1427.46,702.0,287.02000000000004,484.82,3989.57,1487.78,1412.94,781.78,877.4300000000001,185.46,270.9,565.58,1842.56,920.1,1272.61,71.0,95.85,357.77,154.82999999999998,848.59,716.0,146.87,380.35,1030.14,734.5699999999999,388.33,1253.22,112.4,449.73,1065.77,1044.3799999999999,1735.18,897.4300000000001,339.44,642.02,1100.9,864.32,247.14000000000001,413.75,496.38,1353.83,1179.89,234.24,5116.13,534.47,1421.59,859.35,-112.35,2655.2200000000003,312.14,2385.48,1446.09,813.77,841.0799999999999,378.2,118.80000000000001,285.5,290.16,2003.85,1405.78,2949.75,1555.05,2050.08,1991.01,2041.8500000000001,3802.81,1777.78,270.20000000000005,1088.2,992.6800000000001,937.92,971.74,1621.73,25.5,665.78,869.6800000000001,163.29999999999998,248.61,747.22,806.9000000000001,116.19999999999999,157.02,593.61,307.46,138.32,345.29999999999995,298.89,259.35,991.85,157.09,2463.17,4892.240000000001,425.0,1139.73,380.5,465.32,579.0,984.57,749.78,1679.64,124.88,1503.5,213.78,329.34,251.70000000000002,306.55,1266.97,1534.73,3518.03,1707.21,293.1,2466.4,158.68,189.49,816.88,224.91,313.26,3755.65,59.9,1430.94,306.13,711.79,780.38,239.92000000000002,3286.9100000000003,144.0,203.95,2275.58,384.40000000000003,249.74,2095.13,1674.46,262.62,1013.01,692.22,342.63,3563.85,1352.91,384.08,204.24,2299.67,226.85,2741.08,984.12,113.5,114.23,335.13,354.15,426.79,393.49,939.32,1906.09,318.76,3466.67,421.52,190.88,149.89000000000001,550.06,916.13,314.69,379.95,1135.04,954.9,171.45,282.19,318.65,384.52,283.28000000000003,353.86,178.26,272.44,298.41,240.0,603.37,1253.3600000000001,63.440000000000005,562.9,310.64,317.62,763.64,2144.53,111.97999999999999,1065.3500000000001,246.04,187.82999999999998,1703.41,153.92,1064.11,1419.73,936.16,525.24,550.8000000000001,1875.1100000000001,556.95,131.78,498.42,669.11,197.63,1119.93,250.04,-152.64000000000001,82.75,1384.85,644.3,2288.13,2514.76,2524.02,1200.6200000000001,700.86,908.99,990.23,96.8,523.11,363.9,175.2,494.25,306.6,243.36,781.36,193.64,160.57,537.74,228.96,1159.52,110.75,1256.19,587.15,1740.0,1393.06,178.22,388.14,365.85,127.86,585.79,488.2,312.23,168.4,1349.52,446.18,423.89,1342.68,646.92,495.77,372.5,203.2,404.66,65.4,199.29,336.4,261.11,2686.42,784.11,1259.56,508.8,457.91,203.86999999999998,696.41,653.38,2129.96,2633.85,281.62,967.22,1928.72,32.65,771.85,1214.72,748.94,1258.06,778.0,507.84,463.46000000000004,4200.97,598.83,1853.1299999999999,663.63,759.17,100.8,512.12,265.76,403.3,365.76,303.15999999999997,2333.42,216.29999999999998,378.3,177.1,2210.2599999999998,534.24,2940.04,120.9,541.53,-4287.63,1648.95,486.71999999999997,517.53,131.7,249.86,1737.7,316.5,657.3,452.63,757.46,662.94,1881.36,289.96000000000004,763.28,137.0,1843.06,1125.07,710.29,194.37,506.51,1249.34,414.04,396.87,376.64,1926.8799999999999,3541.92,374.57,497.56,271.05,272.22,622.88,1138.0,288.6,689.1,558.96,2745.2799999999997,1145.84,294.29,605.58,387.31,308.48,2920.04,513.2,208.65,639.02,768.08,153.94,1839.07,546.81,721.9599999999999,1070.71,652.74,145.0,422.70000000000005,706.7,888.86,293.45,223.36,164.4,76.5,897.62,98.42,570.4,170.75,645.96,-11.8,-141.48,148.86,267.16,306.84,909.96,1487.6,1952.45,483.26,157.9,541.46,854.95,167.62,1107.38,454.01,901.21,4012.56,344.14,226.75000000000003,362.9,185.65,124.74,440.2,215.72,175.27,1227.3,1133.07,1240.2,2404.17,1479.22,2215.02,3911.56,993.18,388.79,2044.3700000000001,161.67000000000002,116.00999999999999,-1165.3,309.36,193.42,1103.92,1992.76,390.07,329.6,571.1999999999999,971.58,218.52,81.44,1336.1,527.0500000000001,843.48,75.75,1784.12,503.59999999999997,528.33,1242.34,265.93,547.0600000000001,108.5,621.66,712.29,101.55,2768.98,995.6600000000001,133.06,1789.55,861.74,166.08,3886.67,1175.88,117.55,2571.7400000000002,1674.69,485.88,2954.75,196.0,1788.27,604.64,728.16,2055.51,347.75,3406.7200000000003,205.7,1284.08,3106.62,1622.22,551.04,1383.27,298.11,1992.1100000000001,184.4,2459.33,239.41,3191.53,290.40000000000003,733.4399999999999,187.02,283.12,765.34,2201.05,338.95,154.95,2508.89,417.95,1719.72,798.74,885.19,1781.12,152.4,267.08,137.45,385.1,522.91,153.0,326.4,139.35,1195.94,2380.64,3276.4000000000005,995.6500000000001,3371.13,1042.55,2515.68,5288.83,878.2,303.97,692.19,700.63,337.49,168.24,1863.35,2786.05,355.11,2291.08,98.8,64.65,674.52,1797.57,80.64,1739.92,834.99,287.59,712.78,15.0,818.8199999999999,371.88,271.2,2273.1800000000003,1143.27,245.81,182.77,1215.46,56.4,665.86,642.17,188.02,283.47,131.94,278.74,1865.19,1117.9,225.9,1965.55,106.1,323.04,350.39,697.9,780.43,1199.01,1251.84,512.31,546.04,4627.62,732.16,36.56,387.68,3661.0699999999997,-24.05,298.4,1995.46,1599.97,889.24,398.7,35.400000000000006,155.37,350.64,110.21000000000001,1560.53,2312.7,338.8,205.48,51.559999999999995,2033.1,901.1999999999999,605.8000000000001,5288.63,114.34,311.26,208.97,1393.79,5155.66,148.21,252.8,2059.2,330.9,3160.0,597.5,325.7,622.75,428.18,155.9,1764.3600000000001,658.26,237.61,379.45,178.51999999999998,458.92,133.35000000000002,671.77,717.45,190.19,899.61,111.35,525.78,203.87,602.09,203.85999999999999,244.1,112.25,1119.81,98.0,256.32,541.1,152.06,155.8,15.0,110.38,178.92,800.24,72.9,243.28,366.23,295.61,411.6,336.43,341.28,1304.04,826.52,207.50000000000003,2894.33,244.08,397.29,212.54,834.5,1740.48,408.36,1331.57,704.25,145.79,389.84,4301.22,99.14,1983.5800000000002,304.56,77.50000000000001,149.57999999999998,176.68,358.56000000000006,472.12,990.8400000000001,557.3,12.75,111.68,508.4599999999999,73.78,1296.44,102.83,471.7,1098.43,123.07,277.35,228.2,582.59,136.04,337.04,740.79,353.19,288.14,300.91999999999996,737.81,811.45,152.68,634.95,20.8,198.57,191.17000000000002,630.84,93.35,629.6899999999999,76.1,1511.3,382.06,417.23,169.47,249.72,444.68,2116.19,252.24,174.8,102.78999999999999,187.29,166.42,120.03,1483.56,523.0,122.14,38.45,668.11,236.77999999999997,115.31,220.7,73.5,97.97,422.88,730.4,405.62,70.02,357.20000000000005,165.04999999999998,559.51,2085.65,189.4,172.29000000000002,74.4,297.07,363.65,170.16,296.71,2119.41,720.52,814.0,2380.08,318.0,396.33,101.69999999999999,453.0,-5.329070518200751e-15,3864.44,489.6,2538.7200000000003,2633.0099999999998,336.13,3651.97,1231.5,343.45,703.37,87.52999999999999,689.95,101.34,3770.1199999999994,167.67000000000002,2083.42,3017.3,580.0500000000001,911.15,2692.85,168.31,223.65,754.64,113.48000000000002,430.7,264.65,206.05,352.69,76.32000000000001,220.1,320.72,181.12,111.15,673.1,589.4399999999999,1141.34,206.82999999999998,348.73,112.55000000000001,1045.74,715.4999999999999,681.9100000000001,761.83,152.65,-35.400000000000006,1014.9,1000.16,2888.75,2861.55,160.35000000000002,179.33999999999997,612.0799999999999,566.58,653.35,399.19,347.82,734.94,451.75,530.15,638.0600000000001,1612.79,394.7,302.46000000000004,1355.51,1133.64,202.65,980.31,1208.51,2106.84,104.0,448.65,1314.17,1573.41,1793.17,1843.75,382.8,600.52,49.8,304.25,1998.49,1084.34,274.51,207.79999999999998,957.97,212.96,896.0,689.13,5083.06,163.8,1396.99,160.42000000000002,1979.3,517.36,139.10000000000002,2621.38,600.07,248.42,232.48000000000002,299.34000000000003,481.75,621.75,626.38,2019.77,297.78000000000003,1033.31,443.0,158.95000000000002,93.75,769.2,2716.6000000000004,2066.17,582.47,440.0,1796.48,882.24,987.1,1561.6100000000001,422.58,2058.09,2232.4900000000002,2507.56,596.1,783.02,95.34,342.92,4314.72,526.67,103.3,-50.1,2265.38,2338.6000000000004,2595.0,324.24,149.48,1211.08,801.51,0.0,138.9,238.95000000000002,3064.78,204.0,1.7763568394002505e-15,323.36,97.63,173.9,180.60000000000002,80.82,176.6,1837.28],\"y0\":\" \",\"yaxis\":\"y\",\"type\":\"box\"},{\"alignmentgroup\":\"True\",\"hovertemplate\":\"Clusterlabels=%{x}<br>Amount=%{y}<extra></extra>\",\"legendgroup\":\"1\",\"marker\":{\"color\":\"#EF553B\"},\"name\":\"1\",\"notched\":false,\"offsetgroup\":\"1\",\"orientation\":\"v\",\"showlegend\":true,\"x\":[1,1,1,1,1,1,1,1,1,1,1,1,1,1,1,1,1,1,1,1,1,1,1,1,1,1,1,1,1,1,1,1,1,1,1,1,1,1,1,1,1,1,1,1,1,1,1,1,1,1,1,1,1,1,1,1,1,1,1,1,1,1,1,1,1,1,1,1,1,1,1,1,1,1,1,1,1,1,1,1,1,1,1,1,1,1,1,1,1,1,1,1,1,1,1,1,1,1,1,1,1,1,1,1,1,1,1,1,1,1,1,1,1,1,1,1,1,1,1,1,1,1,1,1,1,1,1,1,1,1,1,1,1,1,1,1,1,1,1,1,1,1,1,1,1,1,1,1,1,1,1,1,1,1,1,1,1,1,1,1,1,1,1,1,1,1,1,1,1,1,1,1,1,1,1,1,1,1,1,1,1,1,1,1,1,1,1,1,1,1,1,1,1,1,1,1,1,1,1,1,1,1,1,1,1,1,1,1,1,1,1,1,1,1,1,1,1,1,1,1,1,1,1,1,1,1,1,1,1,1,1,1,1,1,1,1,1,1,1,1,1,1,1,1,1,1,1,1,1,1,1,1,1,1,1,1,1,1,1,1,1,1,1,1,1,1,1,1,1,1,1,1,1,1,1,1,1,1,1,1,1,1,1,1],\"x0\":\" \",\"xaxis\":\"x\",\"y\":[6207.67,6245.53,5154.58,11056.93,7877.2,6416.39,7829.89,8933.52,6229.48,7116.47,6546.58,4495.27,5417.93,2464.89,4106.82,3852.5,11990.960000000001,9114.94,7187.34,9861.38,6388.35,5953.25,8221.09,4867.99,6814.24,9294.1,4708.86,5713.28,9120.39,4227.7,6989.63,6977.04,6748.4,5583.62,3876.4,2162.68,3986.22,11581.8,7092.06,6854.51,5613.43,7272.75,6912.0,5684.61,3717.82,8689.39,7741.47,5893.32,6336.29,3605.08,3348.48,2817.03,5725.47,9803.96,5820.16,6083.04,2763.41,3167.64,5315.92,7072.8,10736.48,5845.44,2916.45,5656.75,2531.58,8910.61,1093.65,5613.08,2092.32,6703.3,5030.6,7792.36,6216.07,6249.110000000001,3102.42,2154.68,8025.0199999999995,3104.95,6389.8,2503.23,7024.53,5639.15,6147.4,6135.38,10464.85,1307.41,4435.79,5976.79,1620.93,4640.77,4604.31,4660.01,12650.08,4595.81,4928.74,4592.47,3471.91,5811.56,3918.9,2255.51,2351.02,2012.17,4221.37,4075.35,2841.09,2487.02,3986.7400000000002,4709.22,2803.69,1052.55,1598.24,11341.1,2456.53,1236.28,5107.38,2486.2200000000003,3250.64,1546.91,2838.2,2664.2599999999998,2005.06,9451.54,5807.6900000000005,4236.34,7904.28,2744.48,8117.42,7912.79,7006.58,1872.28,6763.16,2571.02,4277.66,7629.38,2124.9900000000002,9623.35,11117.05,6530.04,5303.97,4684.24,7521.17,6657.36,10327.11,2485.82,7803.7699999999995,5028.12,2766.5,5927.86,1429.9,1483.14,1122.53,3212.16,6945.0199999999995,6568.72,1967.25,5541.46,3967.78,3542.51,4954.84,4109.97,6745.36,6423.6,3329.7200000000003,5178.96,2451.23,2628.93,4834.2,3848.55,5452.17,3000.36,3797.79,6102.26,2816.97,2756.82,3084.17,12393.7,1701.94,1111.79,1337.48,1667.97,6287.77,5352.97,10217.48,6617.65,6841.24,2607.87,3598.26,2609.3,5423.15,3085.96,3844.22,6675.71,3411.69,2941.05,1908.25,3640.67,1811.47,9295.67,11895.57,6748.8,8257.04,5450.96,6654.26,3794.52,8568.24,4022.46,8093.59,3043.48,5040.0,2483.04,3645.43,7170.7,6694.31,2758.25,1706.28,1692.98,6500.6,7066.31,3754.27,1510.06,2596.45,3049.88,1894.11,4392.42,8574.11,5594.78,3228.84,3095.04,4531.34,1960.72,3198.25,3127.82,3744.65,8628.55,1641.68,8600.73,6204.46,1944.32,2611.58,4455.73,4801.56,3925.92,7330.8,6838.34,5022.26,2504.86,6100.74,3540.1,2385.0,1498.51,3457.78,2827.93,5050.77,3947.87,4509.37,2047.0,2361.9700000000003,4737.13,5739.46,4748.45,5505.79,5367.8,3456.7000000000003,3960.63,3026.08,1714.6,1889.4,4204.1,2295.37,2622.57,4393.61,4161.14,6752.14,2021.82,9065.76,7925.32,1418.03,1826.21,8393.22,7490.17,6315.2300000000005,5361.02,5192.1,7276.900000000001],\"y0\":\" \",\"yaxis\":\"y\",\"type\":\"box\"},{\"alignmentgroup\":\"True\",\"hovertemplate\":\"Clusterlabels=%{x}<br>Amount=%{y}<extra></extra>\",\"legendgroup\":\"2\",\"marker\":{\"color\":\"#00cc96\"},\"name\":\"2\",\"notched\":false,\"offsetgroup\":\"2\",\"orientation\":\"v\",\"showlegend\":true,\"x\":[2,2,2,2,2,2,2,2,2,2,2,2,2,2,2,2,2,2,2,2,2,2,2,2,2,2,2,2,2,2,2,2,2],\"x0\":\" \",\"xaxis\":\"x\",\"y\":[13375.87,13117.01,13309.039999999999,13612.07,13677.59,12288.22,10930.26,9797.92,12432.28,10510.0,10664.34,9537.92,8986.69,11216.75,9167.82,9231.2,11020.26,8234.8,12396.46,10360.04,12433.34,6840.2300000000005,7076.28,10454.05,10183.82,6666.83,10380.43,10585.57,11891.18,10736.11,10097.37,13110.02,10158.54],\"y0\":\" \",\"yaxis\":\"y\",\"type\":\"box\"}],                        {\"template\":{\"data\":{\"bar\":[{\"error_x\":{\"color\":\"#2a3f5f\"},\"error_y\":{\"color\":\"#2a3f5f\"},\"marker\":{\"line\":{\"color\":\"#E5ECF6\",\"width\":0.5},\"pattern\":{\"fillmode\":\"overlay\",\"size\":10,\"solidity\":0.2}},\"type\":\"bar\"}],\"barpolar\":[{\"marker\":{\"line\":{\"color\":\"#E5ECF6\",\"width\":0.5},\"pattern\":{\"fillmode\":\"overlay\",\"size\":10,\"solidity\":0.2}},\"type\":\"barpolar\"}],\"carpet\":[{\"aaxis\":{\"endlinecolor\":\"#2a3f5f\",\"gridcolor\":\"white\",\"linecolor\":\"white\",\"minorgridcolor\":\"white\",\"startlinecolor\":\"#2a3f5f\"},\"baxis\":{\"endlinecolor\":\"#2a3f5f\",\"gridcolor\":\"white\",\"linecolor\":\"white\",\"minorgridcolor\":\"white\",\"startlinecolor\":\"#2a3f5f\"},\"type\":\"carpet\"}],\"choropleth\":[{\"colorbar\":{\"outlinewidth\":0,\"ticks\":\"\"},\"type\":\"choropleth\"}],\"contour\":[{\"colorbar\":{\"outlinewidth\":0,\"ticks\":\"\"},\"colorscale\":[[0.0,\"#0d0887\"],[0.1111111111111111,\"#46039f\"],[0.2222222222222222,\"#7201a8\"],[0.3333333333333333,\"#9c179e\"],[0.4444444444444444,\"#bd3786\"],[0.5555555555555556,\"#d8576b\"],[0.6666666666666666,\"#ed7953\"],[0.7777777777777778,\"#fb9f3a\"],[0.8888888888888888,\"#fdca26\"],[1.0,\"#f0f921\"]],\"type\":\"contour\"}],\"contourcarpet\":[{\"colorbar\":{\"outlinewidth\":0,\"ticks\":\"\"},\"type\":\"contourcarpet\"}],\"heatmap\":[{\"colorbar\":{\"outlinewidth\":0,\"ticks\":\"\"},\"colorscale\":[[0.0,\"#0d0887\"],[0.1111111111111111,\"#46039f\"],[0.2222222222222222,\"#7201a8\"],[0.3333333333333333,\"#9c179e\"],[0.4444444444444444,\"#bd3786\"],[0.5555555555555556,\"#d8576b\"],[0.6666666666666666,\"#ed7953\"],[0.7777777777777778,\"#fb9f3a\"],[0.8888888888888888,\"#fdca26\"],[1.0,\"#f0f921\"]],\"type\":\"heatmap\"}],\"heatmapgl\":[{\"colorbar\":{\"outlinewidth\":0,\"ticks\":\"\"},\"colorscale\":[[0.0,\"#0d0887\"],[0.1111111111111111,\"#46039f\"],[0.2222222222222222,\"#7201a8\"],[0.3333333333333333,\"#9c179e\"],[0.4444444444444444,\"#bd3786\"],[0.5555555555555556,\"#d8576b\"],[0.6666666666666666,\"#ed7953\"],[0.7777777777777778,\"#fb9f3a\"],[0.8888888888888888,\"#fdca26\"],[1.0,\"#f0f921\"]],\"type\":\"heatmapgl\"}],\"histogram\":[{\"marker\":{\"pattern\":{\"fillmode\":\"overlay\",\"size\":10,\"solidity\":0.2}},\"type\":\"histogram\"}],\"histogram2d\":[{\"colorbar\":{\"outlinewidth\":0,\"ticks\":\"\"},\"colorscale\":[[0.0,\"#0d0887\"],[0.1111111111111111,\"#46039f\"],[0.2222222222222222,\"#7201a8\"],[0.3333333333333333,\"#9c179e\"],[0.4444444444444444,\"#bd3786\"],[0.5555555555555556,\"#d8576b\"],[0.6666666666666666,\"#ed7953\"],[0.7777777777777778,\"#fb9f3a\"],[0.8888888888888888,\"#fdca26\"],[1.0,\"#f0f921\"]],\"type\":\"histogram2d\"}],\"histogram2dcontour\":[{\"colorbar\":{\"outlinewidth\":0,\"ticks\":\"\"},\"colorscale\":[[0.0,\"#0d0887\"],[0.1111111111111111,\"#46039f\"],[0.2222222222222222,\"#7201a8\"],[0.3333333333333333,\"#9c179e\"],[0.4444444444444444,\"#bd3786\"],[0.5555555555555556,\"#d8576b\"],[0.6666666666666666,\"#ed7953\"],[0.7777777777777778,\"#fb9f3a\"],[0.8888888888888888,\"#fdca26\"],[1.0,\"#f0f921\"]],\"type\":\"histogram2dcontour\"}],\"mesh3d\":[{\"colorbar\":{\"outlinewidth\":0,\"ticks\":\"\"},\"type\":\"mesh3d\"}],\"parcoords\":[{\"line\":{\"colorbar\":{\"outlinewidth\":0,\"ticks\":\"\"}},\"type\":\"parcoords\"}],\"pie\":[{\"automargin\":true,\"type\":\"pie\"}],\"scatter\":[{\"marker\":{\"colorbar\":{\"outlinewidth\":0,\"ticks\":\"\"}},\"type\":\"scatter\"}],\"scatter3d\":[{\"line\":{\"colorbar\":{\"outlinewidth\":0,\"ticks\":\"\"}},\"marker\":{\"colorbar\":{\"outlinewidth\":0,\"ticks\":\"\"}},\"type\":\"scatter3d\"}],\"scattercarpet\":[{\"marker\":{\"colorbar\":{\"outlinewidth\":0,\"ticks\":\"\"}},\"type\":\"scattercarpet\"}],\"scattergeo\":[{\"marker\":{\"colorbar\":{\"outlinewidth\":0,\"ticks\":\"\"}},\"type\":\"scattergeo\"}],\"scattergl\":[{\"marker\":{\"colorbar\":{\"outlinewidth\":0,\"ticks\":\"\"}},\"type\":\"scattergl\"}],\"scattermapbox\":[{\"marker\":{\"colorbar\":{\"outlinewidth\":0,\"ticks\":\"\"}},\"type\":\"scattermapbox\"}],\"scatterpolar\":[{\"marker\":{\"colorbar\":{\"outlinewidth\":0,\"ticks\":\"\"}},\"type\":\"scatterpolar\"}],\"scatterpolargl\":[{\"marker\":{\"colorbar\":{\"outlinewidth\":0,\"ticks\":\"\"}},\"type\":\"scatterpolargl\"}],\"scatterternary\":[{\"marker\":{\"colorbar\":{\"outlinewidth\":0,\"ticks\":\"\"}},\"type\":\"scatterternary\"}],\"surface\":[{\"colorbar\":{\"outlinewidth\":0,\"ticks\":\"\"},\"colorscale\":[[0.0,\"#0d0887\"],[0.1111111111111111,\"#46039f\"],[0.2222222222222222,\"#7201a8\"],[0.3333333333333333,\"#9c179e\"],[0.4444444444444444,\"#bd3786\"],[0.5555555555555556,\"#d8576b\"],[0.6666666666666666,\"#ed7953\"],[0.7777777777777778,\"#fb9f3a\"],[0.8888888888888888,\"#fdca26\"],[1.0,\"#f0f921\"]],\"type\":\"surface\"}],\"table\":[{\"cells\":{\"fill\":{\"color\":\"#EBF0F8\"},\"line\":{\"color\":\"white\"}},\"header\":{\"fill\":{\"color\":\"#C8D4E3\"},\"line\":{\"color\":\"white\"}},\"type\":\"table\"}]},\"layout\":{\"annotationdefaults\":{\"arrowcolor\":\"#2a3f5f\",\"arrowhead\":0,\"arrowwidth\":1},\"autotypenumbers\":\"strict\",\"coloraxis\":{\"colorbar\":{\"outlinewidth\":0,\"ticks\":\"\"}},\"colorscale\":{\"diverging\":[[0,\"#8e0152\"],[0.1,\"#c51b7d\"],[0.2,\"#de77ae\"],[0.3,\"#f1b6da\"],[0.4,\"#fde0ef\"],[0.5,\"#f7f7f7\"],[0.6,\"#e6f5d0\"],[0.7,\"#b8e186\"],[0.8,\"#7fbc41\"],[0.9,\"#4d9221\"],[1,\"#276419\"]],\"sequential\":[[0.0,\"#0d0887\"],[0.1111111111111111,\"#46039f\"],[0.2222222222222222,\"#7201a8\"],[0.3333333333333333,\"#9c179e\"],[0.4444444444444444,\"#bd3786\"],[0.5555555555555556,\"#d8576b\"],[0.6666666666666666,\"#ed7953\"],[0.7777777777777778,\"#fb9f3a\"],[0.8888888888888888,\"#fdca26\"],[1.0,\"#f0f921\"]],\"sequentialminus\":[[0.0,\"#0d0887\"],[0.1111111111111111,\"#46039f\"],[0.2222222222222222,\"#7201a8\"],[0.3333333333333333,\"#9c179e\"],[0.4444444444444444,\"#bd3786\"],[0.5555555555555556,\"#d8576b\"],[0.6666666666666666,\"#ed7953\"],[0.7777777777777778,\"#fb9f3a\"],[0.8888888888888888,\"#fdca26\"],[1.0,\"#f0f921\"]]},\"colorway\":[\"#636efa\",\"#EF553B\",\"#00cc96\",\"#ab63fa\",\"#FFA15A\",\"#19d3f3\",\"#FF6692\",\"#B6E880\",\"#FF97FF\",\"#FECB52\"],\"font\":{\"color\":\"#2a3f5f\"},\"geo\":{\"bgcolor\":\"white\",\"lakecolor\":\"white\",\"landcolor\":\"#E5ECF6\",\"showlakes\":true,\"showland\":true,\"subunitcolor\":\"white\"},\"hoverlabel\":{\"align\":\"left\"},\"hovermode\":\"closest\",\"mapbox\":{\"style\":\"light\"},\"paper_bgcolor\":\"white\",\"plot_bgcolor\":\"#E5ECF6\",\"polar\":{\"angularaxis\":{\"gridcolor\":\"white\",\"linecolor\":\"white\",\"ticks\":\"\"},\"bgcolor\":\"#E5ECF6\",\"radialaxis\":{\"gridcolor\":\"white\",\"linecolor\":\"white\",\"ticks\":\"\"}},\"scene\":{\"xaxis\":{\"backgroundcolor\":\"#E5ECF6\",\"gridcolor\":\"white\",\"gridwidth\":2,\"linecolor\":\"white\",\"showbackground\":true,\"ticks\":\"\",\"zerolinecolor\":\"white\"},\"yaxis\":{\"backgroundcolor\":\"#E5ECF6\",\"gridcolor\":\"white\",\"gridwidth\":2,\"linecolor\":\"white\",\"showbackground\":true,\"ticks\":\"\",\"zerolinecolor\":\"white\"},\"zaxis\":{\"backgroundcolor\":\"#E5ECF6\",\"gridcolor\":\"white\",\"gridwidth\":2,\"linecolor\":\"white\",\"showbackground\":true,\"ticks\":\"\",\"zerolinecolor\":\"white\"}},\"shapedefaults\":{\"line\":{\"color\":\"#2a3f5f\"}},\"ternary\":{\"aaxis\":{\"gridcolor\":\"white\",\"linecolor\":\"white\",\"ticks\":\"\"},\"baxis\":{\"gridcolor\":\"white\",\"linecolor\":\"white\",\"ticks\":\"\"},\"bgcolor\":\"#E5ECF6\",\"caxis\":{\"gridcolor\":\"white\",\"linecolor\":\"white\",\"ticks\":\"\"}},\"title\":{\"x\":0.05},\"xaxis\":{\"automargin\":true,\"gridcolor\":\"white\",\"linecolor\":\"white\",\"ticks\":\"\",\"title\":{\"standoff\":15},\"zerolinecolor\":\"white\",\"zerolinewidth\":2},\"yaxis\":{\"automargin\":true,\"gridcolor\":\"white\",\"linecolor\":\"white\",\"ticks\":\"\",\"title\":{\"standoff\":15},\"zerolinecolor\":\"white\",\"zerolinewidth\":2}}},\"xaxis\":{\"anchor\":\"y\",\"domain\":[0.0,1.0],\"title\":{\"text\":\"Clusterlabels\"},\"categoryorder\":\"array\",\"categoryarray\":[0,1,2]},\"yaxis\":{\"anchor\":\"x\",\"domain\":[0.0,1.0],\"title\":{\"text\":\"Amount\"}},\"legend\":{\"title\":{\"text\":\"Clusterlabels\"},\"tracegroupgap\":0},\"margin\":{\"t\":60},\"boxmode\":\"overlay\"},                        {\"responsive\": true}                    ).then(function(){\n",
              "                            \n",
              "var gd = document.getElementById('6e3354c7-b9e9-428d-b8a1-85752f12e069');\n",
              "var x = new MutationObserver(function (mutations, observer) {{\n",
              "        var display = window.getComputedStyle(gd).display;\n",
              "        if (!display || display === 'none') {{\n",
              "            console.log([gd, 'removed!']);\n",
              "            Plotly.purge(gd);\n",
              "            observer.disconnect();\n",
              "        }}\n",
              "}});\n",
              "\n",
              "// Listen for the removal of the full notebook cells\n",
              "var notebookContainer = gd.closest('#notebook-container');\n",
              "if (notebookContainer) {{\n",
              "    x.observe(notebookContainer, {childList: true});\n",
              "}}\n",
              "\n",
              "// Listen for the clearing of the current output cell\n",
              "var outputEl = gd.closest('.output');\n",
              "if (outputEl) {{\n",
              "    x.observe(outputEl, {childList: true});\n",
              "}}\n",
              "\n",
              "                        })                };                            </script>        </div>\n",
              "</body>\n",
              "</html>"
            ]
          },
          "metadata": {}
        }
      ]
    },
    {
      "cell_type": "code",
      "source": [
        "fig = px.box(rfm, x=\"Clusterlabels\", y=\"Frequency\",color=\"Clusterlabels\")\n",
        "fig.show()"
      ],
      "metadata": {
        "colab": {
          "base_uri": "https://localhost:8080/",
          "height": 542
        },
        "id": "_DvAvxgtPRcQ",
        "outputId": "c514fff4-0fb6-442f-cbd0-383c23669ac9"
      },
      "execution_count": 45,
      "outputs": [
        {
          "output_type": "display_data",
          "data": {
            "text/html": [
              "<html>\n",
              "<head><meta charset=\"utf-8\" /></head>\n",
              "<body>\n",
              "    <div>            <script src=\"https://cdnjs.cloudflare.com/ajax/libs/mathjax/2.7.5/MathJax.js?config=TeX-AMS-MML_SVG\"></script><script type=\"text/javascript\">if (window.MathJax) {MathJax.Hub.Config({SVG: {font: \"STIX-Web\"}});}</script>                <script type=\"text/javascript\">window.PlotlyConfig = {MathJaxConfig: 'local'};</script>\n",
              "        <script src=\"https://cdn.plot.ly/plotly-2.8.3.min.js\"></script>                <div id=\"fbe0e8b8-91b7-4d2d-8251-de5cd6ab41f6\" class=\"plotly-graph-div\" style=\"height:525px; width:100%;\"></div>            <script type=\"text/javascript\">                                    window.PLOTLYENV=window.PLOTLYENV || {};                                    if (document.getElementById(\"fbe0e8b8-91b7-4d2d-8251-de5cd6ab41f6\")) {                    Plotly.newPlot(                        \"fbe0e8b8-91b7-4d2d-8251-de5cd6ab41f6\",                        [{\"alignmentgroup\":\"True\",\"hovertemplate\":\"Clusterlabels=%{x}<br>Frequency=%{y}<extra></extra>\",\"legendgroup\":\"0\",\"marker\":{\"color\":\"#636efa\"},\"name\":\"0\",\"notched\":false,\"offsetgroup\":\"0\",\"orientation\":\"v\",\"showlegend\":true,\"x\":[0,0,0,0,0,0,0,0,0,0,0,0,0,0,0,0,0,0,0,0,0,0,0,0,0,0,0,0,0,0,0,0,0,0,0,0,0,0,0,0,0,0,0,0,0,0,0,0,0,0,0,0,0,0,0,0,0,0,0,0,0,0,0,0,0,0,0,0,0,0,0,0,0,0,0,0,0,0,0,0,0,0,0,0,0,0,0,0,0,0,0,0,0,0,0,0,0,0,0,0,0,0,0,0,0,0,0,0,0,0,0,0,0,0,0,0,0,0,0,0,0,0,0,0,0,0,0,0,0,0,0,0,0,0,0,0,0,0,0,0,0,0,0,0,0,0,0,0,0,0,0,0,0,0,0,0,0,0,0,0,0,0,0,0,0,0,0,0,0,0,0,0,0,0,0,0,0,0,0,0,0,0,0,0,0,0,0,0,0,0,0,0,0,0,0,0,0,0,0,0,0,0,0,0,0,0,0,0,0,0,0,0,0,0,0,0,0,0,0,0,0,0,0,0,0,0,0,0,0,0,0,0,0,0,0,0,0,0,0,0,0,0,0,0,0,0,0,0,0,0,0,0,0,0,0,0,0,0,0,0,0,0,0,0,0,0,0,0,0,0,0,0,0,0,0,0,0,0,0,0,0,0,0,0,0,0,0,0,0,0,0,0,0,0,0,0,0,0,0,0,0,0,0,0,0,0,0,0,0,0,0,0,0,0,0,0,0,0,0,0,0,0,0,0,0,0,0,0,0,0,0,0,0,0,0,0,0,0,0,0,0,0,0,0,0,0,0,0,0,0,0,0,0,0,0,0,0,0,0,0,0,0,0,0,0,0,0,0,0,0,0,0,0,0,0,0,0,0,0,0,0,0,0,0,0,0,0,0,0,0,0,0,0,0,0,0,0,0,0,0,0,0,0,0,0,0,0,0,0,0,0,0,0,0,0,0,0,0,0,0,0,0,0,0,0,0,0,0,0,0,0,0,0,0,0,0,0,0,0,0,0,0,0,0,0,0,0,0,0,0,0,0,0,0,0,0,0,0,0,0,0,0,0,0,0,0,0,0,0,0,0,0,0,0,0,0,0,0,0,0,0,0,0,0,0,0,0,0,0,0,0,0,0,0,0,0,0,0,0,0,0,0,0,0,0,0,0,0,0,0,0,0,0,0,0,0,0,0,0,0,0,0,0,0,0,0,0,0,0,0,0,0,0,0,0,0,0,0,0,0,0,0,0,0,0,0,0,0,0,0,0,0,0,0,0,0,0,0,0,0,0,0,0,0,0,0,0,0,0,0,0,0,0,0,0,0,0,0,0,0,0,0,0,0,0,0,0,0,0,0,0,0,0,0,0,0,0,0,0,0,0,0,0,0,0,0,0,0,0,0,0,0,0,0,0,0,0,0,0,0,0,0,0,0,0,0,0,0,0,0,0,0,0,0,0,0,0,0,0,0,0,0,0,0,0,0,0,0,0,0,0,0,0,0,0,0,0,0,0,0,0,0,0,0,0,0,0,0,0,0,0,0,0,0,0,0,0,0,0,0,0,0,0,0,0,0,0,0,0,0,0,0,0,0,0,0,0,0,0,0,0,0,0,0,0,0,0,0,0,0,0,0,0,0,0,0,0,0,0,0,0,0,0,0,0,0,0,0,0,0,0,0,0,0,0,0,0,0,0,0,0,0,0,0,0,0,0,0,0,0,0,0,0,0,0,0,0,0,0,0,0,0,0,0,0,0,0,0,0,0,0,0,0,0,0,0,0,0,0,0,0,0,0,0,0,0,0,0,0,0,0,0,0,0,0,0,0,0,0,0,0,0,0,0,0,0,0,0,0,0,0,0,0,0,0,0,0,0,0,0,0,0,0,0,0,0,0,0,0,0,0,0,0,0,0,0,0,0,0,0,0,0,0,0,0,0,0,0,0,0,0,0,0,0,0,0,0,0,0,0,0,0,0,0,0,0,0,0,0,0,0,0,0,0,0,0,0,0,0,0,0,0,0,0,0,0,0,0,0,0,0,0,0,0,0,0,0,0,0,0,0,0,0,0,0,0,0,0,0,0,0,0,0,0,0,0,0,0,0,0,0,0,0,0,0,0,0,0,0,0,0,0,0,0,0,0,0,0,0,0,0,0,0,0,0,0,0,0,0,0,0,0,0,0,0,0,0,0,0,0,0,0,0,0,0,0,0,0,0,0,0,0,0,0,0,0,0,0,0,0,0,0,0,0,0,0,0,0,0,0,0,0,0,0,0,0,0,0,0,0,0,0,0,0,0,0,0,0,0,0,0,0,0,0,0,0,0,0,0,0,0,0,0,0,0,0,0,0,0,0,0,0,0,0,0,0,0,0,0,0,0,0,0,0,0,0,0,0,0,0,0,0,0,0,0,0,0,0,0,0,0,0,0,0,0,0,0,0,0,0,0,0,0,0,0,0,0,0,0,0,0,0,0,0,0,0,0,0,0,0,0,0,0,0,0,0,0,0,0,0,0,0,0,0,0,0,0,0,0,0,0,0,0,0,0,0,0,0,0,0,0,0,0,0,0,0,0,0,0,0,0,0,0,0,0,0,0,0,0,0,0,0,0,0,0,0,0,0,0,0,0,0,0,0,0,0,0,0,0,0,0,0,0,0,0,0,0,0,0,0,0,0,0,0,0,0,0,0,0,0,0,0,0,0,0,0,0,0,0,0,0,0,0,0,0,0,0,0,0,0,0,0,0,0,0,0,0,0,0,0,0,0,0,0,0,0,0,0,0,0,0,0,0,0,0,0,0,0,0,0,0,0,0,0,0,0,0,0,0,0,0,0,0,0,0,0,0,0,0,0,0,0,0,0,0,0,0,0,0,0,0,0,0,0,0,0,0,0,0,0,0,0,0,0,0,0,0,0,0,0,0,0,0,0,0,0,0,0,0,0,0,0,0,0,0,0,0,0,0,0,0,0,0,0,0,0,0,0,0,0,0,0,0,0,0,0,0,0,0,0,0,0,0,0,0,0,0,0,0,0,0,0,0,0,0,0,0,0,0,0,0,0,0,0,0,0,0,0,0,0,0,0,0,0,0,0,0,0,0,0,0,0,0,0,0,0,0,0,0,0,0,0,0,0,0,0,0,0,0,0,0,0,0,0,0,0,0,0,0,0,0,0,0,0,0,0,0,0,0,0,0,0,0,0,0,0,0,0,0,0,0,0,0,0,0,0,0,0,0,0,0,0,0,0,0,0,0,0,0,0,0,0,0,0,0,0,0,0,0,0,0,0,0,0,0,0,0,0,0,0,0,0,0,0,0,0,0,0,0,0,0,0,0,0,0,0,0,0,0,0,0,0,0,0,0,0,0,0,0,0,0,0,0,0,0,0,0,0,0,0,0,0,0,0,0,0,0,0,0,0,0,0,0,0,0,0,0,0,0,0,0,0,0,0,0,0,0,0,0,0,0,0,0,0,0,0,0,0,0,0,0,0,0,0,0,0,0,0,0,0,0,0,0,0,0,0,0,0,0,0,0,0,0,0,0,0,0,0,0,0,0,0,0,0,0,0,0,0,0,0,0,0,0,0,0,0,0,0,0,0,0,0,0,0,0,0,0,0,0,0,0,0,0,0,0,0,0,0,0,0,0,0,0,0,0,0,0,0,0,0,0,0,0,0,0,0,0,0,0,0,0,0,0,0,0,0,0,0,0,0,0,0,0,0,0,0,0,0,0,0,0,0,0,0,0,0,0,0,0,0,0,0,0,0,0,0,0,0,0,0,0,0,0,0,0,0,0,0,0,0,0,0,0,0,0,0,0,0,0,0,0,0,0,0,0,0,0,0,0,0,0,0,0,0,0,0,0,0,0,0,0,0,0,0,0,0,0,0,0,0,0,0,0,0,0,0,0,0,0,0,0,0,0,0,0,0,0,0,0,0,0,0,0,0,0,0,0,0,0,0,0,0,0,0,0,0,0,0,0,0,0,0,0,0,0,0,0,0,0,0,0,0,0,0,0,0,0,0,0,0,0,0,0,0,0,0,0,0,0,0,0,0,0,0,0,0,0,0,0,0,0,0,0,0,0,0,0,0,0,0,0,0,0,0,0,0,0,0,0,0,0,0,0,0,0,0,0,0,0,0,0,0,0,0,0,0,0,0,0,0,0,0,0,0,0,0,0,0,0,0,0,0,0,0,0,0,0,0,0,0,0,0,0,0,0,0,0,0,0,0,0,0,0,0,0,0,0,0,0,0,0,0,0,0,0,0,0,0,0,0,0,0,0,0,0,0,0,0,0,0,0,0,0,0,0,0,0,0,0,0,0,0,0,0,0,0,0,0,0,0,0,0,0,0,0,0,0,0,0,0,0,0,0,0,0,0,0,0,0,0,0,0,0,0,0,0,0,0,0,0,0,0,0,0,0,0,0,0,0,0,0,0,0,0,0,0,0,0,0,0,0,0,0,0,0,0,0,0,0,0,0,0,0,0,0,0,0,0,0,0,0,0,0,0,0,0,0,0,0,0,0,0,0,0,0,0,0,0,0,0,0,0,0,0,0,0,0,0,0,0,0,0,0,0,0,0,0,0,0,0,0,0,0,0,0,0,0,0,0,0,0,0,0,0,0,0,0,0,0,0,0,0,0,0,0,0,0,0,0,0,0,0,0,0,0,0,0,0,0,0,0,0,0,0,0,0,0,0,0,0,0,0,0,0,0,0,0,0,0,0,0,0,0,0,0,0,0,0,0,0,0,0,0,0,0,0,0,0,0,0,0,0,0,0,0,0,0,0,0,0,0,0,0,0,0,0,0,0,0,0,0,0,0,0,0,0,0,0,0,0,0,0,0,0,0,0,0,0,0,0,0,0,0,0,0,0,0,0,0,0,0,0,0,0,0,0,0,0,0,0,0,0,0,0,0,0,0,0,0,0,0,0,0,0,0,0,0,0,0,0,0,0,0,0,0,0,0,0,0,0,0,0,0,0,0,0,0,0,0,0,0,0,0,0,0,0,0,0,0,0,0,0,0,0,0,0,0,0,0,0,0,0,0,0,0,0,0,0,0,0,0,0,0,0,0,0,0,0,0,0,0,0,0,0,0,0,0,0,0,0,0,0,0,0,0,0,0,0,0,0,0,0,0,0,0,0,0,0,0,0,0,0,0,0,0,0,0,0,0,0,0,0,0,0,0,0,0,0,0,0,0,0,0,0,0,0,0,0,0,0,0,0,0,0,0,0,0,0,0,0,0,0,0,0,0,0,0,0,0,0,0,0,0,0,0,0,0,0,0,0,0,0,0,0,0,0,0,0,0,0,0,0,0,0,0,0,0,0,0,0,0,0,0,0,0,0,0,0,0,0,0,0,0,0,0,0,0,0,0,0,0,0,0,0,0,0,0,0,0,0,0,0,0,0,0,0,0,0,0,0,0,0,0,0,0,0,0,0,0,0,0,0,0,0,0,0,0,0,0,0,0,0,0,0,0,0,0,0,0,0,0,0,0,0,0,0,0,0,0,0,0,0,0,0,0,0,0,0,0,0,0,0,0,0,0,0,0,0,0,0,0,0,0,0,0,0,0,0,0,0,0,0,0,0,0,0,0,0,0,0,0,0,0,0,0,0,0,0,0,0,0,0,0,0,0,0,0,0,0,0,0,0,0,0,0,0,0,0,0,0,0,0,0,0,0,0,0,0,0,0,0,0,0,0,0,0,0,0,0,0,0,0,0,0,0,0,0,0,0,0,0,0,0,0,0,0,0,0,0,0,0,0,0,0,0,0,0,0,0,0,0,0,0,0,0,0,0,0,0,0,0,0,0,0,0,0,0,0,0,0,0,0,0,0,0,0,0,0,0,0,0,0,0,0,0,0,0,0,0,0,0,0,0,0,0,0,0,0,0,0,0,0,0,0,0,0,0,0,0,0,0,0,0,0,0,0,0,0,0,0,0,0,0,0,0,0,0,0,0,0,0,0,0,0,0,0,0,0,0,0,0,0,0,0,0,0,0,0,0,0,0,0,0,0,0,0,0,0,0,0,0,0,0,0,0,0,0,0,0,0,0,0,0,0,0,0,0,0,0,0,0,0,0,0,0,0,0,0,0,0,0,0,0,0,0,0,0,0,0,0,0,0,0,0,0,0,0,0,0,0,0,0,0,0,0,0,0,0,0,0,0,0,0,0,0,0,0,0,0,0,0,0,0,0,0,0,0,0,0,0,0,0,0,0,0,0,0,0,0,0,0,0,0,0,0,0,0,0,0,0,0,0,0,0,0,0,0,0,0,0,0,0,0,0,0,0,0,0,0,0,0,0,0,0,0,0,0,0,0,0,0,0,0,0,0,0,0,0,0,0,0,0,0,0,0,0,0,0,0,0,0,0,0,0,0,0,0,0,0,0,0,0,0,0,0,0,0,0,0,0,0,0,0,0,0,0,0,0,0,0,0,0,0,0,0,0,0,0,0,0,0,0,0,0,0,0,0,0,0,0,0,0,0,0,0,0,0,0,0,0,0,0,0,0,0,0,0,0,0,0,0,0,0,0,0,0,0,0,0,0,0,0,0,0,0,0,0,0,0,0,0,0,0,0,0,0,0,0,0,0,0,0,0,0,0,0,0,0,0,0,0,0,0,0,0,0,0,0,0,0,0,0,0,0,0,0,0,0,0,0,0,0,0,0,0,0,0,0,0,0,0,0,0,0,0,0,0,0,0,0,0,0,0,0,0,0,0,0,0,0,0,0,0,0,0,0,0,0,0,0,0,0,0,0,0,0,0,0,0,0,0,0,0,0,0,0,0,0,0,0,0,0,0,0,0,0,0,0,0,0,0,0,0,0,0,0,0,0,0,0,0,0,0,0,0,0,0,0,0,0,0,0,0,0,0,0,0,0,0,0,0,0,0,0,0,0,0,0,0,0,0,0,0,0,0,0,0,0,0,0,0,0,0,0,0,0,0,0,0,0,0,0,0,0,0,0,0,0,0,0,0,0,0,0,0,0,0,0,0,0,0,0,0,0,0,0,0,0,0,0,0,0,0,0,0,0,0,0,0,0,0,0,0,0,0,0,0,0,0,0,0,0,0,0,0,0,0,0,0,0,0,0,0,0,0,0,0,0,0,0,0,0,0,0,0,0,0,0,0,0,0,0,0,0,0,0,0,0,0,0,0,0,0,0,0,0,0,0,0,0,0,0,0,0,0,0,0,0,0,0,0,0,0,0,0,0,0,0,0,0,0,0,0,0,0,0,0,0,0,0,0,0,0,0,0,0,0,0,0,0,0,0,0,0,0,0,0,0,0,0,0,0,0,0,0,0,0,0,0,0,0,0,0,0,0,0,0,0,0,0,0,0,0,0,0,0,0,0,0,0,0,0,0,0,0,0,0,0,0,0,0,0,0,0,0,0,0,0,0,0,0,0,0,0,0,0,0,0,0,0,0,0,0,0,0,0,0,0,0,0,0,0,0,0,0,0,0,0,0,0,0,0,0,0,0,0,0,0,0,0,0,0,0,0,0,0,0,0,0,0,0,0,0,0,0,0,0,0,0,0,0,0,0,0,0,0,0,0,0,0,0,0,0,0,0,0,0,0,0,0,0,0,0,0,0,0,0,0,0,0,0,0,0,0,0,0,0,0,0,0,0,0,0,0,0,0,0,0,0,0,0,0,0,0,0,0,0,0,0,0,0,0,0,0,0,0,0,0,0,0,0,0,0,0,0,0,0,0,0,0,0,0,0,0,0,0,0,0,0,0,0,0,0,0,0,0,0,0,0,0,0,0,0,0,0,0,0,0,0,0,0,0,0,0,0,0,0,0,0,0,0,0,0,0,0,0,0,0,0,0,0,0,0,0,0,0,0,0,0,0,0,0,0,0,0,0,0,0,0,0,0,0,0,0,0,0,0,0,0,0,0,0,0,0,0,0,0,0,0,0,0,0,0,0,0,0,0,0,0,0,0,0,0,0,0,0,0,0,0,0,0,0,0,0,0,0,0,0,0,0,0,0,0,0,0,0,0,0,0,0,0,0,0,0,0,0,0,0,0,0,0,0,0,0,0,0,0,0,0,0,0,0,0,0,0,0,0,0,0,0,0,0,0,0,0,0,0,0,0,0,0,0,0,0,0,0,0,0,0,0,0,0,0,0,0,0,0,0,0,0,0,0,0,0,0,0,0,0,0,0,0,0,0,0,0,0,0,0,0,0,0,0,0,0,0,0,0,0,0,0,0,0,0,0,0,0,0,0,0,0,0,0,0,0,0,0,0,0,0,0,0,0,0,0,0,0,0,0,0,0,0,0,0,0,0,0,0,0,0,0,0,0,0,0,0,0,0,0,0,0,0,0,0,0,0,0,0,0,0,0,0,0,0,0,0,0,0,0,0,0,0,0,0,0,0,0,0,0,0,0,0,0,0,0,0,0,0,0,0,0,0,0,0,0,0,0,0,0,0,0,0,0,0,0,0,0,0,0,0,0,0,0,0,0,0,0,0,0,0,0,0,0,0,0,0,0,0,0,0,0,0,0,0,0,0,0,0,0,0,0,0,0,0,0,0,0,0,0,0,0,0,0,0,0,0,0,0,0,0,0,0,0,0,0,0,0,0,0,0,0,0,0,0,0,0,0,0,0,0,0,0,0,0,0,0,0,0,0,0,0,0,0,0,0,0,0,0,0,0,0,0,0,0,0,0,0,0,0,0,0,0,0,0,0,0,0,0,0,0,0,0,0,0,0,0,0,0,0,0,0,0,0,0,0,0,0,0,0,0,0,0,0,0,0,0,0,0,0,0,0,0,0,0,0,0,0,0,0,0,0,0,0,0,0,0,0,0,0,0,0,0,0,0,0,0,0,0,0,0,0,0,0,0,0,0,0,0,0,0,0,0,0,0,0,0,0,0,0,0,0,0,0,0,0,0,0,0,0,0,0,0,0,0,0,0,0,0,0,0,0,0,0,0,0,0,0,0,0,0,0,0,0,0,0,0,0,0,0,0,0,0,0,0,0,0,0],\"x0\":\" \",\"xaxis\":\"x\",\"y\":[2,182,31,73,17,95,4,58,13,59,19,129,10,23,85,23,11,167,63,52,14,33,18,77,219,41,105,91,100,30,10,100,32,100,64,27,159,126,85,59,5,11,6,54,108,77,113,28,61,40,18,198,34,29,46,39,126,30,36,30,35,97,11,108,54,16,201,98,11,12,177,4,58,26,22,191,8,23,43,30,90,129,68,38,35,72,88,29,51,40,179,36,36,35,154,218,81,55,15,26,20,23,84,14,23,65,160,147,1,15,1,23,23,69,7,33,34,36,51,16,26,124,18,155,38,12,110,144,71,18,95,68,17,16,63,34,21,52,20,50,70,8,5,57,10,20,196,121,22,22,111,16,168,21,10,20,191,34,62,28,11,89,148,120,31,24,15,22,126,97,12,4,10,35,26,18,21,119,27,214,133,62,65,29,12,3,16,3,202,60,111,65,21,163,20,105,36,42,11,95,92,11,18,38,91,230,43,64,31,103,101,39,22,53,10,47,24,31,74,45,128,21,33,20,9,51,43,38,130,56,36,5,13,232,38,4,2,33,168,102,94,10,42,91,45,56,52,105,157,7,171,72,16,32,41,37,27,43,53,12,22,90,33,174,79,142,38,21,69,56,19,42,164,57,69,53,24,124,141,46,26,12,22,4,43,4,11,38,27,134,103,231,15,53,65,6,4,97,95,69,18,45,32,12,55,67,51,159,30,107,86,59,15,20,4,21,2,25,24,45,14,17,26,28,26,31,15,2,47,29,4,16,59,6,47,5,25,94,25,56,12,9,27,24,18,175,12,123,116,34,108,52,27,91,51,50,20,84,115,3,46,6,3,96,26,107,2,11,66,4,2,85,154,49,12,7,13,42,7,72,86,7,82,3,34,24,4,10,72,63,4,96,75,24,50,22,109,2,52,28,28,29,31,45,84,9,27,107,130,63,120,9,103,75,1,30,23,103,118,219,23,65,80,17,183,19,244,16,96,109,10,33,5,151,8,22,9,20,34,4,78,30,92,13,31,27,73,5,67,28,31,7,6,29,4,15,3,107,222,124,176,47,1,134,40,43,47,10,99,75,11,37,30,48,28,43,14,33,18,35,196,137,14,18,78,8,8,15,10,11,69,14,49,15,2,9,7,22,112,6,6,75,18,29,24,26,30,6,1,8,8,20,2,60,10,50,146,132,31,76,82,1,53,55,235,142,15,2,46,3,7,105,1,139,63,174,46,136,23,3,7,17,4,86,75,15,1,85,89,79,122,4,8,82,42,42,65,133,13,32,48,43,72,17,11,94,183,1,84,37,2,29,63,29,3,110,229,46,57,8,150,22,56,143,92,5,7,5,21,66,5,109,16,9,2,10,207,43,59,39,32,22,67,13,58,27,16,143,25,26,23,36,14,1,38,87,8,9,11,91,202,224,1,101,15,16,30,8,46,11,85,40,7,14,187,42,31,54,11,5,59,2,5,22,81,1,21,81,1,57,107,77,26,78,75,88,135,20,110,11,25,21,12,109,17,19,53,21,268,51,24,54,42,22,119,22,8,14,16,43,16,27,51,32,42,90,29,24,169,60,20,132,1,29,19,44,23,158,38,53,97,173,15,155,35,36,51,13,1,164,21,47,39,26,39,3,11,27,30,18,24,19,28,16,10,105,128,78,159,29,74,67,54,46,10,103,12,167,54,13,62,199,19,71,2,17,53,65,17,27,10,41,18,99,10,22,64,86,61,81,16,112,11,10,8,23,69,34,14,86,50,8,18,52,36,20,45,67,53,18,17,22,227,29,162,12,44,117,15,10,4,59,44,143,38,9,95,5,177,27,6,224,15,22,66,76,179,25,38,87,98,124,52,4,121,136,34,175,33,14,82,49,85,38,176,44,85,27,33,26,46,85,23,10,53,24,11,180,21,89,58,16,129,26,166,41,19,99,23,27,43,98,228,76,201,24,44,13,19,86,19,94,80,12,147,188,62,64,101,8,40,66,28,148,5,80,23,98,6,63,166,56,49,16,112,108,58,13,12,87,9,25,16,65,25,16,216,57,3,31,39,8,6,9,55,4,90,12,14,197,1,135,28,20,48,51,8,13,10,108,21,103,12,60,43,28,86,6,118,42,20,63,43,38,33,208,194,30,3,23,35,42,72,26,1,28,24,9,76,35,12,143,117,25,57,70,14,17,208,143,120,177,22,9,57,17,115,31,7,31,45,17,13,39,33,23,66,17,137,13,10,7,76,12,36,14,36,71,58,177,33,24,36,59,96,40,46,12,93,15,1,74,4,29,55,19,174,1,206,20,9,58,5,101,94,81,24,17,11,28,77,142,22,30,7,61,33,118,24,18,104,7,3,36,165,66,155,60,28,16,19,40,15,114,27,21,30,119,17,12,19,43,149,26,126,148,34,18,30,33,7,20,137,45,11,21,27,10,17,59,16,23,31,27,9,7,46,49,47,11,5,3,160,36,39,138,20,30,33,152,5,92,12,11,35,2,158,15,11,28,10,15,54,11,115,112,17,13,239,41,16,86,5,125,155,87,212,16,40,47,171,84,30,44,11,34,39,20,162,68,39,22,28,31,16,6,15,243,152,92,66,38,28,93,6,241,21,209,6,14,34,88,54,56,4,6,10,8,82,7,52,24,14,43,46,42,65,12,4,156,29,181,70,14,1,217,105,21,252,26,84,21,76,124,35,14,157,11,173,40,15,72,3,1,161,5,167,16,44,46,52,67,201,30,134,47,26,67,46,22,7,12,245,6,3,40,26,50,52,6,49,41,108,25,52,29,25,52,58,29,26,164,32,43,165,24,3,71,42,8,6,44,2,39,44,39,21,10,88,103,118,9,5,70,109,59,107,12,7,21,194,41,61,118,73,183,43,54,118,36,159,80,15,9,8,116,42,10,16,148,112,75,20,8,111,78,54,107,5,52,143,19,31,66,29,10,33,29,75,228,8,156,34,27,11,17,47,103,238,108,61,7,64,162,3,16,27,110,35,180,123,27,87,8,104,24,42,123,41,9,12,28,26,19,163,63,90,34,18,6,130,24,71,6,60,18,31,21,1,47,6,9,11,38,41,58,118,41,69,8,4,4,75,11,46,56,131,59,14,7,140,191,62,5,73,95,26,183,26,104,8,76,107,55,287,14,45,23,98,14,124,206,30,27,222,3,1,17,148,22,12,9,6,9,32,55,59,68,98,293,70,20,258,40,109,62,22,4,37,17,180,246,6,130,72,90,43,281,7,30,47,19,11,18,13,30,144,10,14,47,145,49,30,17,123,7,6,19,31,193,194,7,12,164,107,98,57,71,23,18,73,101,18,16,4,17,12,203,18,229,216,64,65,19,10,19,32,76,111,5,107,114,4,56,48,10,58,113,216,21,32,76,69,129,4,34,12,29,241,1,123,24,17,6,101,29,27,3,197,164,152,53,102,55,50,25,7,2,20,4,3,17,22,30,96,21,135,13,57,126,5,24,153,41,8,20,28,16,175,113,7,2,34,29,30,30,199,102,29,237,50,80,127,29,30,4,168,99,117,14,170,132,61,74,102,44,1,7,2,15,13,54,71,69,8,133,22,210,8,115,22,1,29,197,139,25,10,71,55,238,37,29,278,52,10,71,45,149,17,56,61,93,59,28,70,19,92,5,30,41,237,38,19,71,102,7,11,21,7,39,137,6,52,9,60,134,3,35,41,27,6,15,3,30,6,46,4,15,82,6,12,13,59,44,12,47,11,256,255,30,53,4,63,48,13,29,2,70,29,121,17,45,40,70,6,110,4,138,158,130,13,22,28,143,10,131,20,66,61,59,12,6,48,11,4,37,147,72,13,98,28,50,124,47,17,11,54,15,18,6,20,10,7,33,73,23,43,55,119,98,24,69,18,168,9,35,28,87,13,79,45,57,78,44,10,11,128,42,17,88,10,35,172,3,14,64,20,20,55,85,12,42,61,27,5,198,13,83,38,6,37,34,160,18,32,21,11,73,216,8,41,87,4,40,61,27,75,77,115,158,144,12,182,20,128,35,20,20,32,70,135,155,72,61,37,48,7,111,55,27,127,133,67,5,3,13,207,22,98,3,80,143,30,71,114,25,239,121,57,5,158,53,82,104,70,1,26,76,42,27,49,48,35,5,15,60,145,23,31,26,112,49,11,25,5,23,6,9,35,71,101,102,20,61,31,40,84,101,197,21,45,80,1,14,22,28,87,106,15,16,111,84,22,52,29,73,10,69,13,81,26,14,67,95,29,20,23,22,92,55,133,7,4,29,103,27,41,5,7,110,11,23,3,95,6,18,29,63,21,19,93,51,19,1,36,10,13,97,142,9,38,9,43,20,52,7,25,110,43,2,166,9,119,11,5,32,16,23,8,58,126,23,31,14,143,15,99,52,52,83,111,22,34,89,33,6,44,55,18,47,6,8,34,78,19,10,12,23,82,6,11,2,48,63,47,42,52,12,21,16,150,3,21,88,59,109,25,200,41,194,12,28,31,26,58,12,21,48,1,24,38,1,33,16,36,106,49,49,29,10,62,13,35,16,99,36,88,17,26,21,32,23,17,5,9,72,5,233,63,14,13,7,17,29,151,44,96,4,1,95,27,137,3,117,196,37,8,43,12,31,10,1,85,12,85,7,14,6,74,50,13,42,8,58,153,34,122,100,10,39,48,193,28,8,53,6,2,17,6,83,10,53,59,29,45,25,62,2,219,5,9,28,62,30,58,286,25,60,58,7,58,11,7,157,57,53,29,27,77,76,14,29,46,45,88,189,86,2,55,155,35,125,16,68,70,13,99,164,46,92,1,160,7,218,15,27,220,18,200,57,10,1,180,4,166,26,108,228,263,86,78,24,41,15,29,28,81,116,61,29,17,56,14,31,20,31,1,117,8,7,53,31,57,215,104,168,45,39,13,51,151,44,125,31,9,30,1,24,5,104,84,23,16,52,54,2,17,67,91,13,60,18,6,45,6,49,3,104,18,214,19,34,68,49,157,61,177,15,25,15,2,25,119,36,238,52,36,28,2,32,21,6,21,37,47,1,56,11,94,5,9,19,116,13,1,35,12,81,155,135,21,216,33,12,110,78,67,10,168,9,19,2,12,22,177,18,89,237,5,117,6,59,214,6,53,20,35,118,7,128,91,72,41,12,32,4,6,73,14,10,26,81,176,8,9,88,3,65,29,93,21,1,29,149,192,45,9,7,37,63,188,11,28,10,25,7,18,22,29,21,44,14,87,206,25,35,76,13,42,135,8,98,119,69,3,8,31,48,210,43,112,139,41,40,74,49,123,17,62,33,17,20,69,134,51,41,69,54,276,50,12,24,65,28,50,8,11,140,22,97,22,30,140,80,14,191,142,147,18,24,40,45,15,76,128,137,131,106,32,24,49,18,12,14,93,62,41,11,24,87,4,51,116,75,30,151,249,7,267,19,160,12,40,143,60,25,12,21,12,21,119,74,12,7,18,2,14,6,2,29,60,19,103,43,91,103,185,42,7,28,122,84,21,11,35,6,177,24,98,65,49,43,97,113,38,14,140,27,52,3,35,131,103,218,8,33,90,86,212,94,148,184,237,32,28,165,46,76,101,64,28,32,17,29,100,22,55,39,28,65,6,75,39,83,9,10,34,84,70,8,68,134,180,1,64,23,74,102,33,21,23,2,131,1,21,11,227,31,38,167,40,18,53,1,67,12,10,67,39,83,57,48,29,13,6,31,49,18,16,30,8,35,30,16,32,212,38,16,16,13,40,89,78,38,21,37,1,31,37,30,37,118,1,237,29,22,1,18,136,29,89,139,19,14,22,2,7,35,99,85,127,3,69,87,23,58,15,8,11,11,15,46,31,219,67,11,6,151,19,15,179,115,18,36,57,98,63,19,66,46,24,43,6,44,14,37,19,90,97,137,96,134,8,7,47,35,38,25,48,20,21,142,51,91,93,16,7,69,24,21,124,14,2,135,18,124,3,61,45,54,134,25,67,33,6,25,109,17,11,168,109,8,19,120,79,23,27,12,167,22,44,4,44,37,16,14,156,69,19,3,56,16,37,1,118,20,41,154,10,11,20,153,84,15,47,2,38,92,235,9,60,8,28,39,32,34,110,70,106,90,5,53,51,18,130,76,118,228,97,111,128,5,23,109,32,102,33,59,88,4,35,45,100,210,86,73,29,198,60,15,23,5,63,172,232,45,35,31,7,54,73,102,52,18,6,21,9,1,2,6,83,8,17,109,132,24,174,86,63,4,36,20,43,11,14,3,99,111,9,202,135,33,4,85,236,148,2,182,171,13,19,28,146,17,35,53,18,19,26,42,31,39,62,50,97,97,136,16,22,11,86,86,4,3,13,13,169,35,113,6,17,42,13,157,15,14,17,30,77,181,31,56,45,5,3,31,261,32,17,86,74,17,207,11,58,31,19,3,19,35,5,133,106,58,46,28,1,11,6,14,31,8,13,33,10,222,27,53,85,12,7,11,62,31,32,34,174,6,11,66,30,26,33,5,97,16,9,29,5,48,23,184,20,119,64,153,9,72,95,52,12,35,27,62,14,21,24,76,31,208,8,2,17,9,32,53,20,161,6,98,92,170,3,10,44,30,62,62,16,13,3,60,10,21,5,154,123,27,79,22,94,19,3,236,45,203,27,37,228,43,152,185,46,269,84,28,53,128,1,1,16,4,193,242,45,69,95,25,9,34,2,176,13,7,22,43,13,89,24,1,34,222,58,40,146,255,26,49,158,76,50,16,60,19,197,3,155,5,95,12,16,287,66,18,164,121,24,60,98,103,67,23,150,16,28,15,28,95,191,26,38,26,28,22,8,11,23,12,47,24,10,11,166,26,117,64,11,12,14,8,19,20,9,19,2,13,72,8,28,11,129,139,7,123,159,6,178,1,39,38,26,101,37,135,203,101,45,69,44,163,125,82,44,60,209,93,151,19,105,8,38,57,143,9,130,60,89,14,6,213,77,54,53,49,62,57,242,33,249,21,19,61,42,87,16,1,54,26,18,16,7,101,14,7,26,31,21,31,42,42,2,39,91,87,22,149,121,3,129,7,12,1,95,1,41,12,6,23,169,50,44,44,53,12,15,75,217,16,234,7,3,9,4,155,2,11,22,28,32,32,77,22,15,71,98,102,10,22,22,65,48,43,92,14,84,62,5,101,71,82,62,1,154,64,148,174,80,25,28,2,9,64,81,52,162,189,96,115,64,198,125,15,77,52,213,65,42,1,90,121,12,30,135,43,9,10,38,18,7,9,32,40,262,14,134,27,24,52,24,20,15,48,35,85,9,16,14,23,20,15,67,102,229,105,5,145,10,14,60,16,16,87,4,64,15,80,131,23,76,2,10,89,61,20,237,35,29,29,96,40,152,67,13,7,213,4,164,104,9,25,63,28,49,21,47,208,47,73,36,25,14,29,105,19,16,40,31,9,55,69,57,39,87,18,112,78,16,124,12,23,127,80,38,6,116,27,69,15,9,94,45,124,142,112,102,1,135,69,51,30,57,66,81,53,1,12,55,14,28,136,11,73,107,204,50,6,33,6,1,28,12,9,183,17,32,87,1,215,9,72,27,8,16,19,45,59,15,132,29,35,34,128,33,87,253,57,28,71,24,83,2,51,15,47,28,78,15,3,62,4,92,38,213,59,33,94,116,2,13,64,43,66,6,14,30,208,30,135,28,43,2,42,14,43,48,54,138,9,19,8,140,1,135,9,36,1,107,19,61,8,17,19,54,111,37,111,28,219,9,41,5,90,78,181,14,31,83,21,24,29,86,110,12,27,10,17,40,5,18,28,38,140,52,16,88,22,20,106,6,40,87,137,11,83,30,46,73,33,6,9,23,49,15,9,13,3,75,9,26,25,145,2,17,6,42,43,51,2,88,106,6,34,27,46,64,49,152,177,29,12,26,8,6,52,45,29,36,214,23,253,201,167,215,50,83,55,13,9,15,63,59,238,142,100,14,3,78,77,4,27,33,50,5,124,26,39,72,24,35,7,5,40,8,169,54,7,92,53,8,239,50,22,93,82,23,161,45,90,43,18,117,15,68,11,61,115,228,27,79,16,30,11,119,15,130,19,47,18,15,35,126,19,8,146,24,80,55,31,108,5,35,7,23,29,10,1,6,50,120,10,45,198,67,169,220,83,18,35,43,26,10,99,48,15,137,8,2,35,193,1,93,95,25,19,1,75,57,21,105,38,54,53,157,3,194,84,12,67,13,72,134,5,14,190,10,58,46,82,111,104,147,10,43,64,141,17,33,49,5,13,220,82,30,23,2,61,61,24,172,137,56,37,5,1,51,26,312,24,15,17,17,199,25,58,223,11,148,102,10,81,40,10,46,47,12,26,6,26,8,145,117,64,109,10,81,21,94,34,28,16,193,16,2,115,28,32,11,19,39,34,12,58,39,40,59,80,94,23,145,1,38,1,21,23,6,39,65,90,21,29,77,43,12,23,2,2,20,9,1,72,21,19,1,31,7,26,249,35,104,68,48,85,14,31,31,15,179,65,21,12,147,30,48,23,1,13,39,29,5,84,2,180,93,58,40,60,22,30,33,14,28,31,32,46,123,3,29,5,191,22,21,10,5,34,112,53,96,19,19,7,121,128,47,7,5,21,19,3,21,46,27,7,138,10,37,1,25,36,76,13,153,227,29,127,2,17,73,2,29,7,7,39,38,70,21,213,109,19,41,38,18,39,19,49,26,1,28,74,30,17,32,36,197,56,47,14,71,2,20,39,8,1,18,61,43,221,10,7,16,37,38,21,28,140,35,23,39,81,25,10,43,140,9,38,56,31,1,33,75,99,90,119,44,44,1,17,72,69,16,7,45,18,9,141,166,32,68,19,202,32,8,134,42,43,15,13,26,31,24,115,4,65,19,10,5,32,89,126,40,1,104,49,61,88,6,105,78,177,4,49,8,22,16,98,6,4,123,42,140,21,13,62,46,2,8,13,170,3,22,16,9,9,10,7,13,70],\"y0\":\" \",\"yaxis\":\"y\",\"type\":\"box\"},{\"alignmentgroup\":\"True\",\"hovertemplate\":\"Clusterlabels=%{x}<br>Frequency=%{y}<extra></extra>\",\"legendgroup\":\"1\",\"marker\":{\"color\":\"#EF553B\"},\"name\":\"1\",\"notched\":false,\"offsetgroup\":\"1\",\"orientation\":\"v\",\"showlegend\":true,\"x\":[1,1,1,1,1,1,1,1,1,1,1,1,1,1,1,1,1,1,1,1,1,1,1,1,1,1,1,1,1,1,1,1,1,1,1,1,1,1,1,1,1,1,1,1,1,1,1,1,1,1,1,1,1,1,1,1,1,1,1,1,1,1,1,1,1,1,1,1,1,1,1,1,1,1,1,1,1,1,1,1,1,1,1,1,1,1,1,1,1,1,1,1,1,1,1,1,1,1,1,1,1,1,1,1,1,1,1,1,1,1,1,1,1,1,1,1,1,1,1,1,1,1,1,1,1,1,1,1,1,1,1,1,1,1,1,1,1,1,1,1,1,1,1,1,1,1,1,1,1,1,1,1,1,1,1,1,1,1,1,1,1,1,1,1,1,1,1,1,1,1,1,1,1,1,1,1,1,1,1,1,1,1,1,1,1,1,1,1,1,1,1,1,1,1,1,1,1,1,1,1,1,1,1,1,1,1,1,1,1,1,1,1,1,1,1,1,1,1,1,1,1,1,1,1,1,1,1,1,1,1,1,1,1,1,1,1,1,1,1,1,1,1,1,1,1,1,1,1,1,1,1,1,1,1,1,1,1,1,1,1,1,1,1,1,1,1,1,1,1,1,1,1,1,1,1,1,1,1,1,1,1,1,1,1],\"x0\":\" \",\"xaxis\":\"x\",\"y\":[131,254,274,114,300,240,36,355,391,457,264,350,245,286,273,274,33,463,251,70,307,394,362,270,348,257,259,359,229,377,310,8,39,316,439,317,551,47,24,68,409,459,26,422,470,161,170,437,310,705,347,314,265,120,329,34,612,447,320,77,134,314,444,306,260,427,436,342,341,130,264,59,501,346,323,343,114,307,338,340,353,505,291,203,111,333,451,35,327,248,277,263,112,285,269,291,353,612,264,382,631,316,298,558,333,417,367,446,273,330,384,114,259,421,359,350,348,415,359,341,501,216,205,392,392,364,366,149,317,479,563,513,400,461,276,451,140,218,344,278,326,358,121,275,212,247,519,306,300,306,329,385,104,127,299,252,674,261,702,330,414,79,297,302,295,412,280,274,307,547,463,77,275,560,509,9,385,312,354,284,117,502,176,28,297,662,295,274,260,320,319,94,671,358,372,282,368,298,200,4,474,280,123,261,80,262,117,588,312,402,447,358,452,718,322,449,325,289,710,547,327,305,283,418,268,322,316,516,297,274,472,546,566,407,294,69,487,548,503,414,468,419,27,271,272,279,369,260,394,299,417,270,565,582,319,315,297,270,286,258,254,278,412,313,410,378,280,696,489,329,297,474,363,472,90,454,378,364,162,197,299,286,245,164],\"y0\":\" \",\"yaxis\":\"y\",\"type\":\"box\"},{\"alignmentgroup\":\"True\",\"hovertemplate\":\"Clusterlabels=%{x}<br>Frequency=%{y}<extra></extra>\",\"legendgroup\":\"2\",\"marker\":{\"color\":\"#00cc96\"},\"name\":\"2\",\"notched\":false,\"offsetgroup\":\"2\",\"orientation\":\"v\",\"showlegend\":true,\"x\":[2,2,2,2,2,2,2,2,2,2,2,2,2,2,2,2,2,2,2,2,2,2,2,2,2,2,2,2,2,2,2,2,2],\"x0\":\" \",\"xaxis\":\"x\",\"y\":[420,308,481,474,646,525,308,342,380,280,500,394,633,604,533,576,506,561,523,429,495,632,668,344,379,696,421,487,424,452,395,690,389],\"y0\":\" \",\"yaxis\":\"y\",\"type\":\"box\"}],                        {\"template\":{\"data\":{\"bar\":[{\"error_x\":{\"color\":\"#2a3f5f\"},\"error_y\":{\"color\":\"#2a3f5f\"},\"marker\":{\"line\":{\"color\":\"#E5ECF6\",\"width\":0.5},\"pattern\":{\"fillmode\":\"overlay\",\"size\":10,\"solidity\":0.2}},\"type\":\"bar\"}],\"barpolar\":[{\"marker\":{\"line\":{\"color\":\"#E5ECF6\",\"width\":0.5},\"pattern\":{\"fillmode\":\"overlay\",\"size\":10,\"solidity\":0.2}},\"type\":\"barpolar\"}],\"carpet\":[{\"aaxis\":{\"endlinecolor\":\"#2a3f5f\",\"gridcolor\":\"white\",\"linecolor\":\"white\",\"minorgridcolor\":\"white\",\"startlinecolor\":\"#2a3f5f\"},\"baxis\":{\"endlinecolor\":\"#2a3f5f\",\"gridcolor\":\"white\",\"linecolor\":\"white\",\"minorgridcolor\":\"white\",\"startlinecolor\":\"#2a3f5f\"},\"type\":\"carpet\"}],\"choropleth\":[{\"colorbar\":{\"outlinewidth\":0,\"ticks\":\"\"},\"type\":\"choropleth\"}],\"contour\":[{\"colorbar\":{\"outlinewidth\":0,\"ticks\":\"\"},\"colorscale\":[[0.0,\"#0d0887\"],[0.1111111111111111,\"#46039f\"],[0.2222222222222222,\"#7201a8\"],[0.3333333333333333,\"#9c179e\"],[0.4444444444444444,\"#bd3786\"],[0.5555555555555556,\"#d8576b\"],[0.6666666666666666,\"#ed7953\"],[0.7777777777777778,\"#fb9f3a\"],[0.8888888888888888,\"#fdca26\"],[1.0,\"#f0f921\"]],\"type\":\"contour\"}],\"contourcarpet\":[{\"colorbar\":{\"outlinewidth\":0,\"ticks\":\"\"},\"type\":\"contourcarpet\"}],\"heatmap\":[{\"colorbar\":{\"outlinewidth\":0,\"ticks\":\"\"},\"colorscale\":[[0.0,\"#0d0887\"],[0.1111111111111111,\"#46039f\"],[0.2222222222222222,\"#7201a8\"],[0.3333333333333333,\"#9c179e\"],[0.4444444444444444,\"#bd3786\"],[0.5555555555555556,\"#d8576b\"],[0.6666666666666666,\"#ed7953\"],[0.7777777777777778,\"#fb9f3a\"],[0.8888888888888888,\"#fdca26\"],[1.0,\"#f0f921\"]],\"type\":\"heatmap\"}],\"heatmapgl\":[{\"colorbar\":{\"outlinewidth\":0,\"ticks\":\"\"},\"colorscale\":[[0.0,\"#0d0887\"],[0.1111111111111111,\"#46039f\"],[0.2222222222222222,\"#7201a8\"],[0.3333333333333333,\"#9c179e\"],[0.4444444444444444,\"#bd3786\"],[0.5555555555555556,\"#d8576b\"],[0.6666666666666666,\"#ed7953\"],[0.7777777777777778,\"#fb9f3a\"],[0.8888888888888888,\"#fdca26\"],[1.0,\"#f0f921\"]],\"type\":\"heatmapgl\"}],\"histogram\":[{\"marker\":{\"pattern\":{\"fillmode\":\"overlay\",\"size\":10,\"solidity\":0.2}},\"type\":\"histogram\"}],\"histogram2d\":[{\"colorbar\":{\"outlinewidth\":0,\"ticks\":\"\"},\"colorscale\":[[0.0,\"#0d0887\"],[0.1111111111111111,\"#46039f\"],[0.2222222222222222,\"#7201a8\"],[0.3333333333333333,\"#9c179e\"],[0.4444444444444444,\"#bd3786\"],[0.5555555555555556,\"#d8576b\"],[0.6666666666666666,\"#ed7953\"],[0.7777777777777778,\"#fb9f3a\"],[0.8888888888888888,\"#fdca26\"],[1.0,\"#f0f921\"]],\"type\":\"histogram2d\"}],\"histogram2dcontour\":[{\"colorbar\":{\"outlinewidth\":0,\"ticks\":\"\"},\"colorscale\":[[0.0,\"#0d0887\"],[0.1111111111111111,\"#46039f\"],[0.2222222222222222,\"#7201a8\"],[0.3333333333333333,\"#9c179e\"],[0.4444444444444444,\"#bd3786\"],[0.5555555555555556,\"#d8576b\"],[0.6666666666666666,\"#ed7953\"],[0.7777777777777778,\"#fb9f3a\"],[0.8888888888888888,\"#fdca26\"],[1.0,\"#f0f921\"]],\"type\":\"histogram2dcontour\"}],\"mesh3d\":[{\"colorbar\":{\"outlinewidth\":0,\"ticks\":\"\"},\"type\":\"mesh3d\"}],\"parcoords\":[{\"line\":{\"colorbar\":{\"outlinewidth\":0,\"ticks\":\"\"}},\"type\":\"parcoords\"}],\"pie\":[{\"automargin\":true,\"type\":\"pie\"}],\"scatter\":[{\"marker\":{\"colorbar\":{\"outlinewidth\":0,\"ticks\":\"\"}},\"type\":\"scatter\"}],\"scatter3d\":[{\"line\":{\"colorbar\":{\"outlinewidth\":0,\"ticks\":\"\"}},\"marker\":{\"colorbar\":{\"outlinewidth\":0,\"ticks\":\"\"}},\"type\":\"scatter3d\"}],\"scattercarpet\":[{\"marker\":{\"colorbar\":{\"outlinewidth\":0,\"ticks\":\"\"}},\"type\":\"scattercarpet\"}],\"scattergeo\":[{\"marker\":{\"colorbar\":{\"outlinewidth\":0,\"ticks\":\"\"}},\"type\":\"scattergeo\"}],\"scattergl\":[{\"marker\":{\"colorbar\":{\"outlinewidth\":0,\"ticks\":\"\"}},\"type\":\"scattergl\"}],\"scattermapbox\":[{\"marker\":{\"colorbar\":{\"outlinewidth\":0,\"ticks\":\"\"}},\"type\":\"scattermapbox\"}],\"scatterpolar\":[{\"marker\":{\"colorbar\":{\"outlinewidth\":0,\"ticks\":\"\"}},\"type\":\"scatterpolar\"}],\"scatterpolargl\":[{\"marker\":{\"colorbar\":{\"outlinewidth\":0,\"ticks\":\"\"}},\"type\":\"scatterpolargl\"}],\"scatterternary\":[{\"marker\":{\"colorbar\":{\"outlinewidth\":0,\"ticks\":\"\"}},\"type\":\"scatterternary\"}],\"surface\":[{\"colorbar\":{\"outlinewidth\":0,\"ticks\":\"\"},\"colorscale\":[[0.0,\"#0d0887\"],[0.1111111111111111,\"#46039f\"],[0.2222222222222222,\"#7201a8\"],[0.3333333333333333,\"#9c179e\"],[0.4444444444444444,\"#bd3786\"],[0.5555555555555556,\"#d8576b\"],[0.6666666666666666,\"#ed7953\"],[0.7777777777777778,\"#fb9f3a\"],[0.8888888888888888,\"#fdca26\"],[1.0,\"#f0f921\"]],\"type\":\"surface\"}],\"table\":[{\"cells\":{\"fill\":{\"color\":\"#EBF0F8\"},\"line\":{\"color\":\"white\"}},\"header\":{\"fill\":{\"color\":\"#C8D4E3\"},\"line\":{\"color\":\"white\"}},\"type\":\"table\"}]},\"layout\":{\"annotationdefaults\":{\"arrowcolor\":\"#2a3f5f\",\"arrowhead\":0,\"arrowwidth\":1},\"autotypenumbers\":\"strict\",\"coloraxis\":{\"colorbar\":{\"outlinewidth\":0,\"ticks\":\"\"}},\"colorscale\":{\"diverging\":[[0,\"#8e0152\"],[0.1,\"#c51b7d\"],[0.2,\"#de77ae\"],[0.3,\"#f1b6da\"],[0.4,\"#fde0ef\"],[0.5,\"#f7f7f7\"],[0.6,\"#e6f5d0\"],[0.7,\"#b8e186\"],[0.8,\"#7fbc41\"],[0.9,\"#4d9221\"],[1,\"#276419\"]],\"sequential\":[[0.0,\"#0d0887\"],[0.1111111111111111,\"#46039f\"],[0.2222222222222222,\"#7201a8\"],[0.3333333333333333,\"#9c179e\"],[0.4444444444444444,\"#bd3786\"],[0.5555555555555556,\"#d8576b\"],[0.6666666666666666,\"#ed7953\"],[0.7777777777777778,\"#fb9f3a\"],[0.8888888888888888,\"#fdca26\"],[1.0,\"#f0f921\"]],\"sequentialminus\":[[0.0,\"#0d0887\"],[0.1111111111111111,\"#46039f\"],[0.2222222222222222,\"#7201a8\"],[0.3333333333333333,\"#9c179e\"],[0.4444444444444444,\"#bd3786\"],[0.5555555555555556,\"#d8576b\"],[0.6666666666666666,\"#ed7953\"],[0.7777777777777778,\"#fb9f3a\"],[0.8888888888888888,\"#fdca26\"],[1.0,\"#f0f921\"]]},\"colorway\":[\"#636efa\",\"#EF553B\",\"#00cc96\",\"#ab63fa\",\"#FFA15A\",\"#19d3f3\",\"#FF6692\",\"#B6E880\",\"#FF97FF\",\"#FECB52\"],\"font\":{\"color\":\"#2a3f5f\"},\"geo\":{\"bgcolor\":\"white\",\"lakecolor\":\"white\",\"landcolor\":\"#E5ECF6\",\"showlakes\":true,\"showland\":true,\"subunitcolor\":\"white\"},\"hoverlabel\":{\"align\":\"left\"},\"hovermode\":\"closest\",\"mapbox\":{\"style\":\"light\"},\"paper_bgcolor\":\"white\",\"plot_bgcolor\":\"#E5ECF6\",\"polar\":{\"angularaxis\":{\"gridcolor\":\"white\",\"linecolor\":\"white\",\"ticks\":\"\"},\"bgcolor\":\"#E5ECF6\",\"radialaxis\":{\"gridcolor\":\"white\",\"linecolor\":\"white\",\"ticks\":\"\"}},\"scene\":{\"xaxis\":{\"backgroundcolor\":\"#E5ECF6\",\"gridcolor\":\"white\",\"gridwidth\":2,\"linecolor\":\"white\",\"showbackground\":true,\"ticks\":\"\",\"zerolinecolor\":\"white\"},\"yaxis\":{\"backgroundcolor\":\"#E5ECF6\",\"gridcolor\":\"white\",\"gridwidth\":2,\"linecolor\":\"white\",\"showbackground\":true,\"ticks\":\"\",\"zerolinecolor\":\"white\"},\"zaxis\":{\"backgroundcolor\":\"#E5ECF6\",\"gridcolor\":\"white\",\"gridwidth\":2,\"linecolor\":\"white\",\"showbackground\":true,\"ticks\":\"\",\"zerolinecolor\":\"white\"}},\"shapedefaults\":{\"line\":{\"color\":\"#2a3f5f\"}},\"ternary\":{\"aaxis\":{\"gridcolor\":\"white\",\"linecolor\":\"white\",\"ticks\":\"\"},\"baxis\":{\"gridcolor\":\"white\",\"linecolor\":\"white\",\"ticks\":\"\"},\"bgcolor\":\"#E5ECF6\",\"caxis\":{\"gridcolor\":\"white\",\"linecolor\":\"white\",\"ticks\":\"\"}},\"title\":{\"x\":0.05},\"xaxis\":{\"automargin\":true,\"gridcolor\":\"white\",\"linecolor\":\"white\",\"ticks\":\"\",\"title\":{\"standoff\":15},\"zerolinecolor\":\"white\",\"zerolinewidth\":2},\"yaxis\":{\"automargin\":true,\"gridcolor\":\"white\",\"linecolor\":\"white\",\"ticks\":\"\",\"title\":{\"standoff\":15},\"zerolinecolor\":\"white\",\"zerolinewidth\":2}}},\"xaxis\":{\"anchor\":\"y\",\"domain\":[0.0,1.0],\"title\":{\"text\":\"Clusterlabels\"},\"categoryorder\":\"array\",\"categoryarray\":[0,1,2]},\"yaxis\":{\"anchor\":\"x\",\"domain\":[0.0,1.0],\"title\":{\"text\":\"Frequency\"}},\"legend\":{\"title\":{\"text\":\"Clusterlabels\"},\"tracegroupgap\":0},\"margin\":{\"t\":60},\"boxmode\":\"overlay\"},                        {\"responsive\": true}                    ).then(function(){\n",
              "                            \n",
              "var gd = document.getElementById('fbe0e8b8-91b7-4d2d-8251-de5cd6ab41f6');\n",
              "var x = new MutationObserver(function (mutations, observer) {{\n",
              "        var display = window.getComputedStyle(gd).display;\n",
              "        if (!display || display === 'none') {{\n",
              "            console.log([gd, 'removed!']);\n",
              "            Plotly.purge(gd);\n",
              "            observer.disconnect();\n",
              "        }}\n",
              "}});\n",
              "\n",
              "// Listen for the removal of the full notebook cells\n",
              "var notebookContainer = gd.closest('#notebook-container');\n",
              "if (notebookContainer) {{\n",
              "    x.observe(notebookContainer, {childList: true});\n",
              "}}\n",
              "\n",
              "// Listen for the clearing of the current output cell\n",
              "var outputEl = gd.closest('.output');\n",
              "if (outputEl) {{\n",
              "    x.observe(outputEl, {childList: true});\n",
              "}}\n",
              "\n",
              "                        })                };                            </script>        </div>\n",
              "</body>\n",
              "</html>"
            ]
          },
          "metadata": {}
        }
      ]
    },
    {
      "cell_type": "code",
      "source": [
        "fig = px.box(rfm, x=\"Clusterlabels\", y=\"Recency\",color=\"Clusterlabels\")\n",
        "fig.show()"
      ],
      "metadata": {
        "colab": {
          "base_uri": "https://localhost:8080/",
          "height": 542
        },
        "id": "WzvKHUksPUal",
        "outputId": "27564d8d-d14a-40c2-ac69-426bc286cbab"
      },
      "execution_count": 44,
      "outputs": [
        {
          "output_type": "display_data",
          "data": {
            "text/html": [
              "<html>\n",
              "<head><meta charset=\"utf-8\" /></head>\n",
              "<body>\n",
              "    <div>            <script src=\"https://cdnjs.cloudflare.com/ajax/libs/mathjax/2.7.5/MathJax.js?config=TeX-AMS-MML_SVG\"></script><script type=\"text/javascript\">if (window.MathJax) {MathJax.Hub.Config({SVG: {font: \"STIX-Web\"}});}</script>                <script type=\"text/javascript\">window.PlotlyConfig = {MathJaxConfig: 'local'};</script>\n",
              "        <script src=\"https://cdn.plot.ly/plotly-2.8.3.min.js\"></script>                <div id=\"ab77ec1c-ca70-459e-8a51-9448fa8f7daf\" class=\"plotly-graph-div\" style=\"height:525px; width:100%;\"></div>            <script type=\"text/javascript\">                                    window.PLOTLYENV=window.PLOTLYENV || {};                                    if (document.getElementById(\"ab77ec1c-ca70-459e-8a51-9448fa8f7daf\")) {                    Plotly.newPlot(                        \"ab77ec1c-ca70-459e-8a51-9448fa8f7daf\",                        [{\"alignmentgroup\":\"True\",\"hovertemplate\":\"Clusterlabels=%{x}<br>Recency=%{y}<extra></extra>\",\"legendgroup\":\"0\",\"marker\":{\"color\":\"#636efa\"},\"name\":\"0\",\"notched\":false,\"offsetgroup\":\"0\",\"orientation\":\"v\",\"showlegend\":true,\"x\":[0,0,0,0,0,0,0,0,0,0,0,0,0,0,0,0,0,0,0,0,0,0,0,0,0,0,0,0,0,0,0,0,0,0,0,0,0,0,0,0,0,0,0,0,0,0,0,0,0,0,0,0,0,0,0,0,0,0,0,0,0,0,0,0,0,0,0,0,0,0,0,0,0,0,0,0,0,0,0,0,0,0,0,0,0,0,0,0,0,0,0,0,0,0,0,0,0,0,0,0,0,0,0,0,0,0,0,0,0,0,0,0,0,0,0,0,0,0,0,0,0,0,0,0,0,0,0,0,0,0,0,0,0,0,0,0,0,0,0,0,0,0,0,0,0,0,0,0,0,0,0,0,0,0,0,0,0,0,0,0,0,0,0,0,0,0,0,0,0,0,0,0,0,0,0,0,0,0,0,0,0,0,0,0,0,0,0,0,0,0,0,0,0,0,0,0,0,0,0,0,0,0,0,0,0,0,0,0,0,0,0,0,0,0,0,0,0,0,0,0,0,0,0,0,0,0,0,0,0,0,0,0,0,0,0,0,0,0,0,0,0,0,0,0,0,0,0,0,0,0,0,0,0,0,0,0,0,0,0,0,0,0,0,0,0,0,0,0,0,0,0,0,0,0,0,0,0,0,0,0,0,0,0,0,0,0,0,0,0,0,0,0,0,0,0,0,0,0,0,0,0,0,0,0,0,0,0,0,0,0,0,0,0,0,0,0,0,0,0,0,0,0,0,0,0,0,0,0,0,0,0,0,0,0,0,0,0,0,0,0,0,0,0,0,0,0,0,0,0,0,0,0,0,0,0,0,0,0,0,0,0,0,0,0,0,0,0,0,0,0,0,0,0,0,0,0,0,0,0,0,0,0,0,0,0,0,0,0,0,0,0,0,0,0,0,0,0,0,0,0,0,0,0,0,0,0,0,0,0,0,0,0,0,0,0,0,0,0,0,0,0,0,0,0,0,0,0,0,0,0,0,0,0,0,0,0,0,0,0,0,0,0,0,0,0,0,0,0,0,0,0,0,0,0,0,0,0,0,0,0,0,0,0,0,0,0,0,0,0,0,0,0,0,0,0,0,0,0,0,0,0,0,0,0,0,0,0,0,0,0,0,0,0,0,0,0,0,0,0,0,0,0,0,0,0,0,0,0,0,0,0,0,0,0,0,0,0,0,0,0,0,0,0,0,0,0,0,0,0,0,0,0,0,0,0,0,0,0,0,0,0,0,0,0,0,0,0,0,0,0,0,0,0,0,0,0,0,0,0,0,0,0,0,0,0,0,0,0,0,0,0,0,0,0,0,0,0,0,0,0,0,0,0,0,0,0,0,0,0,0,0,0,0,0,0,0,0,0,0,0,0,0,0,0,0,0,0,0,0,0,0,0,0,0,0,0,0,0,0,0,0,0,0,0,0,0,0,0,0,0,0,0,0,0,0,0,0,0,0,0,0,0,0,0,0,0,0,0,0,0,0,0,0,0,0,0,0,0,0,0,0,0,0,0,0,0,0,0,0,0,0,0,0,0,0,0,0,0,0,0,0,0,0,0,0,0,0,0,0,0,0,0,0,0,0,0,0,0,0,0,0,0,0,0,0,0,0,0,0,0,0,0,0,0,0,0,0,0,0,0,0,0,0,0,0,0,0,0,0,0,0,0,0,0,0,0,0,0,0,0,0,0,0,0,0,0,0,0,0,0,0,0,0,0,0,0,0,0,0,0,0,0,0,0,0,0,0,0,0,0,0,0,0,0,0,0,0,0,0,0,0,0,0,0,0,0,0,0,0,0,0,0,0,0,0,0,0,0,0,0,0,0,0,0,0,0,0,0,0,0,0,0,0,0,0,0,0,0,0,0,0,0,0,0,0,0,0,0,0,0,0,0,0,0,0,0,0,0,0,0,0,0,0,0,0,0,0,0,0,0,0,0,0,0,0,0,0,0,0,0,0,0,0,0,0,0,0,0,0,0,0,0,0,0,0,0,0,0,0,0,0,0,0,0,0,0,0,0,0,0,0,0,0,0,0,0,0,0,0,0,0,0,0,0,0,0,0,0,0,0,0,0,0,0,0,0,0,0,0,0,0,0,0,0,0,0,0,0,0,0,0,0,0,0,0,0,0,0,0,0,0,0,0,0,0,0,0,0,0,0,0,0,0,0,0,0,0,0,0,0,0,0,0,0,0,0,0,0,0,0,0,0,0,0,0,0,0,0,0,0,0,0,0,0,0,0,0,0,0,0,0,0,0,0,0,0,0,0,0,0,0,0,0,0,0,0,0,0,0,0,0,0,0,0,0,0,0,0,0,0,0,0,0,0,0,0,0,0,0,0,0,0,0,0,0,0,0,0,0,0,0,0,0,0,0,0,0,0,0,0,0,0,0,0,0,0,0,0,0,0,0,0,0,0,0,0,0,0,0,0,0,0,0,0,0,0,0,0,0,0,0,0,0,0,0,0,0,0,0,0,0,0,0,0,0,0,0,0,0,0,0,0,0,0,0,0,0,0,0,0,0,0,0,0,0,0,0,0,0,0,0,0,0,0,0,0,0,0,0,0,0,0,0,0,0,0,0,0,0,0,0,0,0,0,0,0,0,0,0,0,0,0,0,0,0,0,0,0,0,0,0,0,0,0,0,0,0,0,0,0,0,0,0,0,0,0,0,0,0,0,0,0,0,0,0,0,0,0,0,0,0,0,0,0,0,0,0,0,0,0,0,0,0,0,0,0,0,0,0,0,0,0,0,0,0,0,0,0,0,0,0,0,0,0,0,0,0,0,0,0,0,0,0,0,0,0,0,0,0,0,0,0,0,0,0,0,0,0,0,0,0,0,0,0,0,0,0,0,0,0,0,0,0,0,0,0,0,0,0,0,0,0,0,0,0,0,0,0,0,0,0,0,0,0,0,0,0,0,0,0,0,0,0,0,0,0,0,0,0,0,0,0,0,0,0,0,0,0,0,0,0,0,0,0,0,0,0,0,0,0,0,0,0,0,0,0,0,0,0,0,0,0,0,0,0,0,0,0,0,0,0,0,0,0,0,0,0,0,0,0,0,0,0,0,0,0,0,0,0,0,0,0,0,0,0,0,0,0,0,0,0,0,0,0,0,0,0,0,0,0,0,0,0,0,0,0,0,0,0,0,0,0,0,0,0,0,0,0,0,0,0,0,0,0,0,0,0,0,0,0,0,0,0,0,0,0,0,0,0,0,0,0,0,0,0,0,0,0,0,0,0,0,0,0,0,0,0,0,0,0,0,0,0,0,0,0,0,0,0,0,0,0,0,0,0,0,0,0,0,0,0,0,0,0,0,0,0,0,0,0,0,0,0,0,0,0,0,0,0,0,0,0,0,0,0,0,0,0,0,0,0,0,0,0,0,0,0,0,0,0,0,0,0,0,0,0,0,0,0,0,0,0,0,0,0,0,0,0,0,0,0,0,0,0,0,0,0,0,0,0,0,0,0,0,0,0,0,0,0,0,0,0,0,0,0,0,0,0,0,0,0,0,0,0,0,0,0,0,0,0,0,0,0,0,0,0,0,0,0,0,0,0,0,0,0,0,0,0,0,0,0,0,0,0,0,0,0,0,0,0,0,0,0,0,0,0,0,0,0,0,0,0,0,0,0,0,0,0,0,0,0,0,0,0,0,0,0,0,0,0,0,0,0,0,0,0,0,0,0,0,0,0,0,0,0,0,0,0,0,0,0,0,0,0,0,0,0,0,0,0,0,0,0,0,0,0,0,0,0,0,0,0,0,0,0,0,0,0,0,0,0,0,0,0,0,0,0,0,0,0,0,0,0,0,0,0,0,0,0,0,0,0,0,0,0,0,0,0,0,0,0,0,0,0,0,0,0,0,0,0,0,0,0,0,0,0,0,0,0,0,0,0,0,0,0,0,0,0,0,0,0,0,0,0,0,0,0,0,0,0,0,0,0,0,0,0,0,0,0,0,0,0,0,0,0,0,0,0,0,0,0,0,0,0,0,0,0,0,0,0,0,0,0,0,0,0,0,0,0,0,0,0,0,0,0,0,0,0,0,0,0,0,0,0,0,0,0,0,0,0,0,0,0,0,0,0,0,0,0,0,0,0,0,0,0,0,0,0,0,0,0,0,0,0,0,0,0,0,0,0,0,0,0,0,0,0,0,0,0,0,0,0,0,0,0,0,0,0,0,0,0,0,0,0,0,0,0,0,0,0,0,0,0,0,0,0,0,0,0,0,0,0,0,0,0,0,0,0,0,0,0,0,0,0,0,0,0,0,0,0,0,0,0,0,0,0,0,0,0,0,0,0,0,0,0,0,0,0,0,0,0,0,0,0,0,0,0,0,0,0,0,0,0,0,0,0,0,0,0,0,0,0,0,0,0,0,0,0,0,0,0,0,0,0,0,0,0,0,0,0,0,0,0,0,0,0,0,0,0,0,0,0,0,0,0,0,0,0,0,0,0,0,0,0,0,0,0,0,0,0,0,0,0,0,0,0,0,0,0,0,0,0,0,0,0,0,0,0,0,0,0,0,0,0,0,0,0,0,0,0,0,0,0,0,0,0,0,0,0,0,0,0,0,0,0,0,0,0,0,0,0,0,0,0,0,0,0,0,0,0,0,0,0,0,0,0,0,0,0,0,0,0,0,0,0,0,0,0,0,0,0,0,0,0,0,0,0,0,0,0,0,0,0,0,0,0,0,0,0,0,0,0,0,0,0,0,0,0,0,0,0,0,0,0,0,0,0,0,0,0,0,0,0,0,0,0,0,0,0,0,0,0,0,0,0,0,0,0,0,0,0,0,0,0,0,0,0,0,0,0,0,0,0,0,0,0,0,0,0,0,0,0,0,0,0,0,0,0,0,0,0,0,0,0,0,0,0,0,0,0,0,0,0,0,0,0,0,0,0,0,0,0,0,0,0,0,0,0,0,0,0,0,0,0,0,0,0,0,0,0,0,0,0,0,0,0,0,0,0,0,0,0,0,0,0,0,0,0,0,0,0,0,0,0,0,0,0,0,0,0,0,0,0,0,0,0,0,0,0,0,0,0,0,0,0,0,0,0,0,0,0,0,0,0,0,0,0,0,0,0,0,0,0,0,0,0,0,0,0,0,0,0,0,0,0,0,0,0,0,0,0,0,0,0,0,0,0,0,0,0,0,0,0,0,0,0,0,0,0,0,0,0,0,0,0,0,0,0,0,0,0,0,0,0,0,0,0,0,0,0,0,0,0,0,0,0,0,0,0,0,0,0,0,0,0,0,0,0,0,0,0,0,0,0,0,0,0,0,0,0,0,0,0,0,0,0,0,0,0,0,0,0,0,0,0,0,0,0,0,0,0,0,0,0,0,0,0,0,0,0,0,0,0,0,0,0,0,0,0,0,0,0,0,0,0,0,0,0,0,0,0,0,0,0,0,0,0,0,0,0,0,0,0,0,0,0,0,0,0,0,0,0,0,0,0,0,0,0,0,0,0,0,0,0,0,0,0,0,0,0,0,0,0,0,0,0,0,0,0,0,0,0,0,0,0,0,0,0,0,0,0,0,0,0,0,0,0,0,0,0,0,0,0,0,0,0,0,0,0,0,0,0,0,0,0,0,0,0,0,0,0,0,0,0,0,0,0,0,0,0,0,0,0,0,0,0,0,0,0,0,0,0,0,0,0,0,0,0,0,0,0,0,0,0,0,0,0,0,0,0,0,0,0,0,0,0,0,0,0,0,0,0,0,0,0,0,0,0,0,0,0,0,0,0,0,0,0,0,0,0,0,0,0,0,0,0,0,0,0,0,0,0,0,0,0,0,0,0,0,0,0,0,0,0,0,0,0,0,0,0,0,0,0,0,0,0,0,0,0,0,0,0,0,0,0,0,0,0,0,0,0,0,0,0,0,0,0,0,0,0,0,0,0,0,0,0,0,0,0,0,0,0,0,0,0,0,0,0,0,0,0,0,0,0,0,0,0,0,0,0,0,0,0,0,0,0,0,0,0,0,0,0,0,0,0,0,0,0,0,0,0,0,0,0,0,0,0,0,0,0,0,0,0,0,0,0,0,0,0,0,0,0,0,0,0,0,0,0,0,0,0,0,0,0,0,0,0,0,0,0,0,0,0,0,0,0,0,0,0,0,0,0,0,0,0,0,0,0,0,0,0,0,0,0,0,0,0,0,0,0,0,0,0,0,0,0,0,0,0,0,0,0,0,0,0,0,0,0,0,0,0,0,0,0,0,0,0,0,0,0,0,0,0,0,0,0,0,0,0,0,0,0,0,0,0,0,0,0,0,0,0,0,0,0,0,0,0,0,0,0,0,0,0,0,0,0,0,0,0,0,0,0,0,0,0,0,0,0,0,0,0,0,0,0,0,0,0,0,0,0,0,0,0,0,0,0,0,0,0,0,0,0,0,0,0,0,0,0,0,0,0,0,0,0,0,0,0,0,0,0,0,0,0,0,0,0,0,0,0,0,0,0,0,0,0,0,0,0,0,0,0,0,0,0,0,0,0,0,0,0,0,0,0,0,0,0,0,0,0,0,0,0,0,0,0,0,0,0,0,0,0,0,0,0,0,0,0,0,0,0,0,0,0,0,0,0,0,0,0,0,0,0,0,0,0,0,0,0,0,0,0,0,0,0,0,0,0,0,0,0,0,0,0,0,0,0,0,0,0,0,0,0,0,0,0,0,0,0,0,0,0,0,0,0,0,0,0,0,0,0,0,0,0,0,0,0,0,0,0,0,0,0,0,0,0,0,0,0,0,0,0,0,0,0,0,0,0,0,0,0,0,0,0,0,0,0,0,0,0,0,0,0,0,0,0,0,0,0,0,0,0,0,0,0,0,0,0,0,0,0,0,0,0,0,0,0,0,0,0,0,0,0,0,0,0,0,0,0,0,0,0,0,0,0,0,0,0,0,0,0,0,0,0,0,0,0,0,0,0,0,0,0,0,0,0,0,0,0,0,0,0,0,0,0,0,0,0,0,0,0,0,0,0,0,0,0,0,0,0,0,0,0,0,0,0,0,0,0,0,0,0,0,0,0,0,0,0,0,0,0,0,0,0,0,0,0,0,0,0,0,0,0,0,0,0,0,0,0,0,0,0,0,0,0,0,0,0,0,0,0,0,0,0,0,0,0,0,0,0,0,0,0,0,0,0,0,0,0,0,0,0,0,0,0,0,0,0,0,0,0,0,0,0,0,0,0,0,0,0,0,0,0,0,0,0,0,0,0,0,0,0,0,0,0,0,0,0,0,0,0,0,0,0,0,0,0,0,0,0,0,0,0,0,0,0,0,0,0,0,0,0,0,0,0,0,0,0,0,0,0,0,0,0,0,0,0,0,0,0,0,0,0,0,0,0,0,0,0,0,0,0,0,0,0,0,0,0,0,0,0,0,0,0,0,0,0,0,0,0,0,0,0,0,0,0,0,0,0,0,0,0,0,0,0,0,0,0,0,0,0,0,0,0,0,0,0,0,0,0,0,0,0,0,0,0,0,0,0,0,0,0,0,0,0,0,0,0,0,0,0,0,0,0,0,0,0,0,0,0,0,0,0,0,0,0,0,0,0,0,0,0,0,0,0,0,0,0,0,0,0,0,0,0,0,0,0,0,0,0,0,0,0,0,0,0,0,0,0,0,0,0,0,0,0,0,0,0,0,0,0,0,0,0,0,0,0,0,0,0,0,0,0,0,0,0,0,0,0,0,0,0,0,0,0,0,0,0,0,0,0,0,0,0,0,0,0,0,0,0,0,0,0,0,0,0,0,0,0,0,0,0,0,0,0,0,0,0,0,0,0,0,0,0,0,0,0,0,0,0,0,0,0,0,0,0,0,0,0,0,0,0,0,0,0,0,0,0,0,0,0,0,0,0,0,0,0,0,0,0,0,0,0,0,0,0,0,0,0,0,0,0,0,0,0,0,0,0,0,0,0,0,0,0,0,0,0,0,0,0,0,0,0,0,0,0,0,0,0,0,0,0,0,0,0,0,0,0,0,0,0,0,0,0,0,0,0,0,0,0,0,0,0,0,0,0,0,0,0,0,0,0,0,0,0,0,0,0,0,0,0,0,0,0,0,0,0,0,0,0,0,0,0,0,0,0,0,0,0,0,0,0,0,0,0,0,0,0,0,0,0,0,0,0,0,0,0,0,0,0,0,0,0,0,0,0,0,0,0,0,0,0,0,0,0,0,0,0,0,0,0,0,0,0,0,0,0,0,0,0,0,0,0,0,0,0,0,0,0,0,0,0,0,0,0,0,0,0,0,0,0,0,0,0,0,0,0,0,0,0,0,0,0,0,0,0,0,0,0,0,0,0,0,0,0,0,0,0,0,0,0,0,0,0,0,0,0,0,0,0,0,0,0,0,0,0,0,0,0,0,0,0,0,0,0,0,0,0,0,0,0,0,0,0,0,0,0,0,0,0,0,0,0,0,0,0,0,0,0,0,0,0,0,0,0,0,0,0,0,0,0,0,0,0,0,0,0,0,0,0,0,0,0,0,0,0,0,0,0,0,0,0,0,0,0,0,0,0,0,0,0,0,0,0,0,0,0,0,0,0,0,0,0,0,0,0,0,0,0,0,0,0,0,0,0,0,0,0,0,0,0,0,0,0,0,0,0,0,0,0,0,0,0,0,0,0,0,0,0,0,0,0,0,0,0,0,0,0,0,0,0,0,0,0,0,0,0,0,0,0,0,0,0,0,0,0,0,0,0,0,0,0,0,0,0,0,0,0,0,0,0,0,0,0,0,0,0,0,0,0,0,0,0,0,0,0,0,0,0,0,0,0,0,0,0,0,0,0,0,0,0,0,0,0,0,0,0,0,0,0,0,0,0,0,0,0,0,0,0,0,0,0,0,0,0,0,0,0,0,0,0,0,0,0,0,0,0,0,0,0,0,0,0,0,0,0,0,0,0,0,0,0,0,0,0,0,0,0,0,0,0,0,0,0,0,0,0,0,0,0,0,0,0,0,0,0,0],\"x0\":\" \",\"xaxis\":\"x\",\"y\":[325,1,74,18,309,35,203,231,213,22,1,51,286,109,7,290,3,50,44,71,310,24,2,314,129,81,21,4,184,28,337,15,79,21,71,63,15,35,45,118,302,322,49,148,21,49,32,300,74,66,216,2,112,63,15,95,0,162,77,194,11,8,42,42,84,99,1,13,366,2,20,21,57,242,43,21,155,16,133,52,72,43,57,70,93,1,45,9,7,142,28,53,3,3,27,22,16,9,335,38,62,165,9,81,20,22,314,95,337,17,300,232,133,25,283,142,65,84,266,352,77,0,63,78,142,38,1,8,0,81,8,59,14,29,130,91,28,29,29,74,46,197,165,78,357,38,7,49,1,310,4,302,7,260,281,72,1,39,8,226,315,35,34,20,72,246,39,238,3,233,16,7,38,28,316,91,108,37,50,18,9,28,28,189,58,21,78,364,57,77,22,51,57,30,277,1,84,28,21,15,14,231,275,105,211,10,3,9,56,58,89,32,238,23,114,24,127,129,33,4,21,154,106,2,334,321,148,10,16,10,18,29,10,0,7,324,358,57,6,150,9,329,4,11,24,51,0,7,27,371,113,25,205,27,120,69,6,20,79,19,63,6,291,29,96,22,0,105,3,150,70,4,31,84,3,4,370,27,10,70,113,179,233,352,314,332,371,77,63,133,1,3,128,80,235,249,86,116,51,7,137,316,238,210,59,16,19,20,20,4,1,8,2,9,64,191,373,256,334,52,18,359,183,36,167,260,44,101,147,95,280,177,2,213,70,74,59,2,5,2,321,261,31,144,282,58,172,33,143,69,65,28,266,21,30,96,289,107,78,372,210,51,137,25,282,185,365,83,326,281,142,57,3,17,44,275,8,24,87,62,67,213,23,185,30,41,204,264,17,11,58,39,22,2,4,148,138,127,7,16,160,63,87,4,34,121,77,23,1,16,14,25,45,130,300,35,287,143,15,30,1,8,5,9,0,305,3,6,7,88,9,2,111,6,197,211,155,29,239,18,0,73,291,30,22,22,3,77,21,195,106,317,105,173,55,322,371,8,0,2,52,72,6,3,63,0,22,30,10,38,356,54,57,137,79,8,253,290,98,30,31,13,63,211,63,24,249,253,71,190,12,372,23,81,9,191,266,129,0,3,178,125,3,157,20,70,20,70,98,233,39,2,128,43,372,2,30,8,116,21,19,238,268,93,89,4,77,93,22,261,273,72,196,49,21,15,107,84,18,332,39,25,9,13,202,5,143,32,48,94,8,21,312,121,45,281,18,35,63,26,7,3,45,64,44,7,14,267,39,336,10,18,94,60,135,10,9,18,9,14,58,93,9,8,56,267,121,126,77,239,199,59,272,201,80,225,12,73,211,24,10,261,95,111,202,92,50,17,17,124,91,156,3,13,11,61,60,268,262,52,10,2,365,36,30,112,63,15,40,63,121,17,59,322,22,155,38,189,359,136,7,0,267,164,103,154,350,3,119,22,6,8,3,21,1,36,63,0,69,71,16,2,81,38,315,31,92,13,81,76,153,200,260,172,67,276,69,63,10,15,65,7,70,121,79,256,268,58,2,17,66,8,49,256,353,365,89,60,80,98,25,20,280,30,329,120,10,74,203,1,184,21,72,191,126,17,0,73,8,106,133,43,4,63,134,39,50,107,0,18,9,10,18,66,73,4,1,13,254,91,22,16,23,26,258,165,24,17,28,38,182,57,99,10,98,60,235,190,178,37,197,45,231,65,240,232,77,57,104,51,135,274,311,7,10,282,17,22,242,16,70,63,67,311,2,243,8,0,260,126,73,72,20,59,85,49,58,29,32,40,14,33,78,204,33,182,0,42,85,39,11,95,25,318,65,73,27,5,6,215,81,83,143,18,40,172,16,242,205,49,22,24,14,308,155,306,31,15,14,10,64,35,107,52,5,46,311,44,64,25,28,39,11,88,23,312,39,173,116,30,252,58,4,99,24,32,67,36,51,15,73,215,30,8,119,9,256,16,34,45,42,113,164,10,9,196,85,178,59,148,50,74,300,18,150,151,0,17,186,285,2,182,62,58,24,324,30,38,154,25,317,4,7,302,266,270,31,218,246,280,268,31,245,14,116,35,119,216,49,38,28,36,135,218,27,24,4,199,17,240,71,2,94,150,373,95,53,287,123,287,151,1,11,32,53,49,203,62,70,1,63,33,81,102,6,250,12,9,366,75,3,42,65,116,309,66,137,254,30,51,63,366,5,304,28,183,41,39,55,21,23,28,301,144,5,18,32,157,57,21,358,15,17,158,24,211,5,252,58,10,64,24,91,51,87,95,8,168,56,325,0,17,244,57,73,30,6,1,119,357,53,63,85,54,20,2,0,6,188,70,203,119,92,0,26,297,21,20,49,325,15,182,71,36,79,56,3,49,49,52,351,53,1,35,22,74,10,168,57,85,294,108,263,170,168,34,22,16,21,78,64,360,2,10,175,210,6,1,153,4,371,78,20,21,307,145,8,70,286,48,206,14,72,59,38,29,26,16,19,65,212,11,29,31,3,14,9,205,45,133,42,9,115,197,277,109,76,52,153,46,16,154,224,6,121,60,62,17,1,21,28,284,175,77,32,40,265,26,108,283,8,276,31,19,123,64,105,266,28,266,63,319,20,4,128,40,101,124,32,266,364,3,2,56,324,7,11,36,15,137,4,154,84,51,30,22,3,13,22,3,273,19,143,353,3,83,10,7,122,60,1,318,1,129,1,1,45,3,2,372,133,46,8,48,233,212,35,74,238,265,19,39,215,173,86,70,275,38,97,10,32,50,296,84,40,66,330,8,67,201,106,3,217,59,1,10,238,94,10,90,52,89,371,30,11,2,1,42,3,246,41,176,91,109,28,25,51,178,31,43,21,9,80,372,325,42,29,183,234,8,175,110,277,317,6,1,253,50,141,50,7,154,108,150,331,225,73,50,87,14,196,2,30,20,7,211,8,10,1,7,2,39,17,7,18,107,222,70,50,88,7,224,46,106,20,64,206,10,114,234,162,123,22,63,16,15,16,157,234,218,44,20,126,38,120,259,9,270,164,156,214,5,365,59,42,18,31,21,108,319,294,357,184,190,43,51,25,37,8,296,32,8,8,217,64,0,140,3,129,33,118,106,10,70,15,310,34,361,91,21,3,10,84,56,0,217,17,49,6,298,21,98,142,305,319,7,0,1,53,0,18,8,18,180,59,10,189,310,154,109,147,63,97,246,28,17,11,103,73,42,71,256,19,253,10,164,17,149,49,38,26,50,206,174,6,25,50,311,300,42,25,87,63,2,46,23,21,10,187,100,60,17,32,63,1,23,107,31,36,59,25,235,24,259,57,64,15,9,58,185,3,23,150,310,10,17,151,18,9,56,63,6,75,95,110,34,0,280,179,371,12,2,16,40,168,49,226,371,14,34,21,6,19,10,43,305,10,274,3,71,242,8,238,203,0,184,31,56,184,8,311,90,3,50,262,265,35,50,51,15,21,58,169,8,156,200,4,66,76,0,3,168,17,4,86,26,28,19,60,23,241,279,234,2,15,30,371,70,187,106,208,43,30,136,264,3,217,1,213,31,14,198,2,14,13,28,23,24,42,1,5,146,9,24,273,373,46,7,3,38,1,190,11,15,112,247,28,43,86,44,9,14,74,144,4,293,58,263,43,28,7,16,231,111,57,50,3,126,280,54,319,25,9,6,28,16,63,3,2,165,52,50,60,161,8,14,74,39,40,369,36,196,199,73,63,20,366,179,9,3,196,28,52,17,9,89,267,52,34,63,148,311,22,57,8,77,118,35,59,12,8,51,25,28,6,185,2,3,261,2,209,8,12,76,19,26,18,131,252,78,206,335,253,147,9,84,204,7,22,10,20,1,153,2,73,2,16,35,85,70,115,212,29,50,245,31,108,4,365,72,296,56,29,13,71,22,8,78,24,11,252,146,58,7,270,9,246,95,14,49,29,67,34,127,106,36,56,56,71,245,18,197,15,211,38,45,169,47,115,146,50,158,11,35,53,42,172,33,38,266,11,9,32,79,30,7,71,3,255,89,71,42,169,198,30,151,8,269,64,273,24,22,318,4,11,274,40,7,70,212,37,31,77,45,178,372,93,9,104,77,172,212,21,256,281,20,9,307,53,214,17,103,42,3,181,83,329,8,30,166,17,17,310,141,240,23,28,9,29,17,17,14,133,245,129,49,84,6,22,65,59,49,169,17,127,14,232,2,239,51,45,225,3,164,218,10,133,30,73,0,3,44,356,17,68,372,320,25,324,8,322,71,259,17,366,65,153,28,69,13,1,119,60,2,8,91,58,78,25,356,84,9,0,224,59,238,318,1,44,87,10,175,51,365,318,225,357,233,310,36,65,238,112,276,217,298,1,28,9,44,66,73,64,133,237,121,35,15,126,66,148,280,168,99,134,323,106,63,150,337,21,23,15,56,3,30,65,46,354,171,58,49,21,42,28,25,200,43,9,1,66,63,289,60,63,95,270,74,109,198,63,326,3,283,43,48,63,103,333,52,34,31,365,207,156,53,65,80,115,86,0,34,332,365,71,157,372,11,254,28,39,361,240,95,25,74,56,20,143,40,136,7,128,39,168,8,213,169,39,185,269,171,4,15,9,325,112,289,15,0,91,148,188,17,33,263,83,25,170,9,312,64,84,24,58,322,37,253,14,26,22,78,7,21,261,130,54,248,8,263,330,312,25,29,29,1,361,282,261,24,353,93,28,337,84,8,34,42,1,112,13,76,39,115,160,0,29,92,22,94,27,20,17,7,362,80,52,22,171,188,330,11,155,11,44,232,63,1,35,32,83,24,1,32,18,253,21,7,24,18,172,162,6,10,113,287,53,76,3,36,216,59,277,23,28,11,351,8,49,18,2,103,11,4,31,177,37,150,161,68,120,24,23,176,49,252,288,46,70,15,100,29,34,26,7,78,51,35,56,336,27,182,51,9,35,32,10,49,3,2,140,116,99,74,4,44,15,16,89,52,300,133,104,178,165,18,157,203,335,36,90,92,8,232,44,22,189,43,24,316,105,50,167,39,217,39,296,18,87,72,80,8,48,52,23,8,17,116,8,119,3,251,27,266,32,17,171,1,264,139,200,59,34,283,8,142,11,145,233,23,11,35,364,200,14,48,197,65,211,282,114,14,18,65,48,15,77,8,133,12,39,304,50,0,60,65,24,217,64,31,80,63,115,5,68,244,132,240,183,24,9,10,29,25,357,9,43,8,149,0,112,75,106,45,142,50,45,49,305,35,78,16,106,207,2,63,48,319,43,2,336,171,50,72,98,28,57,253,69,43,44,64,24,58,63,303,45,17,37,18,186,51,3,136,18,15,40,7,25,21,40,100,276,32,14,62,1,368,311,198,1,92,59,79,156,226,252,149,193,0,368,23,16,9,7,19,3,173,0,177,15,247,190,19,153,172,371,372,193,66,3,20,238,63,111,310,133,276,364,82,7,16,1,0,33,14,23,31,73,19,16,22,2,303,17,235,38,83,164,16,76,88,24,21,122,29,11,18,43,3,54,87,29,11,210,23,21,245,7,34,35,3,2,46,38,1,16,259,45,11,29,42,91,309,91,195,86,269,7,64,30,21,37,119,85,173,53,32,144,220,44,3,65,268,9,259,364,16,21,44,287,291,2,283,16,81,55,100,298,22,58,154,98,106,11,263,239,87,49,8,41,6,61,248,65,17,84,218,142,182,170,205,189,7,58,56,72,51,315,366,38,17,51,21,262,59,367,18,52,87,249,2,246,8,156,133,295,4,38,268,49,8,15,281,63,251,224,16,10,7,50,58,94,15,125,93,49,137,60,72,66,63,16,22,44,15,39,2,236,74,3,2,360,58,22,30,54,24,44,88,80,18,78,170,80,266,234,29,36,317,56,44,202,218,86,189,32,70,40,77,56,7,33,211,23,169,61,52,260,365,31,257,176,44,50,16,360,73,70,352,2,116,372,196,176,22,20,71,339,5,30,169,116,8,9,212,22,107,25,138,213,37,91,17,2,330,63,119,34,217,171,71,0,195,127,43,17,27,36,156,283,106,24,74,15,157,43,10,31,290,20,332,17,62,197,32,0,6,9,31,52,11,17,18,36,1,17,81,32,65,8,266,246,3,60,74,89,59,28,322,52,269,49,60,144,18,94,0,264,301,69,301,18,12,35,18,53,56,21,43,26,44,112,24,190,301,262,80,105,56,212,63,27,28,5,66,1,45,33,0,135,197,190,149,87,44,63,98,217,2,27,177,63,20,19,33,73,23,51,274,164,87,63,24,9,75,15,191,173,76,32,46,72,296,2,8,49,160,359,4,106,24,31,19,296,371,21,4,51,29,276,60,24,185,171,80,3,189,21,18,4,106,2,53,164,290,108,95,242,162,2,34,66,23,20,5,53,363,14,193,2,8,2,126,73,70,364,154,112,373,79,248,231,70,68,3,50,74,60,15,3,276,3,40,30,74,17,218,185,32,69,182,14,235,30,253,3,51,245,80,274,0,78,29,73,16,222,31,22,24,105,4,245,177,169,38,71,15,140,9,367,188,15,361,18,67,14,23,27,54,33,2,365,42,72,4,60,0,75,43,255,68,134,240,226,8,36,45,84,2,218,77,266,8,368,14,25,261,16,90,301,25,363,45,51,31,51,78,52,297,171,46,28,10,24,17,44,30,372,57,371,113,214,318,64,7,96,19,184,293,272,30,47,259,57,32,56,67,9,59,79,73,99,364,9,19,122,7,3,281,56,0,364,88,10,162,64,22,173,102,142,98,22,191,4,360,102,2,10,95,226,15,38,50,92,156,38,183,0,227,127,39,30,196,36,63,49,42,52,186,333,3,9,23,14,365,105,59,28,140,22,21,76,63,11,24,30,66,66,186,37,14,34,194,1,0,366,64,298,25,7,11,115,28,4,81,28,63,22,289,35,8,23,276,49,60,20,370,115,79,3,25,52,0,54,25,8,211,21,235,138,3,56,122,108,29,0,184,8,238,86,38,115,186,226,7,188,3,38,2,266,77,3,254,60,12,16,29,2,4,6,218,10,371,29,287,149,22,0,72,45,4,50,16,29,7,28,40,10,30,44,60,184,78,110,63,11,85,15,245,77,29,137,26,2,31,8,112,156,84,114,193,27,128,27,81,265,73,313,8,58,142,27,113,8,17,17,35,35,77,21,24,32,108,34,122,6,27,3,2,49,317,21,8,1,17,9,261,158,28,164,46,5,7,287,317,2,232,118,161,184,49,151,334,4,15,106,15,275,246,238,0,105,22,51,194,23,74,17,7,31,21,30,28,21,32,283,38,49,288,74,4,217,43,201,177,55,56,7,46,226,10,105,58,27,35,273,29,23,53,35,168,53,52,26,252,39,59,233,31,6,64,309,308,18,15,95,263,2,34,182,24,12,10,312,107,52,204,14,119,3,362,116,17,4,40,106,147,51,207,138,1,126,107,41,34,227,240,57,129,21,25,8,31,3,307,7,28,16,100,11,20,14,360,364,94,77,138,17,24,45,99,7,14,17,279,13,22,123,85,300,93,156,354,45,14,85,14,178,7,35,128,50,311,23,302,10,16,48,238,237,22,72,16,40,39,218,189,70,10,64,3,18,14,7,19,77,163,306,218,21,114,125,4,35,0,329,162,184,15,11,2,43,79,41,10,49,15,44,18,71,120,32,312,17,87,1,1,246,147,28,219,147,176,39,144,0,17,191,203,364,126,14,42,78,22,50,15,157,9,9,15,44,190,78,73,3,64,260,58,0,0,247,7,358,75,289,16,220,8,2,205,161,69,261,280,24,28,71,127,30,14,308,16,53,23,1,10,360,359,0,53,120,53,279,176,29,25,8,269,42,371,217,23,196,358,42,129,0,19,205,13,94,18,13,23,7,6,331,70,28,242,190,4,252,235,6,108,99,59,1,72,3,84,11,213,17,238,49,216,32,40,52,56,129,173,5,311,59,20,32,14,80,5,169,1,30,8,30,275,86,119,372,0,218,64,60,134,20,11,28,276,10,72,10,3,140,25,18,3,65,0,42,227,15,43,0,73,3,263,52,23,9,43,16,357,126,135,141,131,37,235,260,16,252,29,34,168,2,184,187,169,10,44,320,200,231,25,95,126,57,15,8,3,2,78,372,38,53,8,8,18,11,112,3,234,99,177,4,358,0,16,21,32,262,50,158,14,7,198,56,10,96,254,24,20,158,71,52,84,152,73,280,26,29,24,179,39,21,36,81,73,10,15,12,36,3,71,190,50,4,8,298,1,32,49,2,46,41,26,41,302,106,84,80,217,301,11,184,372,1,5,304,368,2,323,58,12,142,29,106,204,79,184,169,43,173,364,303,2,3,11,31,128,18,211,322,161,55,224,71,43,22,172,84,158,164,28,20,70,246,373,8,309,58,3,44,87,63,281,0,372,132,44,10,35,133,28,51,137,4,8,159,48,130,7,232,36,146,71,39,198,248,65,116,170,20,141,31,37,371,373,165,210,241,51,24,371,28,364,35,165,144,21,55,184,11,236,224,121,281,73,36,11,361,3,22,69,234,256,372,154,27,3,31,80,107,51,35,152,98,3,333,64,21,35,31,153,18,53,24,3,44,202,358,65,287,9,8,21,172,132,5,74,39,288,257,154,113,373,22,7,216,44,18,35,25,15,329,273,97,60,92,81,312,11,7,126,10,36,37,329,248,18,11,368,289,25,367,213,148,23,29,60,18,242,8,210,28,62,294,360,150,116,7,12,140,45,50,31,134,2,74,12,8,300,56,9,30,176,3,175,60,32,58,86,6,353,30,113,8,4,23,217,14,248,14,77,191,261,71,150,63,94,3,105,199,156,70,35,28,1,25,325,236,88,30,28,205,2,219,21,92,263,217,49,8,191,81,325,71,29,2,218,45,9,71,6,23,113,16,300,86,50,88,354,38,24,172,42,139,22,71,133,357,37,2,1,17,20,57,73,277,180,7,42],\"y0\":\" \",\"yaxis\":\"y\",\"type\":\"box\"},{\"alignmentgroup\":\"True\",\"hovertemplate\":\"Clusterlabels=%{x}<br>Recency=%{y}<extra></extra>\",\"legendgroup\":\"1\",\"marker\":{\"color\":\"#EF553B\"},\"name\":\"1\",\"notched\":false,\"offsetgroup\":\"1\",\"orientation\":\"v\",\"showlegend\":true,\"x\":[1,1,1,1,1,1,1,1,1,1,1,1,1,1,1,1,1,1,1,1,1,1,1,1,1,1,1,1,1,1,1,1,1,1,1,1,1,1,1,1,1,1,1,1,1,1,1,1,1,1,1,1,1,1,1,1,1,1,1,1,1,1,1,1,1,1,1,1,1,1,1,1,1,1,1,1,1,1,1,1,1,1,1,1,1,1,1,1,1,1,1,1,1,1,1,1,1,1,1,1,1,1,1,1,1,1,1,1,1,1,1,1,1,1,1,1,1,1,1,1,1,1,1,1,1,1,1,1,1,1,1,1,1,1,1,1,1,1,1,1,1,1,1,1,1,1,1,1,1,1,1,1,1,1,1,1,1,1,1,1,1,1,1,1,1,1,1,1,1,1,1,1,1,1,1,1,1,1,1,1,1,1,1,1,1,1,1,1,1,1,1,1,1,1,1,1,1,1,1,1,1,1,1,1,1,1,1,1,1,1,1,1,1,1,1,1,1,1,1,1,1,1,1,1,1,1,1,1,1,1,1,1,1,1,1,1,1,1,1,1,1,1,1,1,1,1,1,1,1,1,1,1,1,1,1,1,1,1,1,1,1,1,1,1,1,1,1,1,1,1,1,1,1,1,1,1,1,1,1,1,1,1,1,1],\"x0\":\" \",\"xaxis\":\"x\",\"y\":[32,7,2,78,25,35,79,10,30,16,0,32,4,27,7,21,15,22,2,189,22,66,3,7,14,2,8,2,51,15,3,9,37,2,4,7,25,63,155,2,11,15,113,8,0,8,266,32,0,10,28,15,25,3,29,2,3,17,0,31,44,11,25,1,0,16,0,1,12,9,0,22,2,3,16,3,8,122,22,30,3,16,23,4,9,3,1,73,8,10,1,1,8,23,8,9,1,0,18,9,19,16,8,2,58,3,3,3,2,5,18,15,8,25,7,10,0,10,9,8,0,8,3,47,21,20,8,45,10,8,2,4,15,18,24,6,24,7,16,9,2,31,8,6,4,50,30,14,18,32,11,1,19,15,32,15,22,8,6,6,10,0,40,16,2,39,43,0,22,11,4,89,2,8,36,2,47,39,44,9,28,1,99,71,31,9,7,16,8,5,13,3,4,1,1,7,6,1,1,17,0,14,53,17,21,16,1,46,8,18,8,86,4,3,28,7,13,4,3,3,155,51,12,77,2,2,95,29,11,3,23,11,2,0,59,10,0,150,3,0,12,23,38,29,3,1,57,0,0,49,7,22,1,3,22,17,35,24,6,29,22,37,18,12,21,13,1,3,4,37,14,11,6,25,1,1,67,7,16,14,1,2,38,11],\"y0\":\" \",\"yaxis\":\"y\",\"type\":\"box\"},{\"alignmentgroup\":\"True\",\"hovertemplate\":\"Clusterlabels=%{x}<br>Recency=%{y}<extra></extra>\",\"legendgroup\":\"2\",\"marker\":{\"color\":\"#00cc96\"},\"name\":\"2\",\"notched\":false,\"offsetgroup\":\"2\",\"orientation\":\"v\",\"showlegend\":true,\"x\":[2,2,2,2,2,2,2,2,2,2,2,2,2,2,2,2,2,2,2,2,2,2,2,2,2,2,2,2,2,2,2,2,2],\"x0\":\" \",\"xaxis\":\"x\",\"y\":[0,22,19,1,14,3,3,3,0,0,4,6,6,4,7,10,7,4,0,9,3,18,35,1,42,11,32,15,8,0,3,1,30],\"y0\":\" \",\"yaxis\":\"y\",\"type\":\"box\"}],                        {\"template\":{\"data\":{\"bar\":[{\"error_x\":{\"color\":\"#2a3f5f\"},\"error_y\":{\"color\":\"#2a3f5f\"},\"marker\":{\"line\":{\"color\":\"#E5ECF6\",\"width\":0.5},\"pattern\":{\"fillmode\":\"overlay\",\"size\":10,\"solidity\":0.2}},\"type\":\"bar\"}],\"barpolar\":[{\"marker\":{\"line\":{\"color\":\"#E5ECF6\",\"width\":0.5},\"pattern\":{\"fillmode\":\"overlay\",\"size\":10,\"solidity\":0.2}},\"type\":\"barpolar\"}],\"carpet\":[{\"aaxis\":{\"endlinecolor\":\"#2a3f5f\",\"gridcolor\":\"white\",\"linecolor\":\"white\",\"minorgridcolor\":\"white\",\"startlinecolor\":\"#2a3f5f\"},\"baxis\":{\"endlinecolor\":\"#2a3f5f\",\"gridcolor\":\"white\",\"linecolor\":\"white\",\"minorgridcolor\":\"white\",\"startlinecolor\":\"#2a3f5f\"},\"type\":\"carpet\"}],\"choropleth\":[{\"colorbar\":{\"outlinewidth\":0,\"ticks\":\"\"},\"type\":\"choropleth\"}],\"contour\":[{\"colorbar\":{\"outlinewidth\":0,\"ticks\":\"\"},\"colorscale\":[[0.0,\"#0d0887\"],[0.1111111111111111,\"#46039f\"],[0.2222222222222222,\"#7201a8\"],[0.3333333333333333,\"#9c179e\"],[0.4444444444444444,\"#bd3786\"],[0.5555555555555556,\"#d8576b\"],[0.6666666666666666,\"#ed7953\"],[0.7777777777777778,\"#fb9f3a\"],[0.8888888888888888,\"#fdca26\"],[1.0,\"#f0f921\"]],\"type\":\"contour\"}],\"contourcarpet\":[{\"colorbar\":{\"outlinewidth\":0,\"ticks\":\"\"},\"type\":\"contourcarpet\"}],\"heatmap\":[{\"colorbar\":{\"outlinewidth\":0,\"ticks\":\"\"},\"colorscale\":[[0.0,\"#0d0887\"],[0.1111111111111111,\"#46039f\"],[0.2222222222222222,\"#7201a8\"],[0.3333333333333333,\"#9c179e\"],[0.4444444444444444,\"#bd3786\"],[0.5555555555555556,\"#d8576b\"],[0.6666666666666666,\"#ed7953\"],[0.7777777777777778,\"#fb9f3a\"],[0.8888888888888888,\"#fdca26\"],[1.0,\"#f0f921\"]],\"type\":\"heatmap\"}],\"heatmapgl\":[{\"colorbar\":{\"outlinewidth\":0,\"ticks\":\"\"},\"colorscale\":[[0.0,\"#0d0887\"],[0.1111111111111111,\"#46039f\"],[0.2222222222222222,\"#7201a8\"],[0.3333333333333333,\"#9c179e\"],[0.4444444444444444,\"#bd3786\"],[0.5555555555555556,\"#d8576b\"],[0.6666666666666666,\"#ed7953\"],[0.7777777777777778,\"#fb9f3a\"],[0.8888888888888888,\"#fdca26\"],[1.0,\"#f0f921\"]],\"type\":\"heatmapgl\"}],\"histogram\":[{\"marker\":{\"pattern\":{\"fillmode\":\"overlay\",\"size\":10,\"solidity\":0.2}},\"type\":\"histogram\"}],\"histogram2d\":[{\"colorbar\":{\"outlinewidth\":0,\"ticks\":\"\"},\"colorscale\":[[0.0,\"#0d0887\"],[0.1111111111111111,\"#46039f\"],[0.2222222222222222,\"#7201a8\"],[0.3333333333333333,\"#9c179e\"],[0.4444444444444444,\"#bd3786\"],[0.5555555555555556,\"#d8576b\"],[0.6666666666666666,\"#ed7953\"],[0.7777777777777778,\"#fb9f3a\"],[0.8888888888888888,\"#fdca26\"],[1.0,\"#f0f921\"]],\"type\":\"histogram2d\"}],\"histogram2dcontour\":[{\"colorbar\":{\"outlinewidth\":0,\"ticks\":\"\"},\"colorscale\":[[0.0,\"#0d0887\"],[0.1111111111111111,\"#46039f\"],[0.2222222222222222,\"#7201a8\"],[0.3333333333333333,\"#9c179e\"],[0.4444444444444444,\"#bd3786\"],[0.5555555555555556,\"#d8576b\"],[0.6666666666666666,\"#ed7953\"],[0.7777777777777778,\"#fb9f3a\"],[0.8888888888888888,\"#fdca26\"],[1.0,\"#f0f921\"]],\"type\":\"histogram2dcontour\"}],\"mesh3d\":[{\"colorbar\":{\"outlinewidth\":0,\"ticks\":\"\"},\"type\":\"mesh3d\"}],\"parcoords\":[{\"line\":{\"colorbar\":{\"outlinewidth\":0,\"ticks\":\"\"}},\"type\":\"parcoords\"}],\"pie\":[{\"automargin\":true,\"type\":\"pie\"}],\"scatter\":[{\"marker\":{\"colorbar\":{\"outlinewidth\":0,\"ticks\":\"\"}},\"type\":\"scatter\"}],\"scatter3d\":[{\"line\":{\"colorbar\":{\"outlinewidth\":0,\"ticks\":\"\"}},\"marker\":{\"colorbar\":{\"outlinewidth\":0,\"ticks\":\"\"}},\"type\":\"scatter3d\"}],\"scattercarpet\":[{\"marker\":{\"colorbar\":{\"outlinewidth\":0,\"ticks\":\"\"}},\"type\":\"scattercarpet\"}],\"scattergeo\":[{\"marker\":{\"colorbar\":{\"outlinewidth\":0,\"ticks\":\"\"}},\"type\":\"scattergeo\"}],\"scattergl\":[{\"marker\":{\"colorbar\":{\"outlinewidth\":0,\"ticks\":\"\"}},\"type\":\"scattergl\"}],\"scattermapbox\":[{\"marker\":{\"colorbar\":{\"outlinewidth\":0,\"ticks\":\"\"}},\"type\":\"scattermapbox\"}],\"scatterpolar\":[{\"marker\":{\"colorbar\":{\"outlinewidth\":0,\"ticks\":\"\"}},\"type\":\"scatterpolar\"}],\"scatterpolargl\":[{\"marker\":{\"colorbar\":{\"outlinewidth\":0,\"ticks\":\"\"}},\"type\":\"scatterpolargl\"}],\"scatterternary\":[{\"marker\":{\"colorbar\":{\"outlinewidth\":0,\"ticks\":\"\"}},\"type\":\"scatterternary\"}],\"surface\":[{\"colorbar\":{\"outlinewidth\":0,\"ticks\":\"\"},\"colorscale\":[[0.0,\"#0d0887\"],[0.1111111111111111,\"#46039f\"],[0.2222222222222222,\"#7201a8\"],[0.3333333333333333,\"#9c179e\"],[0.4444444444444444,\"#bd3786\"],[0.5555555555555556,\"#d8576b\"],[0.6666666666666666,\"#ed7953\"],[0.7777777777777778,\"#fb9f3a\"],[0.8888888888888888,\"#fdca26\"],[1.0,\"#f0f921\"]],\"type\":\"surface\"}],\"table\":[{\"cells\":{\"fill\":{\"color\":\"#EBF0F8\"},\"line\":{\"color\":\"white\"}},\"header\":{\"fill\":{\"color\":\"#C8D4E3\"},\"line\":{\"color\":\"white\"}},\"type\":\"table\"}]},\"layout\":{\"annotationdefaults\":{\"arrowcolor\":\"#2a3f5f\",\"arrowhead\":0,\"arrowwidth\":1},\"autotypenumbers\":\"strict\",\"coloraxis\":{\"colorbar\":{\"outlinewidth\":0,\"ticks\":\"\"}},\"colorscale\":{\"diverging\":[[0,\"#8e0152\"],[0.1,\"#c51b7d\"],[0.2,\"#de77ae\"],[0.3,\"#f1b6da\"],[0.4,\"#fde0ef\"],[0.5,\"#f7f7f7\"],[0.6,\"#e6f5d0\"],[0.7,\"#b8e186\"],[0.8,\"#7fbc41\"],[0.9,\"#4d9221\"],[1,\"#276419\"]],\"sequential\":[[0.0,\"#0d0887\"],[0.1111111111111111,\"#46039f\"],[0.2222222222222222,\"#7201a8\"],[0.3333333333333333,\"#9c179e\"],[0.4444444444444444,\"#bd3786\"],[0.5555555555555556,\"#d8576b\"],[0.6666666666666666,\"#ed7953\"],[0.7777777777777778,\"#fb9f3a\"],[0.8888888888888888,\"#fdca26\"],[1.0,\"#f0f921\"]],\"sequentialminus\":[[0.0,\"#0d0887\"],[0.1111111111111111,\"#46039f\"],[0.2222222222222222,\"#7201a8\"],[0.3333333333333333,\"#9c179e\"],[0.4444444444444444,\"#bd3786\"],[0.5555555555555556,\"#d8576b\"],[0.6666666666666666,\"#ed7953\"],[0.7777777777777778,\"#fb9f3a\"],[0.8888888888888888,\"#fdca26\"],[1.0,\"#f0f921\"]]},\"colorway\":[\"#636efa\",\"#EF553B\",\"#00cc96\",\"#ab63fa\",\"#FFA15A\",\"#19d3f3\",\"#FF6692\",\"#B6E880\",\"#FF97FF\",\"#FECB52\"],\"font\":{\"color\":\"#2a3f5f\"},\"geo\":{\"bgcolor\":\"white\",\"lakecolor\":\"white\",\"landcolor\":\"#E5ECF6\",\"showlakes\":true,\"showland\":true,\"subunitcolor\":\"white\"},\"hoverlabel\":{\"align\":\"left\"},\"hovermode\":\"closest\",\"mapbox\":{\"style\":\"light\"},\"paper_bgcolor\":\"white\",\"plot_bgcolor\":\"#E5ECF6\",\"polar\":{\"angularaxis\":{\"gridcolor\":\"white\",\"linecolor\":\"white\",\"ticks\":\"\"},\"bgcolor\":\"#E5ECF6\",\"radialaxis\":{\"gridcolor\":\"white\",\"linecolor\":\"white\",\"ticks\":\"\"}},\"scene\":{\"xaxis\":{\"backgroundcolor\":\"#E5ECF6\",\"gridcolor\":\"white\",\"gridwidth\":2,\"linecolor\":\"white\",\"showbackground\":true,\"ticks\":\"\",\"zerolinecolor\":\"white\"},\"yaxis\":{\"backgroundcolor\":\"#E5ECF6\",\"gridcolor\":\"white\",\"gridwidth\":2,\"linecolor\":\"white\",\"showbackground\":true,\"ticks\":\"\",\"zerolinecolor\":\"white\"},\"zaxis\":{\"backgroundcolor\":\"#E5ECF6\",\"gridcolor\":\"white\",\"gridwidth\":2,\"linecolor\":\"white\",\"showbackground\":true,\"ticks\":\"\",\"zerolinecolor\":\"white\"}},\"shapedefaults\":{\"line\":{\"color\":\"#2a3f5f\"}},\"ternary\":{\"aaxis\":{\"gridcolor\":\"white\",\"linecolor\":\"white\",\"ticks\":\"\"},\"baxis\":{\"gridcolor\":\"white\",\"linecolor\":\"white\",\"ticks\":\"\"},\"bgcolor\":\"#E5ECF6\",\"caxis\":{\"gridcolor\":\"white\",\"linecolor\":\"white\",\"ticks\":\"\"}},\"title\":{\"x\":0.05},\"xaxis\":{\"automargin\":true,\"gridcolor\":\"white\",\"linecolor\":\"white\",\"ticks\":\"\",\"title\":{\"standoff\":15},\"zerolinecolor\":\"white\",\"zerolinewidth\":2},\"yaxis\":{\"automargin\":true,\"gridcolor\":\"white\",\"linecolor\":\"white\",\"ticks\":\"\",\"title\":{\"standoff\":15},\"zerolinecolor\":\"white\",\"zerolinewidth\":2}}},\"xaxis\":{\"anchor\":\"y\",\"domain\":[0.0,1.0],\"title\":{\"text\":\"Clusterlabels\"},\"categoryorder\":\"array\",\"categoryarray\":[0,1,2]},\"yaxis\":{\"anchor\":\"x\",\"domain\":[0.0,1.0],\"title\":{\"text\":\"Recency\"}},\"legend\":{\"title\":{\"text\":\"Clusterlabels\"},\"tracegroupgap\":0},\"margin\":{\"t\":60},\"boxmode\":\"overlay\"},                        {\"responsive\": true}                    ).then(function(){\n",
              "                            \n",
              "var gd = document.getElementById('ab77ec1c-ca70-459e-8a51-9448fa8f7daf');\n",
              "var x = new MutationObserver(function (mutations, observer) {{\n",
              "        var display = window.getComputedStyle(gd).display;\n",
              "        if (!display || display === 'none') {{\n",
              "            console.log([gd, 'removed!']);\n",
              "            Plotly.purge(gd);\n",
              "            observer.disconnect();\n",
              "        }}\n",
              "}});\n",
              "\n",
              "// Listen for the removal of the full notebook cells\n",
              "var notebookContainer = gd.closest('#notebook-container');\n",
              "if (notebookContainer) {{\n",
              "    x.observe(notebookContainer, {childList: true});\n",
              "}}\n",
              "\n",
              "// Listen for the clearing of the current output cell\n",
              "var outputEl = gd.closest('.output');\n",
              "if (outputEl) {{\n",
              "    x.observe(outputEl, {childList: true});\n",
              "}}\n",
              "\n",
              "                        })                };                            </script>        </div>\n",
              "</body>\n",
              "</html>"
            ]
          },
          "metadata": {}
        }
      ]
    },
    {
      "cell_type": "markdown",
      "source": [
        "## FINAL ANALYSIS"
      ],
      "metadata": {
        "id": "HomPpQlwPcZc"
      }
    },
    {
      "cell_type": "markdown",
      "source": [
        "**INFERENCE:**"
      ],
      "metadata": {
        "id": "mnAoEcLbPgOC"
      }
    },
    {
      "cell_type": "markdown",
      "source": [
        "1. ***K-Means Clustering with 3 Cluster Ids***\n",
        "\n",
        "~   Customers with Cluster Id 0 are the customers with high amount of transactions as compared to other customers.\n",
        "\n",
        "~   Customers with Cluster Id 0 are frequent buyers.\n",
        "\n",
        "~   Customers with Cluster Id 2 are not recent buyers and hence least of importance from business point of view"
      ],
      "metadata": {
        "id": "uvWZZSrUPngH"
      }
    },
    {
      "cell_type": "markdown",
      "source": [
        "2. ***Hierarchical Clustering with 3 Cluster Labels***\n",
        "\n",
        "~   Customers with Cluster_Labels 2 are the customers with high amount of transactions as compared to other customers.\n",
        "\n",
        "~   Customers with Cluster_Labels 2 are frequent buyers.\n",
        "\n",
        "~   Customers with Cluster_Labels 0 are not recent buyers and hence least of importance from business point of view"
      ],
      "metadata": {
        "id": "ySLKFhR1QEZq"
      }
    },
    {
      "cell_type": "code",
      "source": [
        ""
      ],
      "metadata": {
        "id": "f0an0069QSxf"
      },
      "execution_count": null,
      "outputs": []
    }
  ]
}